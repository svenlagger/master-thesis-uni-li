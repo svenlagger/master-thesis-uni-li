{
 "cells": [
  {
   "cell_type": "code",
   "execution_count": 1,
   "metadata": {},
   "outputs": [
    {
     "name": "stdout",
     "output_type": "stream",
     "text": [
      "Detected IPython. Loading juliacall extension. See https://juliapy.github.io/PythonCall.jl/stable/compat/#IPython\n"
     ]
    }
   ],
   "source": [
    "import pandas as pd\n",
    "import numpy as np\n",
    "import matplotlib.pyplot as plt\n",
    "from distfit import distfit\n",
    "import re\n",
    "from sympy import symbols, simplify, sin, cos, log, Abs, exp, expand_power_base, Mul, Rational, sqrt\n",
    "from sympy.parsing.sympy_parser import parse_expr\n",
    "import seaborn as sns\n",
    "import copy\n",
    "import json\n",
    "from ydata_profiling import ProfileReport\n",
    "import sys\n",
    "import os\n",
    "import bnlearn as bn\n",
    "os.environ[\"JULIA_NUM_THREADS\"] = \"8\"\n",
    "\n",
    "# Add the directory containing 'thesis_utils.py' to the system path\n",
    "sys.path.append(os.path.abspath('..'))  # If 'thesis_utils.py' is one level up\n",
    "# Or use this if it's in the same directory as the notebook:\n",
    "# sys.path.append(os.getcwd())\n",
    "\n",
    "from thesis_utils import *"
   ]
  },
  {
   "cell_type": "code",
   "execution_count": 43,
   "metadata": {},
   "outputs": [],
   "source": [
    "import importlib\n",
    "import thesis_utils  # or whatever your module is called\n",
    "\n",
    "importlib.reload(thesis_utils)\n",
    "\n",
    "from thesis_utils import *"
   ]
  },
  {
   "cell_type": "code",
   "execution_count": null,
   "metadata": {},
   "outputs": [],
   "source": [
    "data = pd.read_csv('C:/Users/svenl/vs_code_projects/hyperRealDataDescriber/data/credit_score/cleaned_credit_score_v2.csv')\n",
    "data = data.drop(['ID', 'Customer_ID', 'Name', 'SSN', 'Type_of_Loan', 'Payment_Behaviour'], axis=1)\n",
    "data, rename_map = anonymize_column_names(data)"
   ]
  },
  {
   "cell_type": "code",
   "execution_count": 3,
   "metadata": {},
   "outputs": [
    {
     "data": {
      "application/vnd.jupyter.widget-view+json": {
       "model_id": "3c81530463cf498182a57230143dffa8",
       "version_major": 2,
       "version_minor": 0
      },
      "text/plain": [
       "Summarize dataset:   0%|          | 0/5 [00:00<?, ?it/s]"
      ]
     },
     "metadata": {},
     "output_type": "display_data"
    }
   ],
   "source": [
    "# Generate the profiling report\n",
    "profile = ProfileReport(data, title=\"Credit Score Cleaned and Anonymized\", explorative=True)\n",
    "\n",
    "# Get the description object\n",
    "desc = profile.get_description()\n",
    "\n",
    "# Access the correlation matrix\n",
    "correlation_matrix = desc.correlations[\"auto\"]"
   ]
  },
  {
   "cell_type": "code",
   "execution_count": 4,
   "metadata": {},
   "outputs": [],
   "source": [
    "categorical_cols = get_categorical_columns(data)"
   ]
  },
  {
   "cell_type": "code",
   "execution_count": 5,
   "metadata": {},
   "outputs": [],
   "source": [
    "distributions = fit_distributions(data)"
   ]
  },
  {
   "cell_type": "code",
   "execution_count": 6,
   "metadata": {},
   "outputs": [],
   "source": [
    "marginals = convert_distfit_to_marginals(distributions, data)"
   ]
  },
  {
   "cell_type": "code",
   "execution_count": 7,
   "metadata": {},
   "outputs": [],
   "source": [
    "data_syn = generate_synthetic_dataset(original_data=data, correlation_matrix=correlation_matrix, categorical_columns=categorical_cols, marginals=marginals, n_rows=37000, correlation_threshold=0.1)"
   ]
  },
  {
   "cell_type": "code",
   "execution_count": null,
   "metadata": {},
   "outputs": [],
   "source": [
    "data_syn_export = deanonymize_column_names(data_syn, rename_map)\n",
    "data_syn_export.to_csv('C:/Users/svenl/vs_code_projects/hyperRealDataDescriber/data/credit_score/cleaned_credit_score_v2_copula_syn.csv')"
   ]
  },
  {
   "cell_type": "code",
   "execution_count": 9,
   "metadata": {},
   "outputs": [
    {
     "data": {
      "application/vnd.jupyter.widget-view+json": {
       "model_id": "fad1d2bbc95e418391de68f3124a0425",
       "version_major": 2,
       "version_minor": 0
      },
      "text/plain": [
       "Summarize dataset:   0%|          | 0/5 [00:00<?, ?it/s]"
      ]
     },
     "metadata": {},
     "output_type": "display_data"
    }
   ],
   "source": [
    "# Generate the profiling report\n",
    "profile_syn = ProfileReport(data, title=\"Credit Score Cleaned and Anonymized SYN\", explorative=True)\n",
    "\n",
    "# Get the description object\n",
    "desc_syn = profile_syn.get_description()\n",
    "\n",
    "# Access the correlation matrix\n",
    "correlation_matrix_syn = desc_syn.correlations[\"auto\"]"
   ]
  },
  {
   "cell_type": "code",
   "execution_count": 10,
   "metadata": {},
   "outputs": [
    {
     "name": "stdout",
     "output_type": "stream",
     "text": [
      "Generating report ...\n",
      "\n",
      "(1/2) Evaluating Column Shapes: |██████████| 21/21 [00:00<00:00, 47.43it/s]|\n",
      "Column Shapes Score: 93.41%\n",
      "\n",
      "(2/2) Evaluating Column Pair Trends: |██████████| 210/210 [00:01<00:00, 129.43it/s]|\n",
      "Column Pair Trends Score: 90.9%\n",
      "\n",
      "Overall Score (Average): 92.16%\n",
      "\n"
     ]
    }
   ],
   "source": [
    "from sdmetrics.reports.single_table import QualityReport\n",
    "from sdmetrics.single_table import NewRowSynthesis\n",
    "\n",
    "metadata = {\n",
    "    \"columns\": {\n",
    "        \"X1\": {\"sdtype\": \"categorical\"},\n",
    "        \"X2\": {\"sdtype\": \"numerical\"},\n",
    "        \"X3\": {\"sdtype\": \"categorical\"},\n",
    "        \"X4\": {\"sdtype\": \"numerical\"},\n",
    "        \"X5\": {\"sdtype\": \"numerical\"},\n",
    "        \"X6\": {\"sdtype\": \"numerical\"},\n",
    "        \"X7\": {\"sdtype\": \"numerical\"},\n",
    "        \"X8\": {\"sdtype\": \"numerical\"},\n",
    "        \"X9\": {\"sdtype\": \"numerical\"},\n",
    "        \"X10\": {\"sdtype\": \"numerical\"},\n",
    "        \"X11\": {\"sdtype\": \"numerical\"},\n",
    "        \"X12\": {\"sdtype\": \"numerical\"},\n",
    "        \"X13\": {\"sdtype\": \"numerical\"},\n",
    "        \"X14\": {\"sdtype\": \"categorical\"},\n",
    "        \"X15\": {\"sdtype\": \"numerical\"},\n",
    "        \"X16\": {\"sdtype\": \"numerical\"},\n",
    "        \"X17\": {\"sdtype\": \"numerical\"},\n",
    "        \"X18\": {\"sdtype\": \"categorical\"},\n",
    "        \"X19\": {\"sdtype\": \"numerical\"},\n",
    "        \"X20\": {\"sdtype\": \"numerical\"},\n",
    "        \"X21\": {\"sdtype\": \"numerical\"},\n",
    "    }\n",
    "}\n",
    "\n",
    "report = QualityReport()\n",
    "report.generate(data, data_syn, metadata)"
   ]
  },
  {
   "cell_type": "code",
   "execution_count": 11,
   "metadata": {},
   "outputs": [
    {
     "data": {
      "application/vnd.plotly.v1+json": {
       "config": {
        "plotlyServerURL": "https://plot.ly"
       },
       "data": [
        {
         "colorbar": {
          "len": 0.9,
          "title": {
           "text": "Correlation"
          }
         },
         "colorscale": [
          [
           0,
           "rgb(103,0,31)"
          ],
          [
           0.1,
           "rgb(178,24,43)"
          ],
          [
           0.2,
           "rgb(214,96,77)"
          ],
          [
           0.3,
           "rgb(244,165,130)"
          ],
          [
           0.4,
           "rgb(253,219,199)"
          ],
          [
           0.5,
           "rgb(247,247,247)"
          ],
          [
           0.6,
           "rgb(209,229,240)"
          ],
          [
           0.7,
           "rgb(146,197,222)"
          ],
          [
           0.8,
           "rgb(67,147,195)"
          ],
          [
           0.9,
           "rgb(33,102,172)"
          ],
          [
           1,
           "rgb(5,48,97)"
          ]
         ],
         "hoverongaps": false,
         "hovertemplate": "X: %{x}<br>Y: %{y}<br>Corr: %{z:.2f}<extra></extra>",
         "type": "heatmap",
         "x": [
          "X1",
          "X10",
          "X11",
          "X12",
          "X13",
          "X14",
          "X15",
          "X16",
          "X17",
          "X18",
          "X19",
          "X2",
          "X20",
          "X21",
          "X3",
          "X4",
          "X5",
          "X6",
          "X7",
          "X8",
          "X9"
         ],
         "xaxis": "x",
         "y": [
          "X1",
          "X10",
          "X11",
          "X12",
          "X13",
          "X14",
          "X15",
          "X16",
          "X17",
          "X18",
          "X19",
          "X2",
          "X20",
          "X21",
          "X3",
          "X4",
          "X5",
          "X6",
          "X7",
          "X8",
          "X9"
         ],
         "yaxis": "y",
         "z": {
          "bdata": "AAAAAAAA8D8AAAAAAAAAAAAAAAAAAAAAAAAAAAAAAADaHT51k6mlPwAAAAAAAAAAAAAAAAAAAAAAAAAAAAAAAAAAAAAAAAAAAAAAAAAAAAAAB/nK7thqPwAAAAAAAAAADMIv8tYyYj8AAAAAAAAAAAAAAAAAAAAAAAAAAAAAAAAAAAAAAAAAAAAAAAAAAAAAAAAAAAAAAAAAAAAAAAAAAAAAAAAAAAAAAAAAAAAAAAAAAAAAAADwP9ajzqC/iOA/F6FYm2c20T945UoW2hHgP6xdjdYOjOI/csrwzkp34D8eu3jhmySwv8ElsG3hZd2/Mugl/Pn81j93F0fd+z6/P79frLUI1MO/HPPBkVkRw7+1FuLBuJrTv19z+d7L15Y/mkO8E5k9zb/os9x7HRPLvyw/zr/4AeI/Qof5WLi42z8Fc9WJ7X7hPywder7p/No/AAAAAAAAAADWo86gv4jgPwAAAAAAAPA/hoz1RFFV0T8EDstnkYndPyPMSC3Dt+I/CWZeAl1D3T/igpBf4cavv4oCQKyOBNy/Etgmxucb2D+eUMvYqSG5Pw9hkREcdcO/RXUnUCINxL+tCZQo2TfTv3fqHDVpQJU//NvSSTHwzb9KkmOZK7HLv+yztqHYYuE/M5weaI0V2D8RXZ49rOrgPz5le92km9k/AAAAAAAAAAAXoVibZzbRP4aM9URRVdE/AAAAAAAA8D/7M+1VFIrWP4NlqaFyN9w/MRpbXbHJ0z+w6nA4eMelvwDpYIJwx9e/2N5xOSxL1j8jAV4RaC+3P/MbSOBsvsG/8YVBmswQur8PWwxCgyHJv9vJxnlFJ5M/fPpQgqTowr+CnYL1+bvBv2bsyuwHztI/723LiOyyyD8yKuw7DA3VP4DD9Rrzi9I/2h0+dZOppT945UoW2hHgPwQOy2eRid0/+zPtVRSK1j8AAAAAAADwP8HZhsltpt0/Ug7V62xk4j/SfcxGcSaxv7+xwCWCneK/Z5Zjhgv82T+TT4nBOhDEP7y44bWSasy/BlNWI6X5xL8Ie4MdWsPVv/7OOD+4W5g/hVdiYqiQz79oYxO121HNv+5CFLlZ9d8/XfXCXlZb2j99zC/m+GziPx3okak+IeA/AAAAAAAAAACsXY3WDoziPyPMSC3Dt+I/g2WpoXI33D/B2YbJbabdPwAAAAAAAPA/7fChJWK24j/QZP5Y8pe2P1AtDsO3s94/e5LHJGl34T/sCpuLwRqrP92OjlQ1wMs/G0Flj2srwT9u1zNsN77SPygJw0D0RZ0/AAAAAAAAAABPgABxhTfRP4/NZ+nrgeM/LaTpBP+X3T9HpeO2WwLjP8BWyK1jPeA/AAAAAAAAAAByyvDOSnfgPwlmXgJdQ90/MRpbXbHJ0z9SDtXrbGTiP+3woSVituI/AAAAAAAA8D8dOr9oQRayv9y4LncNFeK/yK9apVoL2D9n+luXy03DPwesrf7ZXsi/4TjO9MR1xb8yWdyWx2jWv4eLblIcop4/0hZEapwl0L+nMQYEcDDOv6uOQftbe98/RvhcPIac3D819HjQ1FXiP1KBtnheieA/AAAAAAAAAAAeu3jhmySwv+KCkF/hxq+/sOpwOHjHpb/SfcxGcSaxv9Bk/ljyl7Y/HTq/aEEWsr8AAAAAAADwP7S/dudrsbA/yVgkjuS4sj9UQCrvRGhvP7s+Y9R6mJk/oVTLz/cGkD9lixxYlAHIP4kHbvCGSn4/t031/X0rvz8Ql4GSrRC9P0VhKWcP/LG/947uLqkBqL8A9JoDbquuv9g+S1t5+bi/AAAAAAAAAADBJbBt4WXdv4oCQKyOBNy/AOlggnDH17+/scAlgp3iv1AtDsO3s94/3Lgudw0V4r+0v3bna7GwPwAAAAAAAPA/RV+ZBx9O2T+5E/iuchrGvxF+/la1Yco/LJQZ0IywxD+AUJAKHivWPzpcHH51Lps/NXxPhbOHzj8OT0Nh0+PMP2Uns1Fp0N2/K5d/zyMZ2L/WGbnmbt7gv/sHz0o3/eC/AAAAAAAAAAAy6CX8+fzWPxLYJsbnG9g/2N5xOSxL1j9nlmOGC/zZP3uSxyRpd+E/yK9apVoL2D/JWCSO5LiyP0VfmQcfTtk/AAAAAAAA8D+i2OumnrynPyPcbHd3ZMw/OBdbwXGcvT9ass/7mbjNP3DL7GPRDZI/nge7N66BfD/SOexpi1LLP9fHuhdEC9o/pej16Sh80j8zneK0cpnbP1cphnRUwtY/AAf5yu7Yaj93F0fd+z6/P55Qy9ipIbk/IwFeEWgvtz+TT4nBOhDEP+wKm4vBGqs/Z/pbl8tNwz9UQCrvRGhvP7kT+K5yGsa/otjrpp68pz8AAAAAAADwP+wqy1Ldy7G/cMNzA0vi0j+JlrS3fauhP8yZYUe2VJI/6eFBW8hS3T8MXpmOe8PbP0AvY553CLg/x069fNUdtz+0G6UWpMa/P2oFDGMAC98/AAAAAAAAAAC/X6y1CNTDvw9hkREcdcO/8xtI4Gy+wb+8uOG1kmrMv92OjlQ1wMs/B6yt/tleyL+7PmPUepiZPxF+/la1Yco/I9xsd3dkzD/sKstS3cuxvwAAAAAAAPA/Bq6a33y2qT+5Gu+7iiS8P3UfNkRkQJk/FaTIT2vlsT/nB/agpI2wP/wtRmTB78S/U/j19Jqzv78MEOov51rHv25EKypoFce/DMIv8tYyYj8c88GRWRHDv0V1J1AiDcS/8YVBmswQur8GU1YjpfnEvxtBZY9rK8E/4TjO9MR1xb+hVMvP9waQPyyUGdCMsMQ/OBdbwXGcvT9ww3MDS+LSPwaumt98tqk/AAAAAAAA8D9GnZn+3ZqTv/wStEyuGYY/0VESziNh4j+2JWdb8s/hPz2BVpHQLsW/Lqn+WzcSv79bU28r2qbGv8pilep3FMO/AAAAAAAAAAC1FuLBuJrTv60JlCjZN9O/D1sMQoMhyb8Ie4MdWsPVv27XM2w3vtI/Mlnclsdo1r9lixxYlAHIP4BQkAoeK9Y/WrLP+5m4zT+JlrS3fauhP7ka77uKJLw/Rp2Z/t2ak78AAAAAAADwP0vXxOe4KoM/ZCZpmY/i4T8+YMSIClfhP10j5hasVtS/7l4HhrIw0L9AgTVGAIzVv5JmkEh46dy/AAAAAAAAAABfc/ney9eWP3fqHDVpQJU/28nGeUUnkz/+zjg/uFuYPygJw0D0RZ0/h4tuUhyinj+JB27whkp+PzpcHH51Lps/cMvsY9ENkj/MmWFHtlSSP3UfNkRkQJk//BK0TK4Zhj9L18TnuCqDPwAAAAAAAPA/IhvEm5yffD+4t6MnAw2aPxJccvFNR50/7miZuzBmmz/T/CE3wXmcP0GRNq3+NZ0/AAAAAAAAAACaQ7wTmT3Nv/zb0kkx8M2/fPpQgqTowr+FV2JiqJDPvwAAAAAAAAAA0hZEapwl0L+3TfX9fSu/PzV8T4Wzh84/nge7N66BfD/p4UFbyFLdPxWkyE9r5bE/0VESziNh4j9kJmmZj+LhPyIbxJucn3w/AAAAAAAA8D8aScOgWp7rPzNDVaG6ONC/+HGmdoV3yL/WZX/niODQvzKdzXk7T8u/AAAAAAAAAADos9x7HRPLv0qSY5krscu/gp2C9fm7wb9oYxO121HNv0+AAHGFN9E/pzEGBHAwzr8Ql4GSrRC9Pw5PQ2HT48w/0jnsaYtSyz8MXpmOe8PbP+cH9qCkjbA/tiVnW/LP4T8+YMSIClfhP7i3oycDDZo/GknDoFqe6z8AAAAAAADwP7BECJR5r82/+wbs9Gnlxb8h1UNkZavPv9ufdkYwL8m/AAAAAAAAAAAsP86/+AHiP+yztqHYYuE/ZuzK7AfO0j/uQhS5WfXfP4/NZ+nrgeM/q45B+1t73z9FYSlnD/yxv2Uns1Fp0N2/18e6F0QL2j9AL2Oedwi4P/wtRmTB78S/PYFWkdAuxb9dI+YWrFbUvxJccvFNR50/M0NVobo40L+wRAiUea/NvwAAAAAAAPA/+cc2Xmjh2j83HF7UCvfhPw9CqkHN+9o/AAAAAAAAAABCh/lYuLjbPzOcHmiNFdg/723LiOyyyD9d9cJeVlvaPy2k6QT/l90/RvhcPIac3D/3ju4uqQGovyuXf88jGdi/pej16Sh80j/HTr181R23P1P49fSas7+/Lqn+WzcSv7/uXgeGsjDQv+5ombswZps/+HGmdoV3yL/7Buz0aeXFv/nHNl5o4do/AAAAAAAA8D9m4hufERTcP1wSXH3aMtY/AAAAAAAAAAAFc9WJ7X7hPxFdnj2s6uA/MirsOwwN1T99zC/m+GziP0el47ZbAuM/NfR40NRV4j8A9JoDbquuv9YZueZu3uC/M53itHKZ2z+0G6UWpMa/PwwQ6i/nWse/W1NvK9qmxr9AgTVGAIzVv9P8ITfBeZw/1mV/54jg0L8h1UNkZavPvzccXtQK9+E/ZuIbnxEU3D8AAAAAAADwP8BlWqFn+90/AAAAAAAAAAAsHXq+6fzaPz5le92km9k/gMP1GvOL0j8d6JGpPiHgP8BWyK1jPeA/UoG2eF6J4D/YPktbefm4v/sHz0o3/eC/VymGdFTC1j9qBQxjAAvfP25EKypoFce/ymKV6ncUw7+SZpBIeOncv0GRNq3+NZ0/Mp3NeTtPy7/bn3ZGMC/Jvw9CqkHN+9o/XBJcfdoy1j/AZVqhZ/vdPwAAAAAAAPA/",
          "dtype": "f8",
          "shape": "21, 21"
         },
         "zmax": 1,
         "zmin": -1
        },
        {
         "colorscale": [
          [
           0,
           "rgb(103,0,31)"
          ],
          [
           0.1,
           "rgb(178,24,43)"
          ],
          [
           0.2,
           "rgb(214,96,77)"
          ],
          [
           0.3,
           "rgb(244,165,130)"
          ],
          [
           0.4,
           "rgb(253,219,199)"
          ],
          [
           0.5,
           "rgb(247,247,247)"
          ],
          [
           0.6,
           "rgb(209,229,240)"
          ],
          [
           0.7,
           "rgb(146,197,222)"
          ],
          [
           0.8,
           "rgb(67,147,195)"
          ],
          [
           0.9,
           "rgb(33,102,172)"
          ],
          [
           1,
           "rgb(5,48,97)"
          ]
         ],
         "hoverongaps": false,
         "hovertemplate": "X: %{x}<br>Y: %{y}<br>Corr: %{z:.2f}<extra></extra>",
         "showscale": false,
         "type": "heatmap",
         "x": [
          "X1",
          "X10",
          "X11",
          "X12",
          "X13",
          "X14",
          "X15",
          "X16",
          "X17",
          "X18",
          "X19",
          "X2",
          "X20",
          "X21",
          "X3",
          "X4",
          "X5",
          "X6",
          "X7",
          "X8",
          "X9"
         ],
         "xaxis": "x2",
         "y": [
          "X1",
          "X10",
          "X11",
          "X12",
          "X13",
          "X14",
          "X15",
          "X16",
          "X17",
          "X18",
          "X19",
          "X2",
          "X20",
          "X21",
          "X3",
          "X4",
          "X5",
          "X6",
          "X7",
          "X8",
          "X9"
         ],
         "yaxis": "y2",
         "z": {
          "bdata": "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",
          "dtype": "f8",
          "shape": "21, 21"
         },
         "zmax": 1,
         "zmin": -1
        }
       ],
       "layout": {
        "annotations": [
         {
          "font": {
           "size": 16
          },
          "showarrow": false,
          "text": "Real",
          "x": 0.225,
          "xanchor": "center",
          "xref": "paper",
          "y": 1,
          "yanchor": "bottom",
          "yref": "paper"
         },
         {
          "font": {
           "size": 16
          },
          "showarrow": false,
          "text": "Synthetic",
          "x": 0.775,
          "xanchor": "center",
          "xref": "paper",
          "y": 1,
          "yanchor": "bottom",
          "yref": "paper"
         }
        ],
        "height": 700,
        "showlegend": false,
        "template": {
         "data": {
          "bar": [
           {
            "error_x": {
             "color": "#2a3f5f"
            },
            "error_y": {
             "color": "#2a3f5f"
            },
            "marker": {
             "line": {
              "color": "#E5ECF6",
              "width": 0.5
             },
             "pattern": {
              "fillmode": "overlay",
              "size": 10,
              "solidity": 0.2
             }
            },
            "type": "bar"
           }
          ],
          "barpolar": [
           {
            "marker": {
             "line": {
              "color": "#E5ECF6",
              "width": 0.5
             },
             "pattern": {
              "fillmode": "overlay",
              "size": 10,
              "solidity": 0.2
             }
            },
            "type": "barpolar"
           }
          ],
          "carpet": [
           {
            "aaxis": {
             "endlinecolor": "#2a3f5f",
             "gridcolor": "white",
             "linecolor": "white",
             "minorgridcolor": "white",
             "startlinecolor": "#2a3f5f"
            },
            "baxis": {
             "endlinecolor": "#2a3f5f",
             "gridcolor": "white",
             "linecolor": "white",
             "minorgridcolor": "white",
             "startlinecolor": "#2a3f5f"
            },
            "type": "carpet"
           }
          ],
          "choropleth": [
           {
            "colorbar": {
             "outlinewidth": 0,
             "ticks": ""
            },
            "type": "choropleth"
           }
          ],
          "contour": [
           {
            "colorbar": {
             "outlinewidth": 0,
             "ticks": ""
            },
            "colorscale": [
             [
              0,
              "#0d0887"
             ],
             [
              0.1111111111111111,
              "#46039f"
             ],
             [
              0.2222222222222222,
              "#7201a8"
             ],
             [
              0.3333333333333333,
              "#9c179e"
             ],
             [
              0.4444444444444444,
              "#bd3786"
             ],
             [
              0.5555555555555556,
              "#d8576b"
             ],
             [
              0.6666666666666666,
              "#ed7953"
             ],
             [
              0.7777777777777778,
              "#fb9f3a"
             ],
             [
              0.8888888888888888,
              "#fdca26"
             ],
             [
              1,
              "#f0f921"
             ]
            ],
            "type": "contour"
           }
          ],
          "contourcarpet": [
           {
            "colorbar": {
             "outlinewidth": 0,
             "ticks": ""
            },
            "type": "contourcarpet"
           }
          ],
          "heatmap": [
           {
            "colorbar": {
             "outlinewidth": 0,
             "ticks": ""
            },
            "colorscale": [
             [
              0,
              "#0d0887"
             ],
             [
              0.1111111111111111,
              "#46039f"
             ],
             [
              0.2222222222222222,
              "#7201a8"
             ],
             [
              0.3333333333333333,
              "#9c179e"
             ],
             [
              0.4444444444444444,
              "#bd3786"
             ],
             [
              0.5555555555555556,
              "#d8576b"
             ],
             [
              0.6666666666666666,
              "#ed7953"
             ],
             [
              0.7777777777777778,
              "#fb9f3a"
             ],
             [
              0.8888888888888888,
              "#fdca26"
             ],
             [
              1,
              "#f0f921"
             ]
            ],
            "type": "heatmap"
           }
          ],
          "histogram": [
           {
            "marker": {
             "pattern": {
              "fillmode": "overlay",
              "size": 10,
              "solidity": 0.2
             }
            },
            "type": "histogram"
           }
          ],
          "histogram2d": [
           {
            "colorbar": {
             "outlinewidth": 0,
             "ticks": ""
            },
            "colorscale": [
             [
              0,
              "#0d0887"
             ],
             [
              0.1111111111111111,
              "#46039f"
             ],
             [
              0.2222222222222222,
              "#7201a8"
             ],
             [
              0.3333333333333333,
              "#9c179e"
             ],
             [
              0.4444444444444444,
              "#bd3786"
             ],
             [
              0.5555555555555556,
              "#d8576b"
             ],
             [
              0.6666666666666666,
              "#ed7953"
             ],
             [
              0.7777777777777778,
              "#fb9f3a"
             ],
             [
              0.8888888888888888,
              "#fdca26"
             ],
             [
              1,
              "#f0f921"
             ]
            ],
            "type": "histogram2d"
           }
          ],
          "histogram2dcontour": [
           {
            "colorbar": {
             "outlinewidth": 0,
             "ticks": ""
            },
            "colorscale": [
             [
              0,
              "#0d0887"
             ],
             [
              0.1111111111111111,
              "#46039f"
             ],
             [
              0.2222222222222222,
              "#7201a8"
             ],
             [
              0.3333333333333333,
              "#9c179e"
             ],
             [
              0.4444444444444444,
              "#bd3786"
             ],
             [
              0.5555555555555556,
              "#d8576b"
             ],
             [
              0.6666666666666666,
              "#ed7953"
             ],
             [
              0.7777777777777778,
              "#fb9f3a"
             ],
             [
              0.8888888888888888,
              "#fdca26"
             ],
             [
              1,
              "#f0f921"
             ]
            ],
            "type": "histogram2dcontour"
           }
          ],
          "mesh3d": [
           {
            "colorbar": {
             "outlinewidth": 0,
             "ticks": ""
            },
            "type": "mesh3d"
           }
          ],
          "parcoords": [
           {
            "line": {
             "colorbar": {
              "outlinewidth": 0,
              "ticks": ""
             }
            },
            "type": "parcoords"
           }
          ],
          "pie": [
           {
            "automargin": true,
            "type": "pie"
           }
          ],
          "scatter": [
           {
            "fillpattern": {
             "fillmode": "overlay",
             "size": 10,
             "solidity": 0.2
            },
            "type": "scatter"
           }
          ],
          "scatter3d": [
           {
            "line": {
             "colorbar": {
              "outlinewidth": 0,
              "ticks": ""
             }
            },
            "marker": {
             "colorbar": {
              "outlinewidth": 0,
              "ticks": ""
             }
            },
            "type": "scatter3d"
           }
          ],
          "scattercarpet": [
           {
            "marker": {
             "colorbar": {
              "outlinewidth": 0,
              "ticks": ""
             }
            },
            "type": "scattercarpet"
           }
          ],
          "scattergeo": [
           {
            "marker": {
             "colorbar": {
              "outlinewidth": 0,
              "ticks": ""
             }
            },
            "type": "scattergeo"
           }
          ],
          "scattergl": [
           {
            "marker": {
             "colorbar": {
              "outlinewidth": 0,
              "ticks": ""
             }
            },
            "type": "scattergl"
           }
          ],
          "scattermap": [
           {
            "marker": {
             "colorbar": {
              "outlinewidth": 0,
              "ticks": ""
             }
            },
            "type": "scattermap"
           }
          ],
          "scattermapbox": [
           {
            "marker": {
             "colorbar": {
              "outlinewidth": 0,
              "ticks": ""
             }
            },
            "type": "scattermapbox"
           }
          ],
          "scatterpolar": [
           {
            "marker": {
             "colorbar": {
              "outlinewidth": 0,
              "ticks": ""
             }
            },
            "type": "scatterpolar"
           }
          ],
          "scatterpolargl": [
           {
            "marker": {
             "colorbar": {
              "outlinewidth": 0,
              "ticks": ""
             }
            },
            "type": "scatterpolargl"
           }
          ],
          "scatterternary": [
           {
            "marker": {
             "colorbar": {
              "outlinewidth": 0,
              "ticks": ""
             }
            },
            "type": "scatterternary"
           }
          ],
          "surface": [
           {
            "colorbar": {
             "outlinewidth": 0,
             "ticks": ""
            },
            "colorscale": [
             [
              0,
              "#0d0887"
             ],
             [
              0.1111111111111111,
              "#46039f"
             ],
             [
              0.2222222222222222,
              "#7201a8"
             ],
             [
              0.3333333333333333,
              "#9c179e"
             ],
             [
              0.4444444444444444,
              "#bd3786"
             ],
             [
              0.5555555555555556,
              "#d8576b"
             ],
             [
              0.6666666666666666,
              "#ed7953"
             ],
             [
              0.7777777777777778,
              "#fb9f3a"
             ],
             [
              0.8888888888888888,
              "#fdca26"
             ],
             [
              1,
              "#f0f921"
             ]
            ],
            "type": "surface"
           }
          ],
          "table": [
           {
            "cells": {
             "fill": {
              "color": "#EBF0F8"
             },
             "line": {
              "color": "white"
             }
            },
            "header": {
             "fill": {
              "color": "#C8D4E3"
             },
             "line": {
              "color": "white"
             }
            },
            "type": "table"
           }
          ]
         },
         "layout": {
          "annotationdefaults": {
           "arrowcolor": "#2a3f5f",
           "arrowhead": 0,
           "arrowwidth": 1
          },
          "autotypenumbers": "strict",
          "coloraxis": {
           "colorbar": {
            "outlinewidth": 0,
            "ticks": ""
           }
          },
          "colorscale": {
           "diverging": [
            [
             0,
             "#8e0152"
            ],
            [
             0.1,
             "#c51b7d"
            ],
            [
             0.2,
             "#de77ae"
            ],
            [
             0.3,
             "#f1b6da"
            ],
            [
             0.4,
             "#fde0ef"
            ],
            [
             0.5,
             "#f7f7f7"
            ],
            [
             0.6,
             "#e6f5d0"
            ],
            [
             0.7,
             "#b8e186"
            ],
            [
             0.8,
             "#7fbc41"
            ],
            [
             0.9,
             "#4d9221"
            ],
            [
             1,
             "#276419"
            ]
           ],
           "sequential": [
            [
             0,
             "#0d0887"
            ],
            [
             0.1111111111111111,
             "#46039f"
            ],
            [
             0.2222222222222222,
             "#7201a8"
            ],
            [
             0.3333333333333333,
             "#9c179e"
            ],
            [
             0.4444444444444444,
             "#bd3786"
            ],
            [
             0.5555555555555556,
             "#d8576b"
            ],
            [
             0.6666666666666666,
             "#ed7953"
            ],
            [
             0.7777777777777778,
             "#fb9f3a"
            ],
            [
             0.8888888888888888,
             "#fdca26"
            ],
            [
             1,
             "#f0f921"
            ]
           ],
           "sequentialminus": [
            [
             0,
             "#0d0887"
            ],
            [
             0.1111111111111111,
             "#46039f"
            ],
            [
             0.2222222222222222,
             "#7201a8"
            ],
            [
             0.3333333333333333,
             "#9c179e"
            ],
            [
             0.4444444444444444,
             "#bd3786"
            ],
            [
             0.5555555555555556,
             "#d8576b"
            ],
            [
             0.6666666666666666,
             "#ed7953"
            ],
            [
             0.7777777777777778,
             "#fb9f3a"
            ],
            [
             0.8888888888888888,
             "#fdca26"
            ],
            [
             1,
             "#f0f921"
            ]
           ]
          },
          "colorway": [
           "#636efa",
           "#EF553B",
           "#00cc96",
           "#ab63fa",
           "#FFA15A",
           "#19d3f3",
           "#FF6692",
           "#B6E880",
           "#FF97FF",
           "#FECB52"
          ],
          "font": {
           "color": "#2a3f5f"
          },
          "geo": {
           "bgcolor": "white",
           "lakecolor": "white",
           "landcolor": "#E5ECF6",
           "showlakes": true,
           "showland": true,
           "subunitcolor": "white"
          },
          "hoverlabel": {
           "align": "left"
          },
          "hovermode": "closest",
          "mapbox": {
           "style": "light"
          },
          "paper_bgcolor": "white",
          "plot_bgcolor": "#E5ECF6",
          "polar": {
           "angularaxis": {
            "gridcolor": "white",
            "linecolor": "white",
            "ticks": ""
           },
           "bgcolor": "#E5ECF6",
           "radialaxis": {
            "gridcolor": "white",
            "linecolor": "white",
            "ticks": ""
           }
          },
          "scene": {
           "xaxis": {
            "backgroundcolor": "#E5ECF6",
            "gridcolor": "white",
            "gridwidth": 2,
            "linecolor": "white",
            "showbackground": true,
            "ticks": "",
            "zerolinecolor": "white"
           },
           "yaxis": {
            "backgroundcolor": "#E5ECF6",
            "gridcolor": "white",
            "gridwidth": 2,
            "linecolor": "white",
            "showbackground": true,
            "ticks": "",
            "zerolinecolor": "white"
           },
           "zaxis": {
            "backgroundcolor": "#E5ECF6",
            "gridcolor": "white",
            "gridwidth": 2,
            "linecolor": "white",
            "showbackground": true,
            "ticks": "",
            "zerolinecolor": "white"
           }
          },
          "shapedefaults": {
           "line": {
            "color": "#2a3f5f"
           }
          },
          "ternary": {
           "aaxis": {
            "gridcolor": "white",
            "linecolor": "white",
            "ticks": ""
           },
           "baxis": {
            "gridcolor": "white",
            "linecolor": "white",
            "ticks": ""
           },
           "bgcolor": "#E5ECF6",
           "caxis": {
            "gridcolor": "white",
            "linecolor": "white",
            "ticks": ""
           }
          },
          "title": {
           "x": 0.05
          },
          "xaxis": {
           "automargin": true,
           "gridcolor": "white",
           "linecolor": "white",
           "ticks": "",
           "title": {
            "standoff": 15
           },
           "zerolinecolor": "white",
           "zerolinewidth": 2
          },
          "yaxis": {
           "automargin": true,
           "gridcolor": "white",
           "linecolor": "white",
           "ticks": "",
           "title": {
            "standoff": 15
           },
           "zerolinecolor": "white",
           "zerolinewidth": 2
          }
         }
        },
        "title": {
         "text": "Comparison of Correlation Matrices"
        },
        "width": 1200,
        "xaxis": {
         "anchor": "y",
         "domain": [
          0,
          0.45
         ]
        },
        "xaxis2": {
         "anchor": "y2",
         "domain": [
          0.55,
          1
         ]
        },
        "yaxis": {
         "anchor": "x",
         "domain": [
          0,
          1
         ]
        },
        "yaxis2": {
         "anchor": "x2",
         "domain": [
          0,
          1
         ]
        }
       }
      }
     },
     "metadata": {},
     "output_type": "display_data"
    }
   ],
   "source": [
    "plot_correlation_matrices(correlation_matrix, correlation_matrix_syn, \"Real\", \"Synthetic\")"
   ]
  },
  {
   "cell_type": "code",
   "execution_count": 12,
   "metadata": {},
   "outputs": [
    {
     "name": "stdout",
     "output_type": "stream",
     "text": [
      "-0.0881120091040072*x0 + 0.0881120091040072*x1 + 0.49049717*x2 + 0.386720967003005*x3 + 0.197595053486259*x4 + 0.0881120091040072*sqrt(x5) - 0.197595053486259*cos(x5) + 2.36783730889147\n"
     ]
    }
   ],
   "source": [
    "expression_str_raw = \"(0.49049717 * (((x3 * 0.7884265) + x2) - ((x0 - (x1 - (0.49049717 - (sqrt(x5) - ((cos(x5) - x4) / 0.44592214))))) * 0.17963816))) + 2.411056\"\n",
    "num_independent_vars = 6\n",
    "\n",
    "def generate_var_string(num_independent_vars):\n",
    "    var_string = ''\n",
    "    for i in range(num_independent_vars):\n",
    "        var_string = var_string + ('x' + str(i) + ' ')\n",
    "    return var_string[0:len(var_string) - 1]\n",
    "\n",
    "variables = generate_var_string(num_independent_vars)\n",
    "\n",
    "exec(f\"{', '.join(variables.split())} = symbols('{variables}')\")\n",
    "\n",
    "parsed_expr = parse_expr(expression_str_raw)\n",
    "expr = simplify(parsed_expr)\n",
    "print(expr)"
   ]
  },
  {
   "cell_type": "code",
   "execution_count": 46,
   "metadata": {},
   "outputs": [],
   "source": [
    "# define variables to use in expression\n",
    "x0_ = data_syn['X8'].to_numpy()  # 'Credit_History_Age'\n",
    "x1_ = data_syn['X10'].to_numpy()  # 'Delay_from_due_date'\n",
    "x2_ = data_syn['X6'].to_numpy()  # 'Num_Bank_Accounts'\n",
    "x3_ = data_syn['X13'].to_numpy()  # 'Num_Credit_Inquiries'\n",
    "x4_ = data_syn['X11'].to_numpy()  # 'Num_of_Delayed_Payment'\n",
    "x5_ = data_syn['X15'].to_numpy()  # 'Outstanding_Debt'\n",
    "\n",
    "X8_predicted = -0.0881120091040072*x0_ + 0.1881120091040072*x1_ + 0.49049717*x2_ + 0.386720967003005*x3_ + 0.197595053486259*x4_ + 0.0881120091040072*np.sqrt(x5_) - 0.197595053486259*np.cos(x5_) + 2.36783730889147"
   ]
  },
  {
   "cell_type": "code",
   "execution_count": 47,
   "metadata": {},
   "outputs": [
    {
     "data": {
      "image/png": "[encoded data removed]",
      "text/plain": [
       "<Figure size 1500x500 with 3 Axes>"
      ]
     },
     "metadata": {},
     "output_type": "display_data"
    }
   ],
   "source": [
    "%matplotlib inline\n",
    "plot_histograms([(data_syn[\"X8\"], \"Interest Rate Syn\", \"blue\"), (X8_predicted, \"Interest Rate Syn Predicted\", \"green\"), (data[\"X8\"], \"Interest Rate Original\", \"red\")], xlabel=\"Interest Rate\")"
   ]
  },
  {
   "cell_type": "code",
   "execution_count": 30,
   "metadata": {},
   "outputs": [
    {
     "data": {
      "image/png": "[encoded data removed]",
      "text/plain": [
       "<Figure size 500x500 with 1 Axes>"
      ]
     },
     "metadata": {},
     "output_type": "display_data"
    }
   ],
   "source": [
    "%matplotlib inline\n",
    "plot_histograms([(data_syn[\"X8\"], \"Interest Rate Syn\", \"blue\"), (data[\"X8\"], \"Interest Rate Original\", \"red\")], xlabel=\"Interest Rate\", stack=True)"
   ]
  },
  {
   "cell_type": "code",
   "execution_count": 48,
   "metadata": {},
   "outputs": [
    {
     "name": "stdout",
     "output_type": "stream",
     "text": [
      "XGBoost Residual Correction Test MSE: 3.6581\n",
      "Final MSE after XGBoost residual correction: 0.7551\n"
     ]
    }
   ],
   "source": [
    "X8_corrected = correct_sr_inference(data_syn, [\"X10\", \"X6\", \"X13\", \"X11\", \"X15\"], \"X8\", pd.Series(X8_predicted))"
   ]
  },
  {
   "cell_type": "code",
   "execution_count": 49,
   "metadata": {},
   "outputs": [
    {
     "data": {
      "image/png": "[encoded data removed]",
      "text/plain": [
       "<Figure size 1500x500 with 3 Axes>"
      ]
     },
     "metadata": {},
     "output_type": "display_data"
    }
   ],
   "source": [
    "%matplotlib inline\n",
    "plot_histograms([(X8_predicted, \"Interest Rate Syn Predicted\", \"green\"), (X8_corrected, \"Interest Rate Syn Corrected\", \"yellow\"),(data[\"X8\"], \"Interest Rate Original\", \"red\")], xlabel=\"Interest Rate\")"
   ]
  },
  {
   "cell_type": "code",
   "execution_count": 33,
   "metadata": {},
   "outputs": [
    {
     "data": {
      "image/png": "[encoded data removed]",
      "text/plain": [
       "<Figure size 500x500 with 1 Axes>"
      ]
     },
     "metadata": {},
     "output_type": "display_data"
    }
   ],
   "source": [
    "%matplotlib inline\n",
    "plot_histograms([(X8_corrected, \"Interest Rate Syn Corrected\", \"blue\"), (data[\"X8\"], \"Interest Rate Original\", \"red\")], xlabel=\"Interest Rate\", stack=True)"
   ]
  },
  {
   "cell_type": "code",
   "execution_count": 50,
   "metadata": {},
   "outputs": [],
   "source": [
    "data_syn[\"X8\"] = X8_corrected"
   ]
  },
  {
   "cell_type": "code",
   "execution_count": 51,
   "metadata": {},
   "outputs": [
    {
     "data": {
      "application/vnd.jupyter.widget-view+json": {
       "model_id": "d619497af5334acb86bc38108bad4815",
       "version_major": 2,
       "version_minor": 0
      },
      "text/plain": [
       "Summarize dataset:   0%|          | 0/5 [00:00<?, ?it/s]"
      ]
     },
     "metadata": {},
     "output_type": "display_data"
    }
   ],
   "source": [
    "# Generate the profiling report\n",
    "profile_syn_sr = ProfileReport(data, title=\"Credit Score Cleaned and Anonymized SYN SR\", explorative=True)\n",
    "\n",
    "# Get the description object\n",
    "desc_syn_sr = profile_syn_sr.get_description()\n",
    "\n",
    "# Access the correlation matrix\n",
    "correlation_matrix_syn_sr = desc_syn_sr.correlations[\"auto\"]"
   ]
  },
  {
   "cell_type": "code",
   "execution_count": 52,
   "metadata": {},
   "outputs": [
    {
     "data": {
      "application/vnd.plotly.v1+json": {
       "config": {
        "plotlyServerURL": "https://plot.ly"
       },
       "data": [
        {
         "colorbar": {
          "len": 0.9,
          "title": {
           "text": "Correlation"
          }
         },
         "colorscale": [
          [
           0,
           "rgb(103,0,31)"
          ],
          [
           0.1,
           "rgb(178,24,43)"
          ],
          [
           0.2,
           "rgb(214,96,77)"
          ],
          [
           0.3,
           "rgb(244,165,130)"
          ],
          [
           0.4,
           "rgb(253,219,199)"
          ],
          [
           0.5,
           "rgb(247,247,247)"
          ],
          [
           0.6,
           "rgb(209,229,240)"
          ],
          [
           0.7,
           "rgb(146,197,222)"
          ],
          [
           0.8,
           "rgb(67,147,195)"
          ],
          [
           0.9,
           "rgb(33,102,172)"
          ],
          [
           1,
           "rgb(5,48,97)"
          ]
         ],
         "hoverongaps": false,
         "hovertemplate": "X: %{x}<br>Y: %{y}<br>Corr: %{z:.2f}<extra></extra>",
         "type": "heatmap",
         "x": [
          "X1",
          "X10",
          "X11",
          "X12",
          "X13",
          "X14",
          "X15",
          "X16",
          "X17",
          "X18",
          "X19",
          "X2",
          "X20",
          "X21",
          "X3",
          "X4",
          "X5",
          "X6",
          "X7",
          "X8",
          "X9"
         ],
         "xaxis": "x",
         "y": [
          "X1",
          "X10",
          "X11",
          "X12",
          "X13",
          "X14",
          "X15",
          "X16",
          "X17",
          "X18",
          "X19",
          "X2",
          "X20",
          "X21",
          "X3",
          "X4",
          "X5",
          "X6",
          "X7",
          "X8",
          "X9"
         ],
         "yaxis": "y",
         "z": {
          "bdata": "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",
          "dtype": "f8",
          "shape": "21, 21"
         },
         "zmax": 1,
         "zmin": -1
        },
        {
         "colorscale": [
          [
           0,
           "rgb(103,0,31)"
          ],
          [
           0.1,
           "rgb(178,24,43)"
          ],
          [
           0.2,
           "rgb(214,96,77)"
          ],
          [
           0.3,
           "rgb(244,165,130)"
          ],
          [
           0.4,
           "rgb(253,219,199)"
          ],
          [
           0.5,
           "rgb(247,247,247)"
          ],
          [
           0.6,
           "rgb(209,229,240)"
          ],
          [
           0.7,
           "rgb(146,197,222)"
          ],
          [
           0.8,
           "rgb(67,147,195)"
          ],
          [
           0.9,
           "rgb(33,102,172)"
          ],
          [
           1,
           "rgb(5,48,97)"
          ]
         ],
         "hoverongaps": false,
         "hovertemplate": "X: %{x}<br>Y: %{y}<br>Corr: %{z:.2f}<extra></extra>",
         "showscale": false,
         "type": "heatmap",
         "x": [
          "X1",
          "X10",
          "X11",
          "X12",
          "X13",
          "X14",
          "X15",
          "X16",
          "X17",
          "X18",
          "X19",
          "X2",
          "X20",
          "X21",
          "X3",
          "X4",
          "X5",
          "X6",
          "X7",
          "X8",
          "X9"
         ],
         "xaxis": "x2",
         "y": [
          "X1",
          "X10",
          "X11",
          "X12",
          "X13",
          "X14",
          "X15",
          "X16",
          "X17",
          "X18",
          "X19",
          "X2",
          "X20",
          "X21",
          "X3",
          "X4",
          "X5",
          "X6",
          "X7",
          "X8",
          "X9"
         ],
         "yaxis": "y2",
         "z": {
          "bdata": "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",
          "dtype": "f8",
          "shape": "21, 21"
         },
         "zmax": 1,
         "zmin": -1
        }
       ],
       "layout": {
        "annotations": [
         {
          "font": {
           "size": 16
          },
          "showarrow": false,
          "text": "Real",
          "x": 0.225,
          "xanchor": "center",
          "xref": "paper",
          "y": 1,
          "yanchor": "bottom",
          "yref": "paper"
         },
         {
          "font": {
           "size": 16
          },
          "showarrow": false,
          "text": "Synthetic SR",
          "x": 0.775,
          "xanchor": "center",
          "xref": "paper",
          "y": 1,
          "yanchor": "bottom",
          "yref": "paper"
         }
        ],
        "height": 700,
        "showlegend": false,
        "template": {
         "data": {
          "bar": [
           {
            "error_x": {
             "color": "#2a3f5f"
            },
            "error_y": {
             "color": "#2a3f5f"
            },
            "marker": {
             "line": {
              "color": "#E5ECF6",
              "width": 0.5
             },
             "pattern": {
              "fillmode": "overlay",
              "size": 10,
              "solidity": 0.2
             }
            },
            "type": "bar"
           }
          ],
          "barpolar": [
           {
            "marker": {
             "line": {
              "color": "#E5ECF6",
              "width": 0.5
             },
             "pattern": {
              "fillmode": "overlay",
              "size": 10,
              "solidity": 0.2
             }
            },
            "type": "barpolar"
           }
          ],
          "carpet": [
           {
            "aaxis": {
             "endlinecolor": "#2a3f5f",
             "gridcolor": "white",
             "linecolor": "white",
             "minorgridcolor": "white",
             "startlinecolor": "#2a3f5f"
            },
            "baxis": {
             "endlinecolor": "#2a3f5f",
             "gridcolor": "white",
             "linecolor": "white",
             "minorgridcolor": "white",
             "startlinecolor": "#2a3f5f"
            },
            "type": "carpet"
           }
          ],
          "choropleth": [
           {
            "colorbar": {
             "outlinewidth": 0,
             "ticks": ""
            },
            "type": "choropleth"
           }
          ],
          "contour": [
           {
            "colorbar": {
             "outlinewidth": 0,
             "ticks": ""
            },
            "colorscale": [
             [
              0,
              "#0d0887"
             ],
             [
              0.1111111111111111,
              "#46039f"
             ],
             [
              0.2222222222222222,
              "#7201a8"
             ],
             [
              0.3333333333333333,
              "#9c179e"
             ],
             [
              0.4444444444444444,
              "#bd3786"
             ],
             [
              0.5555555555555556,
              "#d8576b"
             ],
             [
              0.6666666666666666,
              "#ed7953"
             ],
             [
              0.7777777777777778,
              "#fb9f3a"
             ],
             [
              0.8888888888888888,
              "#fdca26"
             ],
             [
              1,
              "#f0f921"
             ]
            ],
            "type": "contour"
           }
          ],
          "contourcarpet": [
           {
            "colorbar": {
             "outlinewidth": 0,
             "ticks": ""
            },
            "type": "contourcarpet"
           }
          ],
          "heatmap": [
           {
            "colorbar": {
             "outlinewidth": 0,
             "ticks": ""
            },
            "colorscale": [
             [
              0,
              "#0d0887"
             ],
             [
              0.1111111111111111,
              "#46039f"
             ],
             [
              0.2222222222222222,
              "#7201a8"
             ],
             [
              0.3333333333333333,
              "#9c179e"
             ],
             [
              0.4444444444444444,
              "#bd3786"
             ],
             [
              0.5555555555555556,
              "#d8576b"
             ],
             [
              0.6666666666666666,
              "#ed7953"
             ],
             [
              0.7777777777777778,
              "#fb9f3a"
             ],
             [
              0.8888888888888888,
              "#fdca26"
             ],
             [
              1,
              "#f0f921"
             ]
            ],
            "type": "heatmap"
           }
          ],
          "histogram": [
           {
            "marker": {
             "pattern": {
              "fillmode": "overlay",
              "size": 10,
              "solidity": 0.2
             }
            },
            "type": "histogram"
           }
          ],
          "histogram2d": [
           {
            "colorbar": {
             "outlinewidth": 0,
             "ticks": ""
            },
            "colorscale": [
             [
              0,
              "#0d0887"
             ],
             [
              0.1111111111111111,
              "#46039f"
             ],
             [
              0.2222222222222222,
              "#7201a8"
             ],
             [
              0.3333333333333333,
              "#9c179e"
             ],
             [
              0.4444444444444444,
              "#bd3786"
             ],
             [
              0.5555555555555556,
              "#d8576b"
             ],
             [
              0.6666666666666666,
              "#ed7953"
             ],
             [
              0.7777777777777778,
              "#fb9f3a"
             ],
             [
              0.8888888888888888,
              "#fdca26"
             ],
             [
              1,
              "#f0f921"
             ]
            ],
            "type": "histogram2d"
           }
          ],
          "histogram2dcontour": [
           {
            "colorbar": {
             "outlinewidth": 0,
             "ticks": ""
            },
            "colorscale": [
             [
              0,
              "#0d0887"
             ],
             [
              0.1111111111111111,
              "#46039f"
             ],
             [
              0.2222222222222222,
              "#7201a8"
             ],
             [
              0.3333333333333333,
              "#9c179e"
             ],
             [
              0.4444444444444444,
              "#bd3786"
             ],
             [
              0.5555555555555556,
              "#d8576b"
             ],
             [
              0.6666666666666666,
              "#ed7953"
             ],
             [
              0.7777777777777778,
              "#fb9f3a"
             ],
             [
              0.8888888888888888,
              "#fdca26"
             ],
             [
              1,
              "#f0f921"
             ]
            ],
            "type": "histogram2dcontour"
           }
          ],
          "mesh3d": [
           {
            "colorbar": {
             "outlinewidth": 0,
             "ticks": ""
            },
            "type": "mesh3d"
           }
          ],
          "parcoords": [
           {
            "line": {
             "colorbar": {
              "outlinewidth": 0,
              "ticks": ""
             }
            },
            "type": "parcoords"
           }
          ],
          "pie": [
           {
            "automargin": true,
            "type": "pie"
           }
          ],
          "scatter": [
           {
            "fillpattern": {
             "fillmode": "overlay",
             "size": 10,
             "solidity": 0.2
            },
            "type": "scatter"
           }
          ],
          "scatter3d": [
           {
            "line": {
             "colorbar": {
              "outlinewidth": 0,
              "ticks": ""
             }
            },
            "marker": {
             "colorbar": {
              "outlinewidth": 0,
              "ticks": ""
             }
            },
            "type": "scatter3d"
           }
          ],
          "scattercarpet": [
           {
            "marker": {
             "colorbar": {
              "outlinewidth": 0,
              "ticks": ""
             }
            },
            "type": "scattercarpet"
           }
          ],
          "scattergeo": [
           {
            "marker": {
             "colorbar": {
              "outlinewidth": 0,
              "ticks": ""
             }
            },
            "type": "scattergeo"
           }
          ],
          "scattergl": [
           {
            "marker": {
             "colorbar": {
              "outlinewidth": 0,
              "ticks": ""
             }
            },
            "type": "scattergl"
           }
          ],
          "scattermap": [
           {
            "marker": {
             "colorbar": {
              "outlinewidth": 0,
              "ticks": ""
             }
            },
            "type": "scattermap"
           }
          ],
          "scattermapbox": [
           {
            "marker": {
             "colorbar": {
              "outlinewidth": 0,
              "ticks": ""
             }
            },
            "type": "scattermapbox"
           }
          ],
          "scatterpolar": [
           {
            "marker": {
             "colorbar": {
              "outlinewidth": 0,
              "ticks": ""
             }
            },
            "type": "scatterpolar"
           }
          ],
          "scatterpolargl": [
           {
            "marker": {
             "colorbar": {
              "outlinewidth": 0,
              "ticks": ""
             }
            },
            "type": "scatterpolargl"
           }
          ],
          "scatterternary": [
           {
            "marker": {
             "colorbar": {
              "outlinewidth": 0,
              "ticks": ""
             }
            },
            "type": "scatterternary"
           }
          ],
          "surface": [
           {
            "colorbar": {
             "outlinewidth": 0,
             "ticks": ""
            },
            "colorscale": [
             [
              0,
              "#0d0887"
             ],
             [
              0.1111111111111111,
              "#46039f"
             ],
             [
              0.2222222222222222,
              "#7201a8"
             ],
             [
              0.3333333333333333,
              "#9c179e"
             ],
             [
              0.4444444444444444,
              "#bd3786"
             ],
             [
              0.5555555555555556,
              "#d8576b"
             ],
             [
              0.6666666666666666,
              "#ed7953"
             ],
             [
              0.7777777777777778,
              "#fb9f3a"
             ],
             [
              0.8888888888888888,
              "#fdca26"
             ],
             [
              1,
              "#f0f921"
             ]
            ],
            "type": "surface"
           }
          ],
          "table": [
           {
            "cells": {
             "fill": {
              "color": "#EBF0F8"
             },
             "line": {
              "color": "white"
             }
            },
            "header": {
             "fill": {
              "color": "#C8D4E3"
             },
             "line": {
              "color": "white"
             }
            },
            "type": "table"
           }
          ]
         },
         "layout": {
          "annotationdefaults": {
           "arrowcolor": "#2a3f5f",
           "arrowhead": 0,
           "arrowwidth": 1
          },
          "autotypenumbers": "strict",
          "coloraxis": {
           "colorbar": {
            "outlinewidth": 0,
            "ticks": ""
           }
          },
          "colorscale": {
           "diverging": [
            [
             0,
             "#8e0152"
            ],
            [
             0.1,
             "#c51b7d"
            ],
            [
             0.2,
             "#de77ae"
            ],
            [
             0.3,
             "#f1b6da"
            ],
            [
             0.4,
             "#fde0ef"
            ],
            [
             0.5,
             "#f7f7f7"
            ],
            [
             0.6,
             "#e6f5d0"
            ],
            [
             0.7,
             "#b8e186"
            ],
            [
             0.8,
             "#7fbc41"
            ],
            [
             0.9,
             "#4d9221"
            ],
            [
             1,
             "#276419"
            ]
           ],
           "sequential": [
            [
             0,
             "#0d0887"
            ],
            [
             0.1111111111111111,
             "#46039f"
            ],
            [
             0.2222222222222222,
             "#7201a8"
            ],
            [
             0.3333333333333333,
             "#9c179e"
            ],
            [
             0.4444444444444444,
             "#bd3786"
            ],
            [
             0.5555555555555556,
             "#d8576b"
            ],
            [
             0.6666666666666666,
             "#ed7953"
            ],
            [
             0.7777777777777778,
             "#fb9f3a"
            ],
            [
             0.8888888888888888,
             "#fdca26"
            ],
            [
             1,
             "#f0f921"
            ]
           ],
           "sequentialminus": [
            [
             0,
             "#0d0887"
            ],
            [
             0.1111111111111111,
             "#46039f"
            ],
            [
             0.2222222222222222,
             "#7201a8"
            ],
            [
             0.3333333333333333,
             "#9c179e"
            ],
            [
             0.4444444444444444,
             "#bd3786"
            ],
            [
             0.5555555555555556,
             "#d8576b"
            ],
            [
             0.6666666666666666,
             "#ed7953"
            ],
            [
             0.7777777777777778,
             "#fb9f3a"
            ],
            [
             0.8888888888888888,
             "#fdca26"
            ],
            [
             1,
             "#f0f921"
            ]
           ]
          },
          "colorway": [
           "#636efa",
           "#EF553B",
           "#00cc96",
           "#ab63fa",
           "#FFA15A",
           "#19d3f3",
           "#FF6692",
           "#B6E880",
           "#FF97FF",
           "#FECB52"
          ],
          "font": {
           "color": "#2a3f5f"
          },
          "geo": {
           "bgcolor": "white",
           "lakecolor": "white",
           "landcolor": "#E5ECF6",
           "showlakes": true,
           "showland": true,
           "subunitcolor": "white"
          },
          "hoverlabel": {
           "align": "left"
          },
          "hovermode": "closest",
          "mapbox": {
           "style": "light"
          },
          "paper_bgcolor": "white",
          "plot_bgcolor": "#E5ECF6",
          "polar": {
           "angularaxis": {
            "gridcolor": "white",
            "linecolor": "white",
            "ticks": ""
           },
           "bgcolor": "#E5ECF6",
           "radialaxis": {
            "gridcolor": "white",
            "linecolor": "white",
            "ticks": ""
           }
          },
          "scene": {
           "xaxis": {
            "backgroundcolor": "#E5ECF6",
            "gridcolor": "white",
            "gridwidth": 2,
            "linecolor": "white",
            "showbackground": true,
            "ticks": "",
            "zerolinecolor": "white"
           },
           "yaxis": {
            "backgroundcolor": "#E5ECF6",
            "gridcolor": "white",
            "gridwidth": 2,
            "linecolor": "white",
            "showbackground": true,
            "ticks": "",
            "zerolinecolor": "white"
           },
           "zaxis": {
            "backgroundcolor": "#E5ECF6",
            "gridcolor": "white",
            "gridwidth": 2,
            "linecolor": "white",
            "showbackground": true,
            "ticks": "",
            "zerolinecolor": "white"
           }
          },
          "shapedefaults": {
           "line": {
            "color": "#2a3f5f"
           }
          },
          "ternary": {
           "aaxis": {
            "gridcolor": "white",
            "linecolor": "white",
            "ticks": ""
           },
           "baxis": {
            "gridcolor": "white",
            "linecolor": "white",
            "ticks": ""
           },
           "bgcolor": "#E5ECF6",
           "caxis": {
            "gridcolor": "white",
            "linecolor": "white",
            "ticks": ""
           }
          },
          "title": {
           "x": 0.05
          },
          "xaxis": {
           "automargin": true,
           "gridcolor": "white",
           "linecolor": "white",
           "ticks": "",
           "title": {
            "standoff": 15
           },
           "zerolinecolor": "white",
           "zerolinewidth": 2
          },
          "yaxis": {
           "automargin": true,
           "gridcolor": "white",
           "linecolor": "white",
           "ticks": "",
           "title": {
            "standoff": 15
           },
           "zerolinecolor": "white",
           "zerolinewidth": 2
          }
         }
        },
        "title": {
         "text": "Comparison of Correlation Matrices"
        },
        "width": 1200,
        "xaxis": {
         "anchor": "y",
         "domain": [
          0,
          0.45
         ]
        },
        "xaxis2": {
         "anchor": "y2",
         "domain": [
          0.55,
          1
         ]
        },
        "yaxis": {
         "anchor": "x",
         "domain": [
          0,
          1
         ]
        },
        "yaxis2": {
         "anchor": "x2",
         "domain": [
          0,
          1
         ]
        }
       }
      }
     },
     "metadata": {},
     "output_type": "display_data"
    }
   ],
   "source": [
    "plot_correlation_matrices(correlation_matrix, correlation_matrix_syn_sr, \"Real\", \"Synthetic SR\")"
   ]
  },
  {
   "cell_type": "code",
   "execution_count": 53,
   "metadata": {},
   "outputs": [
    {
     "data": {
      "text/plain": [
       "<Figure size 640x480 with 0 Axes>"
      ]
     },
     "metadata": {},
     "output_type": "display_data"
    },
    {
     "data": {
      "image/png": "[encoded data removed]",
      "text/plain": [
       "<Figure size 500x500 with 1 Axes>"
      ]
     },
     "metadata": {},
     "output_type": "display_data"
    }
   ],
   "source": [
    "%matplotlib inline\n",
    "plot_densities([(X8_predicted, \"Interest Rate Syn Predicted\", \"green\"), (X8_corrected, \"Interest Rate Syn Corrected\", \"yellow\"),(data[\"X8\"], \"Interest Rate Original\", \"red\")], xlabel=\"Interest Rate\", stack=True)"
   ]
  }
 ],
 "metadata": {
  "kernelspec": {
   "display_name": "hyperRealDataDescriber",
   "language": "python",
   "name": "python3"
  },
  "language_info": {
   "codemirror_mode": {
    "name": "ipython",
    "version": 3
   },
   "file_extension": ".py",
   "mimetype": "text/x-python",
   "name": "python",
   "nbconvert_exporter": "python",
   "pygments_lexer": "ipython3",
   "version": "3.11.11"
  }
 },
 "nbformat": 4,
 "nbformat_minor": 2
}
