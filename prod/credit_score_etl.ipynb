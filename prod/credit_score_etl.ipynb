{
 "cells": [
  {
   "cell_type": "code",
   "execution_count": 1,
   "metadata": {},
   "outputs": [],
   "source": [
    "import pandas as pd\n",
    "import numpy as np\n",
    "import copy\n",
    "import json\n",
    "from ydata_profiling import ProfileReport"
   ]
  },
  {
   "cell_type": "code",
   "execution_count": 2,
   "metadata": {},
   "outputs": [],
   "source": [
    "df = pd.read_csv('../data/credit_score/credit_score_test.csv')"
   ]
  },
  {
   "cell_type": "code",
   "execution_count": 3,
   "metadata": {},
   "outputs": [
    {
     "name": "stdout",
     "output_type": "stream",
     "text": [
      "<class 'pandas.core.frame.DataFrame'>\n",
      "RangeIndex: 50000 entries, 0 to 49999\n",
      "Data columns (total 27 columns):\n",
      " #   Column                    Non-Null Count  Dtype  \n",
      "---  ------                    --------------  -----  \n",
      " 0   ID                        50000 non-null  object \n",
      " 1   Customer_ID               50000 non-null  object \n",
      " 2   Month                     50000 non-null  object \n",
      " 3   Name                      44985 non-null  object \n",
      " 4   Age                       50000 non-null  object \n",
      " 5   SSN                       50000 non-null  object \n",
      " 6   Occupation                50000 non-null  object \n",
      " 7   Annual_Income             50000 non-null  object \n",
      " 8   Monthly_Inhand_Salary     42502 non-null  float64\n",
      " 9   Num_Bank_Accounts         50000 non-null  int64  \n",
      " 10  Num_Credit_Card           50000 non-null  int64  \n",
      " 11  Interest_Rate             50000 non-null  int64  \n",
      " 12  Num_of_Loan               50000 non-null  object \n",
      " 13  Type_of_Loan              44296 non-null  object \n",
      " 14  Delay_from_due_date       50000 non-null  int64  \n",
      " 15  Num_of_Delayed_Payment    46502 non-null  object \n",
      " 16  Changed_Credit_Limit      50000 non-null  object \n",
      " 17  Num_Credit_Inquiries      48965 non-null  float64\n",
      " 18  Credit_Mix                50000 non-null  object \n",
      " 19  Outstanding_Debt          50000 non-null  object \n",
      " 20  Credit_Utilization_Ratio  50000 non-null  float64\n",
      " 21  Credit_History_Age        45530 non-null  object \n",
      " 22  Payment_of_Min_Amount     50000 non-null  object \n",
      " 23  Total_EMI_per_month       50000 non-null  float64\n",
      " 24  Amount_invested_monthly   47729 non-null  object \n",
      " 25  Payment_Behaviour         50000 non-null  object \n",
      " 26  Monthly_Balance           49438 non-null  object \n",
      "dtypes: float64(4), int64(4), object(19)\n",
      "memory usage: 10.3+ MB\n"
     ]
    }
   ],
   "source": [
    "df.info()"
   ]
  },
  {
   "cell_type": "code",
   "execution_count": 4,
   "metadata": {},
   "outputs": [
    {
     "name": "stdout",
     "output_type": "stream",
     "text": [
      "ID                           object\n",
      "Customer_ID                  object\n",
      "Month                        object\n",
      "Name                         object\n",
      "Age                          object\n",
      "SSN                          object\n",
      "Occupation                   object\n",
      "Annual_Income                object\n",
      "Monthly_Inhand_Salary       float64\n",
      "Num_Bank_Accounts             int64\n",
      "Num_Credit_Card               int64\n",
      "Interest_Rate                 int64\n",
      "Num_of_Loan                  object\n",
      "Type_of_Loan                 object\n",
      "Delay_from_due_date           int64\n",
      "Num_of_Delayed_Payment       object\n",
      "Changed_Credit_Limit         object\n",
      "Num_Credit_Inquiries        float64\n",
      "Credit_Mix                   object\n",
      "Outstanding_Debt             object\n",
      "Credit_Utilization_Ratio    float64\n",
      "Credit_History_Age           object\n",
      "Payment_of_Min_Amount        object\n",
      "Total_EMI_per_month         float64\n",
      "Amount_invested_monthly      object\n",
      "Payment_Behaviour            object\n",
      "Monthly_Balance              object\n",
      "dtype: object\n",
      "ID                             0\n",
      "Customer_ID                    0\n",
      "Month                          0\n",
      "Name                        5015\n",
      "Age                            0\n",
      "SSN                            0\n",
      "Occupation                     0\n",
      "Annual_Income                  0\n",
      "Monthly_Inhand_Salary       7498\n",
      "Num_Bank_Accounts              0\n",
      "Num_Credit_Card                0\n",
      "Interest_Rate                  0\n",
      "Num_of_Loan                    0\n",
      "Type_of_Loan                5704\n",
      "Delay_from_due_date            0\n",
      "Num_of_Delayed_Payment      3498\n",
      "Changed_Credit_Limit           0\n",
      "Num_Credit_Inquiries        1035\n",
      "Credit_Mix                     0\n",
      "Outstanding_Debt               0\n",
      "Credit_Utilization_Ratio       0\n",
      "Credit_History_Age          4470\n",
      "Payment_of_Min_Amount          0\n",
      "Total_EMI_per_month            0\n",
      "Amount_invested_monthly     2271\n",
      "Payment_Behaviour              0\n",
      "Monthly_Balance              562\n",
      "dtype: int64\n"
     ]
    }
   ],
   "source": [
    "# Checking the data types\n",
    "print(df.dtypes)\n",
    "\n",
    "# Checking for missing values\n",
    "print(df.isnull().sum())"
   ]
  },
  {
   "cell_type": "code",
   "execution_count": 5,
   "metadata": {},
   "outputs": [],
   "source": [
    "# List of columns that should be numeric\n",
    "convert_cols = [\"Age\", \"Annual_Income\", \"Outstanding_Debt\", \"Amount_invested_monthly\", \"Monthly_Balance\", \"Num_of_Loan\", \"Num_of_Delayed_Payment\", \"Changed_Credit_Limit\"]\n",
    "\n",
    "# Convert to numeric and force errors to NaN\n",
    "for col in convert_cols:\n",
    "    df[col] = pd.to_numeric(df[col], errors=\"coerce\")\n"
   ]
  },
  {
   "cell_type": "code",
   "execution_count": 6,
   "metadata": {},
   "outputs": [
    {
     "data": {
      "application/vnd.microsoft.datawrangler.viewer.v0+json": {
       "columns": [
        {
         "name": "index",
         "rawType": "int64",
         "type": "integer"
        },
        {
         "name": "ID",
         "rawType": "object",
         "type": "string"
        },
        {
         "name": "Customer_ID",
         "rawType": "object",
         "type": "string"
        },
        {
         "name": "Month",
         "rawType": "object",
         "type": "string"
        },
        {
         "name": "Name",
         "rawType": "object",
         "type": "string"
        },
        {
         "name": "Age",
         "rawType": "float64",
         "type": "float"
        },
        {
         "name": "SSN",
         "rawType": "object",
         "type": "string"
        },
        {
         "name": "Occupation",
         "rawType": "object",
         "type": "string"
        },
        {
         "name": "Annual_Income",
         "rawType": "float64",
         "type": "float"
        },
        {
         "name": "Monthly_Inhand_Salary",
         "rawType": "float64",
         "type": "float"
        },
        {
         "name": "Num_Bank_Accounts",
         "rawType": "int64",
         "type": "integer"
        },
        {
         "name": "Num_Credit_Card",
         "rawType": "int64",
         "type": "integer"
        },
        {
         "name": "Interest_Rate",
         "rawType": "int64",
         "type": "integer"
        },
        {
         "name": "Num_of_Loan",
         "rawType": "float64",
         "type": "float"
        },
        {
         "name": "Type_of_Loan",
         "rawType": "object",
         "type": "string"
        },
        {
         "name": "Delay_from_due_date",
         "rawType": "int64",
         "type": "integer"
        },
        {
         "name": "Num_of_Delayed_Payment",
         "rawType": "float64",
         "type": "float"
        },
        {
         "name": "Changed_Credit_Limit",
         "rawType": "float64",
         "type": "float"
        },
        {
         "name": "Num_Credit_Inquiries",
         "rawType": "float64",
         "type": "float"
        },
        {
         "name": "Credit_Mix",
         "rawType": "object",
         "type": "string"
        },
        {
         "name": "Outstanding_Debt",
         "rawType": "float64",
         "type": "float"
        },
        {
         "name": "Credit_Utilization_Ratio",
         "rawType": "float64",
         "type": "float"
        },
        {
         "name": "Credit_History_Age",
         "rawType": "object",
         "type": "unknown"
        },
        {
         "name": "Payment_of_Min_Amount",
         "rawType": "object",
         "type": "string"
        },
        {
         "name": "Total_EMI_per_month",
         "rawType": "float64",
         "type": "float"
        },
        {
         "name": "Amount_invested_monthly",
         "rawType": "float64",
         "type": "float"
        },
        {
         "name": "Payment_Behaviour",
         "rawType": "object",
         "type": "string"
        },
        {
         "name": "Monthly_Balance",
         "rawType": "float64",
         "type": "float"
        }
       ],
       "conversionMethod": "pd.DataFrame",
       "ref": "1cae1a52-ec5d-49e8-8e05-4105371baeed",
       "rows": [
        [
         "0",
         "0x160a",
         "CUS_0xd40",
         "September",
         "Aaron Maashoh",
         "23.0",
         "821-00-0265",
         "Scientist",
         "19114.12",
         "1824.8433333333328",
         "3",
         "4",
         "3",
         "4.0",
         "Auto Loan, Credit-Builder Loan, Personal Loan, and Home Equity Loan",
         "3",
         "7.0",
         "11.27",
         "2022.0",
         "Good",
         "809.98",
         "35.03040185583525",
         "22 Years and 9 Months",
         "No",
         "49.57494921489417",
         "236.64268203272132",
         "Low_spent_Small_value_payments",
         "186.26670208571767"
        ],
        [
         "1",
         "0x160b",
         "CUS_0xd40",
         "October",
         "Aaron Maashoh",
         "24.0",
         "821-00-0265",
         "Scientist",
         "19114.12",
         "1824.8433333333328",
         "3",
         "4",
         "3",
         "4.0",
         "Auto Loan, Credit-Builder Loan, Personal Loan, and Home Equity Loan",
         "3",
         "9.0",
         "13.27",
         "4.0",
         "Good",
         "809.98",
         "33.053114497012245",
         "22 Years and 10 Months",
         "No",
         "49.57494921489417",
         "21.465380264657146",
         "High_spent_Medium_value_payments",
         "361.444003853782"
        ],
        [
         "2",
         "0x160c",
         "CUS_0xd40",
         "November",
         "Aaron Maashoh",
         "24.0",
         "821-00-0265",
         "Scientist",
         "19114.12",
         "1824.8433333333328",
         "3",
         "4",
         "3",
         "4.0",
         "Auto Loan, Credit-Builder Loan, Personal Loan, and Home Equity Loan",
         "-1",
         "4.0",
         "12.27",
         "4.0",
         "Good",
         "809.98",
         "33.811894118574465",
         null,
         "No",
         "49.57494921489417",
         "148.23393788500923",
         "Low_spent_Medium_value_payments",
         "264.67544623343"
        ],
        [
         "3",
         "0x160d",
         "CUS_0xd40",
         "December",
         "Aaron Maashoh",
         null,
         "821-00-0265",
         "Scientist",
         "19114.12",
         null,
         "3",
         "4",
         "3",
         "4.0",
         "Auto Loan, Credit-Builder Loan, Personal Loan, and Home Equity Loan",
         "4",
         "5.0",
         "11.27",
         "4.0",
         "Good",
         "809.98",
         "32.430559017296765",
         "23 Years and 0 Months",
         "No",
         "49.57494921489417",
         "39.08251089460281",
         "High_spent_Medium_value_payments",
         "343.82687322383634"
        ],
        [
         "4",
         "0x1616",
         "CUS_0x21b1",
         "September",
         "Rick Rothackerj",
         "28.0",
         "004-07-5839",
         "_______",
         "34847.84",
         "3037.986666666666",
         "2",
         "4",
         "6",
         "1.0",
         "Credit-Builder Loan",
         "3",
         "1.0",
         "5.42",
         "5.0",
         "Good",
         "605.03",
         "25.92682170377555",
         "27 Years and 3 Months",
         "No",
         "18.816214573128885",
         "39.684018417945296",
         "High_spent_Large_value_payments",
         "485.2984336755923"
        ]
       ],
       "shape": {
        "columns": 27,
        "rows": 5
       }
      },
      "text/html": [
       "<div>\n",
       "<style scoped>\n",
       "    .dataframe tbody tr th:only-of-type {\n",
       "        vertical-align: middle;\n",
       "    }\n",
       "\n",
       "    .dataframe tbody tr th {\n",
       "        vertical-align: top;\n",
       "    }\n",
       "\n",
       "    .dataframe thead th {\n",
       "        text-align: right;\n",
       "    }\n",
       "</style>\n",
       "<table border=\"1\" class=\"dataframe\">\n",
       "  <thead>\n",
       "    <tr style=\"text-align: right;\">\n",
       "      <th></th>\n",
       "      <th>ID</th>\n",
       "      <th>Customer_ID</th>\n",
       "      <th>Month</th>\n",
       "      <th>Name</th>\n",
       "      <th>Age</th>\n",
       "      <th>SSN</th>\n",
       "      <th>Occupation</th>\n",
       "      <th>Annual_Income</th>\n",
       "      <th>Monthly_Inhand_Salary</th>\n",
       "      <th>Num_Bank_Accounts</th>\n",
       "      <th>...</th>\n",
       "      <th>Num_Credit_Inquiries</th>\n",
       "      <th>Credit_Mix</th>\n",
       "      <th>Outstanding_Debt</th>\n",
       "      <th>Credit_Utilization_Ratio</th>\n",
       "      <th>Credit_History_Age</th>\n",
       "      <th>Payment_of_Min_Amount</th>\n",
       "      <th>Total_EMI_per_month</th>\n",
       "      <th>Amount_invested_monthly</th>\n",
       "      <th>Payment_Behaviour</th>\n",
       "      <th>Monthly_Balance</th>\n",
       "    </tr>\n",
       "  </thead>\n",
       "  <tbody>\n",
       "    <tr>\n",
       "      <th>0</th>\n",
       "      <td>0x160a</td>\n",
       "      <td>CUS_0xd40</td>\n",
       "      <td>September</td>\n",
       "      <td>Aaron Maashoh</td>\n",
       "      <td>23.0</td>\n",
       "      <td>821-00-0265</td>\n",
       "      <td>Scientist</td>\n",
       "      <td>19114.12</td>\n",
       "      <td>1824.843333</td>\n",
       "      <td>3</td>\n",
       "      <td>...</td>\n",
       "      <td>2022.0</td>\n",
       "      <td>Good</td>\n",
       "      <td>809.98</td>\n",
       "      <td>35.030402</td>\n",
       "      <td>22 Years and 9 Months</td>\n",
       "      <td>No</td>\n",
       "      <td>49.574949</td>\n",
       "      <td>236.642682</td>\n",
       "      <td>Low_spent_Small_value_payments</td>\n",
       "      <td>186.266702</td>\n",
       "    </tr>\n",
       "    <tr>\n",
       "      <th>1</th>\n",
       "      <td>0x160b</td>\n",
       "      <td>CUS_0xd40</td>\n",
       "      <td>October</td>\n",
       "      <td>Aaron Maashoh</td>\n",
       "      <td>24.0</td>\n",
       "      <td>821-00-0265</td>\n",
       "      <td>Scientist</td>\n",
       "      <td>19114.12</td>\n",
       "      <td>1824.843333</td>\n",
       "      <td>3</td>\n",
       "      <td>...</td>\n",
       "      <td>4.0</td>\n",
       "      <td>Good</td>\n",
       "      <td>809.98</td>\n",
       "      <td>33.053114</td>\n",
       "      <td>22 Years and 10 Months</td>\n",
       "      <td>No</td>\n",
       "      <td>49.574949</td>\n",
       "      <td>21.465380</td>\n",
       "      <td>High_spent_Medium_value_payments</td>\n",
       "      <td>361.444004</td>\n",
       "    </tr>\n",
       "    <tr>\n",
       "      <th>2</th>\n",
       "      <td>0x160c</td>\n",
       "      <td>CUS_0xd40</td>\n",
       "      <td>November</td>\n",
       "      <td>Aaron Maashoh</td>\n",
       "      <td>24.0</td>\n",
       "      <td>821-00-0265</td>\n",
       "      <td>Scientist</td>\n",
       "      <td>19114.12</td>\n",
       "      <td>1824.843333</td>\n",
       "      <td>3</td>\n",
       "      <td>...</td>\n",
       "      <td>4.0</td>\n",
       "      <td>Good</td>\n",
       "      <td>809.98</td>\n",
       "      <td>33.811894</td>\n",
       "      <td>NaN</td>\n",
       "      <td>No</td>\n",
       "      <td>49.574949</td>\n",
       "      <td>148.233938</td>\n",
       "      <td>Low_spent_Medium_value_payments</td>\n",
       "      <td>264.675446</td>\n",
       "    </tr>\n",
       "    <tr>\n",
       "      <th>3</th>\n",
       "      <td>0x160d</td>\n",
       "      <td>CUS_0xd40</td>\n",
       "      <td>December</td>\n",
       "      <td>Aaron Maashoh</td>\n",
       "      <td>NaN</td>\n",
       "      <td>821-00-0265</td>\n",
       "      <td>Scientist</td>\n",
       "      <td>19114.12</td>\n",
       "      <td>NaN</td>\n",
       "      <td>3</td>\n",
       "      <td>...</td>\n",
       "      <td>4.0</td>\n",
       "      <td>Good</td>\n",
       "      <td>809.98</td>\n",
       "      <td>32.430559</td>\n",
       "      <td>23 Years and 0 Months</td>\n",
       "      <td>No</td>\n",
       "      <td>49.574949</td>\n",
       "      <td>39.082511</td>\n",
       "      <td>High_spent_Medium_value_payments</td>\n",
       "      <td>343.826873</td>\n",
       "    </tr>\n",
       "    <tr>\n",
       "      <th>4</th>\n",
       "      <td>0x1616</td>\n",
       "      <td>CUS_0x21b1</td>\n",
       "      <td>September</td>\n",
       "      <td>Rick Rothackerj</td>\n",
       "      <td>28.0</td>\n",
       "      <td>004-07-5839</td>\n",
       "      <td>_______</td>\n",
       "      <td>34847.84</td>\n",
       "      <td>3037.986667</td>\n",
       "      <td>2</td>\n",
       "      <td>...</td>\n",
       "      <td>5.0</td>\n",
       "      <td>Good</td>\n",
       "      <td>605.03</td>\n",
       "      <td>25.926822</td>\n",
       "      <td>27 Years and 3 Months</td>\n",
       "      <td>No</td>\n",
       "      <td>18.816215</td>\n",
       "      <td>39.684018</td>\n",
       "      <td>High_spent_Large_value_payments</td>\n",
       "      <td>485.298434</td>\n",
       "    </tr>\n",
       "  </tbody>\n",
       "</table>\n",
       "<p>5 rows × 27 columns</p>\n",
       "</div>"
      ],
      "text/plain": [
       "       ID Customer_ID      Month             Name   Age          SSN  \\\n",
       "0  0x160a   CUS_0xd40  September    Aaron Maashoh  23.0  821-00-0265   \n",
       "1  0x160b   CUS_0xd40    October    Aaron Maashoh  24.0  821-00-0265   \n",
       "2  0x160c   CUS_0xd40   November    Aaron Maashoh  24.0  821-00-0265   \n",
       "3  0x160d   CUS_0xd40   December    Aaron Maashoh   NaN  821-00-0265   \n",
       "4  0x1616  CUS_0x21b1  September  Rick Rothackerj  28.0  004-07-5839   \n",
       "\n",
       "  Occupation  Annual_Income  Monthly_Inhand_Salary  Num_Bank_Accounts  ...  \\\n",
       "0  Scientist       19114.12            1824.843333                  3  ...   \n",
       "1  Scientist       19114.12            1824.843333                  3  ...   \n",
       "2  Scientist       19114.12            1824.843333                  3  ...   \n",
       "3  Scientist       19114.12                    NaN                  3  ...   \n",
       "4    _______       34847.84            3037.986667                  2  ...   \n",
       "\n",
       "   Num_Credit_Inquiries  Credit_Mix  Outstanding_Debt  \\\n",
       "0                2022.0        Good            809.98   \n",
       "1                   4.0        Good            809.98   \n",
       "2                   4.0        Good            809.98   \n",
       "3                   4.0        Good            809.98   \n",
       "4                   5.0        Good            605.03   \n",
       "\n",
       "  Credit_Utilization_Ratio      Credit_History_Age  Payment_of_Min_Amount  \\\n",
       "0                35.030402   22 Years and 9 Months                     No   \n",
       "1                33.053114  22 Years and 10 Months                     No   \n",
       "2                33.811894                     NaN                     No   \n",
       "3                32.430559   23 Years and 0 Months                     No   \n",
       "4                25.926822   27 Years and 3 Months                     No   \n",
       "\n",
       "   Total_EMI_per_month  Amount_invested_monthly  \\\n",
       "0            49.574949               236.642682   \n",
       "1            49.574949                21.465380   \n",
       "2            49.574949               148.233938   \n",
       "3            49.574949                39.082511   \n",
       "4            18.816215                39.684018   \n",
       "\n",
       "                  Payment_Behaviour  Monthly_Balance  \n",
       "0    Low_spent_Small_value_payments       186.266702  \n",
       "1  High_spent_Medium_value_payments       361.444004  \n",
       "2   Low_spent_Medium_value_payments       264.675446  \n",
       "3  High_spent_Medium_value_payments       343.826873  \n",
       "4   High_spent_Large_value_payments       485.298434  \n",
       "\n",
       "[5 rows x 27 columns]"
      ]
     },
     "execution_count": 6,
     "metadata": {},
     "output_type": "execute_result"
    }
   ],
   "source": [
    "df.head()"
   ]
  },
  {
   "cell_type": "code",
   "execution_count": 7,
   "metadata": {},
   "outputs": [],
   "source": [
    "def convert_credit_history(value):\n",
    "    if isinstance(value, str):\n",
    "        years = int(value.split(\" Years\")[0]) if \"Years\" in value else 0\n",
    "        months = int(value.split(\" and \")[-1].split(\" Months\")[0]) if \"Months\" in value else 0\n",
    "        return years + months / 12  # Convert months to decimal\n",
    "    return None\n",
    "\n",
    "df[\"Credit_History_Age\"] = df[\"Credit_History_Age\"].apply(convert_credit_history)\n"
   ]
  },
  {
   "cell_type": "code",
   "execution_count": 8,
   "metadata": {},
   "outputs": [],
   "source": [
    "categorical_cols = [\"Occupation\", \"Credit_Mix\", \"Payment_of_Min_Amount\", \"Payment_Behaviour\"]\n",
    "\n",
    "for col in categorical_cols:\n",
    "    df[col] = df[col].astype(\"category\")"
   ]
  },
  {
   "cell_type": "code",
   "execution_count": 9,
   "metadata": {},
   "outputs": [],
   "source": [
    "df.loc[df[\"Age\"] < 0, \"Age\"] = df[\"Age\"].median()  # Replace negative ages with median\n",
    "df.loc[df[\"Age\"] > 80, \"Age\"] = df[\"Age\"].median()  # Replace unrealistic ages\n",
    "\n",
    "df.loc[df[\"Num_Bank_Accounts\"] < 0, \"Num_Bank_Accounts\"] = df[\"Num_Bank_Accounts\"].median()  # Replace negative bank accounts with median\n",
    "df.loc[df[\"Num_Bank_Accounts\"] > 12, \"Num_Bank_Accounts\"] = df[\"Num_Bank_Accounts\"].median()  # Replace unrealistically high number of bank accounts with median\n",
    "\n",
    "df.loc[df[\"Num_of_Loan\"] < 0, \"Num_of_Loan\"] = df[\"Num_of_Loan\"].median()  # Replace negative num of loan with median\n",
    "df.loc[df[\"Num_of_Loan\"] > 12, \"Num_of_Loan\"] = df[\"Num_of_Loan\"].median()  # Replace unrealistic num of loan\n",
    "\n",
    "df.loc[df[\"Num_of_Delayed_Payment\"] < 0, \"Num_of_Delayed_Payment\"] = df[\"Num_of_Delayed_Payment\"].median()  # Replace negative num of delayed payments with median\n",
    "df.loc[df[\"Num_of_Delayed_Payment\"] > 28, \"Num_of_Delayed_Payment\"] = df[\"Num_of_Delayed_Payment\"].median()  # Replace unrealistic num of delayed payments\n",
    "\n",
    "df.loc[df[\"Num_Credit_Card\"] < 0, \"Num_Credit_Card\"] = df[\"Num_Credit_Card\"].median()  # Replace negative num of credit cards with median\n",
    "df.loc[df[\"Num_Credit_Card\"] > 12, \"Num_Credit_Card\"] = df[\"Num_Credit_Card\"].median()  # Replace unrealistic num of credit cards\n",
    "\n",
    "df.loc[df[\"Interest_Rate\"] < 0, \"Interest_Rate\"] = df[\"Interest_Rate\"].median()  # Replace negative interest rates with median\n",
    "df.loc[df[\"Interest_Rate\"] > 32, \"Interest_Rate\"] = df[\"Interest_Rate\"].median()  # Replace unrealistic interest rates\n",
    "\n",
    "df.loc[df[\"Num_Credit_Inquiries\"] < 0, \"Num_Credit_Inquiries\"] = df[\"Num_Credit_Inquiries\"].median()  # Replace negative num of credit inquiries with median\n",
    "df.loc[df[\"Num_Credit_Inquiries\"] > 50, \"Num_Credit_Inquiries\"] = df[\"Num_Credit_Inquiries\"].median()  # Replace unrealistic num of credit inquiries\n",
    "\n",
    "df.loc[df[\"Total_EMI_per_month\"] < 0, \"Total_EMI_per_month\"] = df[\"Total_EMI_per_month\"].median()  # Replace negative total EMI per month with median\n",
    "df.loc[df[\"Total_EMI_per_month\"] > 4500, \"Total_EMI_per_month\"] = df[\"Total_EMI_per_month\"].median()  # Replace unrealistic total EMI per month"
   ]
  },
  {
   "cell_type": "code",
   "execution_count": 10,
   "metadata": {},
   "outputs": [],
   "source": [
    "# List of columns that are numeric\n",
    "numeric_cols = [\"Age\", \"Annual_Income\", \"Outstanding_Debt\", \"Amount_invested_monthly\", \"Monthly_Balance\", \"Num_of_Loan\", \"Num_of_Delayed_Payment\", \"Num_Bank_Accounts\", \"Num_Credit_Card\", \n",
    "                \"Interest_Rate\", \"Num_Credit_Inquiries\", \"Total_EMI_per_month\", \"Monthly_Inhand_Salary\", \"Credit_History_Age\"]\n",
    "\n",
    "# Impute missing values in numeric columns\n",
    "for col in numeric_cols:\n",
    "    df[col] = df[col].fillna(df[col].median())"
   ]
  },
  {
   "cell_type": "code",
   "execution_count": 11,
   "metadata": {},
   "outputs": [],
   "source": [
    "# List of numeric columns that should be integers\n",
    "int_numeric_cols = [\"Age\", \"Num_of_Loan\", \"Num_of_Delayed_Payment\", \"Num_Credit_Inquiries\"]\n",
    "\n",
    "# Convert float columns to int columns\n",
    "for col in int_numeric_cols:\n",
    "    df[col] = pd.to_numeric(df[col], downcast='integer', errors=\"coerce\")\n",
    "\n",
    "# List of remaining columns that remain floats\n",
    "float_numeric_cols = [\"Annual_Income\", \"Outstanding_Debt\", \"Amount_invested_monthly\", \"Monthly_Balance\", \"Num_Bank_Accounts\", \"Num_Credit_Card\", \n",
    "                      \"Interest_Rate\", \"Total_EMI_per_month\", \"Monthly_Inhand_Salary\", \"Credit_History_Age\"]\n",
    "\n",
    "# Round float columns to 2 digits\n",
    "df[float_numeric_cols] = df[float_numeric_cols].round(2)"
   ]
  },
  {
   "cell_type": "code",
   "execution_count": 12,
   "metadata": {},
   "outputs": [],
   "source": [
    "df = df.dropna(subset=[\"Age\"])  # drop rows with no age\n",
    "df = df.dropna(subset=['Changed_Credit_Limit'])  # drop rows with no changed credit limit\n",
    "df = df[df[\"Occupation\"] != \"_______\"]  # drop rows with not identifiable occupation\n",
    "df = df[df[\"Credit_Mix\"] != \"_\"]  # drop rows with not identifiable occupation\n",
    "df = df[df[\"Payment_Behaviour\"] != \"!@9#%8\"]  # drop rows with not identifiable occupation"
   ]
  },
  {
   "cell_type": "code",
   "execution_count": 13,
   "metadata": {},
   "outputs": [
    {
     "name": "stdout",
     "output_type": "stream",
     "text": [
      "Name            3388\n",
      "Type_of_Loan    3914\n",
      "dtype: int64\n"
     ]
    }
   ],
   "source": [
    "missing_data = df.isnull().sum()\n",
    "print(missing_data[missing_data > 0])  # Display only columns with missing values"
   ]
  },
  {
   "cell_type": "code",
   "execution_count": 14,
   "metadata": {},
   "outputs": [],
   "source": [
    "# For categorical columns, use mode (most frequent value):\n",
    "df[\"Type_of_Loan\"] = df[\"Type_of_Loan\"].fillna(df[\"Type_of_Loan\"].mode()[0])"
   ]
  },
  {
   "cell_type": "code",
   "execution_count": 16,
   "metadata": {},
   "outputs": [
    {
     "data": {
      "application/vnd.jupyter.widget-view+json": {
       "model_id": "532db46aa5b94ac5b42099319af1b7e2",
       "version_major": 2,
       "version_minor": 0
      },
      "text/plain": [
       "Summarize dataset:   0%|          | 0/5 [00:00<?, ?it/s]"
      ]
     },
     "metadata": {},
     "output_type": "display_data"
    },
    {
     "name": "stderr",
     "output_type": "stream",
     "text": [
      "c:\\Users\\svenl\\miniconda3\\envs\\hyperRealDataDescriber\\Lib\\site-packages\\ydata_profiling\\model\\pandas\\discretize_pandas.py:52: FutureWarning: Setting an item of incompatible dtype is deprecated and will raise in a future error of pandas. Value '[2 2 2 ... 2 2 2]' has dtype incompatible with int8, please explicitly cast to a compatible dtype first.\n",
      "  discretized_df.loc[:, column] = self._discretize_column(\n",
      "c:\\Users\\svenl\\miniconda3\\envs\\hyperRealDataDescriber\\Lib\\site-packages\\ydata_profiling\\model\\pandas\\discretize_pandas.py:52: FutureWarning: Setting an item of incompatible dtype is deprecated and will raise in a future error of pandas. Value '[4 4 4 ... 3 2 3]' has dtype incompatible with int8, please explicitly cast to a compatible dtype first.\n",
      "  discretized_df.loc[:, column] = self._discretize_column(\n",
      "c:\\Users\\svenl\\miniconda3\\envs\\hyperRealDataDescriber\\Lib\\site-packages\\ydata_profiling\\model\\pandas\\discretize_pandas.py:52: FutureWarning: Setting an item of incompatible dtype is deprecated and will raise in a future error of pandas. Value '[2 3 1 ... 4 1 4]' has dtype incompatible with int8, please explicitly cast to a compatible dtype first.\n",
      "  discretized_df.loc[:, column] = self._discretize_column(\n",
      "c:\\Users\\svenl\\miniconda3\\envs\\hyperRealDataDescriber\\Lib\\site-packages\\ydata_profiling\\model\\pandas\\discretize_pandas.py:52: FutureWarning: Setting an item of incompatible dtype is deprecated and will raise in a future error of pandas. Value '[1 0 0 ... 1 1 1]' has dtype incompatible with int8, please explicitly cast to a compatible dtype first.\n",
      "  discretized_df.loc[:, column] = self._discretize_column(\n"
     ]
    },
    {
     "data": {
      "application/vnd.jupyter.widget-view+json": {
       "model_id": "137946ede3694ea6a7382976e62b2e14",
       "version_major": 2,
       "version_minor": 0
      },
      "text/plain": [
       "Generate report structure:   0%|          | 0/1 [00:00<?, ?it/s]"
      ]
     },
     "metadata": {},
     "output_type": "display_data"
    },
    {
     "data": {
      "application/vnd.jupyter.widget-view+json": {
       "model_id": "3bd2bf88051c4302914264b2acfd4b84",
       "version_major": 2,
       "version_minor": 0
      },
      "text/plain": [
       "Render HTML:   0%|          | 0/1 [00:00<?, ?it/s]"
      ]
     },
     "metadata": {},
     "output_type": "display_data"
    },
    {
     "data": {
      "application/vnd.jupyter.widget-view+json": {
       "model_id": "512b5f084a4f4005a33693c4b04c846b",
       "version_major": 2,
       "version_minor": 0
      },
      "text/plain": [
       "Export report to file:   0%|          | 0/1 [00:00<?, ?it/s]"
      ]
     },
     "metadata": {},
     "output_type": "display_data"
    }
   ],
   "source": [
    "# Generate the profiling report\n",
    "profile = ProfileReport(df, title=\"YData Profiling Report CREDIT CLEANED v2\", explorative=True)\n",
    "\n",
    "# Display the report in the notebook\n",
    "# profile.to_notebook_iframe()\n",
    "\n",
    "# Alternatively, save the report to an HTML file\n",
    "profile.to_file('../profiling/profiling_report_cleaned_credit_score_v2.html')"
   ]
  },
  {
   "cell_type": "code",
   "execution_count": 17,
   "metadata": {},
   "outputs": [],
   "source": [
    "# Once the transformations are complete, save the cleaned dataset:\n",
    "df.to_csv(\"../data/credit_score/cleaned_credit_score_v2.csv\", index=False)"
   ]
  }
 ],
 "metadata": {
  "kernelspec": {
   "display_name": "hyperRealDataDescriber",
   "language": "python",
   "name": "python3"
  },
  "language_info": {
   "codemirror_mode": {
    "name": "ipython",
    "version": 3
   },
   "file_extension": ".py",
   "mimetype": "text/x-python",
   "name": "python",
   "nbconvert_exporter": "python",
   "pygments_lexer": "ipython3",
   "version": "3.11.11"
  }
 },
 "nbformat": 4,
 "nbformat_minor": 2
}
