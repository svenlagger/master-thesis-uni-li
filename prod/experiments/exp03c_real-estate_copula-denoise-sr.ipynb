{
 "cells": [
  {
   "cell_type": "code",
   "execution_count": 1,
   "id": "b4f8fa5c",
   "metadata": {},
   "outputs": [
    {
     "name": "stdout",
     "output_type": "stream",
     "text": [
      "Detected IPython. Loading juliacall extension. See https://juliapy.github.io/PythonCall.jl/stable/compat/#IPython\n"
     ]
    }
   ],
   "source": [
    "import sys\n",
    "import os\n",
    "# Add the directory containing 'thesis_utils.py' to the system path\n",
    "sys.path.append(os.path.abspath('..'))  # If 'thesis_utils.py' is one level up\n",
    "# Or use this if it's in the same directory as the notebook:\n",
    "# sys.path.append(os.getcwd())\n",
    "# os.environ[\"JULIA_NUM_THREADS\"] = \"8\" \n",
    "os.environ[\"PYTHON_JULIACALL_HANDLE_SIGNALS\"] = \"yes\"\n",
    "os.environ[\"PYTHON_JULIACALL_THREADS\"] = \"auto\"\n",
    "os.environ[\"PYTHON_JULIACALL_OPTLEVEL\"] = \"3\"\n",
    "from pysr import PySRRegressor\n",
    "import pandas as pd\n",
    "import numpy as np\n",
    "from ydata_profiling import ProfileReport\n",
    "\n",
    "from thesis_utils import *"
   ]
  },
  {
   "cell_type": "code",
   "execution_count": 22,
   "id": "1636c374",
   "metadata": {},
   "outputs": [],
   "source": [
    "import importlib\n",
    "import thesis_utils  # or whatever your module is called\n",
    "\n",
    "importlib.reload(thesis_utils)\n",
    "\n",
    "from thesis_utils import *"
   ]
  },
  {
   "cell_type": "code",
   "execution_count": 2,
   "id": "2e7d3e38",
   "metadata": {},
   "outputs": [],
   "source": [
    "data = pd.read_csv(\"C:/Users/svenl/vs_code_projects/hyperRealDataDescriber/data/real_estate/real_estate_valuation_cleaned.csv\")"
   ]
  },
  {
   "cell_type": "code",
   "execution_count": 3,
   "id": "3b360bca",
   "metadata": {},
   "outputs": [
    {
     "data": {
      "application/vnd.jupyter.widget-view+json": {
       "model_id": "7d3e385649904f88ab007d8064fe3acc",
       "version_major": 2,
       "version_minor": 0
      },
      "text/plain": [
       "Summarize dataset:   0%|          | 0/5 [00:00<?, ?it/s]"
      ]
     },
     "metadata": {},
     "output_type": "display_data"
    }
   ],
   "source": [
    "# Generate the profiling report\n",
    "profile_full = ProfileReport(data, title=\"real_estate_valuation_cleaned\", explorative=True)\n",
    "\n",
    "# Get the description object\n",
    "desc_full = profile_full.get_description()\n",
    "\n",
    "# Access the correlation matrix\n",
    "correlation_matrix = desc_full.correlations[\"auto\"]"
   ]
  },
  {
   "cell_type": "code",
   "execution_count": 4,
   "id": "1995a1d1",
   "metadata": {},
   "outputs": [],
   "source": [
    "categorical_cols = get_categorical_columns(data)\n",
    "distributions = fit_distributions(data)\n",
    "marginals = convert_distfit_to_marginals(distributions, data)"
   ]
  },
  {
   "cell_type": "code",
   "execution_count": 5,
   "id": "4221b2ce",
   "metadata": {},
   "outputs": [],
   "source": [
    "data_syn = generate_synthetic_dataset(original_data=data, correlation_matrix=correlation_matrix, categorical_columns=categorical_cols, marginals=marginals, n_rows=500, correlation_threshold=0.1, edge_strategy=\"random\", sampling_strategy=\"local-chunks\")"
   ]
  },
  {
   "cell_type": "code",
   "execution_count": 6,
   "id": "2c68e398",
   "metadata": {},
   "outputs": [
    {
     "data": {
      "application/vnd.jupyter.widget-view+json": {
       "model_id": "7c6a403622294a309bfc16b6f8b8fdd7",
       "version_major": 2,
       "version_minor": 0
      },
      "text/plain": [
       "Summarize dataset:   0%|          | 0/5 [00:00<?, ?it/s]"
      ]
     },
     "metadata": {},
     "output_type": "display_data"
    }
   ],
   "source": [
    "# Generate the profiling report\n",
    "profile_syn = ProfileReport(data_syn, title=\"real_estate_valuation_cleaned SYN\", explorative=True)\n",
    "\n",
    "# Get the description object\n",
    "desc_syn = profile_syn.get_description()\n",
    "\n",
    "# Access the correlation matrix\n",
    "correlation_matrix_syn = desc_syn.correlations[\"auto\"]"
   ]
  },
  {
   "cell_type": "code",
   "execution_count": 7,
   "id": "12c4fd67",
   "metadata": {},
   "outputs": [
    {
     "data": {
      "application/vnd.plotly.v1+json": {
       "config": {
        "plotlyServerURL": "https://plot.ly"
       },
       "data": [
        {
         "colorbar": {
          "len": 0.9,
          "title": {
           "text": "Correlation"
          }
         },
         "colorscale": [
          [
           0,
           "rgb(103,0,31)"
          ],
          [
           0.1,
           "rgb(178,24,43)"
          ],
          [
           0.2,
           "rgb(214,96,77)"
          ],
          [
           0.3,
           "rgb(244,165,130)"
          ],
          [
           0.4,
           "rgb(253,219,199)"
          ],
          [
           0.5,
           "rgb(247,247,247)"
          ],
          [
           0.6,
           "rgb(209,229,240)"
          ],
          [
           0.7,
           "rgb(146,197,222)"
          ],
          [
           0.8,
           "rgb(67,147,195)"
          ],
          [
           0.9,
           "rgb(33,102,172)"
          ],
          [
           1,
           "rgb(5,48,97)"
          ]
         ],
         "hoverongaps": false,
         "hovertemplate": "X: %{x}<br>Y: %{y}<br>Corr: %{z:.2f}<extra></extra>",
         "type": "heatmap",
         "x": [
          "X1 house age",
          "X2 distance MRT station",
          "X3 number convenience stores",
          "X4 lat",
          "X5 long",
          "X6 price"
         ],
         "xaxis": "x",
         "y": [
          "X1 house age",
          "X2 distance MRT station",
          "X3 number convenience stores",
          "X4 lat",
          "X5 long",
          "X6 price"
         ],
         "yaxis": "y",
         "z": {
          "bdata": "AAAAAAAA8D9xDkTE5ZbAP5c6LIg57II/Lnjcd6STpT+4gTWknhO8v5AwY9k7CNK/cQ5ExOWWwD8AAAAAAADwP1CaDZRzBea/nqb/BPI0279OlwHsiQrev6XPgpqR1Oi/lzosiDnsgj9Qmg2UcwXmvwAAAAAAAPA/hnTQS4l82z8Ir4ZiF1/aP92E7ccxweM/Lnjcd6STpT+epv8E8jTbv4Z00EuJfNs/AAAAAAAA8D9lux1affTQPzWNxL1oguI/uIE1pJ4TvL9OlwHsiQrevwivhmIXX9o/ZbsdWn300D8AAAAAAADwP1LWnvvSAtw/kDBj2TsI0r+lz4KakdTov92E7ccxweM/NY3EvWiC4j9S1p770gLcPwAAAAAAAPA/",
          "dtype": "f8",
          "shape": "6, 6"
         },
         "zmax": 1,
         "zmin": -1
        },
        {
         "colorscale": [
          [
           0,
           "rgb(103,0,31)"
          ],
          [
           0.1,
           "rgb(178,24,43)"
          ],
          [
           0.2,
           "rgb(214,96,77)"
          ],
          [
           0.3,
           "rgb(244,165,130)"
          ],
          [
           0.4,
           "rgb(253,219,199)"
          ],
          [
           0.5,
           "rgb(247,247,247)"
          ],
          [
           0.6,
           "rgb(209,229,240)"
          ],
          [
           0.7,
           "rgb(146,197,222)"
          ],
          [
           0.8,
           "rgb(67,147,195)"
          ],
          [
           0.9,
           "rgb(33,102,172)"
          ],
          [
           1,
           "rgb(5,48,97)"
          ]
         ],
         "hoverongaps": false,
         "hovertemplate": "X: %{x}<br>Y: %{y}<br>Corr: %{z:.2f}<extra></extra>",
         "showscale": false,
         "type": "heatmap",
         "x": [
          "X1 house age",
          "X2 distance MRT station",
          "X3 number convenience stores",
          "X4 lat",
          "X5 long",
          "X6 price"
         ],
         "xaxis": "x2",
         "y": [
          "X1 house age",
          "X2 distance MRT station",
          "X3 number convenience stores",
          "X4 lat",
          "X5 long",
          "X6 price"
         ],
         "yaxis": "y2",
         "z": {
          "bdata": "AAAAAAAA8D8Uefpu9znBP6kGuJmn4Ys/8lDaJxjDlr8G2NtXyF+0vw79JniCKs2/FHn6bvc5wT8AAAAAAADwPyvweNuloOC/rVAPfB2h2b8fkq8TmQ7avyjWrRmBZOa/qQa4mafhiz8r8HjbpaDgvwAAAAAAAPA/mLxQZB3o0T+mrviD1VzRPw7hApk7bdk/8lDaJxjDlr+tUA98HaHZv5i8UGQd6NE/AAAAAAAA8D/E+T6Ud17LP11jDzFTqeE/BtjbV8hftL8fkq8TmQ7av6au+IPVXNE/xPk+lHdeyz8AAAAAAADwP2CsKOwFBtc/Dv0meIIqzb8o1q0ZgWTmvw7hApk7bdk/XWMPMVOp4T9grCjsBQbXPwAAAAAAAPA/",
          "dtype": "f8",
          "shape": "6, 6"
         },
         "zmax": 1,
         "zmin": -1
        }
       ],
       "layout": {
        "annotations": [
         {
          "font": {
           "size": 16
          },
          "showarrow": false,
          "text": "Real",
          "x": 0.2,
          "xanchor": "center",
          "xref": "paper",
          "y": 1,
          "yanchor": "bottom",
          "yref": "paper"
         },
         {
          "font": {
           "size": 16
          },
          "showarrow": false,
          "text": "Synthetic",
          "x": 0.8,
          "xanchor": "center",
          "xref": "paper",
          "y": 1,
          "yanchor": "bottom",
          "yref": "paper"
         }
        ],
        "height": 800,
        "showlegend": false,
        "template": {
         "data": {
          "bar": [
           {
            "error_x": {
             "color": "#2a3f5f"
            },
            "error_y": {
             "color": "#2a3f5f"
            },
            "marker": {
             "line": {
              "color": "#E5ECF6",
              "width": 0.5
             },
             "pattern": {
              "fillmode": "overlay",
              "size": 10,
              "solidity": 0.2
             }
            },
            "type": "bar"
           }
          ],
          "barpolar": [
           {
            "marker": {
             "line": {
              "color": "#E5ECF6",
              "width": 0.5
             },
             "pattern": {
              "fillmode": "overlay",
              "size": 10,
              "solidity": 0.2
             }
            },
            "type": "barpolar"
           }
          ],
          "carpet": [
           {
            "aaxis": {
             "endlinecolor": "#2a3f5f",
             "gridcolor": "white",
             "linecolor": "white",
             "minorgridcolor": "white",
             "startlinecolor": "#2a3f5f"
            },
            "baxis": {
             "endlinecolor": "#2a3f5f",
             "gridcolor": "white",
             "linecolor": "white",
             "minorgridcolor": "white",
             "startlinecolor": "#2a3f5f"
            },
            "type": "carpet"
           }
          ],
          "choropleth": [
           {
            "colorbar": {
             "outlinewidth": 0,
             "ticks": ""
            },
            "type": "choropleth"
           }
          ],
          "contour": [
           {
            "colorbar": {
             "outlinewidth": 0,
             "ticks": ""
            },
            "colorscale": [
             [
              0,
              "#0d0887"
             ],
             [
              0.1111111111111111,
              "#46039f"
             ],
             [
              0.2222222222222222,
              "#7201a8"
             ],
             [
              0.3333333333333333,
              "#9c179e"
             ],
             [
              0.4444444444444444,
              "#bd3786"
             ],
             [
              0.5555555555555556,
              "#d8576b"
             ],
             [
              0.6666666666666666,
              "#ed7953"
             ],
             [
              0.7777777777777778,
              "#fb9f3a"
             ],
             [
              0.8888888888888888,
              "#fdca26"
             ],
             [
              1,
              "#f0f921"
             ]
            ],
            "type": "contour"
           }
          ],
          "contourcarpet": [
           {
            "colorbar": {
             "outlinewidth": 0,
             "ticks": ""
            },
            "type": "contourcarpet"
           }
          ],
          "heatmap": [
           {
            "colorbar": {
             "outlinewidth": 0,
             "ticks": ""
            },
            "colorscale": [
             [
              0,
              "#0d0887"
             ],
             [
              0.1111111111111111,
              "#46039f"
             ],
             [
              0.2222222222222222,
              "#7201a8"
             ],
             [
              0.3333333333333333,
              "#9c179e"
             ],
             [
              0.4444444444444444,
              "#bd3786"
             ],
             [
              0.5555555555555556,
              "#d8576b"
             ],
             [
              0.6666666666666666,
              "#ed7953"
             ],
             [
              0.7777777777777778,
              "#fb9f3a"
             ],
             [
              0.8888888888888888,
              "#fdca26"
             ],
             [
              1,
              "#f0f921"
             ]
            ],
            "type": "heatmap"
           }
          ],
          "histogram": [
           {
            "marker": {
             "pattern": {
              "fillmode": "overlay",
              "size": 10,
              "solidity": 0.2
             }
            },
            "type": "histogram"
           }
          ],
          "histogram2d": [
           {
            "colorbar": {
             "outlinewidth": 0,
             "ticks": ""
            },
            "colorscale": [
             [
              0,
              "#0d0887"
             ],
             [
              0.1111111111111111,
              "#46039f"
             ],
             [
              0.2222222222222222,
              "#7201a8"
             ],
             [
              0.3333333333333333,
              "#9c179e"
             ],
             [
              0.4444444444444444,
              "#bd3786"
             ],
             [
              0.5555555555555556,
              "#d8576b"
             ],
             [
              0.6666666666666666,
              "#ed7953"
             ],
             [
              0.7777777777777778,
              "#fb9f3a"
             ],
             [
              0.8888888888888888,
              "#fdca26"
             ],
             [
              1,
              "#f0f921"
             ]
            ],
            "type": "histogram2d"
           }
          ],
          "histogram2dcontour": [
           {
            "colorbar": {
             "outlinewidth": 0,
             "ticks": ""
            },
            "colorscale": [
             [
              0,
              "#0d0887"
             ],
             [
              0.1111111111111111,
              "#46039f"
             ],
             [
              0.2222222222222222,
              "#7201a8"
             ],
             [
              0.3333333333333333,
              "#9c179e"
             ],
             [
              0.4444444444444444,
              "#bd3786"
             ],
             [
              0.5555555555555556,
              "#d8576b"
             ],
             [
              0.6666666666666666,
              "#ed7953"
             ],
             [
              0.7777777777777778,
              "#fb9f3a"
             ],
             [
              0.8888888888888888,
              "#fdca26"
             ],
             [
              1,
              "#f0f921"
             ]
            ],
            "type": "histogram2dcontour"
           }
          ],
          "mesh3d": [
           {
            "colorbar": {
             "outlinewidth": 0,
             "ticks": ""
            },
            "type": "mesh3d"
           }
          ],
          "parcoords": [
           {
            "line": {
             "colorbar": {
              "outlinewidth": 0,
              "ticks": ""
             }
            },
            "type": "parcoords"
           }
          ],
          "pie": [
           {
            "automargin": true,
            "type": "pie"
           }
          ],
          "scatter": [
           {
            "fillpattern": {
             "fillmode": "overlay",
             "size": 10,
             "solidity": 0.2
            },
            "type": "scatter"
           }
          ],
          "scatter3d": [
           {
            "line": {
             "colorbar": {
              "outlinewidth": 0,
              "ticks": ""
             }
            },
            "marker": {
             "colorbar": {
              "outlinewidth": 0,
              "ticks": ""
             }
            },
            "type": "scatter3d"
           }
          ],
          "scattercarpet": [
           {
            "marker": {
             "colorbar": {
              "outlinewidth": 0,
              "ticks": ""
             }
            },
            "type": "scattercarpet"
           }
          ],
          "scattergeo": [
           {
            "marker": {
             "colorbar": {
              "outlinewidth": 0,
              "ticks": ""
             }
            },
            "type": "scattergeo"
           }
          ],
          "scattergl": [
           {
            "marker": {
             "colorbar": {
              "outlinewidth": 0,
              "ticks": ""
             }
            },
            "type": "scattergl"
           }
          ],
          "scattermap": [
           {
            "marker": {
             "colorbar": {
              "outlinewidth": 0,
              "ticks": ""
             }
            },
            "type": "scattermap"
           }
          ],
          "scattermapbox": [
           {
            "marker": {
             "colorbar": {
              "outlinewidth": 0,
              "ticks": ""
             }
            },
            "type": "scattermapbox"
           }
          ],
          "scatterpolar": [
           {
            "marker": {
             "colorbar": {
              "outlinewidth": 0,
              "ticks": ""
             }
            },
            "type": "scatterpolar"
           }
          ],
          "scatterpolargl": [
           {
            "marker": {
             "colorbar": {
              "outlinewidth": 0,
              "ticks": ""
             }
            },
            "type": "scatterpolargl"
           }
          ],
          "scatterternary": [
           {
            "marker": {
             "colorbar": {
              "outlinewidth": 0,
              "ticks": ""
             }
            },
            "type": "scatterternary"
           }
          ],
          "surface": [
           {
            "colorbar": {
             "outlinewidth": 0,
             "ticks": ""
            },
            "colorscale": [
             [
              0,
              "#0d0887"
             ],
             [
              0.1111111111111111,
              "#46039f"
             ],
             [
              0.2222222222222222,
              "#7201a8"
             ],
             [
              0.3333333333333333,
              "#9c179e"
             ],
             [
              0.4444444444444444,
              "#bd3786"
             ],
             [
              0.5555555555555556,
              "#d8576b"
             ],
             [
              0.6666666666666666,
              "#ed7953"
             ],
             [
              0.7777777777777778,
              "#fb9f3a"
             ],
             [
              0.8888888888888888,
              "#fdca26"
             ],
             [
              1,
              "#f0f921"
             ]
            ],
            "type": "surface"
           }
          ],
          "table": [
           {
            "cells": {
             "fill": {
              "color": "#EBF0F8"
             },
             "line": {
              "color": "white"
             }
            },
            "header": {
             "fill": {
              "color": "#C8D4E3"
             },
             "line": {
              "color": "white"
             }
            },
            "type": "table"
           }
          ]
         },
         "layout": {
          "annotationdefaults": {
           "arrowcolor": "#2a3f5f",
           "arrowhead": 0,
           "arrowwidth": 1
          },
          "autotypenumbers": "strict",
          "coloraxis": {
           "colorbar": {
            "outlinewidth": 0,
            "ticks": ""
           }
          },
          "colorscale": {
           "diverging": [
            [
             0,
             "#8e0152"
            ],
            [
             0.1,
             "#c51b7d"
            ],
            [
             0.2,
             "#de77ae"
            ],
            [
             0.3,
             "#f1b6da"
            ],
            [
             0.4,
             "#fde0ef"
            ],
            [
             0.5,
             "#f7f7f7"
            ],
            [
             0.6,
             "#e6f5d0"
            ],
            [
             0.7,
             "#b8e186"
            ],
            [
             0.8,
             "#7fbc41"
            ],
            [
             0.9,
             "#4d9221"
            ],
            [
             1,
             "#276419"
            ]
           ],
           "sequential": [
            [
             0,
             "#0d0887"
            ],
            [
             0.1111111111111111,
             "#46039f"
            ],
            [
             0.2222222222222222,
             "#7201a8"
            ],
            [
             0.3333333333333333,
             "#9c179e"
            ],
            [
             0.4444444444444444,
             "#bd3786"
            ],
            [
             0.5555555555555556,
             "#d8576b"
            ],
            [
             0.6666666666666666,
             "#ed7953"
            ],
            [
             0.7777777777777778,
             "#fb9f3a"
            ],
            [
             0.8888888888888888,
             "#fdca26"
            ],
            [
             1,
             "#f0f921"
            ]
           ],
           "sequentialminus": [
            [
             0,
             "#0d0887"
            ],
            [
             0.1111111111111111,
             "#46039f"
            ],
            [
             0.2222222222222222,
             "#7201a8"
            ],
            [
             0.3333333333333333,
             "#9c179e"
            ],
            [
             0.4444444444444444,
             "#bd3786"
            ],
            [
             0.5555555555555556,
             "#d8576b"
            ],
            [
             0.6666666666666666,
             "#ed7953"
            ],
            [
             0.7777777777777778,
             "#fb9f3a"
            ],
            [
             0.8888888888888888,
             "#fdca26"
            ],
            [
             1,
             "#f0f921"
            ]
           ]
          },
          "colorway": [
           "#636efa",
           "#EF553B",
           "#00cc96",
           "#ab63fa",
           "#FFA15A",
           "#19d3f3",
           "#FF6692",
           "#B6E880",
           "#FF97FF",
           "#FECB52"
          ],
          "font": {
           "color": "#2a3f5f"
          },
          "geo": {
           "bgcolor": "white",
           "lakecolor": "white",
           "landcolor": "#E5ECF6",
           "showlakes": true,
           "showland": true,
           "subunitcolor": "white"
          },
          "hoverlabel": {
           "align": "left"
          },
          "hovermode": "closest",
          "mapbox": {
           "style": "light"
          },
          "paper_bgcolor": "white",
          "plot_bgcolor": "#E5ECF6",
          "polar": {
           "angularaxis": {
            "gridcolor": "white",
            "linecolor": "white",
            "ticks": ""
           },
           "bgcolor": "#E5ECF6",
           "radialaxis": {
            "gridcolor": "white",
            "linecolor": "white",
            "ticks": ""
           }
          },
          "scene": {
           "xaxis": {
            "backgroundcolor": "#E5ECF6",
            "gridcolor": "white",
            "gridwidth": 2,
            "linecolor": "white",
            "showbackground": true,
            "ticks": "",
            "zerolinecolor": "white"
           },
           "yaxis": {
            "backgroundcolor": "#E5ECF6",
            "gridcolor": "white",
            "gridwidth": 2,
            "linecolor": "white",
            "showbackground": true,
            "ticks": "",
            "zerolinecolor": "white"
           },
           "zaxis": {
            "backgroundcolor": "#E5ECF6",
            "gridcolor": "white",
            "gridwidth": 2,
            "linecolor": "white",
            "showbackground": true,
            "ticks": "",
            "zerolinecolor": "white"
           }
          },
          "shapedefaults": {
           "line": {
            "color": "#2a3f5f"
           }
          },
          "ternary": {
           "aaxis": {
            "gridcolor": "white",
            "linecolor": "white",
            "ticks": ""
           },
           "baxis": {
            "gridcolor": "white",
            "linecolor": "white",
            "ticks": ""
           },
           "bgcolor": "#E5ECF6",
           "caxis": {
            "gridcolor": "white",
            "linecolor": "white",
            "ticks": ""
           }
          },
          "title": {
           "x": 0.05
          },
          "xaxis": {
           "automargin": true,
           "gridcolor": "white",
           "linecolor": "white",
           "ticks": "",
           "title": {
            "standoff": 15
           },
           "zerolinecolor": "white",
           "zerolinewidth": 2
          },
          "yaxis": {
           "automargin": true,
           "gridcolor": "white",
           "linecolor": "white",
           "ticks": "",
           "title": {
            "standoff": 15
           },
           "zerolinecolor": "white",
           "zerolinewidth": 2
          }
         }
        },
        "title": {
         "text": "Comparison of Correlation Matrices"
        },
        "width": 1400,
        "xaxis": {
         "anchor": "y",
         "domain": [
          0,
          0.4
         ]
        },
        "xaxis2": {
         "anchor": "y2",
         "domain": [
          0.6000000000000001,
          1
         ]
        },
        "yaxis": {
         "anchor": "x",
         "domain": [
          0,
          1
         ]
        },
        "yaxis2": {
         "anchor": "x2",
         "domain": [
          0,
          1
         ]
        }
       }
      }
     },
     "metadata": {},
     "output_type": "display_data"
    }
   ],
   "source": [
    "plot_correlation_matrices(correlation_matrix, correlation_matrix_syn, \"Real\", \"Synthetic\")"
   ]
  },
  {
   "cell_type": "code",
   "execution_count": 8,
   "id": "0914899d",
   "metadata": {},
   "outputs": [
    {
     "name": "stdout",
     "output_type": "stream",
     "text": [
      "Generating report ...\n",
      "\n",
      "(1/2) Evaluating Column Shapes: |██████████| 6/6 [00:00<00:00, 924.60it/s]|\n",
      "Column Shapes Score: 87.98%\n",
      "\n",
      "(2/2) Evaluating Column Pair Trends: |██████████| 15/15 [00:00<00:00, 152.97it/s]|\n",
      "Column Pair Trends Score: 92.41%\n",
      "\n",
      "Overall Score (Average): 90.19%\n",
      "\n"
     ]
    }
   ],
   "source": [
    "from sdmetrics.reports.single_table import QualityReport\n",
    "\n",
    "data_syn = data_syn[data.columns.to_list()]\n",
    "\n",
    "metadata = {\n",
    "    \"columns\": {\n",
    "        \"X1 house age\": {\"sdtype\": \"numerical\"},\n",
    "        \"X2 distance MRT station\": {\"sdtype\": \"numerical\"},\n",
    "        \"X3 number convenience stores\": {\"sdtype\": \"numerical\"},\n",
    "        \"X4 lat\": {\"sdtype\": \"numerical\"},\n",
    "        \"X5 long\": {\"sdtype\": \"numerical\"},\n",
    "        \"X6 price\": {\"sdtype\": \"numerical\"}\n",
    "    }\n",
    "}\n",
    "\n",
    "report = QualityReport()\n",
    "report.generate(data, data_syn, metadata)"
   ]
  },
  {
   "cell_type": "code",
   "execution_count": 9,
   "id": "7f69c6a4",
   "metadata": {},
   "outputs": [],
   "source": [
    "# variable assignment according to correlation structure\n",
    "independents_lst = ['X2 distance MRT station', 'X3 number convenience stores', 'X4 lat']\n",
    "dependent_var = 'X6 price'\n",
    "X = data_syn[independents_lst].to_numpy()\n",
    "y = data_syn[dependent_var].to_numpy()"
   ]
  },
  {
   "cell_type": "code",
   "execution_count": 10,
   "id": "55629ace",
   "metadata": {},
   "outputs": [
    {
     "name": "stdout",
     "output_type": "stream",
     "text": [
      "27.4**2 * RBF(length_scale=30) + WhiteKernel(noise_level=40)\n"
     ]
    },
    {
     "data": {
      "image/png": "[encoded data removed]",
      "text/plain": [
       "<Figure size 800x400 with 1 Axes>"
      ]
     },
     "metadata": {},
     "output_type": "display_data"
    }
   ],
   "source": [
    "%matplotlib inline\n",
    "y_denoised = bound_denoise(X, y, length_scale_bounds=(1e-3, 30), noise_level_bounds=(1e-5, 40), show_denoising_effect=True)"
   ]
  },
  {
   "cell_type": "code",
   "execution_count": 11,
   "id": "b69b4a26",
   "metadata": {},
   "outputs": [
    {
     "data": {
      "text/html": [
       "<style>#sk-container-id-1 {\n",
       "  /* Definition of color scheme common for light and dark mode */\n",
       "  --sklearn-color-text: #000;\n",
       "  --sklearn-color-text-muted: #666;\n",
       "  --sklearn-color-line: gray;\n",
       "  /* Definition of color scheme for unfitted estimators */\n",
       "  --sklearn-color-unfitted-level-0: #fff5e6;\n",
       "  --sklearn-color-unfitted-level-1: #f6e4d2;\n",
       "  --sklearn-color-unfitted-level-2: #ffe0b3;\n",
       "  --sklearn-color-unfitted-level-3: chocolate;\n",
       "  /* Definition of color scheme for fitted estimators */\n",
       "  --sklearn-color-fitted-level-0: #f0f8ff;\n",
       "  --sklearn-color-fitted-level-1: #d4ebff;\n",
       "  --sklearn-color-fitted-level-2: #b3dbfd;\n",
       "  --sklearn-color-fitted-level-3: cornflowerblue;\n",
       "\n",
       "  /* Specific color for light theme */\n",
       "  --sklearn-color-text-on-default-background: var(--sg-text-color, var(--theme-code-foreground, var(--jp-content-font-color1, black)));\n",
       "  --sklearn-color-background: var(--sg-background-color, var(--theme-background, var(--jp-layout-color0, white)));\n",
       "  --sklearn-color-border-box: var(--sg-text-color, var(--theme-code-foreground, var(--jp-content-font-color1, black)));\n",
       "  --sklearn-color-icon: #696969;\n",
       "\n",
       "  @media (prefers-color-scheme: dark) {\n",
       "    /* Redefinition of color scheme for dark theme */\n",
       "    --sklearn-color-text-on-default-background: var(--sg-text-color, var(--theme-code-foreground, var(--jp-content-font-color1, white)));\n",
       "    --sklearn-color-background: var(--sg-background-color, var(--theme-background, var(--jp-layout-color0, #111)));\n",
       "    --sklearn-color-border-box: var(--sg-text-color, var(--theme-code-foreground, var(--jp-content-font-color1, white)));\n",
       "    --sklearn-color-icon: #878787;\n",
       "  }\n",
       "}\n",
       "\n",
       "#sk-container-id-1 {\n",
       "  color: var(--sklearn-color-text);\n",
       "}\n",
       "\n",
       "#sk-container-id-1 pre {\n",
       "  padding: 0;\n",
       "}\n",
       "\n",
       "#sk-container-id-1 input.sk-hidden--visually {\n",
       "  border: 0;\n",
       "  clip: rect(1px 1px 1px 1px);\n",
       "  clip: rect(1px, 1px, 1px, 1px);\n",
       "  height: 1px;\n",
       "  margin: -1px;\n",
       "  overflow: hidden;\n",
       "  padding: 0;\n",
       "  position: absolute;\n",
       "  width: 1px;\n",
       "}\n",
       "\n",
       "#sk-container-id-1 div.sk-dashed-wrapped {\n",
       "  border: 1px dashed var(--sklearn-color-line);\n",
       "  margin: 0 0.4em 0.5em 0.4em;\n",
       "  box-sizing: border-box;\n",
       "  padding-bottom: 0.4em;\n",
       "  background-color: var(--sklearn-color-background);\n",
       "}\n",
       "\n",
       "#sk-container-id-1 div.sk-container {\n",
       "  /* jupyter's `normalize.less` sets `[hidden] { display: none; }`\n",
       "     but bootstrap.min.css set `[hidden] { display: none !important; }`\n",
       "     so we also need the `!important` here to be able to override the\n",
       "     default hidden behavior on the sphinx rendered scikit-learn.org.\n",
       "     See: https://github.com/scikit-learn/scikit-learn/issues/21755 */\n",
       "  display: inline-block !important;\n",
       "  position: relative;\n",
       "}\n",
       "\n",
       "#sk-container-id-1 div.sk-text-repr-fallback {\n",
       "  display: none;\n",
       "}\n",
       "\n",
       "div.sk-parallel-item,\n",
       "div.sk-serial,\n",
       "div.sk-item {\n",
       "  /* draw centered vertical line to link estimators */\n",
       "  background-image: linear-gradient(var(--sklearn-color-text-on-default-background), var(--sklearn-color-text-on-default-background));\n",
       "  background-size: 2px 100%;\n",
       "  background-repeat: no-repeat;\n",
       "  background-position: center center;\n",
       "}\n",
       "\n",
       "/* Parallel-specific style estimator block */\n",
       "\n",
       "#sk-container-id-1 div.sk-parallel-item::after {\n",
       "  content: \"\";\n",
       "  width: 100%;\n",
       "  border-bottom: 2px solid var(--sklearn-color-text-on-default-background);\n",
       "  flex-grow: 1;\n",
       "}\n",
       "\n",
       "#sk-container-id-1 div.sk-parallel {\n",
       "  display: flex;\n",
       "  align-items: stretch;\n",
       "  justify-content: center;\n",
       "  background-color: var(--sklearn-color-background);\n",
       "  position: relative;\n",
       "}\n",
       "\n",
       "#sk-container-id-1 div.sk-parallel-item {\n",
       "  display: flex;\n",
       "  flex-direction: column;\n",
       "}\n",
       "\n",
       "#sk-container-id-1 div.sk-parallel-item:first-child::after {\n",
       "  align-self: flex-end;\n",
       "  width: 50%;\n",
       "}\n",
       "\n",
       "#sk-container-id-1 div.sk-parallel-item:last-child::after {\n",
       "  align-self: flex-start;\n",
       "  width: 50%;\n",
       "}\n",
       "\n",
       "#sk-container-id-1 div.sk-parallel-item:only-child::after {\n",
       "  width: 0;\n",
       "}\n",
       "\n",
       "/* Serial-specific style estimator block */\n",
       "\n",
       "#sk-container-id-1 div.sk-serial {\n",
       "  display: flex;\n",
       "  flex-direction: column;\n",
       "  align-items: center;\n",
       "  background-color: var(--sklearn-color-background);\n",
       "  padding-right: 1em;\n",
       "  padding-left: 1em;\n",
       "}\n",
       "\n",
       "\n",
       "/* Toggleable style: style used for estimator/Pipeline/ColumnTransformer box that is\n",
       "clickable and can be expanded/collapsed.\n",
       "- Pipeline and ColumnTransformer use this feature and define the default style\n",
       "- Estimators will overwrite some part of the style using the `sk-estimator` class\n",
       "*/\n",
       "\n",
       "/* Pipeline and ColumnTransformer style (default) */\n",
       "\n",
       "#sk-container-id-1 div.sk-toggleable {\n",
       "  /* Default theme specific background. It is overwritten whether we have a\n",
       "  specific estimator or a Pipeline/ColumnTransformer */\n",
       "  background-color: var(--sklearn-color-background);\n",
       "}\n",
       "\n",
       "/* Toggleable label */\n",
       "#sk-container-id-1 label.sk-toggleable__label {\n",
       "  cursor: pointer;\n",
       "  display: flex;\n",
       "  width: 100%;\n",
       "  margin-bottom: 0;\n",
       "  padding: 0.5em;\n",
       "  box-sizing: border-box;\n",
       "  text-align: center;\n",
       "  align-items: start;\n",
       "  justify-content: space-between;\n",
       "  gap: 0.5em;\n",
       "}\n",
       "\n",
       "#sk-container-id-1 label.sk-toggleable__label .caption {\n",
       "  font-size: 0.6rem;\n",
       "  font-weight: lighter;\n",
       "  color: var(--sklearn-color-text-muted);\n",
       "}\n",
       "\n",
       "#sk-container-id-1 label.sk-toggleable__label-arrow:before {\n",
       "  /* Arrow on the left of the label */\n",
       "  content: \"▸\";\n",
       "  float: left;\n",
       "  margin-right: 0.25em;\n",
       "  color: var(--sklearn-color-icon);\n",
       "}\n",
       "\n",
       "#sk-container-id-1 label.sk-toggleable__label-arrow:hover:before {\n",
       "  color: var(--sklearn-color-text);\n",
       "}\n",
       "\n",
       "/* Toggleable content - dropdown */\n",
       "\n",
       "#sk-container-id-1 div.sk-toggleable__content {\n",
       "  max-height: 0;\n",
       "  max-width: 0;\n",
       "  overflow: hidden;\n",
       "  text-align: left;\n",
       "  /* unfitted */\n",
       "  background-color: var(--sklearn-color-unfitted-level-0);\n",
       "}\n",
       "\n",
       "#sk-container-id-1 div.sk-toggleable__content.fitted {\n",
       "  /* fitted */\n",
       "  background-color: var(--sklearn-color-fitted-level-0);\n",
       "}\n",
       "\n",
       "#sk-container-id-1 div.sk-toggleable__content pre {\n",
       "  margin: 0.2em;\n",
       "  border-radius: 0.25em;\n",
       "  color: var(--sklearn-color-text);\n",
       "  /* unfitted */\n",
       "  background-color: var(--sklearn-color-unfitted-level-0);\n",
       "}\n",
       "\n",
       "#sk-container-id-1 div.sk-toggleable__content.fitted pre {\n",
       "  /* unfitted */\n",
       "  background-color: var(--sklearn-color-fitted-level-0);\n",
       "}\n",
       "\n",
       "#sk-container-id-1 input.sk-toggleable__control:checked~div.sk-toggleable__content {\n",
       "  /* Expand drop-down */\n",
       "  max-height: 200px;\n",
       "  max-width: 100%;\n",
       "  overflow: auto;\n",
       "}\n",
       "\n",
       "#sk-container-id-1 input.sk-toggleable__control:checked~label.sk-toggleable__label-arrow:before {\n",
       "  content: \"▾\";\n",
       "}\n",
       "\n",
       "/* Pipeline/ColumnTransformer-specific style */\n",
       "\n",
       "#sk-container-id-1 div.sk-label input.sk-toggleable__control:checked~label.sk-toggleable__label {\n",
       "  color: var(--sklearn-color-text);\n",
       "  background-color: var(--sklearn-color-unfitted-level-2);\n",
       "}\n",
       "\n",
       "#sk-container-id-1 div.sk-label.fitted input.sk-toggleable__control:checked~label.sk-toggleable__label {\n",
       "  background-color: var(--sklearn-color-fitted-level-2);\n",
       "}\n",
       "\n",
       "/* Estimator-specific style */\n",
       "\n",
       "/* Colorize estimator box */\n",
       "#sk-container-id-1 div.sk-estimator input.sk-toggleable__control:checked~label.sk-toggleable__label {\n",
       "  /* unfitted */\n",
       "  background-color: var(--sklearn-color-unfitted-level-2);\n",
       "}\n",
       "\n",
       "#sk-container-id-1 div.sk-estimator.fitted input.sk-toggleable__control:checked~label.sk-toggleable__label {\n",
       "  /* fitted */\n",
       "  background-color: var(--sklearn-color-fitted-level-2);\n",
       "}\n",
       "\n",
       "#sk-container-id-1 div.sk-label label.sk-toggleable__label,\n",
       "#sk-container-id-1 div.sk-label label {\n",
       "  /* The background is the default theme color */\n",
       "  color: var(--sklearn-color-text-on-default-background);\n",
       "}\n",
       "\n",
       "/* On hover, darken the color of the background */\n",
       "#sk-container-id-1 div.sk-label:hover label.sk-toggleable__label {\n",
       "  color: var(--sklearn-color-text);\n",
       "  background-color: var(--sklearn-color-unfitted-level-2);\n",
       "}\n",
       "\n",
       "/* Label box, darken color on hover, fitted */\n",
       "#sk-container-id-1 div.sk-label.fitted:hover label.sk-toggleable__label.fitted {\n",
       "  color: var(--sklearn-color-text);\n",
       "  background-color: var(--sklearn-color-fitted-level-2);\n",
       "}\n",
       "\n",
       "/* Estimator label */\n",
       "\n",
       "#sk-container-id-1 div.sk-label label {\n",
       "  font-family: monospace;\n",
       "  font-weight: bold;\n",
       "  display: inline-block;\n",
       "  line-height: 1.2em;\n",
       "}\n",
       "\n",
       "#sk-container-id-1 div.sk-label-container {\n",
       "  text-align: center;\n",
       "}\n",
       "\n",
       "/* Estimator-specific */\n",
       "#sk-container-id-1 div.sk-estimator {\n",
       "  font-family: monospace;\n",
       "  border: 1px dotted var(--sklearn-color-border-box);\n",
       "  border-radius: 0.25em;\n",
       "  box-sizing: border-box;\n",
       "  margin-bottom: 0.5em;\n",
       "  /* unfitted */\n",
       "  background-color: var(--sklearn-color-unfitted-level-0);\n",
       "}\n",
       "\n",
       "#sk-container-id-1 div.sk-estimator.fitted {\n",
       "  /* fitted */\n",
       "  background-color: var(--sklearn-color-fitted-level-0);\n",
       "}\n",
       "\n",
       "/* on hover */\n",
       "#sk-container-id-1 div.sk-estimator:hover {\n",
       "  /* unfitted */\n",
       "  background-color: var(--sklearn-color-unfitted-level-2);\n",
       "}\n",
       "\n",
       "#sk-container-id-1 div.sk-estimator.fitted:hover {\n",
       "  /* fitted */\n",
       "  background-color: var(--sklearn-color-fitted-level-2);\n",
       "}\n",
       "\n",
       "/* Specification for estimator info (e.g. \"i\" and \"?\") */\n",
       "\n",
       "/* Common style for \"i\" and \"?\" */\n",
       "\n",
       ".sk-estimator-doc-link,\n",
       "a:link.sk-estimator-doc-link,\n",
       "a:visited.sk-estimator-doc-link {\n",
       "  float: right;\n",
       "  font-size: smaller;\n",
       "  line-height: 1em;\n",
       "  font-family: monospace;\n",
       "  background-color: var(--sklearn-color-background);\n",
       "  border-radius: 1em;\n",
       "  height: 1em;\n",
       "  width: 1em;\n",
       "  text-decoration: none !important;\n",
       "  margin-left: 0.5em;\n",
       "  text-align: center;\n",
       "  /* unfitted */\n",
       "  border: var(--sklearn-color-unfitted-level-1) 1pt solid;\n",
       "  color: var(--sklearn-color-unfitted-level-1);\n",
       "}\n",
       "\n",
       ".sk-estimator-doc-link.fitted,\n",
       "a:link.sk-estimator-doc-link.fitted,\n",
       "a:visited.sk-estimator-doc-link.fitted {\n",
       "  /* fitted */\n",
       "  border: var(--sklearn-color-fitted-level-1) 1pt solid;\n",
       "  color: var(--sklearn-color-fitted-level-1);\n",
       "}\n",
       "\n",
       "/* On hover */\n",
       "div.sk-estimator:hover .sk-estimator-doc-link:hover,\n",
       ".sk-estimator-doc-link:hover,\n",
       "div.sk-label-container:hover .sk-estimator-doc-link:hover,\n",
       ".sk-estimator-doc-link:hover {\n",
       "  /* unfitted */\n",
       "  background-color: var(--sklearn-color-unfitted-level-3);\n",
       "  color: var(--sklearn-color-background);\n",
       "  text-decoration: none;\n",
       "}\n",
       "\n",
       "div.sk-estimator.fitted:hover .sk-estimator-doc-link.fitted:hover,\n",
       ".sk-estimator-doc-link.fitted:hover,\n",
       "div.sk-label-container:hover .sk-estimator-doc-link.fitted:hover,\n",
       ".sk-estimator-doc-link.fitted:hover {\n",
       "  /* fitted */\n",
       "  background-color: var(--sklearn-color-fitted-level-3);\n",
       "  color: var(--sklearn-color-background);\n",
       "  text-decoration: none;\n",
       "}\n",
       "\n",
       "/* Span, style for the box shown on hovering the info icon */\n",
       ".sk-estimator-doc-link span {\n",
       "  display: none;\n",
       "  z-index: 9999;\n",
       "  position: relative;\n",
       "  font-weight: normal;\n",
       "  right: .2ex;\n",
       "  padding: .5ex;\n",
       "  margin: .5ex;\n",
       "  width: min-content;\n",
       "  min-width: 20ex;\n",
       "  max-width: 50ex;\n",
       "  color: var(--sklearn-color-text);\n",
       "  box-shadow: 2pt 2pt 4pt #999;\n",
       "  /* unfitted */\n",
       "  background: var(--sklearn-color-unfitted-level-0);\n",
       "  border: .5pt solid var(--sklearn-color-unfitted-level-3);\n",
       "}\n",
       "\n",
       ".sk-estimator-doc-link.fitted span {\n",
       "  /* fitted */\n",
       "  background: var(--sklearn-color-fitted-level-0);\n",
       "  border: var(--sklearn-color-fitted-level-3);\n",
       "}\n",
       "\n",
       ".sk-estimator-doc-link:hover span {\n",
       "  display: block;\n",
       "}\n",
       "\n",
       "/* \"?\"-specific style due to the `<a>` HTML tag */\n",
       "\n",
       "#sk-container-id-1 a.estimator_doc_link {\n",
       "  float: right;\n",
       "  font-size: 1rem;\n",
       "  line-height: 1em;\n",
       "  font-family: monospace;\n",
       "  background-color: var(--sklearn-color-background);\n",
       "  border-radius: 1rem;\n",
       "  height: 1rem;\n",
       "  width: 1rem;\n",
       "  text-decoration: none;\n",
       "  /* unfitted */\n",
       "  color: var(--sklearn-color-unfitted-level-1);\n",
       "  border: var(--sklearn-color-unfitted-level-1) 1pt solid;\n",
       "}\n",
       "\n",
       "#sk-container-id-1 a.estimator_doc_link.fitted {\n",
       "  /* fitted */\n",
       "  border: var(--sklearn-color-fitted-level-1) 1pt solid;\n",
       "  color: var(--sklearn-color-fitted-level-1);\n",
       "}\n",
       "\n",
       "/* On hover */\n",
       "#sk-container-id-1 a.estimator_doc_link:hover {\n",
       "  /* unfitted */\n",
       "  background-color: var(--sklearn-color-unfitted-level-3);\n",
       "  color: var(--sklearn-color-background);\n",
       "  text-decoration: none;\n",
       "}\n",
       "\n",
       "#sk-container-id-1 a.estimator_doc_link.fitted:hover {\n",
       "  /* fitted */\n",
       "  background-color: var(--sklearn-color-fitted-level-3);\n",
       "}\n",
       "</style><div id=\"sk-container-id-1\" class=\"sk-top-container\"><div class=\"sk-text-repr-fallback\"><pre>PySRRegressor.equations_ = [\n",
       "\t    pick     score                                           equation  \\\n",
       "\t0         0.000000                                          39.349125   \n",
       "\t1         0.088585                                     x1 + 34.845894   \n",
       "\t2         0.848766                                244.48051 / log(x0)   \n",
       "\t3         0.119748                        96543.77 / (x0 + 1766.0225)   \n",
       "\t4         0.171585                        1924.5802 / (x2 + sqrt(x0))   \n",
       "\t5         0.054240         (23193.719 / (x0 + 536.6815)) - -18.351387   \n",
       "\t6         0.001153  (23193.56 / ((x0 - x1) + 543.29034)) - -18.376554   \n",
       "\t7         0.004926  x2 + abs(7.8791614 - (25571.531 / (x0 + 579.08...   \n",
       "\t8         0.023741  (23192.344 / (x0 + 558.1173)) - ((x2 * -80.218...   \n",
       "\t9         0.000002  abs((x2 * -80.23929) + (1984.6719 - (23192.344...   \n",
       "\t10        0.002199  (23192.168 / (x0 + (564.8633 - x1))) - ((x2 * ...   \n",
       "\t11        0.013827  ((x2 - cos(x0 / 25.372671)) + (22771.092 / (x0...   \n",
       "\t12        0.005836  (x2 - cos(x0 / 25.373589)) + abs((22771.375 / ...   \n",
       "\t13        0.018829  ((x2 * x2) - cos(x0 / 25.374039)) + ((22770.54...   \n",
       "\t14        0.017343  (22768.754 / (x0 + 542.1646)) + ((x2 * x2) - (...   \n",
       "\t15        0.012557  ((22768.89 / (x0 + 532.38184)) + 18.683464) - ...   \n",
       "\t16        0.025534  ((22768.893 / (x0 + 532.6685)) + 18.764418) - ...   \n",
       "\t17        0.000581  (18.765015 - ((((x0 / 13.897569) / (x2 + sin(x...   \n",
       "\t18        0.005035  (18.781195 - (((((x0 / 13.609729) / x2) - sin(...   \n",
       "\t19        0.054575  (x2 * x2) + (((22768.754 / (x0 + 543.8294)) - ...   \n",
       "\t20        0.001246  (x2 * x2) + (((22768.754 / (x0 + 543.8294)) - ...   \n",
       "\t21        0.059828  (((22768.79 / (x0 + 541.9767)) + (x2 * x2)) - ...   \n",
       "\t22        0.023686  abs(((x2 * x2) - 604.69055) - ((((cos(x0 / (x2...   \n",
       "\t23        0.011997  abs((cos(x0 / (x2 + 0.40057173)) * (((x0 / sqr...   \n",
       "\t24        0.007012  abs(((x2 * x2) - 604.60803) - ((x0 / (sqrt(sqr...   \n",
       "\t25        0.003912  abs((cos(x0 / (x2 + 0.4014634)) * (((x0 / (sin...   \n",
       "\t26        0.012519  abs(((x2 * x2) - 604.6401) - ((((x1 * x1) + ((...   \n",
       "\t27        0.045524  ((x2 * x2) + ((22769.266 / (x0 + 542.84357)) -...   \n",
       "\t28  &gt;&gt;&gt;&gt;  0.088734  (((x2 * x2) + (22769.266 / (x0 + 542.87085))) ...   \n",
       "\t29        0.033104  (22769.266 / (x0 + 539.13696)) + abs(((((x0 / ...   \n",
       "\t30        0.006075  (22769.266 / (x0 + 540.64435)) + abs((((x1 + (...   \n",
       "\t31        0.002319  (22768.754 / (x0 + 543.8294)) + abs(((cos(x0 /...   \n",
       "\t32        0.002208  abs(((x2 * x2) - 604.58484) - (cos(x0 / (x2 + ...   \n",
       "\t33        0.001565  (22768.754 / (x0 + 543.8294)) + abs(((((x0 * c...   \n",
       "\t34        0.000796  (22768.754 / (x0 + 545.6171)) + abs(((x0 * ((c...   \n",
       "\t35        0.018682  abs(((cos(x0 / (x2 + 0.3938882)) * ((x1 * x1) ...   \n",
       "\t36        0.003184  abs(((x2 * x2) - 604.58484) - (((x1 * x1) + ((...   \n",
       "\t37        0.022662  (22769.266 / (x0 + 545.51263)) + abs(((x2 * x2...   \n",
       "\t38        0.002434  abs(((x2 * x2) - 604.58484) - ((((x1 * x1) + (...   \n",
       "\t39        0.009486  (22769.266 / (x0 + 545.51263)) + abs(((x2 * x2...   \n",
       "\t40        0.000067  (22768.754 / (x0 + 542.1646)) + abs(((((x0 / (...   \n",
       "\t41        0.010979  (22768.754 / (542.1646 + x0)) + abs(((((x0 / (...   \n",
       "\t\n",
       "\t          loss  complexity  \n",
       "\t0   117.525330           1  \n",
       "\t1    98.443630           3  \n",
       "\t2    42.128230           4  \n",
       "\t3    37.373806           5  \n",
       "\t4    31.481035           6  \n",
       "\t5    29.818990           7  \n",
       "\t6    29.750286           9  \n",
       "\t7    29.604094          10  \n",
       "\t8    28.909554          11  \n",
       "\t9    28.909485          12  \n",
       "\t10   28.845990          13  \n",
       "\t11   28.449879          14  \n",
       "\t12   28.284342          15  \n",
       "\t13   27.756748          16  \n",
       "\t14   27.279516          17  \n",
       "\t15   26.939098          18  \n",
       "\t16   25.597898          20  \n",
       "\t17   25.553339          23  \n",
       "\t18   25.297321          25  \n",
       "\t19   23.953709          26  \n",
       "\t20   23.923887          27  \n",
       "\t21   22.534536          28  \n",
       "\t22   22.007050          29  \n",
       "\t23   21.744612          30  \n",
       "\t24   21.592663          31  \n",
       "\t25   21.508364          32  \n",
       "\t26   21.240788          33  \n",
       "\t27   20.295510          34  \n",
       "\t28   18.572195          35  \n",
       "\t29   17.967453          36  \n",
       "\t30   17.750463          38  \n",
       "\t31   17.668322          40  \n",
       "\t32   17.629358          41  \n",
       "\t33   17.601788          42  \n",
       "\t34   17.587784          43  \n",
       "\t35   17.262264          44  \n",
       "\t36   17.207386          45  \n",
       "\t37   16.821812          46  \n",
       "\t38   16.780910          47  \n",
       "\t39   16.622480          48  \n",
       "\t40   16.621370          49  \n",
       "\t41   16.439890          50  \n",
       "]</pre><b>In a Jupyter environment, please rerun this cell to show the HTML representation or trust the notebook. <br />On GitHub, the HTML representation is unable to render, please try loading this page with nbviewer.org.</b></div><div class=\"sk-container\" hidden><div class=\"sk-item\"><div class=\"sk-estimator fitted sk-toggleable\"><input class=\"sk-toggleable__control sk-hidden--visually\" id=\"sk-estimator-id-1\" type=\"checkbox\" checked><label for=\"sk-estimator-id-1\" class=\"sk-toggleable__label fitted sk-toggleable__label-arrow\"><div><div>PySRRegressor</div></div><div><span class=\"sk-estimator-doc-link fitted\">i<span>Fitted</span></span></div></label><div class=\"sk-toggleable__content fitted\"><pre>PySRRegressor.equations_ = [\n",
       "\t    pick     score                                           equation  \\\n",
       "\t0         0.000000                                          39.349125   \n",
       "\t1         0.088585                                     x1 + 34.845894   \n",
       "\t2         0.848766                                244.48051 / log(x0)   \n",
       "\t3         0.119748                        96543.77 / (x0 + 1766.0225)   \n",
       "\t4         0.171585                        1924.5802 / (x2 + sqrt(x0))   \n",
       "\t5         0.054240         (23193.719 / (x0 + 536.6815)) - -18.351387   \n",
       "\t6         0.001153  (23193.56 / ((x0 - x1) + 543.29034)) - -18.376554   \n",
       "\t7         0.004926  x2 + abs(7.8791614 - (25571.531 / (x0 + 579.08...   \n",
       "\t8         0.023741  (23192.344 / (x0 + 558.1173)) - ((x2 * -80.218...   \n",
       "\t9         0.000002  abs((x2 * -80.23929) + (1984.6719 - (23192.344...   \n",
       "\t10        0.002199  (23192.168 / (x0 + (564.8633 - x1))) - ((x2 * ...   \n",
       "\t11        0.013827  ((x2 - cos(x0 / 25.372671)) + (22771.092 / (x0...   \n",
       "\t12        0.005836  (x2 - cos(x0 / 25.373589)) + abs((22771.375 / ...   \n",
       "\t13        0.018829  ((x2 * x2) - cos(x0 / 25.374039)) + ((22770.54...   \n",
       "\t14        0.017343  (22768.754 / (x0 + 542.1646)) + ((x2 * x2) - (...   \n",
       "\t15        0.012557  ((22768.89 / (x0 + 532.38184)) + 18.683464) - ...   \n",
       "\t16        0.025534  ((22768.893 / (x0 + 532.6685)) + 18.764418) - ...   \n",
       "\t17        0.000581  (18.765015 - ((((x0 / 13.897569) / (x2 + sin(x...   \n",
       "\t18        0.005035  (18.781195 - (((((x0 / 13.609729) / x2) - sin(...   \n",
       "\t19        0.054575  (x2 * x2) + (((22768.754 / (x0 + 543.8294)) - ...   \n",
       "\t20        0.001246  (x2 * x2) + (((22768.754 / (x0 + 543.8294)) - ...   \n",
       "\t21        0.059828  (((22768.79 / (x0 + 541.9767)) + (x2 * x2)) - ...   \n",
       "\t22        0.023686  abs(((x2 * x2) - 604.69055) - ((((cos(x0 / (x2...   \n",
       "\t23        0.011997  abs((cos(x0 / (x2 + 0.40057173)) * (((x0 / sqr...   \n",
       "\t24        0.007012  abs(((x2 * x2) - 604.60803) - ((x0 / (sqrt(sqr...   \n",
       "\t25        0.003912  abs((cos(x0 / (x2 + 0.4014634)) * (((x0 / (sin...   \n",
       "\t26        0.012519  abs(((x2 * x2) - 604.6401) - ((((x1 * x1) + ((...   \n",
       "\t27        0.045524  ((x2 * x2) + ((22769.266 / (x0 + 542.84357)) -...   \n",
       "\t28  &gt;&gt;&gt;&gt;  0.088734  (((x2 * x2) + (22769.266 / (x0 + 542.87085))) ...   \n",
       "\t29        0.033104  (22769.266 / (x0 + 539.13696)) + abs(((((x0 / ...   \n",
       "\t30        0.006075  (22769.266 / (x0 + 540.64435)) + abs((((x1 + (...   \n",
       "\t31        0.002319  (22768.754 / (x0 + 543.8294)) + abs(((cos(x0 /...   \n",
       "\t32        0.002208  abs(((x2 * x2) - 604.58484) - (cos(x0 / (x2 + ...   \n",
       "\t33        0.001565  (22768.754 / (x0 + 543.8294)) + abs(((((x0 * c...   \n",
       "\t34        0.000796  (22768.754 / (x0 + 545.6171)) + abs(((x0 * ((c...   \n",
       "\t35        0.018682  abs(((cos(x0 / (x2 + 0.3938882)) * ((x1 * x1) ...   \n",
       "\t36        0.003184  abs(((x2 * x2) - 604.58484) - (((x1 * x1) + ((...   \n",
       "\t37        0.022662  (22769.266 / (x0 + 545.51263)) + abs(((x2 * x2...   \n",
       "\t38        0.002434  abs(((x2 * x2) - 604.58484) - ((((x1 * x1) + (...   \n",
       "\t39        0.009486  (22769.266 / (x0 + 545.51263)) + abs(((x2 * x2...   \n",
       "\t40        0.000067  (22768.754 / (x0 + 542.1646)) + abs(((((x0 / (...   \n",
       "\t41        0.010979  (22768.754 / (542.1646 + x0)) + abs(((((x0 / (...   \n",
       "\t\n",
       "\t          loss  complexity  \n",
       "\t0   117.525330           1  \n",
       "\t1    98.443630           3  \n",
       "\t2    42.128230           4  \n",
       "\t3    37.373806           5  \n",
       "\t4    31.481035           6  \n",
       "\t5    29.818990           7  \n",
       "\t6    29.750286           9  \n",
       "\t7    29.604094          10  \n",
       "\t8    28.909554          11  \n",
       "\t9    28.909485          12  \n",
       "\t10   28.845990          13  \n",
       "\t11   28.449879          14  \n",
       "\t12   28.284342          15  \n",
       "\t13   27.756748          16  \n",
       "\t14   27.279516          17  \n",
       "\t15   26.939098          18  \n",
       "\t16   25.597898          20  \n",
       "\t17   25.553339          23  \n",
       "\t18   25.297321          25  \n",
       "\t19   23.953709          26  \n",
       "\t20   23.923887          27  \n",
       "\t21   22.534536          28  \n",
       "\t22   22.007050          29  \n",
       "\t23   21.744612          30  \n",
       "\t24   21.592663          31  \n",
       "\t25   21.508364          32  \n",
       "\t26   21.240788          33  \n",
       "\t27   20.295510          34  \n",
       "\t28   18.572195          35  \n",
       "\t29   17.967453          36  \n",
       "\t30   17.750463          38  \n",
       "\t31   17.668322          40  \n",
       "\t32   17.629358          41  \n",
       "\t33   17.601788          42  \n",
       "\t34   17.587784          43  \n",
       "\t35   17.262264          44  \n",
       "\t36   17.207386          45  \n",
       "\t37   16.821812          46  \n",
       "\t38   16.780910          47  \n",
       "\t39   16.622480          48  \n",
       "\t40   16.621370          49  \n",
       "\t41   16.439890          50  \n",
       "]</pre></div> </div></div></div></div>"
      ],
      "text/plain": [
       "PySRRegressor.equations_ = [\n",
       "\t    pick     score                                           equation  \\\n",
       "\t0         0.000000                                          39.349125   \n",
       "\t1         0.088585                                     x1 + 34.845894   \n",
       "\t2         0.848766                                244.48051 / log(x0)   \n",
       "\t3         0.119748                        96543.77 / (x0 + 1766.0225)   \n",
       "\t4         0.171585                        1924.5802 / (x2 + sqrt(x0))   \n",
       "\t5         0.054240         (23193.719 / (x0 + 536.6815)) - -18.351387   \n",
       "\t6         0.001153  (23193.56 / ((x0 - x1) + 543.29034)) - -18.376554   \n",
       "\t7         0.004926  x2 + abs(7.8791614 - (25571.531 / (x0 + 579.08...   \n",
       "\t8         0.023741  (23192.344 / (x0 + 558.1173)) - ((x2 * -80.218...   \n",
       "\t9         0.000002  abs((x2 * -80.23929) + (1984.6719 - (23192.344...   \n",
       "\t10        0.002199  (23192.168 / (x0 + (564.8633 - x1))) - ((x2 * ...   \n",
       "\t11        0.013827  ((x2 - cos(x0 / 25.372671)) + (22771.092 / (x0...   \n",
       "\t12        0.005836  (x2 - cos(x0 / 25.373589)) + abs((22771.375 / ...   \n",
       "\t13        0.018829  ((x2 * x2) - cos(x0 / 25.374039)) + ((22770.54...   \n",
       "\t14        0.017343  (22768.754 / (x0 + 542.1646)) + ((x2 * x2) - (...   \n",
       "\t15        0.012557  ((22768.89 / (x0 + 532.38184)) + 18.683464) - ...   \n",
       "\t16        0.025534  ((22768.893 / (x0 + 532.6685)) + 18.764418) - ...   \n",
       "\t17        0.000581  (18.765015 - ((((x0 / 13.897569) / (x2 + sin(x...   \n",
       "\t18        0.005035  (18.781195 - (((((x0 / 13.609729) / x2) - sin(...   \n",
       "\t19        0.054575  (x2 * x2) + (((22768.754 / (x0 + 543.8294)) - ...   \n",
       "\t20        0.001246  (x2 * x2) + (((22768.754 / (x0 + 543.8294)) - ...   \n",
       "\t21        0.059828  (((22768.79 / (x0 + 541.9767)) + (x2 * x2)) - ...   \n",
       "\t22        0.023686  abs(((x2 * x2) - 604.69055) - ((((cos(x0 / (x2...   \n",
       "\t23        0.011997  abs((cos(x0 / (x2 + 0.40057173)) * (((x0 / sqr...   \n",
       "\t24        0.007012  abs(((x2 * x2) - 604.60803) - ((x0 / (sqrt(sqr...   \n",
       "\t25        0.003912  abs((cos(x0 / (x2 + 0.4014634)) * (((x0 / (sin...   \n",
       "\t26        0.012519  abs(((x2 * x2) - 604.6401) - ((((x1 * x1) + ((...   \n",
       "\t27        0.045524  ((x2 * x2) + ((22769.266 / (x0 + 542.84357)) -...   \n",
       "\t28  >>>>  0.088734  (((x2 * x2) + (22769.266 / (x0 + 542.87085))) ...   \n",
       "\t29        0.033104  (22769.266 / (x0 + 539.13696)) + abs(((((x0 / ...   \n",
       "\t30        0.006075  (22769.266 / (x0 + 540.64435)) + abs((((x1 + (...   \n",
       "\t31        0.002319  (22768.754 / (x0 + 543.8294)) + abs(((cos(x0 /...   \n",
       "\t32        0.002208  abs(((x2 * x2) - 604.58484) - (cos(x0 / (x2 + ...   \n",
       "\t33        0.001565  (22768.754 / (x0 + 543.8294)) + abs(((((x0 * c...   \n",
       "\t34        0.000796  (22768.754 / (x0 + 545.6171)) + abs(((x0 * ((c...   \n",
       "\t35        0.018682  abs(((cos(x0 / (x2 + 0.3938882)) * ((x1 * x1) ...   \n",
       "\t36        0.003184  abs(((x2 * x2) - 604.58484) - (((x1 * x1) + ((...   \n",
       "\t37        0.022662  (22769.266 / (x0 + 545.51263)) + abs(((x2 * x2...   \n",
       "\t38        0.002434  abs(((x2 * x2) - 604.58484) - ((((x1 * x1) + (...   \n",
       "\t39        0.009486  (22769.266 / (x0 + 545.51263)) + abs(((x2 * x2...   \n",
       "\t40        0.000067  (22768.754 / (x0 + 542.1646)) + abs(((((x0 / (...   \n",
       "\t41        0.010979  (22768.754 / (542.1646 + x0)) + abs(((((x0 / (...   \n",
       "\t\n",
       "\t          loss  complexity  \n",
       "\t0   117.525330           1  \n",
       "\t1    98.443630           3  \n",
       "\t2    42.128230           4  \n",
       "\t3    37.373806           5  \n",
       "\t4    31.481035           6  \n",
       "\t5    29.818990           7  \n",
       "\t6    29.750286           9  \n",
       "\t7    29.604094          10  \n",
       "\t8    28.909554          11  \n",
       "\t9    28.909485          12  \n",
       "\t10   28.845990          13  \n",
       "\t11   28.449879          14  \n",
       "\t12   28.284342          15  \n",
       "\t13   27.756748          16  \n",
       "\t14   27.279516          17  \n",
       "\t15   26.939098          18  \n",
       "\t16   25.597898          20  \n",
       "\t17   25.553339          23  \n",
       "\t18   25.297321          25  \n",
       "\t19   23.953709          26  \n",
       "\t20   23.923887          27  \n",
       "\t21   22.534536          28  \n",
       "\t22   22.007050          29  \n",
       "\t23   21.744612          30  \n",
       "\t24   21.592663          31  \n",
       "\t25   21.508364          32  \n",
       "\t26   21.240788          33  \n",
       "\t27   20.295510          34  \n",
       "\t28   18.572195          35  \n",
       "\t29   17.967453          36  \n",
       "\t30   17.750463          38  \n",
       "\t31   17.668322          40  \n",
       "\t32   17.629358          41  \n",
       "\t33   17.601788          42  \n",
       "\t34   17.587784          43  \n",
       "\t35   17.262264          44  \n",
       "\t36   17.207386          45  \n",
       "\t37   16.821812          46  \n",
       "\t38   16.780910          47  \n",
       "\t39   16.622480          48  \n",
       "\t40   16.621370          49  \n",
       "\t41   16.439890          50  \n",
       "]"
      ]
     },
     "execution_count": 11,
     "metadata": {},
     "output_type": "execute_result"
    }
   ],
   "source": [
    "sr_model = PySRRegressor(\n",
    "        niterations=1024,  # Number of iterations to search for equations\n",
    "        binary_operators=[\"+\", \"-\", \"*\", \"/\"],\n",
    "        unary_operators=[\"sin\", \"cos\", \"exp\", \"log\", \"abs\", \"sqrt\"],\n",
    "        elementwise_loss=\"loss(x, y) = (x - y)^2\",  # Define loss function (mean squared error)\n",
    "        verbosity=0,\n",
    "        maxsize=50\n",
    "    )\n",
    "sr_model.fit(X, y_denoised)"
   ]
  },
  {
   "cell_type": "code",
   "execution_count": 22,
   "id": "874c341f",
   "metadata": {},
   "outputs": [],
   "source": [
    "# 20250423_220042_fVG3Ec\n",
    "# Complexity 13\n",
    "candidate_function = generate_candidate_function(\"(23192.168 / (x0 + (564.8633 - x1))) - ((x2 * -80.24144) + 1984.6936)\")"
   ]
  },
  {
   "cell_type": "code",
   "execution_count": 23,
   "id": "cf9ad5a9",
   "metadata": {},
   "outputs": [
    {
     "data": {
      "image/png": "[encoded data removed]",
      "text/plain": [
       "<Figure size 1000x500 with 1 Axes>"
      ]
     },
     "metadata": {},
     "output_type": "display_data"
    }
   ],
   "source": [
    "%matplotlib inline\n",
    "y_denoised = candidate_function(X)\n",
    "plot_histograms([(y, 'Original Price', None), (y_denoised, 'Denoised Price', None)], 'Price', stack=True, figsize_per_plot=(10, 5))"
   ]
  },
  {
   "cell_type": "code",
   "execution_count": 24,
   "id": "6abc90dc",
   "metadata": {},
   "outputs": [
    {
     "data": {
      "text/plain": [
       "<Figure size 640x480 with 0 Axes>"
      ]
     },
     "metadata": {},
     "output_type": "display_data"
    },
    {
     "data": {
      "image/png": "[encoded data removed]",
      "text/plain": [
       "<Figure size 1000x500 with 1 Axes>"
      ]
     },
     "metadata": {},
     "output_type": "display_data"
    }
   ],
   "source": [
    "plot_densities([(y, 'Original Price', 'blue'), (y_denoised, 'Denoised Price', 'green')], 'Price', stack=True, figsize_per_plot=(10, 5))"
   ]
  },
  {
   "cell_type": "code",
   "execution_count": 25,
   "id": "59b48eb1",
   "metadata": {},
   "outputs": [],
   "source": [
    "orig_residuals = y - y_denoised"
   ]
  },
  {
   "cell_type": "code",
   "execution_count": 26,
   "id": "fafbe9db",
   "metadata": {},
   "outputs": [],
   "source": [
    "y_renoised, best_amp, errors, _ = renoise_predictions(y, y_denoised, method='stratified', seed=42, clip_lower=0, clip_upper=None, original_residuals=None, tail_replace=True, lower_percentile=50)\n",
    "# ignore error in orig_residuals after first run"
   ]
  },
  {
   "cell_type": "code",
   "execution_count": 27,
   "id": "23098489",
   "metadata": {},
   "outputs": [
    {
     "data": {
      "image/png": "[encoded data removed]",
      "text/plain": [
       "<Figure size 1000x500 with 1 Axes>"
      ]
     },
     "metadata": {},
     "output_type": "display_data"
    }
   ],
   "source": [
    "plot_histograms([(y, 'Original Price', None), (y_renoised, 'Renoised Price', None)], 'Price', stack=True, figsize_per_plot=(10, 5))"
   ]
  },
  {
   "cell_type": "code",
   "execution_count": 28,
   "id": "1d967cc5",
   "metadata": {},
   "outputs": [
    {
     "data": {
      "text/plain": [
       "<Figure size 640x480 with 0 Axes>"
      ]
     },
     "metadata": {},
     "output_type": "display_data"
    },
    {
     "data": {
      "image/png": "[encoded data removed]",
      "text/plain": [
       "<Figure size 1000x500 with 1 Axes>"
      ]
     },
     "metadata": {},
     "output_type": "display_data"
    }
   ],
   "source": [
    "plot_densities([(y, 'Original Price', 'blue'), (y_renoised, 'Renoised Price', 'green')], 'Price', stack=True, figsize_per_plot=(10, 5))"
   ]
  },
  {
   "cell_type": "code",
   "execution_count": 30,
   "id": "fe948bcc",
   "metadata": {},
   "outputs": [
    {
     "data": {
      "image/png": "[encoded data removed]",
      "text/plain": [
       "<Figure size 1000x500 with 1 Axes>"
      ]
     },
     "metadata": {},
     "output_type": "display_data"
    }
   ],
   "source": [
    "mod_candidate_function = generate_candidate_function(\"(23192.168 / (2*x0 + (564.8633 - x1))) - ((x2 * -80.24144) + 1984.6936)\")\n",
    "mod_y_pred = mod_candidate_function(X)\n",
    "mod_y_pred_corrected, best_amp, errors, _ = renoise_predictions(y, mod_y_pred, method='stratified', amplification_factor=1.0, seed=42, clip_lower=0, clip_upper=None, original_residuals=orig_residuals, tail_replace=True, lower_percentile=50)\n",
    "# ignore error in orig_residuals after first run\n",
    "plot_histograms([(y, 'Original Interest Rate', None), (y_renoised, 'Predicted Renoised Interest Rate', None), (mod_y_pred_corrected, 'Modified Renoised Interest Rate', None)], 'Price', stack=True, figsize_per_plot=(10, 5))"
   ]
  }
 ],
 "metadata": {
  "kernelspec": {
   "display_name": "hyperRealDataDescriber",
   "language": "python",
   "name": "python3"
  },
  "language_info": {
   "codemirror_mode": {
    "name": "ipython",
    "version": 3
   },
   "file_extension": ".py",
   "mimetype": "text/x-python",
   "name": "python",
   "nbconvert_exporter": "python",
   "pygments_lexer": "ipython3",
   "version": "3.11.11"
  }
 },
 "nbformat": 4,
 "nbformat_minor": 5
}
