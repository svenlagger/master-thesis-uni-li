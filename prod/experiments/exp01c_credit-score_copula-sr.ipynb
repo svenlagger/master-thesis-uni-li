{
 "cells": [
  {
   "cell_type": "code",
   "execution_count": 1,
   "id": "2a957c1b",
   "metadata": {},
   "outputs": [
    {
     "name": "stdout",
     "output_type": "stream",
     "text": [
      "Detected IPython. Loading juliacall extension. See https://juliapy.github.io/PythonCall.jl/stable/compat/#IPython\n"
     ]
    }
   ],
   "source": [
    "import sys\n",
    "import os\n",
    "# Add the directory containing 'thesis_utils.py' to the system path\n",
    "sys.path.append(os.path.abspath('..'))  # If 'thesis_utils.py' is one level up\n",
    "# Or use this if it's in the same directory as the notebook:\n",
    "# sys.path.append(os.getcwd())\n",
    "# os.environ[\"JULIA_NUM_THREADS\"] = \"8\" \n",
    "os.environ[\"PYTHON_JULIACALL_HANDLE_SIGNALS\"] = \"yes\"\n",
    "os.environ[\"PYTHON_JULIACALL_THREADS\"] = \"auto\"\n",
    "os.environ[\"PYTHON_JULIACALL_OPTLEVEL\"] = \"3\"\n",
    "from pysr import PySRRegressor\n",
    "import pandas as pd\n",
    "import numpy as np\n",
    "from ydata_profiling import ProfileReport\n",
    "\n",
    "from thesis_utils import *"
   ]
  },
  {
   "cell_type": "code",
   "execution_count": 64,
   "id": "42c93e60",
   "metadata": {},
   "outputs": [],
   "source": [
    "import importlib\n",
    "import thesis_utils  # or whatever your module is called\n",
    "\n",
    "importlib.reload(thesis_utils)\n",
    "\n",
    "from thesis_utils import *"
   ]
  },
  {
   "cell_type": "code",
   "execution_count": 2,
   "id": "4b22ecaa",
   "metadata": {},
   "outputs": [],
   "source": [
    "data = pd.read_csv(\"C:/Users/svenl/vs_code_projects/hyperRealDataDescriber/data/credit_score/cleaned_credit_score_v2.csv\")\n",
    "# remove columns that are not categorical or numerical\n",
    "data = data.drop(['ID', 'Customer_ID', 'Name', 'SSN', 'Type_of_Loan', 'Payment_Behaviour'], axis=1)"
   ]
  },
  {
   "cell_type": "code",
   "execution_count": 3,
   "id": "0ce9ef78",
   "metadata": {},
   "outputs": [
    {
     "data": {
      "application/vnd.jupyter.widget-view+json": {
       "model_id": "8111746bd7a44feea5e7a7adf367759a",
       "version_major": 2,
       "version_minor": 0
      },
      "text/plain": [
       "Summarize dataset:   0%|          | 0/5 [00:00<?, ?it/s]"
      ]
     },
     "metadata": {},
     "output_type": "display_data"
    }
   ],
   "source": [
    "# Generate the profiling report\n",
    "profile_full = ProfileReport(data, title=\"Credit Score Cleaned\", explorative=True)\n",
    "\n",
    "# Get the description object\n",
    "desc_full = profile_full.get_description()\n",
    "\n",
    "# Access the correlation matrix\n",
    "correlation_matrix = desc_full.correlations[\"auto\"]"
   ]
  },
  {
   "cell_type": "code",
   "execution_count": 4,
   "id": "89d79443",
   "metadata": {},
   "outputs": [],
   "source": [
    "categorical_cols = get_categorical_columns(data)\n",
    "distributions = fit_distributions(data)\n",
    "marginals = convert_distfit_to_marginals(distributions, data)"
   ]
  },
  {
   "cell_type": "code",
   "execution_count": 5,
   "id": "16f27bcd",
   "metadata": {},
   "outputs": [],
   "source": [
    "data_syn = generate_synthetic_dataset(original_data=data, correlation_matrix=correlation_matrix, categorical_columns=categorical_cols, marginals=marginals, n_rows=40000, correlation_threshold=0.1, edge_strategy=\"random\", sampling_strategy=\"local-chunks\")"
   ]
  },
  {
   "cell_type": "code",
   "execution_count": 6,
   "id": "d5232b74",
   "metadata": {},
   "outputs": [
    {
     "data": {
      "application/vnd.jupyter.widget-view+json": {
       "model_id": "d52217fe4bcf43338348848478a5d9b0",
       "version_major": 2,
       "version_minor": 0
      },
      "text/plain": [
       "Summarize dataset:   0%|          | 0/5 [00:00<?, ?it/s]"
      ]
     },
     "metadata": {},
     "output_type": "display_data"
    }
   ],
   "source": [
    "# Generate the profiling report\n",
    "profile_syn = ProfileReport(data_syn, title=\"Credit Score Cleaned SYN\", explorative=True)\n",
    "\n",
    "# Get the description object\n",
    "desc_syn = profile_syn.get_description()\n",
    "\n",
    "# Access the correlation matrix\n",
    "correlation_matrix_syn = desc_syn.correlations[\"auto\"]"
   ]
  },
  {
   "cell_type": "code",
   "execution_count": 63,
   "id": "c9962824",
   "metadata": {},
   "outputs": [
    {
     "data": {
      "application/vnd.plotly.v1+json": {
       "config": {
        "plotlyServerURL": "https://plot.ly"
       },
       "data": [
        {
         "colorbar": {
          "len": 0.9,
          "title": {
           "text": "Correlation"
          }
         },
         "colorscale": [
          [
           0,
           "rgb(103,0,31)"
          ],
          [
           0.1,
           "rgb(178,24,43)"
          ],
          [
           0.2,
           "rgb(214,96,77)"
          ],
          [
           0.3,
           "rgb(244,165,130)"
          ],
          [
           0.4,
           "rgb(253,219,199)"
          ],
          [
           0.5,
           "rgb(247,247,247)"
          ],
          [
           0.6,
           "rgb(209,229,240)"
          ],
          [
           0.7,
           "rgb(146,197,222)"
          ],
          [
           0.8,
           "rgb(67,147,195)"
          ],
          [
           0.9,
           "rgb(33,102,172)"
          ],
          [
           1,
           "rgb(5,48,97)"
          ]
         ],
         "hoverongaps": false,
         "hovertemplate": "X: %{x}<br>Y: %{y}<br>Corr: %{z:.2f}<extra></extra>",
         "type": "heatmap",
         "x": [
          "Age",
          "Amount_invested_monthly",
          "Annual_Income",
          "Changed_Credit_Limit",
          "Credit_History_Age",
          "Credit_Mix",
          "Credit_Utilization_Ratio",
          "Delay_from_due_date",
          "Interest_Rate",
          "Month",
          "Monthly_Balance",
          "Monthly_Inhand_Salary",
          "Num_Bank_Accounts",
          "Num_Credit_Card",
          "Num_Credit_Inquiries",
          "Num_of_Delayed_Payment",
          "Num_of_Loan",
          "Occupation",
          "Outstanding_Debt",
          "Payment_of_Min_Amount",
          "Total_EMI_per_month"
         ],
         "xaxis": "x",
         "y": [
          "Age",
          "Amount_invested_monthly",
          "Annual_Income",
          "Changed_Credit_Limit",
          "Credit_History_Age",
          "Credit_Mix",
          "Credit_Utilization_Ratio",
          "Delay_from_due_date",
          "Interest_Rate",
          "Month",
          "Monthly_Balance",
          "Monthly_Inhand_Salary",
          "Num_Bank_Accounts",
          "Num_Credit_Card",
          "Num_Credit_Inquiries",
          "Num_of_Delayed_Payment",
          "Num_of_Loan",
          "Occupation",
          "Outstanding_Debt",
          "Payment_of_Min_Amount",
          "Total_EMI_per_month"
         ],
         "yaxis": "y",
         "z": {
          "bdata": "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",
          "dtype": "f8",
          "shape": "21, 21"
         },
         "zmax": 1,
         "zmin": -1
        },
        {
         "colorscale": [
          [
           0,
           "rgb(103,0,31)"
          ],
          [
           0.1,
           "rgb(178,24,43)"
          ],
          [
           0.2,
           "rgb(214,96,77)"
          ],
          [
           0.3,
           "rgb(244,165,130)"
          ],
          [
           0.4,
           "rgb(253,219,199)"
          ],
          [
           0.5,
           "rgb(247,247,247)"
          ],
          [
           0.6,
           "rgb(209,229,240)"
          ],
          [
           0.7,
           "rgb(146,197,222)"
          ],
          [
           0.8,
           "rgb(67,147,195)"
          ],
          [
           0.9,
           "rgb(33,102,172)"
          ],
          [
           1,
           "rgb(5,48,97)"
          ]
         ],
         "hoverongaps": false,
         "hovertemplate": "X: %{x}<br>Y: %{y}<br>Corr: %{z:.2f}<extra></extra>",
         "showscale": false,
         "type": "heatmap",
         "x": [
          "Age",
          "Amount_invested_monthly",
          "Annual_Income",
          "Changed_Credit_Limit",
          "Credit_History_Age",
          "Credit_Mix",
          "Credit_Utilization_Ratio",
          "Delay_from_due_date",
          "Interest_Rate",
          "Month",
          "Monthly_Balance",
          "Monthly_Inhand_Salary",
          "Num_Bank_Accounts",
          "Num_Credit_Card",
          "Num_Credit_Inquiries",
          "Num_of_Delayed_Payment",
          "Num_of_Loan",
          "Occupation",
          "Outstanding_Debt",
          "Payment_of_Min_Amount",
          "Total_EMI_per_month"
         ],
         "xaxis": "x2",
         "y": [
          "Age",
          "Amount_invested_monthly",
          "Annual_Income",
          "Changed_Credit_Limit",
          "Credit_History_Age",
          "Credit_Mix",
          "Credit_Utilization_Ratio",
          "Delay_from_due_date",
          "Interest_Rate",
          "Month",
          "Monthly_Balance",
          "Monthly_Inhand_Salary",
          "Num_Bank_Accounts",
          "Num_Credit_Card",
          "Num_Credit_Inquiries",
          "Num_of_Delayed_Payment",
          "Num_of_Loan",
          "Occupation",
          "Outstanding_Debt",
          "Payment_of_Min_Amount",
          "Total_EMI_per_month"
         ],
         "yaxis": "y2",
         "z": {
          "bdata": "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",
          "dtype": "f8",
          "shape": "21, 21"
         },
         "zmax": 1,
         "zmin": -1
        }
       ],
       "layout": {
        "annotations": [
         {
          "font": {
           "size": 16
          },
          "showarrow": false,
          "text": "Real",
          "x": 0.2,
          "xanchor": "center",
          "xref": "paper",
          "y": 1,
          "yanchor": "bottom",
          "yref": "paper"
         },
         {
          "font": {
           "size": 16
          },
          "showarrow": false,
          "text": "Synthetic",
          "x": 0.8,
          "xanchor": "center",
          "xref": "paper",
          "y": 1,
          "yanchor": "bottom",
          "yref": "paper"
         }
        ],
        "height": 800,
        "showlegend": false,
        "template": {
         "data": {
          "bar": [
           {
            "error_x": {
             "color": "#2a3f5f"
            },
            "error_y": {
             "color": "#2a3f5f"
            },
            "marker": {
             "line": {
              "color": "#E5ECF6",
              "width": 0.5
             },
             "pattern": {
              "fillmode": "overlay",
              "size": 10,
              "solidity": 0.2
             }
            },
            "type": "bar"
           }
          ],
          "barpolar": [
           {
            "marker": {
             "line": {
              "color": "#E5ECF6",
              "width": 0.5
             },
             "pattern": {
              "fillmode": "overlay",
              "size": 10,
              "solidity": 0.2
             }
            },
            "type": "barpolar"
           }
          ],
          "carpet": [
           {
            "aaxis": {
             "endlinecolor": "#2a3f5f",
             "gridcolor": "white",
             "linecolor": "white",
             "minorgridcolor": "white",
             "startlinecolor": "#2a3f5f"
            },
            "baxis": {
             "endlinecolor": "#2a3f5f",
             "gridcolor": "white",
             "linecolor": "white",
             "minorgridcolor": "white",
             "startlinecolor": "#2a3f5f"
            },
            "type": "carpet"
           }
          ],
          "choropleth": [
           {
            "colorbar": {
             "outlinewidth": 0,
             "ticks": ""
            },
            "type": "choropleth"
           }
          ],
          "contour": [
           {
            "colorbar": {
             "outlinewidth": 0,
             "ticks": ""
            },
            "colorscale": [
             [
              0,
              "#0d0887"
             ],
             [
              0.1111111111111111,
              "#46039f"
             ],
             [
              0.2222222222222222,
              "#7201a8"
             ],
             [
              0.3333333333333333,
              "#9c179e"
             ],
             [
              0.4444444444444444,
              "#bd3786"
             ],
             [
              0.5555555555555556,
              "#d8576b"
             ],
             [
              0.6666666666666666,
              "#ed7953"
             ],
             [
              0.7777777777777778,
              "#fb9f3a"
             ],
             [
              0.8888888888888888,
              "#fdca26"
             ],
             [
              1,
              "#f0f921"
             ]
            ],
            "type": "contour"
           }
          ],
          "contourcarpet": [
           {
            "colorbar": {
             "outlinewidth": 0,
             "ticks": ""
            },
            "type": "contourcarpet"
           }
          ],
          "heatmap": [
           {
            "colorbar": {
             "outlinewidth": 0,
             "ticks": ""
            },
            "colorscale": [
             [
              0,
              "#0d0887"
             ],
             [
              0.1111111111111111,
              "#46039f"
             ],
             [
              0.2222222222222222,
              "#7201a8"
             ],
             [
              0.3333333333333333,
              "#9c179e"
             ],
             [
              0.4444444444444444,
              "#bd3786"
             ],
             [
              0.5555555555555556,
              "#d8576b"
             ],
             [
              0.6666666666666666,
              "#ed7953"
             ],
             [
              0.7777777777777778,
              "#fb9f3a"
             ],
             [
              0.8888888888888888,
              "#fdca26"
             ],
             [
              1,
              "#f0f921"
             ]
            ],
            "type": "heatmap"
           }
          ],
          "histogram": [
           {
            "marker": {
             "pattern": {
              "fillmode": "overlay",
              "size": 10,
              "solidity": 0.2
             }
            },
            "type": "histogram"
           }
          ],
          "histogram2d": [
           {
            "colorbar": {
             "outlinewidth": 0,
             "ticks": ""
            },
            "colorscale": [
             [
              0,
              "#0d0887"
             ],
             [
              0.1111111111111111,
              "#46039f"
             ],
             [
              0.2222222222222222,
              "#7201a8"
             ],
             [
              0.3333333333333333,
              "#9c179e"
             ],
             [
              0.4444444444444444,
              "#bd3786"
             ],
             [
              0.5555555555555556,
              "#d8576b"
             ],
             [
              0.6666666666666666,
              "#ed7953"
             ],
             [
              0.7777777777777778,
              "#fb9f3a"
             ],
             [
              0.8888888888888888,
              "#fdca26"
             ],
             [
              1,
              "#f0f921"
             ]
            ],
            "type": "histogram2d"
           }
          ],
          "histogram2dcontour": [
           {
            "colorbar": {
             "outlinewidth": 0,
             "ticks": ""
            },
            "colorscale": [
             [
              0,
              "#0d0887"
             ],
             [
              0.1111111111111111,
              "#46039f"
             ],
             [
              0.2222222222222222,
              "#7201a8"
             ],
             [
              0.3333333333333333,
              "#9c179e"
             ],
             [
              0.4444444444444444,
              "#bd3786"
             ],
             [
              0.5555555555555556,
              "#d8576b"
             ],
             [
              0.6666666666666666,
              "#ed7953"
             ],
             [
              0.7777777777777778,
              "#fb9f3a"
             ],
             [
              0.8888888888888888,
              "#fdca26"
             ],
             [
              1,
              "#f0f921"
             ]
            ],
            "type": "histogram2dcontour"
           }
          ],
          "mesh3d": [
           {
            "colorbar": {
             "outlinewidth": 0,
             "ticks": ""
            },
            "type": "mesh3d"
           }
          ],
          "parcoords": [
           {
            "line": {
             "colorbar": {
              "outlinewidth": 0,
              "ticks": ""
             }
            },
            "type": "parcoords"
           }
          ],
          "pie": [
           {
            "automargin": true,
            "type": "pie"
           }
          ],
          "scatter": [
           {
            "fillpattern": {
             "fillmode": "overlay",
             "size": 10,
             "solidity": 0.2
            },
            "type": "scatter"
           }
          ],
          "scatter3d": [
           {
            "line": {
             "colorbar": {
              "outlinewidth": 0,
              "ticks": ""
             }
            },
            "marker": {
             "colorbar": {
              "outlinewidth": 0,
              "ticks": ""
             }
            },
            "type": "scatter3d"
           }
          ],
          "scattercarpet": [
           {
            "marker": {
             "colorbar": {
              "outlinewidth": 0,
              "ticks": ""
             }
            },
            "type": "scattercarpet"
           }
          ],
          "scattergeo": [
           {
            "marker": {
             "colorbar": {
              "outlinewidth": 0,
              "ticks": ""
             }
            },
            "type": "scattergeo"
           }
          ],
          "scattergl": [
           {
            "marker": {
             "colorbar": {
              "outlinewidth": 0,
              "ticks": ""
             }
            },
            "type": "scattergl"
           }
          ],
          "scattermap": [
           {
            "marker": {
             "colorbar": {
              "outlinewidth": 0,
              "ticks": ""
             }
            },
            "type": "scattermap"
           }
          ],
          "scattermapbox": [
           {
            "marker": {
             "colorbar": {
              "outlinewidth": 0,
              "ticks": ""
             }
            },
            "type": "scattermapbox"
           }
          ],
          "scatterpolar": [
           {
            "marker": {
             "colorbar": {
              "outlinewidth": 0,
              "ticks": ""
             }
            },
            "type": "scatterpolar"
           }
          ],
          "scatterpolargl": [
           {
            "marker": {
             "colorbar": {
              "outlinewidth": 0,
              "ticks": ""
             }
            },
            "type": "scatterpolargl"
           }
          ],
          "scatterternary": [
           {
            "marker": {
             "colorbar": {
              "outlinewidth": 0,
              "ticks": ""
             }
            },
            "type": "scatterternary"
           }
          ],
          "surface": [
           {
            "colorbar": {
             "outlinewidth": 0,
             "ticks": ""
            },
            "colorscale": [
             [
              0,
              "#0d0887"
             ],
             [
              0.1111111111111111,
              "#46039f"
             ],
             [
              0.2222222222222222,
              "#7201a8"
             ],
             [
              0.3333333333333333,
              "#9c179e"
             ],
             [
              0.4444444444444444,
              "#bd3786"
             ],
             [
              0.5555555555555556,
              "#d8576b"
             ],
             [
              0.6666666666666666,
              "#ed7953"
             ],
             [
              0.7777777777777778,
              "#fb9f3a"
             ],
             [
              0.8888888888888888,
              "#fdca26"
             ],
             [
              1,
              "#f0f921"
             ]
            ],
            "type": "surface"
           }
          ],
          "table": [
           {
            "cells": {
             "fill": {
              "color": "#EBF0F8"
             },
             "line": {
              "color": "white"
             }
            },
            "header": {
             "fill": {
              "color": "#C8D4E3"
             },
             "line": {
              "color": "white"
             }
            },
            "type": "table"
           }
          ]
         },
         "layout": {
          "annotationdefaults": {
           "arrowcolor": "#2a3f5f",
           "arrowhead": 0,
           "arrowwidth": 1
          },
          "autotypenumbers": "strict",
          "coloraxis": {
           "colorbar": {
            "outlinewidth": 0,
            "ticks": ""
           }
          },
          "colorscale": {
           "diverging": [
            [
             0,
             "#8e0152"
            ],
            [
             0.1,
             "#c51b7d"
            ],
            [
             0.2,
             "#de77ae"
            ],
            [
             0.3,
             "#f1b6da"
            ],
            [
             0.4,
             "#fde0ef"
            ],
            [
             0.5,
             "#f7f7f7"
            ],
            [
             0.6,
             "#e6f5d0"
            ],
            [
             0.7,
             "#b8e186"
            ],
            [
             0.8,
             "#7fbc41"
            ],
            [
             0.9,
             "#4d9221"
            ],
            [
             1,
             "#276419"
            ]
           ],
           "sequential": [
            [
             0,
             "#0d0887"
            ],
            [
             0.1111111111111111,
             "#46039f"
            ],
            [
             0.2222222222222222,
             "#7201a8"
            ],
            [
             0.3333333333333333,
             "#9c179e"
            ],
            [
             0.4444444444444444,
             "#bd3786"
            ],
            [
             0.5555555555555556,
             "#d8576b"
            ],
            [
             0.6666666666666666,
             "#ed7953"
            ],
            [
             0.7777777777777778,
             "#fb9f3a"
            ],
            [
             0.8888888888888888,
             "#fdca26"
            ],
            [
             1,
             "#f0f921"
            ]
           ],
           "sequentialminus": [
            [
             0,
             "#0d0887"
            ],
            [
             0.1111111111111111,
             "#46039f"
            ],
            [
             0.2222222222222222,
             "#7201a8"
            ],
            [
             0.3333333333333333,
             "#9c179e"
            ],
            [
             0.4444444444444444,
             "#bd3786"
            ],
            [
             0.5555555555555556,
             "#d8576b"
            ],
            [
             0.6666666666666666,
             "#ed7953"
            ],
            [
             0.7777777777777778,
             "#fb9f3a"
            ],
            [
             0.8888888888888888,
             "#fdca26"
            ],
            [
             1,
             "#f0f921"
            ]
           ]
          },
          "colorway": [
           "#636efa",
           "#EF553B",
           "#00cc96",
           "#ab63fa",
           "#FFA15A",
           "#19d3f3",
           "#FF6692",
           "#B6E880",
           "#FF97FF",
           "#FECB52"
          ],
          "font": {
           "color": "#2a3f5f"
          },
          "geo": {
           "bgcolor": "white",
           "lakecolor": "white",
           "landcolor": "#E5ECF6",
           "showlakes": true,
           "showland": true,
           "subunitcolor": "white"
          },
          "hoverlabel": {
           "align": "left"
          },
          "hovermode": "closest",
          "mapbox": {
           "style": "light"
          },
          "paper_bgcolor": "white",
          "plot_bgcolor": "#E5ECF6",
          "polar": {
           "angularaxis": {
            "gridcolor": "white",
            "linecolor": "white",
            "ticks": ""
           },
           "bgcolor": "#E5ECF6",
           "radialaxis": {
            "gridcolor": "white",
            "linecolor": "white",
            "ticks": ""
           }
          },
          "scene": {
           "xaxis": {
            "backgroundcolor": "#E5ECF6",
            "gridcolor": "white",
            "gridwidth": 2,
            "linecolor": "white",
            "showbackground": true,
            "ticks": "",
            "zerolinecolor": "white"
           },
           "yaxis": {
            "backgroundcolor": "#E5ECF6",
            "gridcolor": "white",
            "gridwidth": 2,
            "linecolor": "white",
            "showbackground": true,
            "ticks": "",
            "zerolinecolor": "white"
           },
           "zaxis": {
            "backgroundcolor": "#E5ECF6",
            "gridcolor": "white",
            "gridwidth": 2,
            "linecolor": "white",
            "showbackground": true,
            "ticks": "",
            "zerolinecolor": "white"
           }
          },
          "shapedefaults": {
           "line": {
            "color": "#2a3f5f"
           }
          },
          "ternary": {
           "aaxis": {
            "gridcolor": "white",
            "linecolor": "white",
            "ticks": ""
           },
           "baxis": {
            "gridcolor": "white",
            "linecolor": "white",
            "ticks": ""
           },
           "bgcolor": "#E5ECF6",
           "caxis": {
            "gridcolor": "white",
            "linecolor": "white",
            "ticks": ""
           }
          },
          "title": {
           "x": 0.05
          },
          "xaxis": {
           "automargin": true,
           "gridcolor": "white",
           "linecolor": "white",
           "ticks": "",
           "title": {
            "standoff": 15
           },
           "zerolinecolor": "white",
           "zerolinewidth": 2
          },
          "yaxis": {
           "automargin": true,
           "gridcolor": "white",
           "linecolor": "white",
           "ticks": "",
           "title": {
            "standoff": 15
           },
           "zerolinecolor": "white",
           "zerolinewidth": 2
          }
         }
        },
        "title": {
         "text": "Comparison of Correlation Matrices"
        },
        "width": 1400,
        "xaxis": {
         "anchor": "y",
         "domain": [
          0,
          0.4
         ]
        },
        "xaxis2": {
         "anchor": "y2",
         "domain": [
          0.6000000000000001,
          1
         ]
        },
        "yaxis": {
         "anchor": "x",
         "domain": [
          0,
          1
         ]
        },
        "yaxis2": {
         "anchor": "x2",
         "domain": [
          0,
          1
         ]
        }
       }
      }
     },
     "metadata": {},
     "output_type": "display_data"
    }
   ],
   "source": [
    "plot_correlation_matrices(correlation_matrix, correlation_matrix_syn, \"Real\", \"Synthetic\")"
   ]
  },
  {
   "cell_type": "code",
   "execution_count": 32,
   "id": "a7575939",
   "metadata": {},
   "outputs": [
    {
     "name": "stdout",
     "output_type": "stream",
     "text": [
      "Generating report ...\n",
      "\n",
      "(1/2) Evaluating Column Shapes: |██████████| 21/21 [00:00<00:00, 38.07it/s]|\n",
      "Column Shapes Score: 93.81%\n",
      "\n",
      "(2/2) Evaluating Column Pair Trends: |██████████| 210/210 [00:01<00:00, 117.18it/s]|\n",
      "Column Pair Trends Score: 91.69%\n",
      "\n",
      "Overall Score (Average): 92.75%\n",
      "\n"
     ]
    }
   ],
   "source": [
    "from sdmetrics.reports.single_table import QualityReport\n",
    "\n",
    "data_syn = data_syn[data.columns.to_list()]\n",
    "\n",
    "metadata = {\n",
    "    \"columns\": {\n",
    "        \"Month\": {\"sdtype\": \"categorical\"},\n",
    "        \"Age\": {\"sdtype\": \"numerical\"},\n",
    "        \"Occupation\": {\"sdtype\": \"categorical\"},\n",
    "        \"Annual_Income\": {\"sdtype\": \"numerical\"},\n",
    "        \"Monthly_Inhand_Salary\": {\"sdtype\": \"numerical\"},\n",
    "        \"Num_Bank_Accounts\": {\"sdtype\": \"numerical\"},\n",
    "        \"Num_Credit_Card\": {\"sdtype\": \"numerical\"},\n",
    "        \"Interest_Rate\": {\"sdtype\": \"numerical\"},\n",
    "        \"Num_of_Loan\": {\"sdtype\": \"numerical\"},\n",
    "        \"Delay_from_due_date\": {\"sdtype\": \"numerical\"},\n",
    "        \"Num_of_Delayed_Payment\": {\"sdtype\": \"numerical\"},\n",
    "        \"Changed_Credit_Limit\": {\"sdtype\": \"numerical\"},\n",
    "        \"Num_Credit_Inquiries\": {\"sdtype\": \"numerical\"},\n",
    "        \"Credit_Mix\": {\"sdtype\": \"categorical\"},\n",
    "        \"Outstanding_Debt\": {\"sdtype\": \"numerical\"},\n",
    "        \"Credit_Utilization_Ratio\": {\"sdtype\": \"numerical\"},\n",
    "        \"Credit_History_Age\": {\"sdtype\": \"numerical\"},\n",
    "        \"Payment_of_Min_Amount\": {\"sdtype\": \"categorical\"},\n",
    "        \"Total_EMI_per_month\": {\"sdtype\": \"numerical\"},\n",
    "        \"Amount_invested_monthly\": {\"sdtype\": \"numerical\"},\n",
    "        \"Monthly_Balance\": {\"sdtype\": \"numerical\"},\n",
    "    }\n",
    "}\n",
    "\n",
    "report = QualityReport()\n",
    "report.generate(data, data_syn, metadata)"
   ]
  },
  {
   "cell_type": "code",
   "execution_count": 34,
   "id": "d6fc964f",
   "metadata": {},
   "outputs": [],
   "source": [
    "data_sample = data_syn.sample(n=9600, random_state=42)\n",
    "# variable assignment according to correlation structure\n",
    "independents_lst = ['Credit_History_Age', 'Delay_from_due_date', 'Num_Bank_Accounts', 'Num_Credit_Inquiries', 'Num_of_Delayed_Payment', 'Outstanding_Debt']\n",
    "dependent_var = 'Interest_Rate'\n",
    "X = data_sample[independents_lst].to_numpy()\n",
    "y = data_sample[dependent_var].to_numpy()\n",
    "data_sample = data_sample.reset_index()"
   ]
  },
  {
   "cell_type": "code",
   "execution_count": 35,
   "id": "2d08dc25",
   "metadata": {},
   "outputs": [
    {
     "data": {
      "text/html": [
       "<style>#sk-container-id-1 {\n",
       "  /* Definition of color scheme common for light and dark mode */\n",
       "  --sklearn-color-text: #000;\n",
       "  --sklearn-color-text-muted: #666;\n",
       "  --sklearn-color-line: gray;\n",
       "  /* Definition of color scheme for unfitted estimators */\n",
       "  --sklearn-color-unfitted-level-0: #fff5e6;\n",
       "  --sklearn-color-unfitted-level-1: #f6e4d2;\n",
       "  --sklearn-color-unfitted-level-2: #ffe0b3;\n",
       "  --sklearn-color-unfitted-level-3: chocolate;\n",
       "  /* Definition of color scheme for fitted estimators */\n",
       "  --sklearn-color-fitted-level-0: #f0f8ff;\n",
       "  --sklearn-color-fitted-level-1: #d4ebff;\n",
       "  --sklearn-color-fitted-level-2: #b3dbfd;\n",
       "  --sklearn-color-fitted-level-3: cornflowerblue;\n",
       "\n",
       "  /* Specific color for light theme */\n",
       "  --sklearn-color-text-on-default-background: var(--sg-text-color, var(--theme-code-foreground, var(--jp-content-font-color1, black)));\n",
       "  --sklearn-color-background: var(--sg-background-color, var(--theme-background, var(--jp-layout-color0, white)));\n",
       "  --sklearn-color-border-box: var(--sg-text-color, var(--theme-code-foreground, var(--jp-content-font-color1, black)));\n",
       "  --sklearn-color-icon: #696969;\n",
       "\n",
       "  @media (prefers-color-scheme: dark) {\n",
       "    /* Redefinition of color scheme for dark theme */\n",
       "    --sklearn-color-text-on-default-background: var(--sg-text-color, var(--theme-code-foreground, var(--jp-content-font-color1, white)));\n",
       "    --sklearn-color-background: var(--sg-background-color, var(--theme-background, var(--jp-layout-color0, #111)));\n",
       "    --sklearn-color-border-box: var(--sg-text-color, var(--theme-code-foreground, var(--jp-content-font-color1, white)));\n",
       "    --sklearn-color-icon: #878787;\n",
       "  }\n",
       "}\n",
       "\n",
       "#sk-container-id-1 {\n",
       "  color: var(--sklearn-color-text);\n",
       "}\n",
       "\n",
       "#sk-container-id-1 pre {\n",
       "  padding: 0;\n",
       "}\n",
       "\n",
       "#sk-container-id-1 input.sk-hidden--visually {\n",
       "  border: 0;\n",
       "  clip: rect(1px 1px 1px 1px);\n",
       "  clip: rect(1px, 1px, 1px, 1px);\n",
       "  height: 1px;\n",
       "  margin: -1px;\n",
       "  overflow: hidden;\n",
       "  padding: 0;\n",
       "  position: absolute;\n",
       "  width: 1px;\n",
       "}\n",
       "\n",
       "#sk-container-id-1 div.sk-dashed-wrapped {\n",
       "  border: 1px dashed var(--sklearn-color-line);\n",
       "  margin: 0 0.4em 0.5em 0.4em;\n",
       "  box-sizing: border-box;\n",
       "  padding-bottom: 0.4em;\n",
       "  background-color: var(--sklearn-color-background);\n",
       "}\n",
       "\n",
       "#sk-container-id-1 div.sk-container {\n",
       "  /* jupyter's `normalize.less` sets `[hidden] { display: none; }`\n",
       "     but bootstrap.min.css set `[hidden] { display: none !important; }`\n",
       "     so we also need the `!important` here to be able to override the\n",
       "     default hidden behavior on the sphinx rendered scikit-learn.org.\n",
       "     See: https://github.com/scikit-learn/scikit-learn/issues/21755 */\n",
       "  display: inline-block !important;\n",
       "  position: relative;\n",
       "}\n",
       "\n",
       "#sk-container-id-1 div.sk-text-repr-fallback {\n",
       "  display: none;\n",
       "}\n",
       "\n",
       "div.sk-parallel-item,\n",
       "div.sk-serial,\n",
       "div.sk-item {\n",
       "  /* draw centered vertical line to link estimators */\n",
       "  background-image: linear-gradient(var(--sklearn-color-text-on-default-background), var(--sklearn-color-text-on-default-background));\n",
       "  background-size: 2px 100%;\n",
       "  background-repeat: no-repeat;\n",
       "  background-position: center center;\n",
       "}\n",
       "\n",
       "/* Parallel-specific style estimator block */\n",
       "\n",
       "#sk-container-id-1 div.sk-parallel-item::after {\n",
       "  content: \"\";\n",
       "  width: 100%;\n",
       "  border-bottom: 2px solid var(--sklearn-color-text-on-default-background);\n",
       "  flex-grow: 1;\n",
       "}\n",
       "\n",
       "#sk-container-id-1 div.sk-parallel {\n",
       "  display: flex;\n",
       "  align-items: stretch;\n",
       "  justify-content: center;\n",
       "  background-color: var(--sklearn-color-background);\n",
       "  position: relative;\n",
       "}\n",
       "\n",
       "#sk-container-id-1 div.sk-parallel-item {\n",
       "  display: flex;\n",
       "  flex-direction: column;\n",
       "}\n",
       "\n",
       "#sk-container-id-1 div.sk-parallel-item:first-child::after {\n",
       "  align-self: flex-end;\n",
       "  width: 50%;\n",
       "}\n",
       "\n",
       "#sk-container-id-1 div.sk-parallel-item:last-child::after {\n",
       "  align-self: flex-start;\n",
       "  width: 50%;\n",
       "}\n",
       "\n",
       "#sk-container-id-1 div.sk-parallel-item:only-child::after {\n",
       "  width: 0;\n",
       "}\n",
       "\n",
       "/* Serial-specific style estimator block */\n",
       "\n",
       "#sk-container-id-1 div.sk-serial {\n",
       "  display: flex;\n",
       "  flex-direction: column;\n",
       "  align-items: center;\n",
       "  background-color: var(--sklearn-color-background);\n",
       "  padding-right: 1em;\n",
       "  padding-left: 1em;\n",
       "}\n",
       "\n",
       "\n",
       "/* Toggleable style: style used for estimator/Pipeline/ColumnTransformer box that is\n",
       "clickable and can be expanded/collapsed.\n",
       "- Pipeline and ColumnTransformer use this feature and define the default style\n",
       "- Estimators will overwrite some part of the style using the `sk-estimator` class\n",
       "*/\n",
       "\n",
       "/* Pipeline and ColumnTransformer style (default) */\n",
       "\n",
       "#sk-container-id-1 div.sk-toggleable {\n",
       "  /* Default theme specific background. It is overwritten whether we have a\n",
       "  specific estimator or a Pipeline/ColumnTransformer */\n",
       "  background-color: var(--sklearn-color-background);\n",
       "}\n",
       "\n",
       "/* Toggleable label */\n",
       "#sk-container-id-1 label.sk-toggleable__label {\n",
       "  cursor: pointer;\n",
       "  display: flex;\n",
       "  width: 100%;\n",
       "  margin-bottom: 0;\n",
       "  padding: 0.5em;\n",
       "  box-sizing: border-box;\n",
       "  text-align: center;\n",
       "  align-items: start;\n",
       "  justify-content: space-between;\n",
       "  gap: 0.5em;\n",
       "}\n",
       "\n",
       "#sk-container-id-1 label.sk-toggleable__label .caption {\n",
       "  font-size: 0.6rem;\n",
       "  font-weight: lighter;\n",
       "  color: var(--sklearn-color-text-muted);\n",
       "}\n",
       "\n",
       "#sk-container-id-1 label.sk-toggleable__label-arrow:before {\n",
       "  /* Arrow on the left of the label */\n",
       "  content: \"▸\";\n",
       "  float: left;\n",
       "  margin-right: 0.25em;\n",
       "  color: var(--sklearn-color-icon);\n",
       "}\n",
       "\n",
       "#sk-container-id-1 label.sk-toggleable__label-arrow:hover:before {\n",
       "  color: var(--sklearn-color-text);\n",
       "}\n",
       "\n",
       "/* Toggleable content - dropdown */\n",
       "\n",
       "#sk-container-id-1 div.sk-toggleable__content {\n",
       "  max-height: 0;\n",
       "  max-width: 0;\n",
       "  overflow: hidden;\n",
       "  text-align: left;\n",
       "  /* unfitted */\n",
       "  background-color: var(--sklearn-color-unfitted-level-0);\n",
       "}\n",
       "\n",
       "#sk-container-id-1 div.sk-toggleable__content.fitted {\n",
       "  /* fitted */\n",
       "  background-color: var(--sklearn-color-fitted-level-0);\n",
       "}\n",
       "\n",
       "#sk-container-id-1 div.sk-toggleable__content pre {\n",
       "  margin: 0.2em;\n",
       "  border-radius: 0.25em;\n",
       "  color: var(--sklearn-color-text);\n",
       "  /* unfitted */\n",
       "  background-color: var(--sklearn-color-unfitted-level-0);\n",
       "}\n",
       "\n",
       "#sk-container-id-1 div.sk-toggleable__content.fitted pre {\n",
       "  /* unfitted */\n",
       "  background-color: var(--sklearn-color-fitted-level-0);\n",
       "}\n",
       "\n",
       "#sk-container-id-1 input.sk-toggleable__control:checked~div.sk-toggleable__content {\n",
       "  /* Expand drop-down */\n",
       "  max-height: 200px;\n",
       "  max-width: 100%;\n",
       "  overflow: auto;\n",
       "}\n",
       "\n",
       "#sk-container-id-1 input.sk-toggleable__control:checked~label.sk-toggleable__label-arrow:before {\n",
       "  content: \"▾\";\n",
       "}\n",
       "\n",
       "/* Pipeline/ColumnTransformer-specific style */\n",
       "\n",
       "#sk-container-id-1 div.sk-label input.sk-toggleable__control:checked~label.sk-toggleable__label {\n",
       "  color: var(--sklearn-color-text);\n",
       "  background-color: var(--sklearn-color-unfitted-level-2);\n",
       "}\n",
       "\n",
       "#sk-container-id-1 div.sk-label.fitted input.sk-toggleable__control:checked~label.sk-toggleable__label {\n",
       "  background-color: var(--sklearn-color-fitted-level-2);\n",
       "}\n",
       "\n",
       "/* Estimator-specific style */\n",
       "\n",
       "/* Colorize estimator box */\n",
       "#sk-container-id-1 div.sk-estimator input.sk-toggleable__control:checked~label.sk-toggleable__label {\n",
       "  /* unfitted */\n",
       "  background-color: var(--sklearn-color-unfitted-level-2);\n",
       "}\n",
       "\n",
       "#sk-container-id-1 div.sk-estimator.fitted input.sk-toggleable__control:checked~label.sk-toggleable__label {\n",
       "  /* fitted */\n",
       "  background-color: var(--sklearn-color-fitted-level-2);\n",
       "}\n",
       "\n",
       "#sk-container-id-1 div.sk-label label.sk-toggleable__label,\n",
       "#sk-container-id-1 div.sk-label label {\n",
       "  /* The background is the default theme color */\n",
       "  color: var(--sklearn-color-text-on-default-background);\n",
       "}\n",
       "\n",
       "/* On hover, darken the color of the background */\n",
       "#sk-container-id-1 div.sk-label:hover label.sk-toggleable__label {\n",
       "  color: var(--sklearn-color-text);\n",
       "  background-color: var(--sklearn-color-unfitted-level-2);\n",
       "}\n",
       "\n",
       "/* Label box, darken color on hover, fitted */\n",
       "#sk-container-id-1 div.sk-label.fitted:hover label.sk-toggleable__label.fitted {\n",
       "  color: var(--sklearn-color-text);\n",
       "  background-color: var(--sklearn-color-fitted-level-2);\n",
       "}\n",
       "\n",
       "/* Estimator label */\n",
       "\n",
       "#sk-container-id-1 div.sk-label label {\n",
       "  font-family: monospace;\n",
       "  font-weight: bold;\n",
       "  display: inline-block;\n",
       "  line-height: 1.2em;\n",
       "}\n",
       "\n",
       "#sk-container-id-1 div.sk-label-container {\n",
       "  text-align: center;\n",
       "}\n",
       "\n",
       "/* Estimator-specific */\n",
       "#sk-container-id-1 div.sk-estimator {\n",
       "  font-family: monospace;\n",
       "  border: 1px dotted var(--sklearn-color-border-box);\n",
       "  border-radius: 0.25em;\n",
       "  box-sizing: border-box;\n",
       "  margin-bottom: 0.5em;\n",
       "  /* unfitted */\n",
       "  background-color: var(--sklearn-color-unfitted-level-0);\n",
       "}\n",
       "\n",
       "#sk-container-id-1 div.sk-estimator.fitted {\n",
       "  /* fitted */\n",
       "  background-color: var(--sklearn-color-fitted-level-0);\n",
       "}\n",
       "\n",
       "/* on hover */\n",
       "#sk-container-id-1 div.sk-estimator:hover {\n",
       "  /* unfitted */\n",
       "  background-color: var(--sklearn-color-unfitted-level-2);\n",
       "}\n",
       "\n",
       "#sk-container-id-1 div.sk-estimator.fitted:hover {\n",
       "  /* fitted */\n",
       "  background-color: var(--sklearn-color-fitted-level-2);\n",
       "}\n",
       "\n",
       "/* Specification for estimator info (e.g. \"i\" and \"?\") */\n",
       "\n",
       "/* Common style for \"i\" and \"?\" */\n",
       "\n",
       ".sk-estimator-doc-link,\n",
       "a:link.sk-estimator-doc-link,\n",
       "a:visited.sk-estimator-doc-link {\n",
       "  float: right;\n",
       "  font-size: smaller;\n",
       "  line-height: 1em;\n",
       "  font-family: monospace;\n",
       "  background-color: var(--sklearn-color-background);\n",
       "  border-radius: 1em;\n",
       "  height: 1em;\n",
       "  width: 1em;\n",
       "  text-decoration: none !important;\n",
       "  margin-left: 0.5em;\n",
       "  text-align: center;\n",
       "  /* unfitted */\n",
       "  border: var(--sklearn-color-unfitted-level-1) 1pt solid;\n",
       "  color: var(--sklearn-color-unfitted-level-1);\n",
       "}\n",
       "\n",
       ".sk-estimator-doc-link.fitted,\n",
       "a:link.sk-estimator-doc-link.fitted,\n",
       "a:visited.sk-estimator-doc-link.fitted {\n",
       "  /* fitted */\n",
       "  border: var(--sklearn-color-fitted-level-1) 1pt solid;\n",
       "  color: var(--sklearn-color-fitted-level-1);\n",
       "}\n",
       "\n",
       "/* On hover */\n",
       "div.sk-estimator:hover .sk-estimator-doc-link:hover,\n",
       ".sk-estimator-doc-link:hover,\n",
       "div.sk-label-container:hover .sk-estimator-doc-link:hover,\n",
       ".sk-estimator-doc-link:hover {\n",
       "  /* unfitted */\n",
       "  background-color: var(--sklearn-color-unfitted-level-3);\n",
       "  color: var(--sklearn-color-background);\n",
       "  text-decoration: none;\n",
       "}\n",
       "\n",
       "div.sk-estimator.fitted:hover .sk-estimator-doc-link.fitted:hover,\n",
       ".sk-estimator-doc-link.fitted:hover,\n",
       "div.sk-label-container:hover .sk-estimator-doc-link.fitted:hover,\n",
       ".sk-estimator-doc-link.fitted:hover {\n",
       "  /* fitted */\n",
       "  background-color: var(--sklearn-color-fitted-level-3);\n",
       "  color: var(--sklearn-color-background);\n",
       "  text-decoration: none;\n",
       "}\n",
       "\n",
       "/* Span, style for the box shown on hovering the info icon */\n",
       ".sk-estimator-doc-link span {\n",
       "  display: none;\n",
       "  z-index: 9999;\n",
       "  position: relative;\n",
       "  font-weight: normal;\n",
       "  right: .2ex;\n",
       "  padding: .5ex;\n",
       "  margin: .5ex;\n",
       "  width: min-content;\n",
       "  min-width: 20ex;\n",
       "  max-width: 50ex;\n",
       "  color: var(--sklearn-color-text);\n",
       "  box-shadow: 2pt 2pt 4pt #999;\n",
       "  /* unfitted */\n",
       "  background: var(--sklearn-color-unfitted-level-0);\n",
       "  border: .5pt solid var(--sklearn-color-unfitted-level-3);\n",
       "}\n",
       "\n",
       ".sk-estimator-doc-link.fitted span {\n",
       "  /* fitted */\n",
       "  background: var(--sklearn-color-fitted-level-0);\n",
       "  border: var(--sklearn-color-fitted-level-3);\n",
       "}\n",
       "\n",
       ".sk-estimator-doc-link:hover span {\n",
       "  display: block;\n",
       "}\n",
       "\n",
       "/* \"?\"-specific style due to the `<a>` HTML tag */\n",
       "\n",
       "#sk-container-id-1 a.estimator_doc_link {\n",
       "  float: right;\n",
       "  font-size: 1rem;\n",
       "  line-height: 1em;\n",
       "  font-family: monospace;\n",
       "  background-color: var(--sklearn-color-background);\n",
       "  border-radius: 1rem;\n",
       "  height: 1rem;\n",
       "  width: 1rem;\n",
       "  text-decoration: none;\n",
       "  /* unfitted */\n",
       "  color: var(--sklearn-color-unfitted-level-1);\n",
       "  border: var(--sklearn-color-unfitted-level-1) 1pt solid;\n",
       "}\n",
       "\n",
       "#sk-container-id-1 a.estimator_doc_link.fitted {\n",
       "  /* fitted */\n",
       "  border: var(--sklearn-color-fitted-level-1) 1pt solid;\n",
       "  color: var(--sklearn-color-fitted-level-1);\n",
       "}\n",
       "\n",
       "/* On hover */\n",
       "#sk-container-id-1 a.estimator_doc_link:hover {\n",
       "  /* unfitted */\n",
       "  background-color: var(--sklearn-color-unfitted-level-3);\n",
       "  color: var(--sklearn-color-background);\n",
       "  text-decoration: none;\n",
       "}\n",
       "\n",
       "#sk-container-id-1 a.estimator_doc_link.fitted:hover {\n",
       "  /* fitted */\n",
       "  background-color: var(--sklearn-color-fitted-level-3);\n",
       "}\n",
       "</style><div id=\"sk-container-id-1\" class=\"sk-top-container\"><div class=\"sk-text-repr-fallback\"><pre>PySRRegressor.equations_ = [\n",
       "\t    pick     score                                           equation  \\\n",
       "\t0         0.000000                                                 x4   \n",
       "\t1   &gt;&gt;&gt;&gt;  0.081134                                      x2 + 8.016276   \n",
       "\t2         0.043164                                       x2 + log(x5)   \n",
       "\t3         0.011135                                sqrt(x2 * sqrt(x5))   \n",
       "\t4         0.046726                       x2 + (sqrt(x5) * 0.22451411)   \n",
       "\t5         0.020439             ((x5 * 0.0021026984) + 5.1627073) + x2   \n",
       "\t6         0.022467                     sqrt(x3) + sqrt(sqrt(x5 * x4))   \n",
       "\t7         0.033671                    sqrt(sqrt(x5 * x3) + (x2 * x4))   \n",
       "\t8         0.010809      sqrt((x2 * x4) + sqrt((x3 * x5) * 1.5509642))   \n",
       "\t9         0.011534        sqrt((sqrt(x3 * x5) + (x2 * x4)) + abs(x1))   \n",
       "\t10        0.001691  sqrt(((x4 * x2) + x1) + sqrt((x3 * x5) + 175.8...   \n",
       "\t11        0.001148  sqrt(sqrt(x3 * ((sqrt(x5) * x1) + x5)) + (x4 *...   \n",
       "\t12        0.002173  sqrt((x4 * x2) + sqrt((x3 * (x5 + (x1 * x1))) ...   \n",
       "\t13        0.007352  sqrt((abs((x1 - x0) + sqrt(x5 * x3)) + (x4 * x...   \n",
       "\t14        0.002191  sqrt(abs(x1 + ((sqrt(x5 * x3) + ((x4 * x2) - x...   \n",
       "\t15        0.000758  sqrt(abs((x1 + abs((sqrt(x5 * x3) + (x4 * x2))...   \n",
       "\t16        0.002525  sqrt((x1 + (x1 + abs(sqrt(x5 * x3) + (((x4 * x...   \n",
       "\t17        0.000459  sqrt((abs((sqrt(x5 * x3) + ((x4 * x2) - x0)) -...   \n",
       "\t18        0.000956  sqrt(abs(((x4 * x2) + ((x1 - x0) + (x1 - x0)))...   \n",
       "\t19        0.000055  sqrt(abs(((((abs(x1) - x0) + x1) - x0) + sqrt(...   \n",
       "\t20        0.000065  sqrt(abs((sqrt((x5 + x0) * x3) + (x2 * x4)) + ...   \n",
       "\t21        0.000026  sqrt(abs((((abs(x1) - x0) + (x1 - x0)) + sqrt(...   \n",
       "\t22        0.000095  log(abs((x4 * ((x1 * (x5 / 120.84929)) * (x3 /...   \n",
       "\t23        0.002183  (x2 / 2.2298377) + (-4.4039507 + (log(abs((((x...   \n",
       "\t24        0.001057  ((log((((x5 / (x0 + x3)) * (x1 + x4)) * ((x3 *...   \n",
       "\t25        0.001999  ((x2 / 2.6014178) + -4.9445176) + (log((((((x5...   \n",
       "\t26        0.000485  ((log(((((x4 * ((x2 + abs(x1 + -2.7649682)) * ...   \n",
       "\t27        0.000360  (log((x4 * (((((abs(x1 - sqrt(x3)) + x2) / (x3...   \n",
       "\t28        0.000258  ((x2 / 2.8074179) + -5.640796) + (log((((x5 * ...   \n",
       "\t29        0.000099  ((x2 / 2.7922413) + (log(((((x5 * (x3 - -1.078...   \n",
       "\t30        0.000340  ((x2 / 3.4530118) + (log(((((x5 * (x3 / 95.679...   \n",
       "\t31        0.000347  ((log(abs((((x5 * (x3 / 59.20652)) / (x0 + x3)...   \n",
       "\t32        0.000338  (x2 / 2.7685285) + ((log(((x3 - -2.8582914) * ...   \n",
       "\t33        0.000569  (x2 / 2.2989013) + ((x5 * 0.0005524428) + log(...   \n",
       "\t34        0.000245  (x2 / 2.2989013) + ((x5 * 0.0005524428) + log(...   \n",
       "\t35        0.001375  (log(abs((x1 - 1.3597175) * ((sin((x3 * ((x3 *...   \n",
       "\t36        0.000227  (log(abs((x1 - 1.3597175) * ((x4 * x4) * (sin(...   \n",
       "\t37        0.001486  (x2 / 2.3180234) + ((x5 * 0.00050198537) + log...   \n",
       "\t38        0.000668  log(abs(sin(((sin(x3 / -9.603198) * (x3 / x0))...   \n",
       "\t39        0.000129  (((x5 * 0.0011207063) + x2) / 2.7485266) + log...   \n",
       "\t40        0.000083  ((x5 * 0.00044427643) + (x2 / 2.7485268)) + lo...   \n",
       "\t41        0.000150  ((x2 / 2.7395914) + log((x4 * abs(((x5 * (2.07...   \n",
       "\t42        0.000069  ((x5 * 0.00042613476) + log(abs(x4 * (30.02952...   \n",
       "\t\n",
       "\t         loss  complexity  \n",
       "\t0   50.812916           1  \n",
       "\t1   43.201797           3  \n",
       "\t2   41.376698           4  \n",
       "\t3   40.918533           5  \n",
       "\t4   39.050560           6  \n",
       "\t5   38.260510           7  \n",
       "\t6   37.410490           8  \n",
       "\t7   36.171803           9  \n",
       "\t8   35.398240          11  \n",
       "\t9   34.992302          12  \n",
       "\t10  34.933163          13  \n",
       "\t11  34.893066          14  \n",
       "\t12  34.817314          15  \n",
       "\t13  34.562270          16  \n",
       "\t14  34.411167          18  \n",
       "\t15  34.385110          19  \n",
       "\t16  34.298393          20  \n",
       "\t17  34.282640          21  \n",
       "\t18  34.249866          22  \n",
       "\t19  34.247982          23  \n",
       "\t20  34.245770          24  \n",
       "\t21  34.244870          25  \n",
       "\t22  34.241634          26  \n",
       "\t23  34.166958          27  \n",
       "\t24  34.130870          28  \n",
       "\t25  34.062714          29  \n",
       "\t26  34.029700          31  \n",
       "\t27  34.017450          32  \n",
       "\t28  34.008670          33  \n",
       "\t29  34.005295          34  \n",
       "\t30  33.993720          35  \n",
       "\t31  33.981922          36  \n",
       "\t32  33.970436          37  \n",
       "\t33  33.951126          38  \n",
       "\t34  33.942800          39  \n",
       "\t35  33.896160          40  \n",
       "\t36  33.888470          41  \n",
       "\t37  33.838150          42  \n",
       "\t38  33.815570          43  \n",
       "\t39  33.806828          45  \n",
       "\t40  33.801210          47  \n",
       "\t41  33.796130          48  \n",
       "\t42  33.791466          50  \n",
       "]</pre><b>In a Jupyter environment, please rerun this cell to show the HTML representation or trust the notebook. <br />On GitHub, the HTML representation is unable to render, please try loading this page with nbviewer.org.</b></div><div class=\"sk-container\" hidden><div class=\"sk-item\"><div class=\"sk-estimator fitted sk-toggleable\"><input class=\"sk-toggleable__control sk-hidden--visually\" id=\"sk-estimator-id-1\" type=\"checkbox\" checked><label for=\"sk-estimator-id-1\" class=\"sk-toggleable__label fitted sk-toggleable__label-arrow\"><div><div>PySRRegressor</div></div><div><span class=\"sk-estimator-doc-link fitted\">i<span>Fitted</span></span></div></label><div class=\"sk-toggleable__content fitted\"><pre>PySRRegressor.equations_ = [\n",
       "\t    pick     score                                           equation  \\\n",
       "\t0         0.000000                                                 x4   \n",
       "\t1   &gt;&gt;&gt;&gt;  0.081134                                      x2 + 8.016276   \n",
       "\t2         0.043164                                       x2 + log(x5)   \n",
       "\t3         0.011135                                sqrt(x2 * sqrt(x5))   \n",
       "\t4         0.046726                       x2 + (sqrt(x5) * 0.22451411)   \n",
       "\t5         0.020439             ((x5 * 0.0021026984) + 5.1627073) + x2   \n",
       "\t6         0.022467                     sqrt(x3) + sqrt(sqrt(x5 * x4))   \n",
       "\t7         0.033671                    sqrt(sqrt(x5 * x3) + (x2 * x4))   \n",
       "\t8         0.010809      sqrt((x2 * x4) + sqrt((x3 * x5) * 1.5509642))   \n",
       "\t9         0.011534        sqrt((sqrt(x3 * x5) + (x2 * x4)) + abs(x1))   \n",
       "\t10        0.001691  sqrt(((x4 * x2) + x1) + sqrt((x3 * x5) + 175.8...   \n",
       "\t11        0.001148  sqrt(sqrt(x3 * ((sqrt(x5) * x1) + x5)) + (x4 *...   \n",
       "\t12        0.002173  sqrt((x4 * x2) + sqrt((x3 * (x5 + (x1 * x1))) ...   \n",
       "\t13        0.007352  sqrt((abs((x1 - x0) + sqrt(x5 * x3)) + (x4 * x...   \n",
       "\t14        0.002191  sqrt(abs(x1 + ((sqrt(x5 * x3) + ((x4 * x2) - x...   \n",
       "\t15        0.000758  sqrt(abs((x1 + abs((sqrt(x5 * x3) + (x4 * x2))...   \n",
       "\t16        0.002525  sqrt((x1 + (x1 + abs(sqrt(x5 * x3) + (((x4 * x...   \n",
       "\t17        0.000459  sqrt((abs((sqrt(x5 * x3) + ((x4 * x2) - x0)) -...   \n",
       "\t18        0.000956  sqrt(abs(((x4 * x2) + ((x1 - x0) + (x1 - x0)))...   \n",
       "\t19        0.000055  sqrt(abs(((((abs(x1) - x0) + x1) - x0) + sqrt(...   \n",
       "\t20        0.000065  sqrt(abs((sqrt((x5 + x0) * x3) + (x2 * x4)) + ...   \n",
       "\t21        0.000026  sqrt(abs((((abs(x1) - x0) + (x1 - x0)) + sqrt(...   \n",
       "\t22        0.000095  log(abs((x4 * ((x1 * (x5 / 120.84929)) * (x3 /...   \n",
       "\t23        0.002183  (x2 / 2.2298377) + (-4.4039507 + (log(abs((((x...   \n",
       "\t24        0.001057  ((log((((x5 / (x0 + x3)) * (x1 + x4)) * ((x3 *...   \n",
       "\t25        0.001999  ((x2 / 2.6014178) + -4.9445176) + (log((((((x5...   \n",
       "\t26        0.000485  ((log(((((x4 * ((x2 + abs(x1 + -2.7649682)) * ...   \n",
       "\t27        0.000360  (log((x4 * (((((abs(x1 - sqrt(x3)) + x2) / (x3...   \n",
       "\t28        0.000258  ((x2 / 2.8074179) + -5.640796) + (log((((x5 * ...   \n",
       "\t29        0.000099  ((x2 / 2.7922413) + (log(((((x5 * (x3 - -1.078...   \n",
       "\t30        0.000340  ((x2 / 3.4530118) + (log(((((x5 * (x3 / 95.679...   \n",
       "\t31        0.000347  ((log(abs((((x5 * (x3 / 59.20652)) / (x0 + x3)...   \n",
       "\t32        0.000338  (x2 / 2.7685285) + ((log(((x3 - -2.8582914) * ...   \n",
       "\t33        0.000569  (x2 / 2.2989013) + ((x5 * 0.0005524428) + log(...   \n",
       "\t34        0.000245  (x2 / 2.2989013) + ((x5 * 0.0005524428) + log(...   \n",
       "\t35        0.001375  (log(abs((x1 - 1.3597175) * ((sin((x3 * ((x3 *...   \n",
       "\t36        0.000227  (log(abs((x1 - 1.3597175) * ((x4 * x4) * (sin(...   \n",
       "\t37        0.001486  (x2 / 2.3180234) + ((x5 * 0.00050198537) + log...   \n",
       "\t38        0.000668  log(abs(sin(((sin(x3 / -9.603198) * (x3 / x0))...   \n",
       "\t39        0.000129  (((x5 * 0.0011207063) + x2) / 2.7485266) + log...   \n",
       "\t40        0.000083  ((x5 * 0.00044427643) + (x2 / 2.7485268)) + lo...   \n",
       "\t41        0.000150  ((x2 / 2.7395914) + log((x4 * abs(((x5 * (2.07...   \n",
       "\t42        0.000069  ((x5 * 0.00042613476) + log(abs(x4 * (30.02952...   \n",
       "\t\n",
       "\t         loss  complexity  \n",
       "\t0   50.812916           1  \n",
       "\t1   43.201797           3  \n",
       "\t2   41.376698           4  \n",
       "\t3   40.918533           5  \n",
       "\t4   39.050560           6  \n",
       "\t5   38.260510           7  \n",
       "\t6   37.410490           8  \n",
       "\t7   36.171803           9  \n",
       "\t8   35.398240          11  \n",
       "\t9   34.992302          12  \n",
       "\t10  34.933163          13  \n",
       "\t11  34.893066          14  \n",
       "\t12  34.817314          15  \n",
       "\t13  34.562270          16  \n",
       "\t14  34.411167          18  \n",
       "\t15  34.385110          19  \n",
       "\t16  34.298393          20  \n",
       "\t17  34.282640          21  \n",
       "\t18  34.249866          22  \n",
       "\t19  34.247982          23  \n",
       "\t20  34.245770          24  \n",
       "\t21  34.244870          25  \n",
       "\t22  34.241634          26  \n",
       "\t23  34.166958          27  \n",
       "\t24  34.130870          28  \n",
       "\t25  34.062714          29  \n",
       "\t26  34.029700          31  \n",
       "\t27  34.017450          32  \n",
       "\t28  34.008670          33  \n",
       "\t29  34.005295          34  \n",
       "\t30  33.993720          35  \n",
       "\t31  33.981922          36  \n",
       "\t32  33.970436          37  \n",
       "\t33  33.951126          38  \n",
       "\t34  33.942800          39  \n",
       "\t35  33.896160          40  \n",
       "\t36  33.888470          41  \n",
       "\t37  33.838150          42  \n",
       "\t38  33.815570          43  \n",
       "\t39  33.806828          45  \n",
       "\t40  33.801210          47  \n",
       "\t41  33.796130          48  \n",
       "\t42  33.791466          50  \n",
       "]</pre></div> </div></div></div></div>"
      ],
      "text/plain": [
       "PySRRegressor.equations_ = [\n",
       "\t    pick     score                                           equation  \\\n",
       "\t0         0.000000                                                 x4   \n",
       "\t1   >>>>  0.081134                                      x2 + 8.016276   \n",
       "\t2         0.043164                                       x2 + log(x5)   \n",
       "\t3         0.011135                                sqrt(x2 * sqrt(x5))   \n",
       "\t4         0.046726                       x2 + (sqrt(x5) * 0.22451411)   \n",
       "\t5         0.020439             ((x5 * 0.0021026984) + 5.1627073) + x2   \n",
       "\t6         0.022467                     sqrt(x3) + sqrt(sqrt(x5 * x4))   \n",
       "\t7         0.033671                    sqrt(sqrt(x5 * x3) + (x2 * x4))   \n",
       "\t8         0.010809      sqrt((x2 * x4) + sqrt((x3 * x5) * 1.5509642))   \n",
       "\t9         0.011534        sqrt((sqrt(x3 * x5) + (x2 * x4)) + abs(x1))   \n",
       "\t10        0.001691  sqrt(((x4 * x2) + x1) + sqrt((x3 * x5) + 175.8...   \n",
       "\t11        0.001148  sqrt(sqrt(x3 * ((sqrt(x5) * x1) + x5)) + (x4 *...   \n",
       "\t12        0.002173  sqrt((x4 * x2) + sqrt((x3 * (x5 + (x1 * x1))) ...   \n",
       "\t13        0.007352  sqrt((abs((x1 - x0) + sqrt(x5 * x3)) + (x4 * x...   \n",
       "\t14        0.002191  sqrt(abs(x1 + ((sqrt(x5 * x3) + ((x4 * x2) - x...   \n",
       "\t15        0.000758  sqrt(abs((x1 + abs((sqrt(x5 * x3) + (x4 * x2))...   \n",
       "\t16        0.002525  sqrt((x1 + (x1 + abs(sqrt(x5 * x3) + (((x4 * x...   \n",
       "\t17        0.000459  sqrt((abs((sqrt(x5 * x3) + ((x4 * x2) - x0)) -...   \n",
       "\t18        0.000956  sqrt(abs(((x4 * x2) + ((x1 - x0) + (x1 - x0)))...   \n",
       "\t19        0.000055  sqrt(abs(((((abs(x1) - x0) + x1) - x0) + sqrt(...   \n",
       "\t20        0.000065  sqrt(abs((sqrt((x5 + x0) * x3) + (x2 * x4)) + ...   \n",
       "\t21        0.000026  sqrt(abs((((abs(x1) - x0) + (x1 - x0)) + sqrt(...   \n",
       "\t22        0.000095  log(abs((x4 * ((x1 * (x5 / 120.84929)) * (x3 /...   \n",
       "\t23        0.002183  (x2 / 2.2298377) + (-4.4039507 + (log(abs((((x...   \n",
       "\t24        0.001057  ((log((((x5 / (x0 + x3)) * (x1 + x4)) * ((x3 *...   \n",
       "\t25        0.001999  ((x2 / 2.6014178) + -4.9445176) + (log((((((x5...   \n",
       "\t26        0.000485  ((log(((((x4 * ((x2 + abs(x1 + -2.7649682)) * ...   \n",
       "\t27        0.000360  (log((x4 * (((((abs(x1 - sqrt(x3)) + x2) / (x3...   \n",
       "\t28        0.000258  ((x2 / 2.8074179) + -5.640796) + (log((((x5 * ...   \n",
       "\t29        0.000099  ((x2 / 2.7922413) + (log(((((x5 * (x3 - -1.078...   \n",
       "\t30        0.000340  ((x2 / 3.4530118) + (log(((((x5 * (x3 / 95.679...   \n",
       "\t31        0.000347  ((log(abs((((x5 * (x3 / 59.20652)) / (x0 + x3)...   \n",
       "\t32        0.000338  (x2 / 2.7685285) + ((log(((x3 - -2.8582914) * ...   \n",
       "\t33        0.000569  (x2 / 2.2989013) + ((x5 * 0.0005524428) + log(...   \n",
       "\t34        0.000245  (x2 / 2.2989013) + ((x5 * 0.0005524428) + log(...   \n",
       "\t35        0.001375  (log(abs((x1 - 1.3597175) * ((sin((x3 * ((x3 *...   \n",
       "\t36        0.000227  (log(abs((x1 - 1.3597175) * ((x4 * x4) * (sin(...   \n",
       "\t37        0.001486  (x2 / 2.3180234) + ((x5 * 0.00050198537) + log...   \n",
       "\t38        0.000668  log(abs(sin(((sin(x3 / -9.603198) * (x3 / x0))...   \n",
       "\t39        0.000129  (((x5 * 0.0011207063) + x2) / 2.7485266) + log...   \n",
       "\t40        0.000083  ((x5 * 0.00044427643) + (x2 / 2.7485268)) + lo...   \n",
       "\t41        0.000150  ((x2 / 2.7395914) + log((x4 * abs(((x5 * (2.07...   \n",
       "\t42        0.000069  ((x5 * 0.00042613476) + log(abs(x4 * (30.02952...   \n",
       "\t\n",
       "\t         loss  complexity  \n",
       "\t0   50.812916           1  \n",
       "\t1   43.201797           3  \n",
       "\t2   41.376698           4  \n",
       "\t3   40.918533           5  \n",
       "\t4   39.050560           6  \n",
       "\t5   38.260510           7  \n",
       "\t6   37.410490           8  \n",
       "\t7   36.171803           9  \n",
       "\t8   35.398240          11  \n",
       "\t9   34.992302          12  \n",
       "\t10  34.933163          13  \n",
       "\t11  34.893066          14  \n",
       "\t12  34.817314          15  \n",
       "\t13  34.562270          16  \n",
       "\t14  34.411167          18  \n",
       "\t15  34.385110          19  \n",
       "\t16  34.298393          20  \n",
       "\t17  34.282640          21  \n",
       "\t18  34.249866          22  \n",
       "\t19  34.247982          23  \n",
       "\t20  34.245770          24  \n",
       "\t21  34.244870          25  \n",
       "\t22  34.241634          26  \n",
       "\t23  34.166958          27  \n",
       "\t24  34.130870          28  \n",
       "\t25  34.062714          29  \n",
       "\t26  34.029700          31  \n",
       "\t27  34.017450          32  \n",
       "\t28  34.008670          33  \n",
       "\t29  34.005295          34  \n",
       "\t30  33.993720          35  \n",
       "\t31  33.981922          36  \n",
       "\t32  33.970436          37  \n",
       "\t33  33.951126          38  \n",
       "\t34  33.942800          39  \n",
       "\t35  33.896160          40  \n",
       "\t36  33.888470          41  \n",
       "\t37  33.838150          42  \n",
       "\t38  33.815570          43  \n",
       "\t39  33.806828          45  \n",
       "\t40  33.801210          47  \n",
       "\t41  33.796130          48  \n",
       "\t42  33.791466          50  \n",
       "]"
      ]
     },
     "execution_count": 35,
     "metadata": {},
     "output_type": "execute_result"
    }
   ],
   "source": [
    "sr_model = PySRRegressor(\n",
    "        niterations=1024,  # Number of iterations to search for equations\n",
    "        binary_operators=[\"+\", \"-\", \"*\", \"/\"],\n",
    "        unary_operators=[\"sin\", \"cos\", \"exp\", \"log\", \"abs\", \"sqrt\"],\n",
    "        elementwise_loss=\"loss(x, y) = (x - y)^2\",  # Define loss function (mean squared error)\n",
    "        verbosity=0,\n",
    "        maxsize=50\n",
    "    )\n",
    "sr_model.fit(X, y)"
   ]
  },
  {
   "cell_type": "code",
   "execution_count": 43,
   "id": "cfe54105",
   "metadata": {},
   "outputs": [],
   "source": [
    "# 20250423_161606_Uud68M\n",
    "candidate_function = generate_candidate_function(\"sqrt((abs((x1 - x0) + sqrt(x5 * x3)) + (x4 * x2)) + 19.390306)\")"
   ]
  },
  {
   "cell_type": "code",
   "execution_count": 66,
   "id": "92f20c4a",
   "metadata": {},
   "outputs": [
    {
     "data": {
      "image/png": "[encoded data removed]",
      "text/plain": [
       "<Figure size 1000x500 with 1 Axes>"
      ]
     },
     "metadata": {},
     "output_type": "display_data"
    }
   ],
   "source": [
    "%matplotlib inline\n",
    "y_pred = candidate_function(X)\n",
    "plot_histograms([(y, 'Original Interest Rate', None), (y_pred, 'Predicted Interest Rate', None)], 'Interest Rate', stack=True, figsize_per_plot=(10, 5))"
   ]
  },
  {
   "cell_type": "code",
   "execution_count": 67,
   "id": "b50b824a",
   "metadata": {},
   "outputs": [
    {
     "data": {
      "text/plain": [
       "<Figure size 640x480 with 0 Axes>"
      ]
     },
     "metadata": {},
     "output_type": "display_data"
    },
    {
     "data": {
      "image/png": "[encoded data removed]",
      "text/plain": [
       "<Figure size 1000x500 with 1 Axes>"
      ]
     },
     "metadata": {},
     "output_type": "display_data"
    }
   ],
   "source": [
    "plot_densities([(y, 'riginal Interest Rate', 'blue'), (y_pred, 'Predicted Interest Rate', 'green')], 'Interest Rate', stack=True, figsize_per_plot=(10, 5))"
   ]
  },
  {
   "cell_type": "code",
   "execution_count": 51,
   "id": "52cccdb2",
   "metadata": {},
   "outputs": [],
   "source": [
    "X_total = data_syn[['Credit_History_Age', 'Delay_from_due_date', 'Num_Bank_Accounts', 'Num_Credit_Inquiries', 'Num_of_Delayed_Payment', 'Outstanding_Debt']].to_numpy()\n",
    "y_total = data_syn['Interest_Rate'].to_numpy()"
   ]
  },
  {
   "cell_type": "code",
   "execution_count": 52,
   "id": "2443688a",
   "metadata": {},
   "outputs": [],
   "source": [
    "y_pred_total = candidate_function(X_total)"
   ]
  },
  {
   "cell_type": "code",
   "execution_count": 53,
   "id": "d908aa09",
   "metadata": {},
   "outputs": [],
   "source": [
    "orig_residuals = y_total - y_pred_total"
   ]
  },
  {
   "cell_type": "code",
   "execution_count": 72,
   "id": "430ef579",
   "metadata": {},
   "outputs": [],
   "source": [
    "y_pred_total_corrected, best_amp, errors, _ = renoise_predictions(y_total, y_pred_total, method='stratified', seed=42, clip_lower=0, clip_upper=32, original_residuals=None, tail_replace=True, lower_percentile=50, upper_percentile=25)\n",
    "# ignore error in orig_residuals after first run"
   ]
  },
  {
   "cell_type": "code",
   "execution_count": 73,
   "id": "b680a62b",
   "metadata": {},
   "outputs": [
    {
     "data": {
      "image/png": "[encoded data removed]",
      "text/plain": [
       "<Figure size 1000x500 with 1 Axes>"
      ]
     },
     "metadata": {},
     "output_type": "display_data"
    }
   ],
   "source": [
    "plot_histograms([(y_total, 'Original Interest Rate', None), (y_pred_total_corrected, 'Corrected Predicted Interest Rate', None)], 'Interest Rate', stack=True, figsize_per_plot=(10, 5))"
   ]
  },
  {
   "cell_type": "code",
   "execution_count": 69,
   "id": "608f7669",
   "metadata": {},
   "outputs": [
    {
     "data": {
      "text/plain": [
       "<Figure size 640x480 with 0 Axes>"
      ]
     },
     "metadata": {},
     "output_type": "display_data"
    },
    {
     "data": {
      "image/png": "[encoded data removed]",
      "text/plain": [
       "<Figure size 1000x500 with 1 Axes>"
      ]
     },
     "metadata": {},
     "output_type": "display_data"
    }
   ],
   "source": [
    "plot_densities([(y_total, 'Original Interest Rate', 'blue'), (y_pred_total_corrected, 'Corrected Predicted Interest Rate', 'green')], 'interest rate', stack=True, figsize_per_plot=(10, 5))"
   ]
  },
  {
   "cell_type": "code",
   "execution_count": 80,
   "id": "7f4d30e4",
   "metadata": {},
   "outputs": [
    {
     "data": {
      "image/png": "[encoded data removed]",
      "text/plain": [
       "<Figure size 1000x500 with 1 Axes>"
      ]
     },
     "metadata": {},
     "output_type": "display_data"
    }
   ],
   "source": [
    "mod_candidate_function = generate_candidate_function(\"sqrt((abs((1*x1 - 1*x0) + sqrt(x5 * x3)) + (x4 * 2*x2)) + 19.390306)\")\n",
    "mod_y_pred_total = mod_candidate_function(X_total)\n",
    "mod_y_pred_total_corrected, best_amp, errors, _ = renoise_predictions(y_total, mod_y_pred_total, method='stratified', amplification_factor=1.0, seed=42, clip_lower=0, clip_upper=None, original_residuals=orig_residuals, tail_replace=True, lower_percentile=50)\n",
    "# ignore error in orig_residuals after first run\n",
    "plot_histograms([(y_total, 'Original Interest Rate', None), (y_pred_total_corrected, 'Predicted Renoised Interest Rate', None), (mod_y_pred_total_corrected, 'Modified Renoised Interest Rate', None)], 'Interest Rate', stack=True, figsize_per_plot=(10, 5))"
   ]
  }
 ],
 "metadata": {
  "kernelspec": {
   "display_name": "hyperRealDataDescriber",
   "language": "python",
   "name": "python3"
  },
  "language_info": {
   "codemirror_mode": {
    "name": "ipython",
    "version": 3
   },
   "file_extension": ".py",
   "mimetype": "text/x-python",
   "name": "python",
   "nbconvert_exporter": "python",
   "pygments_lexer": "ipython3",
   "version": "3.11.11"
  }
 },
 "nbformat": 4,
 "nbformat_minor": 5
}
