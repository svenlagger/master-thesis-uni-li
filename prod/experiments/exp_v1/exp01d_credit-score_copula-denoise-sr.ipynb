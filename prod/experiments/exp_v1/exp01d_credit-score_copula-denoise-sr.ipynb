{
 "cells": [
  {
   "cell_type": "code",
   "execution_count": 1,
   "id": "2a957c1b",
   "metadata": {},
   "outputs": [
    {
     "name": "stdout",
     "output_type": "stream",
     "text": [
      "Detected IPython. Loading juliacall extension. See https://juliapy.github.io/PythonCall.jl/stable/compat/#IPython\n"
     ]
    }
   ],
   "source": [
    "import sys\n",
    "import os\n",
    "# Add the directory containing 'thesis_utils.py' to the system path\n",
    "sys.path.append(os.path.abspath('..'))  # If 'thesis_utils.py' is one level up\n",
    "# Or use this if it's in the same directory as the notebook:\n",
    "# sys.path.append(os.getcwd())\n",
    "# os.environ[\"JULIA_NUM_THREADS\"] = \"8\" \n",
    "os.environ[\"PYTHON_JULIACALL_HANDLE_SIGNALS\"] = \"yes\"\n",
    "os.environ[\"PYTHON_JULIACALL_THREADS\"] = \"auto\"\n",
    "os.environ[\"PYTHON_JULIACALL_OPTLEVEL\"] = \"3\"\n",
    "from pysr import PySRRegressor\n",
    "import pandas as pd\n",
    "import numpy as np\n",
    "from ydata_profiling import ProfileReport\n",
    "\n",
    "from thesis_utils import *"
   ]
  },
  {
   "cell_type": "code",
   "execution_count": 62,
   "id": "42c93e60",
   "metadata": {},
   "outputs": [],
   "source": [
    "import importlib\n",
    "import thesis_utils  # or whatever your module is called\n",
    "\n",
    "importlib.reload(thesis_utils)\n",
    "\n",
    "from thesis_utils import *"
   ]
  },
  {
   "cell_type": "code",
   "execution_count": 2,
   "id": "4b22ecaa",
   "metadata": {},
   "outputs": [],
   "source": [
    "data = pd.read_csv(\"C:/Users/svenl/vs_code_projects/hyperRealDataDescriber/data/credit_score/cleaned_credit_score_v2.csv\")\n",
    "# remove columns that are not categorical or numerical\n",
    "data = data.drop(['ID', 'Customer_ID', 'Name', 'SSN', 'Type_of_Loan', 'Payment_Behaviour'], axis=1)"
   ]
  },
  {
   "cell_type": "code",
   "execution_count": 3,
   "id": "0ce9ef78",
   "metadata": {},
   "outputs": [
    {
     "data": {
      "application/vnd.jupyter.widget-view+json": {
       "model_id": "aa7129caebb143ffb02184ad0402abe3",
       "version_major": 2,
       "version_minor": 0
      },
      "text/plain": [
       "Summarize dataset:   0%|          | 0/5 [00:00<?, ?it/s]"
      ]
     },
     "metadata": {},
     "output_type": "display_data"
    }
   ],
   "source": [
    "# Generate the profiling report\n",
    "profile_full = ProfileReport(data, title=\"Credit Score Cleaned\", explorative=True)\n",
    "\n",
    "# Get the description object\n",
    "desc_full = profile_full.get_description()\n",
    "\n",
    "# Access the correlation matrix\n",
    "correlation_matrix = desc_full.correlations[\"auto\"]"
   ]
  },
  {
   "cell_type": "code",
   "execution_count": 4,
   "id": "89d79443",
   "metadata": {},
   "outputs": [],
   "source": [
    "categorical_cols = get_categorical_columns(data)\n",
    "distributions = fit_distributions(data)\n",
    "marginals = convert_distfit_to_marginals(distributions, data)"
   ]
  },
  {
   "cell_type": "code",
   "execution_count": 5,
   "id": "16f27bcd",
   "metadata": {},
   "outputs": [],
   "source": [
    "data_syn = generate_synthetic_dataset(original_data=data, correlation_matrix=correlation_matrix, categorical_columns=categorical_cols, marginals=marginals, n_rows=40000, correlation_threshold=0.1, edge_strategy=\"random\", sampling_strategy=\"local-chunks\")"
   ]
  },
  {
   "cell_type": "code",
   "execution_count": 6,
   "id": "d5232b74",
   "metadata": {},
   "outputs": [
    {
     "data": {
      "application/vnd.jupyter.widget-view+json": {
       "model_id": "122a31166418494ca9dc8b481ffb3be0",
       "version_major": 2,
       "version_minor": 0
      },
      "text/plain": [
       "Summarize dataset:   0%|          | 0/5 [00:00<?, ?it/s]"
      ]
     },
     "metadata": {},
     "output_type": "display_data"
    }
   ],
   "source": [
    "# Generate the profiling report\n",
    "profile_syn = ProfileReport(data_syn, title=\"Credit Score Cleaned SYN\", explorative=True)\n",
    "\n",
    "# Get the description object\n",
    "desc_syn = profile_syn.get_description()\n",
    "\n",
    "# Access the correlation matrix\n",
    "correlation_matrix_syn = desc_syn.correlations[\"auto\"]"
   ]
  },
  {
   "cell_type": "code",
   "execution_count": 7,
   "id": "c9962824",
   "metadata": {},
   "outputs": [
    {
     "data": {
      "application/vnd.plotly.v1+json": {
       "config": {
        "plotlyServerURL": "https://plot.ly"
       },
       "data": [
        {
         "colorbar": {
          "len": 0.9,
          "title": {
           "text": "Correlation"
          }
         },
         "colorscale": [
          [
           0,
           "rgb(103,0,31)"
          ],
          [
           0.1,
           "rgb(178,24,43)"
          ],
          [
           0.2,
           "rgb(214,96,77)"
          ],
          [
           0.3,
           "rgb(244,165,130)"
          ],
          [
           0.4,
           "rgb(253,219,199)"
          ],
          [
           0.5,
           "rgb(247,247,247)"
          ],
          [
           0.6,
           "rgb(209,229,240)"
          ],
          [
           0.7,
           "rgb(146,197,222)"
          ],
          [
           0.8,
           "rgb(67,147,195)"
          ],
          [
           0.9,
           "rgb(33,102,172)"
          ],
          [
           1,
           "rgb(5,48,97)"
          ]
         ],
         "hoverongaps": false,
         "hovertemplate": "X: %{x}<br>Y: %{y}<br>Corr: %{z:.2f}<extra></extra>",
         "type": "heatmap",
         "x": [
          "Age",
          "Amount_invested_monthly",
          "Annual_Income",
          "Changed_Credit_Limit",
          "Credit_History_Age",
          "Credit_Mix",
          "Credit_Utilization_Ratio",
          "Delay_from_due_date",
          "Interest_Rate",
          "Month",
          "Monthly_Balance",
          "Monthly_Inhand_Salary",
          "Num_Bank_Accounts",
          "Num_Credit_Card",
          "Num_Credit_Inquiries",
          "Num_of_Delayed_Payment",
          "Num_of_Loan",
          "Occupation",
          "Outstanding_Debt",
          "Payment_of_Min_Amount",
          "Total_EMI_per_month"
         ],
         "xaxis": "x",
         "y": [
          "Age",
          "Amount_invested_monthly",
          "Annual_Income",
          "Changed_Credit_Limit",
          "Credit_History_Age",
          "Credit_Mix",
          "Credit_Utilization_Ratio",
          "Delay_from_due_date",
          "Interest_Rate",
          "Month",
          "Monthly_Balance",
          "Monthly_Inhand_Salary",
          "Num_Bank_Accounts",
          "Num_Credit_Card",
          "Num_Credit_Inquiries",
          "Num_of_Delayed_Payment",
          "Num_of_Loan",
          "Occupation",
          "Outstanding_Debt",
          "Payment_of_Min_Amount",
          "Total_EMI_per_month"
         ],
         "yaxis": "y",
         "z": {
          "bdata": "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",
          "dtype": "f8",
          "shape": "21, 21"
         },
         "zmax": 1,
         "zmin": -1
        },
        {
         "colorscale": [
          [
           0,
           "rgb(103,0,31)"
          ],
          [
           0.1,
           "rgb(178,24,43)"
          ],
          [
           0.2,
           "rgb(214,96,77)"
          ],
          [
           0.3,
           "rgb(244,165,130)"
          ],
          [
           0.4,
           "rgb(253,219,199)"
          ],
          [
           0.5,
           "rgb(247,247,247)"
          ],
          [
           0.6,
           "rgb(209,229,240)"
          ],
          [
           0.7,
           "rgb(146,197,222)"
          ],
          [
           0.8,
           "rgb(67,147,195)"
          ],
          [
           0.9,
           "rgb(33,102,172)"
          ],
          [
           1,
           "rgb(5,48,97)"
          ]
         ],
         "hoverongaps": false,
         "hovertemplate": "X: %{x}<br>Y: %{y}<br>Corr: %{z:.2f}<extra></extra>",
         "showscale": false,
         "type": "heatmap",
         "x": [
          "Age",
          "Amount_invested_monthly",
          "Annual_Income",
          "Changed_Credit_Limit",
          "Credit_History_Age",
          "Credit_Mix",
          "Credit_Utilization_Ratio",
          "Delay_from_due_date",
          "Interest_Rate",
          "Month",
          "Monthly_Balance",
          "Monthly_Inhand_Salary",
          "Num_Bank_Accounts",
          "Num_Credit_Card",
          "Num_Credit_Inquiries",
          "Num_of_Delayed_Payment",
          "Num_of_Loan",
          "Occupation",
          "Outstanding_Debt",
          "Payment_of_Min_Amount",
          "Total_EMI_per_month"
         ],
         "xaxis": "x2",
         "y": [
          "Age",
          "Amount_invested_monthly",
          "Annual_Income",
          "Changed_Credit_Limit",
          "Credit_History_Age",
          "Credit_Mix",
          "Credit_Utilization_Ratio",
          "Delay_from_due_date",
          "Interest_Rate",
          "Month",
          "Monthly_Balance",
          "Monthly_Inhand_Salary",
          "Num_Bank_Accounts",
          "Num_Credit_Card",
          "Num_Credit_Inquiries",
          "Num_of_Delayed_Payment",
          "Num_of_Loan",
          "Occupation",
          "Outstanding_Debt",
          "Payment_of_Min_Amount",
          "Total_EMI_per_month"
         ],
         "yaxis": "y2",
         "z": {
          "bdata": "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",
          "dtype": "f8",
          "shape": "21, 21"
         },
         "zmax": 1,
         "zmin": -1
        }
       ],
       "layout": {
        "annotations": [
         {
          "font": {
           "size": 16
          },
          "showarrow": false,
          "text": "Real",
          "x": 0.2,
          "xanchor": "center",
          "xref": "paper",
          "y": 1,
          "yanchor": "bottom",
          "yref": "paper"
         },
         {
          "font": {
           "size": 16
          },
          "showarrow": false,
          "text": "Synthetic",
          "x": 0.8,
          "xanchor": "center",
          "xref": "paper",
          "y": 1,
          "yanchor": "bottom",
          "yref": "paper"
         }
        ],
        "height": 800,
        "showlegend": false,
        "template": {
         "data": {
          "bar": [
           {
            "error_x": {
             "color": "#2a3f5f"
            },
            "error_y": {
             "color": "#2a3f5f"
            },
            "marker": {
             "line": {
              "color": "#E5ECF6",
              "width": 0.5
             },
             "pattern": {
              "fillmode": "overlay",
              "size": 10,
              "solidity": 0.2
             }
            },
            "type": "bar"
           }
          ],
          "barpolar": [
           {
            "marker": {
             "line": {
              "color": "#E5ECF6",
              "width": 0.5
             },
             "pattern": {
              "fillmode": "overlay",
              "size": 10,
              "solidity": 0.2
             }
            },
            "type": "barpolar"
           }
          ],
          "carpet": [
           {
            "aaxis": {
             "endlinecolor": "#2a3f5f",
             "gridcolor": "white",
             "linecolor": "white",
             "minorgridcolor": "white",
             "startlinecolor": "#2a3f5f"
            },
            "baxis": {
             "endlinecolor": "#2a3f5f",
             "gridcolor": "white",
             "linecolor": "white",
             "minorgridcolor": "white",
             "startlinecolor": "#2a3f5f"
            },
            "type": "carpet"
           }
          ],
          "choropleth": [
           {
            "colorbar": {
             "outlinewidth": 0,
             "ticks": ""
            },
            "type": "choropleth"
           }
          ],
          "contour": [
           {
            "colorbar": {
             "outlinewidth": 0,
             "ticks": ""
            },
            "colorscale": [
             [
              0,
              "#0d0887"
             ],
             [
              0.1111111111111111,
              "#46039f"
             ],
             [
              0.2222222222222222,
              "#7201a8"
             ],
             [
              0.3333333333333333,
              "#9c179e"
             ],
             [
              0.4444444444444444,
              "#bd3786"
             ],
             [
              0.5555555555555556,
              "#d8576b"
             ],
             [
              0.6666666666666666,
              "#ed7953"
             ],
             [
              0.7777777777777778,
              "#fb9f3a"
             ],
             [
              0.8888888888888888,
              "#fdca26"
             ],
             [
              1,
              "#f0f921"
             ]
            ],
            "type": "contour"
           }
          ],
          "contourcarpet": [
           {
            "colorbar": {
             "outlinewidth": 0,
             "ticks": ""
            },
            "type": "contourcarpet"
           }
          ],
          "heatmap": [
           {
            "colorbar": {
             "outlinewidth": 0,
             "ticks": ""
            },
            "colorscale": [
             [
              0,
              "#0d0887"
             ],
             [
              0.1111111111111111,
              "#46039f"
             ],
             [
              0.2222222222222222,
              "#7201a8"
             ],
             [
              0.3333333333333333,
              "#9c179e"
             ],
             [
              0.4444444444444444,
              "#bd3786"
             ],
             [
              0.5555555555555556,
              "#d8576b"
             ],
             [
              0.6666666666666666,
              "#ed7953"
             ],
             [
              0.7777777777777778,
              "#fb9f3a"
             ],
             [
              0.8888888888888888,
              "#fdca26"
             ],
             [
              1,
              "#f0f921"
             ]
            ],
            "type": "heatmap"
           }
          ],
          "histogram": [
           {
            "marker": {
             "pattern": {
              "fillmode": "overlay",
              "size": 10,
              "solidity": 0.2
             }
            },
            "type": "histogram"
           }
          ],
          "histogram2d": [
           {
            "colorbar": {
             "outlinewidth": 0,
             "ticks": ""
            },
            "colorscale": [
             [
              0,
              "#0d0887"
             ],
             [
              0.1111111111111111,
              "#46039f"
             ],
             [
              0.2222222222222222,
              "#7201a8"
             ],
             [
              0.3333333333333333,
              "#9c179e"
             ],
             [
              0.4444444444444444,
              "#bd3786"
             ],
             [
              0.5555555555555556,
              "#d8576b"
             ],
             [
              0.6666666666666666,
              "#ed7953"
             ],
             [
              0.7777777777777778,
              "#fb9f3a"
             ],
             [
              0.8888888888888888,
              "#fdca26"
             ],
             [
              1,
              "#f0f921"
             ]
            ],
            "type": "histogram2d"
           }
          ],
          "histogram2dcontour": [
           {
            "colorbar": {
             "outlinewidth": 0,
             "ticks": ""
            },
            "colorscale": [
             [
              0,
              "#0d0887"
             ],
             [
              0.1111111111111111,
              "#46039f"
             ],
             [
              0.2222222222222222,
              "#7201a8"
             ],
             [
              0.3333333333333333,
              "#9c179e"
             ],
             [
              0.4444444444444444,
              "#bd3786"
             ],
             [
              0.5555555555555556,
              "#d8576b"
             ],
             [
              0.6666666666666666,
              "#ed7953"
             ],
             [
              0.7777777777777778,
              "#fb9f3a"
             ],
             [
              0.8888888888888888,
              "#fdca26"
             ],
             [
              1,
              "#f0f921"
             ]
            ],
            "type": "histogram2dcontour"
           }
          ],
          "mesh3d": [
           {
            "colorbar": {
             "outlinewidth": 0,
             "ticks": ""
            },
            "type": "mesh3d"
           }
          ],
          "parcoords": [
           {
            "line": {
             "colorbar": {
              "outlinewidth": 0,
              "ticks": ""
             }
            },
            "type": "parcoords"
           }
          ],
          "pie": [
           {
            "automargin": true,
            "type": "pie"
           }
          ],
          "scatter": [
           {
            "fillpattern": {
             "fillmode": "overlay",
             "size": 10,
             "solidity": 0.2
            },
            "type": "scatter"
           }
          ],
          "scatter3d": [
           {
            "line": {
             "colorbar": {
              "outlinewidth": 0,
              "ticks": ""
             }
            },
            "marker": {
             "colorbar": {
              "outlinewidth": 0,
              "ticks": ""
             }
            },
            "type": "scatter3d"
           }
          ],
          "scattercarpet": [
           {
            "marker": {
             "colorbar": {
              "outlinewidth": 0,
              "ticks": ""
             }
            },
            "type": "scattercarpet"
           }
          ],
          "scattergeo": [
           {
            "marker": {
             "colorbar": {
              "outlinewidth": 0,
              "ticks": ""
             }
            },
            "type": "scattergeo"
           }
          ],
          "scattergl": [
           {
            "marker": {
             "colorbar": {
              "outlinewidth": 0,
              "ticks": ""
             }
            },
            "type": "scattergl"
           }
          ],
          "scattermap": [
           {
            "marker": {
             "colorbar": {
              "outlinewidth": 0,
              "ticks": ""
             }
            },
            "type": "scattermap"
           }
          ],
          "scattermapbox": [
           {
            "marker": {
             "colorbar": {
              "outlinewidth": 0,
              "ticks": ""
             }
            },
            "type": "scattermapbox"
           }
          ],
          "scatterpolar": [
           {
            "marker": {
             "colorbar": {
              "outlinewidth": 0,
              "ticks": ""
             }
            },
            "type": "scatterpolar"
           }
          ],
          "scatterpolargl": [
           {
            "marker": {
             "colorbar": {
              "outlinewidth": 0,
              "ticks": ""
             }
            },
            "type": "scatterpolargl"
           }
          ],
          "scatterternary": [
           {
            "marker": {
             "colorbar": {
              "outlinewidth": 0,
              "ticks": ""
             }
            },
            "type": "scatterternary"
           }
          ],
          "surface": [
           {
            "colorbar": {
             "outlinewidth": 0,
             "ticks": ""
            },
            "colorscale": [
             [
              0,
              "#0d0887"
             ],
             [
              0.1111111111111111,
              "#46039f"
             ],
             [
              0.2222222222222222,
              "#7201a8"
             ],
             [
              0.3333333333333333,
              "#9c179e"
             ],
             [
              0.4444444444444444,
              "#bd3786"
             ],
             [
              0.5555555555555556,
              "#d8576b"
             ],
             [
              0.6666666666666666,
              "#ed7953"
             ],
             [
              0.7777777777777778,
              "#fb9f3a"
             ],
             [
              0.8888888888888888,
              "#fdca26"
             ],
             [
              1,
              "#f0f921"
             ]
            ],
            "type": "surface"
           }
          ],
          "table": [
           {
            "cells": {
             "fill": {
              "color": "#EBF0F8"
             },
             "line": {
              "color": "white"
             }
            },
            "header": {
             "fill": {
              "color": "#C8D4E3"
             },
             "line": {
              "color": "white"
             }
            },
            "type": "table"
           }
          ]
         },
         "layout": {
          "annotationdefaults": {
           "arrowcolor": "#2a3f5f",
           "arrowhead": 0,
           "arrowwidth": 1
          },
          "autotypenumbers": "strict",
          "coloraxis": {
           "colorbar": {
            "outlinewidth": 0,
            "ticks": ""
           }
          },
          "colorscale": {
           "diverging": [
            [
             0,
             "#8e0152"
            ],
            [
             0.1,
             "#c51b7d"
            ],
            [
             0.2,
             "#de77ae"
            ],
            [
             0.3,
             "#f1b6da"
            ],
            [
             0.4,
             "#fde0ef"
            ],
            [
             0.5,
             "#f7f7f7"
            ],
            [
             0.6,
             "#e6f5d0"
            ],
            [
             0.7,
             "#b8e186"
            ],
            [
             0.8,
             "#7fbc41"
            ],
            [
             0.9,
             "#4d9221"
            ],
            [
             1,
             "#276419"
            ]
           ],
           "sequential": [
            [
             0,
             "#0d0887"
            ],
            [
             0.1111111111111111,
             "#46039f"
            ],
            [
             0.2222222222222222,
             "#7201a8"
            ],
            [
             0.3333333333333333,
             "#9c179e"
            ],
            [
             0.4444444444444444,
             "#bd3786"
            ],
            [
             0.5555555555555556,
             "#d8576b"
            ],
            [
             0.6666666666666666,
             "#ed7953"
            ],
            [
             0.7777777777777778,
             "#fb9f3a"
            ],
            [
             0.8888888888888888,
             "#fdca26"
            ],
            [
             1,
             "#f0f921"
            ]
           ],
           "sequentialminus": [
            [
             0,
             "#0d0887"
            ],
            [
             0.1111111111111111,
             "#46039f"
            ],
            [
             0.2222222222222222,
             "#7201a8"
            ],
            [
             0.3333333333333333,
             "#9c179e"
            ],
            [
             0.4444444444444444,
             "#bd3786"
            ],
            [
             0.5555555555555556,
             "#d8576b"
            ],
            [
             0.6666666666666666,
             "#ed7953"
            ],
            [
             0.7777777777777778,
             "#fb9f3a"
            ],
            [
             0.8888888888888888,
             "#fdca26"
            ],
            [
             1,
             "#f0f921"
            ]
           ]
          },
          "colorway": [
           "#636efa",
           "#EF553B",
           "#00cc96",
           "#ab63fa",
           "#FFA15A",
           "#19d3f3",
           "#FF6692",
           "#B6E880",
           "#FF97FF",
           "#FECB52"
          ],
          "font": {
           "color": "#2a3f5f"
          },
          "geo": {
           "bgcolor": "white",
           "lakecolor": "white",
           "landcolor": "#E5ECF6",
           "showlakes": true,
           "showland": true,
           "subunitcolor": "white"
          },
          "hoverlabel": {
           "align": "left"
          },
          "hovermode": "closest",
          "mapbox": {
           "style": "light"
          },
          "paper_bgcolor": "white",
          "plot_bgcolor": "#E5ECF6",
          "polar": {
           "angularaxis": {
            "gridcolor": "white",
            "linecolor": "white",
            "ticks": ""
           },
           "bgcolor": "#E5ECF6",
           "radialaxis": {
            "gridcolor": "white",
            "linecolor": "white",
            "ticks": ""
           }
          },
          "scene": {
           "xaxis": {
            "backgroundcolor": "#E5ECF6",
            "gridcolor": "white",
            "gridwidth": 2,
            "linecolor": "white",
            "showbackground": true,
            "ticks": "",
            "zerolinecolor": "white"
           },
           "yaxis": {
            "backgroundcolor": "#E5ECF6",
            "gridcolor": "white",
            "gridwidth": 2,
            "linecolor": "white",
            "showbackground": true,
            "ticks": "",
            "zerolinecolor": "white"
           },
           "zaxis": {
            "backgroundcolor": "#E5ECF6",
            "gridcolor": "white",
            "gridwidth": 2,
            "linecolor": "white",
            "showbackground": true,
            "ticks": "",
            "zerolinecolor": "white"
           }
          },
          "shapedefaults": {
           "line": {
            "color": "#2a3f5f"
           }
          },
          "ternary": {
           "aaxis": {
            "gridcolor": "white",
            "linecolor": "white",
            "ticks": ""
           },
           "baxis": {
            "gridcolor": "white",
            "linecolor": "white",
            "ticks": ""
           },
           "bgcolor": "#E5ECF6",
           "caxis": {
            "gridcolor": "white",
            "linecolor": "white",
            "ticks": ""
           }
          },
          "title": {
           "x": 0.05
          },
          "xaxis": {
           "automargin": true,
           "gridcolor": "white",
           "linecolor": "white",
           "ticks": "",
           "title": {
            "standoff": 15
           },
           "zerolinecolor": "white",
           "zerolinewidth": 2
          },
          "yaxis": {
           "automargin": true,
           "gridcolor": "white",
           "linecolor": "white",
           "ticks": "",
           "title": {
            "standoff": 15
           },
           "zerolinecolor": "white",
           "zerolinewidth": 2
          }
         }
        },
        "title": {
         "text": "Comparison of Correlation Matrices"
        },
        "width": 1400,
        "xaxis": {
         "anchor": "y",
         "domain": [
          0,
          0.4
         ]
        },
        "xaxis2": {
         "anchor": "y2",
         "domain": [
          0.6000000000000001,
          1
         ]
        },
        "yaxis": {
         "anchor": "x",
         "domain": [
          0,
          1
         ]
        },
        "yaxis2": {
         "anchor": "x2",
         "domain": [
          0,
          1
         ]
        }
       }
      }
     },
     "metadata": {},
     "output_type": "display_data"
    }
   ],
   "source": [
    "plot_correlation_matrices(correlation_matrix, correlation_matrix_syn, \"Real\", \"Synthetic\")"
   ]
  },
  {
   "cell_type": "code",
   "execution_count": 8,
   "id": "a7575939",
   "metadata": {},
   "outputs": [
    {
     "name": "stdout",
     "output_type": "stream",
     "text": [
      "Generating report ...\n",
      "\n",
      "(1/2) Evaluating Column Shapes: |██████████| 21/21 [00:00<00:00, 39.20it/s]|\n",
      "Column Shapes Score: 93.73%\n",
      "\n",
      "(2/2) Evaluating Column Pair Trends: |██████████| 210/210 [00:01<00:00, 121.01it/s]|\n",
      "Column Pair Trends Score: 91.75%\n",
      "\n",
      "Overall Score (Average): 92.74%\n",
      "\n"
     ]
    }
   ],
   "source": [
    "from sdmetrics.reports.single_table import QualityReport\n",
    "\n",
    "data_syn = data_syn[data.columns.to_list()]\n",
    "\n",
    "metadata = {\n",
    "    \"columns\": {\n",
    "        \"Month\": {\"sdtype\": \"categorical\"},\n",
    "        \"Age\": {\"sdtype\": \"numerical\"},\n",
    "        \"Occupation\": {\"sdtype\": \"categorical\"},\n",
    "        \"Annual_Income\": {\"sdtype\": \"numerical\"},\n",
    "        \"Monthly_Inhand_Salary\": {\"sdtype\": \"numerical\"},\n",
    "        \"Num_Bank_Accounts\": {\"sdtype\": \"numerical\"},\n",
    "        \"Num_Credit_Card\": {\"sdtype\": \"numerical\"},\n",
    "        \"Interest_Rate\": {\"sdtype\": \"numerical\"},\n",
    "        \"Num_of_Loan\": {\"sdtype\": \"numerical\"},\n",
    "        \"Delay_from_due_date\": {\"sdtype\": \"numerical\"},\n",
    "        \"Num_of_Delayed_Payment\": {\"sdtype\": \"numerical\"},\n",
    "        \"Changed_Credit_Limit\": {\"sdtype\": \"numerical\"},\n",
    "        \"Num_Credit_Inquiries\": {\"sdtype\": \"numerical\"},\n",
    "        \"Credit_Mix\": {\"sdtype\": \"categorical\"},\n",
    "        \"Outstanding_Debt\": {\"sdtype\": \"numerical\"},\n",
    "        \"Credit_Utilization_Ratio\": {\"sdtype\": \"numerical\"},\n",
    "        \"Credit_History_Age\": {\"sdtype\": \"numerical\"},\n",
    "        \"Payment_of_Min_Amount\": {\"sdtype\": \"categorical\"},\n",
    "        \"Total_EMI_per_month\": {\"sdtype\": \"numerical\"},\n",
    "        \"Amount_invested_monthly\": {\"sdtype\": \"numerical\"},\n",
    "        \"Monthly_Balance\": {\"sdtype\": \"numerical\"},\n",
    "    }\n",
    "}\n",
    "\n",
    "report = QualityReport()\n",
    "report.generate(data, data_syn, metadata)"
   ]
  },
  {
   "cell_type": "code",
   "execution_count": 9,
   "id": "d6fc964f",
   "metadata": {},
   "outputs": [],
   "source": [
    "data_sample = data_syn.sample(n=9600, random_state=42)\n",
    "# variable assignment according to correlation structure\n",
    "independents_lst = ['Credit_History_Age', 'Delay_from_due_date', 'Num_Bank_Accounts', 'Num_Credit_Inquiries', 'Num_of_Delayed_Payment', 'Outstanding_Debt']\n",
    "dependent_var = 'Interest_Rate'\n",
    "X = data_sample[independents_lst].to_numpy()\n",
    "y = data_sample[dependent_var].to_numpy()\n",
    "data_sample = data_sample.reset_index()"
   ]
  },
  {
   "cell_type": "code",
   "execution_count": 10,
   "id": "3e8d3206",
   "metadata": {},
   "outputs": [
    {
     "name": "stdout",
     "output_type": "stream",
     "text": [
      "10.4**2 * RBF(length_scale=30) + WhiteKernel(noise_level=20)\n"
     ]
    },
    {
     "data": {
      "image/png": "[encoded data removed]",
      "text/plain": [
       "<Figure size 800x400 with 1 Axes>"
      ]
     },
     "metadata": {},
     "output_type": "display_data"
    }
   ],
   "source": [
    "%matplotlib inline\n",
    "y_denoised = bound_denoise(X, y, length_scale_bounds=(1e-3, 30), noise_level_bounds=(1e-5, 20), show_denoising_effect=True)"
   ]
  },
  {
   "cell_type": "code",
   "execution_count": 11,
   "id": "2d08dc25",
   "metadata": {},
   "outputs": [
    {
     "data": {
      "text/html": [
       "<style>#sk-container-id-1 {\n",
       "  /* Definition of color scheme common for light and dark mode */\n",
       "  --sklearn-color-text: #000;\n",
       "  --sklearn-color-text-muted: #666;\n",
       "  --sklearn-color-line: gray;\n",
       "  /* Definition of color scheme for unfitted estimators */\n",
       "  --sklearn-color-unfitted-level-0: #fff5e6;\n",
       "  --sklearn-color-unfitted-level-1: #f6e4d2;\n",
       "  --sklearn-color-unfitted-level-2: #ffe0b3;\n",
       "  --sklearn-color-unfitted-level-3: chocolate;\n",
       "  /* Definition of color scheme for fitted estimators */\n",
       "  --sklearn-color-fitted-level-0: #f0f8ff;\n",
       "  --sklearn-color-fitted-level-1: #d4ebff;\n",
       "  --sklearn-color-fitted-level-2: #b3dbfd;\n",
       "  --sklearn-color-fitted-level-3: cornflowerblue;\n",
       "\n",
       "  /* Specific color for light theme */\n",
       "  --sklearn-color-text-on-default-background: var(--sg-text-color, var(--theme-code-foreground, var(--jp-content-font-color1, black)));\n",
       "  --sklearn-color-background: var(--sg-background-color, var(--theme-background, var(--jp-layout-color0, white)));\n",
       "  --sklearn-color-border-box: var(--sg-text-color, var(--theme-code-foreground, var(--jp-content-font-color1, black)));\n",
       "  --sklearn-color-icon: #696969;\n",
       "\n",
       "  @media (prefers-color-scheme: dark) {\n",
       "    /* Redefinition of color scheme for dark theme */\n",
       "    --sklearn-color-text-on-default-background: var(--sg-text-color, var(--theme-code-foreground, var(--jp-content-font-color1, white)));\n",
       "    --sklearn-color-background: var(--sg-background-color, var(--theme-background, var(--jp-layout-color0, #111)));\n",
       "    --sklearn-color-border-box: var(--sg-text-color, var(--theme-code-foreground, var(--jp-content-font-color1, white)));\n",
       "    --sklearn-color-icon: #878787;\n",
       "  }\n",
       "}\n",
       "\n",
       "#sk-container-id-1 {\n",
       "  color: var(--sklearn-color-text);\n",
       "}\n",
       "\n",
       "#sk-container-id-1 pre {\n",
       "  padding: 0;\n",
       "}\n",
       "\n",
       "#sk-container-id-1 input.sk-hidden--visually {\n",
       "  border: 0;\n",
       "  clip: rect(1px 1px 1px 1px);\n",
       "  clip: rect(1px, 1px, 1px, 1px);\n",
       "  height: 1px;\n",
       "  margin: -1px;\n",
       "  overflow: hidden;\n",
       "  padding: 0;\n",
       "  position: absolute;\n",
       "  width: 1px;\n",
       "}\n",
       "\n",
       "#sk-container-id-1 div.sk-dashed-wrapped {\n",
       "  border: 1px dashed var(--sklearn-color-line);\n",
       "  margin: 0 0.4em 0.5em 0.4em;\n",
       "  box-sizing: border-box;\n",
       "  padding-bottom: 0.4em;\n",
       "  background-color: var(--sklearn-color-background);\n",
       "}\n",
       "\n",
       "#sk-container-id-1 div.sk-container {\n",
       "  /* jupyter's `normalize.less` sets `[hidden] { display: none; }`\n",
       "     but bootstrap.min.css set `[hidden] { display: none !important; }`\n",
       "     so we also need the `!important` here to be able to override the\n",
       "     default hidden behavior on the sphinx rendered scikit-learn.org.\n",
       "     See: https://github.com/scikit-learn/scikit-learn/issues/21755 */\n",
       "  display: inline-block !important;\n",
       "  position: relative;\n",
       "}\n",
       "\n",
       "#sk-container-id-1 div.sk-text-repr-fallback {\n",
       "  display: none;\n",
       "}\n",
       "\n",
       "div.sk-parallel-item,\n",
       "div.sk-serial,\n",
       "div.sk-item {\n",
       "  /* draw centered vertical line to link estimators */\n",
       "  background-image: linear-gradient(var(--sklearn-color-text-on-default-background), var(--sklearn-color-text-on-default-background));\n",
       "  background-size: 2px 100%;\n",
       "  background-repeat: no-repeat;\n",
       "  background-position: center center;\n",
       "}\n",
       "\n",
       "/* Parallel-specific style estimator block */\n",
       "\n",
       "#sk-container-id-1 div.sk-parallel-item::after {\n",
       "  content: \"\";\n",
       "  width: 100%;\n",
       "  border-bottom: 2px solid var(--sklearn-color-text-on-default-background);\n",
       "  flex-grow: 1;\n",
       "}\n",
       "\n",
       "#sk-container-id-1 div.sk-parallel {\n",
       "  display: flex;\n",
       "  align-items: stretch;\n",
       "  justify-content: center;\n",
       "  background-color: var(--sklearn-color-background);\n",
       "  position: relative;\n",
       "}\n",
       "\n",
       "#sk-container-id-1 div.sk-parallel-item {\n",
       "  display: flex;\n",
       "  flex-direction: column;\n",
       "}\n",
       "\n",
       "#sk-container-id-1 div.sk-parallel-item:first-child::after {\n",
       "  align-self: flex-end;\n",
       "  width: 50%;\n",
       "}\n",
       "\n",
       "#sk-container-id-1 div.sk-parallel-item:last-child::after {\n",
       "  align-self: flex-start;\n",
       "  width: 50%;\n",
       "}\n",
       "\n",
       "#sk-container-id-1 div.sk-parallel-item:only-child::after {\n",
       "  width: 0;\n",
       "}\n",
       "\n",
       "/* Serial-specific style estimator block */\n",
       "\n",
       "#sk-container-id-1 div.sk-serial {\n",
       "  display: flex;\n",
       "  flex-direction: column;\n",
       "  align-items: center;\n",
       "  background-color: var(--sklearn-color-background);\n",
       "  padding-right: 1em;\n",
       "  padding-left: 1em;\n",
       "}\n",
       "\n",
       "\n",
       "/* Toggleable style: style used for estimator/Pipeline/ColumnTransformer box that is\n",
       "clickable and can be expanded/collapsed.\n",
       "- Pipeline and ColumnTransformer use this feature and define the default style\n",
       "- Estimators will overwrite some part of the style using the `sk-estimator` class\n",
       "*/\n",
       "\n",
       "/* Pipeline and ColumnTransformer style (default) */\n",
       "\n",
       "#sk-container-id-1 div.sk-toggleable {\n",
       "  /* Default theme specific background. It is overwritten whether we have a\n",
       "  specific estimator or a Pipeline/ColumnTransformer */\n",
       "  background-color: var(--sklearn-color-background);\n",
       "}\n",
       "\n",
       "/* Toggleable label */\n",
       "#sk-container-id-1 label.sk-toggleable__label {\n",
       "  cursor: pointer;\n",
       "  display: flex;\n",
       "  width: 100%;\n",
       "  margin-bottom: 0;\n",
       "  padding: 0.5em;\n",
       "  box-sizing: border-box;\n",
       "  text-align: center;\n",
       "  align-items: start;\n",
       "  justify-content: space-between;\n",
       "  gap: 0.5em;\n",
       "}\n",
       "\n",
       "#sk-container-id-1 label.sk-toggleable__label .caption {\n",
       "  font-size: 0.6rem;\n",
       "  font-weight: lighter;\n",
       "  color: var(--sklearn-color-text-muted);\n",
       "}\n",
       "\n",
       "#sk-container-id-1 label.sk-toggleable__label-arrow:before {\n",
       "  /* Arrow on the left of the label */\n",
       "  content: \"▸\";\n",
       "  float: left;\n",
       "  margin-right: 0.25em;\n",
       "  color: var(--sklearn-color-icon);\n",
       "}\n",
       "\n",
       "#sk-container-id-1 label.sk-toggleable__label-arrow:hover:before {\n",
       "  color: var(--sklearn-color-text);\n",
       "}\n",
       "\n",
       "/* Toggleable content - dropdown */\n",
       "\n",
       "#sk-container-id-1 div.sk-toggleable__content {\n",
       "  max-height: 0;\n",
       "  max-width: 0;\n",
       "  overflow: hidden;\n",
       "  text-align: left;\n",
       "  /* unfitted */\n",
       "  background-color: var(--sklearn-color-unfitted-level-0);\n",
       "}\n",
       "\n",
       "#sk-container-id-1 div.sk-toggleable__content.fitted {\n",
       "  /* fitted */\n",
       "  background-color: var(--sklearn-color-fitted-level-0);\n",
       "}\n",
       "\n",
       "#sk-container-id-1 div.sk-toggleable__content pre {\n",
       "  margin: 0.2em;\n",
       "  border-radius: 0.25em;\n",
       "  color: var(--sklearn-color-text);\n",
       "  /* unfitted */\n",
       "  background-color: var(--sklearn-color-unfitted-level-0);\n",
       "}\n",
       "\n",
       "#sk-container-id-1 div.sk-toggleable__content.fitted pre {\n",
       "  /* unfitted */\n",
       "  background-color: var(--sklearn-color-fitted-level-0);\n",
       "}\n",
       "\n",
       "#sk-container-id-1 input.sk-toggleable__control:checked~div.sk-toggleable__content {\n",
       "  /* Expand drop-down */\n",
       "  max-height: 200px;\n",
       "  max-width: 100%;\n",
       "  overflow: auto;\n",
       "}\n",
       "\n",
       "#sk-container-id-1 input.sk-toggleable__control:checked~label.sk-toggleable__label-arrow:before {\n",
       "  content: \"▾\";\n",
       "}\n",
       "\n",
       "/* Pipeline/ColumnTransformer-specific style */\n",
       "\n",
       "#sk-container-id-1 div.sk-label input.sk-toggleable__control:checked~label.sk-toggleable__label {\n",
       "  color: var(--sklearn-color-text);\n",
       "  background-color: var(--sklearn-color-unfitted-level-2);\n",
       "}\n",
       "\n",
       "#sk-container-id-1 div.sk-label.fitted input.sk-toggleable__control:checked~label.sk-toggleable__label {\n",
       "  background-color: var(--sklearn-color-fitted-level-2);\n",
       "}\n",
       "\n",
       "/* Estimator-specific style */\n",
       "\n",
       "/* Colorize estimator box */\n",
       "#sk-container-id-1 div.sk-estimator input.sk-toggleable__control:checked~label.sk-toggleable__label {\n",
       "  /* unfitted */\n",
       "  background-color: var(--sklearn-color-unfitted-level-2);\n",
       "}\n",
       "\n",
       "#sk-container-id-1 div.sk-estimator.fitted input.sk-toggleable__control:checked~label.sk-toggleable__label {\n",
       "  /* fitted */\n",
       "  background-color: var(--sklearn-color-fitted-level-2);\n",
       "}\n",
       "\n",
       "#sk-container-id-1 div.sk-label label.sk-toggleable__label,\n",
       "#sk-container-id-1 div.sk-label label {\n",
       "  /* The background is the default theme color */\n",
       "  color: var(--sklearn-color-text-on-default-background);\n",
       "}\n",
       "\n",
       "/* On hover, darken the color of the background */\n",
       "#sk-container-id-1 div.sk-label:hover label.sk-toggleable__label {\n",
       "  color: var(--sklearn-color-text);\n",
       "  background-color: var(--sklearn-color-unfitted-level-2);\n",
       "}\n",
       "\n",
       "/* Label box, darken color on hover, fitted */\n",
       "#sk-container-id-1 div.sk-label.fitted:hover label.sk-toggleable__label.fitted {\n",
       "  color: var(--sklearn-color-text);\n",
       "  background-color: var(--sklearn-color-fitted-level-2);\n",
       "}\n",
       "\n",
       "/* Estimator label */\n",
       "\n",
       "#sk-container-id-1 div.sk-label label {\n",
       "  font-family: monospace;\n",
       "  font-weight: bold;\n",
       "  display: inline-block;\n",
       "  line-height: 1.2em;\n",
       "}\n",
       "\n",
       "#sk-container-id-1 div.sk-label-container {\n",
       "  text-align: center;\n",
       "}\n",
       "\n",
       "/* Estimator-specific */\n",
       "#sk-container-id-1 div.sk-estimator {\n",
       "  font-family: monospace;\n",
       "  border: 1px dotted var(--sklearn-color-border-box);\n",
       "  border-radius: 0.25em;\n",
       "  box-sizing: border-box;\n",
       "  margin-bottom: 0.5em;\n",
       "  /* unfitted */\n",
       "  background-color: var(--sklearn-color-unfitted-level-0);\n",
       "}\n",
       "\n",
       "#sk-container-id-1 div.sk-estimator.fitted {\n",
       "  /* fitted */\n",
       "  background-color: var(--sklearn-color-fitted-level-0);\n",
       "}\n",
       "\n",
       "/* on hover */\n",
       "#sk-container-id-1 div.sk-estimator:hover {\n",
       "  /* unfitted */\n",
       "  background-color: var(--sklearn-color-unfitted-level-2);\n",
       "}\n",
       "\n",
       "#sk-container-id-1 div.sk-estimator.fitted:hover {\n",
       "  /* fitted */\n",
       "  background-color: var(--sklearn-color-fitted-level-2);\n",
       "}\n",
       "\n",
       "/* Specification for estimator info (e.g. \"i\" and \"?\") */\n",
       "\n",
       "/* Common style for \"i\" and \"?\" */\n",
       "\n",
       ".sk-estimator-doc-link,\n",
       "a:link.sk-estimator-doc-link,\n",
       "a:visited.sk-estimator-doc-link {\n",
       "  float: right;\n",
       "  font-size: smaller;\n",
       "  line-height: 1em;\n",
       "  font-family: monospace;\n",
       "  background-color: var(--sklearn-color-background);\n",
       "  border-radius: 1em;\n",
       "  height: 1em;\n",
       "  width: 1em;\n",
       "  text-decoration: none !important;\n",
       "  margin-left: 0.5em;\n",
       "  text-align: center;\n",
       "  /* unfitted */\n",
       "  border: var(--sklearn-color-unfitted-level-1) 1pt solid;\n",
       "  color: var(--sklearn-color-unfitted-level-1);\n",
       "}\n",
       "\n",
       ".sk-estimator-doc-link.fitted,\n",
       "a:link.sk-estimator-doc-link.fitted,\n",
       "a:visited.sk-estimator-doc-link.fitted {\n",
       "  /* fitted */\n",
       "  border: var(--sklearn-color-fitted-level-1) 1pt solid;\n",
       "  color: var(--sklearn-color-fitted-level-1);\n",
       "}\n",
       "\n",
       "/* On hover */\n",
       "div.sk-estimator:hover .sk-estimator-doc-link:hover,\n",
       ".sk-estimator-doc-link:hover,\n",
       "div.sk-label-container:hover .sk-estimator-doc-link:hover,\n",
       ".sk-estimator-doc-link:hover {\n",
       "  /* unfitted */\n",
       "  background-color: var(--sklearn-color-unfitted-level-3);\n",
       "  color: var(--sklearn-color-background);\n",
       "  text-decoration: none;\n",
       "}\n",
       "\n",
       "div.sk-estimator.fitted:hover .sk-estimator-doc-link.fitted:hover,\n",
       ".sk-estimator-doc-link.fitted:hover,\n",
       "div.sk-label-container:hover .sk-estimator-doc-link.fitted:hover,\n",
       ".sk-estimator-doc-link.fitted:hover {\n",
       "  /* fitted */\n",
       "  background-color: var(--sklearn-color-fitted-level-3);\n",
       "  color: var(--sklearn-color-background);\n",
       "  text-decoration: none;\n",
       "}\n",
       "\n",
       "/* Span, style for the box shown on hovering the info icon */\n",
       ".sk-estimator-doc-link span {\n",
       "  display: none;\n",
       "  z-index: 9999;\n",
       "  position: relative;\n",
       "  font-weight: normal;\n",
       "  right: .2ex;\n",
       "  padding: .5ex;\n",
       "  margin: .5ex;\n",
       "  width: min-content;\n",
       "  min-width: 20ex;\n",
       "  max-width: 50ex;\n",
       "  color: var(--sklearn-color-text);\n",
       "  box-shadow: 2pt 2pt 4pt #999;\n",
       "  /* unfitted */\n",
       "  background: var(--sklearn-color-unfitted-level-0);\n",
       "  border: .5pt solid var(--sklearn-color-unfitted-level-3);\n",
       "}\n",
       "\n",
       ".sk-estimator-doc-link.fitted span {\n",
       "  /* fitted */\n",
       "  background: var(--sklearn-color-fitted-level-0);\n",
       "  border: var(--sklearn-color-fitted-level-3);\n",
       "}\n",
       "\n",
       ".sk-estimator-doc-link:hover span {\n",
       "  display: block;\n",
       "}\n",
       "\n",
       "/* \"?\"-specific style due to the `<a>` HTML tag */\n",
       "\n",
       "#sk-container-id-1 a.estimator_doc_link {\n",
       "  float: right;\n",
       "  font-size: 1rem;\n",
       "  line-height: 1em;\n",
       "  font-family: monospace;\n",
       "  background-color: var(--sklearn-color-background);\n",
       "  border-radius: 1rem;\n",
       "  height: 1rem;\n",
       "  width: 1rem;\n",
       "  text-decoration: none;\n",
       "  /* unfitted */\n",
       "  color: var(--sklearn-color-unfitted-level-1);\n",
       "  border: var(--sklearn-color-unfitted-level-1) 1pt solid;\n",
       "}\n",
       "\n",
       "#sk-container-id-1 a.estimator_doc_link.fitted {\n",
       "  /* fitted */\n",
       "  border: var(--sklearn-color-fitted-level-1) 1pt solid;\n",
       "  color: var(--sklearn-color-fitted-level-1);\n",
       "}\n",
       "\n",
       "/* On hover */\n",
       "#sk-container-id-1 a.estimator_doc_link:hover {\n",
       "  /* unfitted */\n",
       "  background-color: var(--sklearn-color-unfitted-level-3);\n",
       "  color: var(--sklearn-color-background);\n",
       "  text-decoration: none;\n",
       "}\n",
       "\n",
       "#sk-container-id-1 a.estimator_doc_link.fitted:hover {\n",
       "  /* fitted */\n",
       "  background-color: var(--sklearn-color-fitted-level-3);\n",
       "}\n",
       "</style><div id=\"sk-container-id-1\" class=\"sk-top-container\"><div class=\"sk-text-repr-fallback\"><pre>PySRRegressor.equations_ = [\n",
       "\t    pick     score                                           equation  \\\n",
       "\t0         0.000000                                           13.31878   \n",
       "\t1         0.249935                                     x2 + 7.9156113   \n",
       "\t2         0.191964                                       log(x5) + x2   \n",
       "\t3         0.030681                       sqrt(sqrt(x5 / 0.033057094))   \n",
       "\t4         0.172013                        x2 + sqrt(x5 * 0.048730463)   \n",
       "\t5         0.105419                    x2 + sqrt(sqrt(x5 * 3.9036016))   \n",
       "\t6         0.171233                     sqrt(x3) + sqrt(sqrt(x4 * x5))   \n",
       "\t7         0.161345                    sqrt(sqrt(x3 * x5) + (x2 * x4))   \n",
       "\t8         0.026765              sqrt((x1 + sqrt(x5)) * sqrt(x2 + x3))   \n",
       "\t9         0.084352      sqrt((x4 * x2) + sqrt((x5 * 1.4505166) * x3))   \n",
       "\t10  &gt;&gt;&gt;&gt;  0.090757        sqrt(abs(x1) + ((x4 * x2) + sqrt(x5 * x3)))   \n",
       "\t11        0.003003      sqrt(x1 + (sqrt((x5 * x3) + x0) + (x4 * x2)))   \n",
       "\t12        0.009537  sqrt(sqrt(x3 + x2) * (((sqrt(x5) + x1) * 0.712...   \n",
       "\t13        0.001062  sqrt((x4 + ((sqrt(x5) + abs(x1)) * 0.71208346)...   \n",
       "\t14        0.051030  sqrt(x1 + (sqrt(x2 + x3) * (sqrt(x5 + 1293.487...   \n",
       "\t15        0.042048  sqrt(sqrt(x3 + x2) * (x4 + ((x1 + sqrt(x5)) * ...   \n",
       "\t16        0.002104  sqrt(sqrt(x3 + x2) * (x4 + ((abs(x1) + sqrt(x5...   \n",
       "\t17        0.016933  sqrt(sqrt(x3 + x2) * ((((sqrt(x5) + x1) + x2) ...   \n",
       "\t18        0.001204  abs(sqrt(sqrt(x3 + x2) * (((sqrt(x5) + (x1 + x...   \n",
       "\t19        0.001607  sqrt(sqrt(x3 + x2) * (x4 + (((x1 + sqrt(x5)) +...   \n",
       "\t20        0.001708  abs((cos(sqrt(x0)) + 0.3644617) - sqrt(sqrt(x2...   \n",
       "\t21        0.007725  (sqrt(((x4 + ((sqrt(x5) + x1) * 0.62552816)) +...   \n",
       "\t22        0.000062  sqrt(sqrt((x3 - -1.3616824) + x2) * ((((sqrt(x...   \n",
       "\t23        0.002974  sqrt((((sqrt(x5) + x1) * 0.6188763) + (x4 + x2...   \n",
       "\t24        0.001292  sqrt(sqrt((x3 - -1.3616824) + x2) * (((sqrt(x5...   \n",
       "\t25        0.006151  20.956789 - abs(((x0 * -0.1211184) + -21.38567...   \n",
       "\t26        0.004758  abs(20.965075 - abs(((x0 * -0.1228632) + (sqrt...   \n",
       "\t27        0.008281  20.959562 - abs(((x0 * -0.12415693) + -21.5366...   \n",
       "\t28        0.017692  abs(abs((sqrt(sqrt(x4 + (x2 + x2))) * sqrt(sqr...   \n",
       "\t29        0.002626  abs(abs(abs((x0 * -0.12896174) + (sqrt(sqrt(x4...   \n",
       "\t30        0.001149  abs(16.625553 - abs((sqrt(sqrt(x4 + (x2 + (x2 ...   \n",
       "\t31        0.009487  abs(abs(17.22589 - abs((x0 * -0.13193788) + ((...   \n",
       "\t32        0.001682  abs(abs(17.241255 - abs(abs((x0 * -0.13211302)...   \n",
       "\t33        0.002105  abs((abs(16.716959 - abs((sqrt(sqrt(x2 + (x4 +...   \n",
       "\t34        0.002295  abs((abs(16.609303 - abs(abs((x0 * -0.11867552...   \n",
       "\t35        0.003441  abs((abs(16.369081 - abs(((x0 * -0.116303764) ...   \n",
       "\t36        0.000244  abs((abs(abs(((sqrt(sqrt(x4 + ((x2 + x2) - -1....   \n",
       "\t37        0.005561  abs(abs((sqrt(sqrt(((x1 - -9.208993) * sqrt(x3...   \n",
       "\t38        0.001124  abs(abs(((x0 * -0.111477144) + -18.279776) + (...   \n",
       "\t39        0.013887  abs(abs(((sqrt(sqrt(x5 + ((x1 - -10.625892) * ...   \n",
       "\t40        0.000616  abs(abs(((sqrt(sqrt(((abs(x1) - -10.6204) * sq...   \n",
       "\t41        0.006523  abs(abs((x0 * -0.114840105) + ((sqrt(sqrt(x5 +...   \n",
       "\t42        0.000709  abs(sqrt(sqrt(sqrt(x3 * (x5 * (x2 + x4))))) + ...   \n",
       "\t43        0.002160  abs(abs((sqrt(sqrt(x2 + ((x4 * -0.67827636) + ...   \n",
       "\t44        0.000701  abs((sqrt(sqrt(sqrt((x3 * (x4 + 0.75468683)) *...   \n",
       "\t45        0.000207  abs((sqrt(sqrt(sqrt(((x4 + 0.7111694) * x5) * ...   \n",
       "\t\n",
       "\t         loss  complexity  \n",
       "\t0   19.733515           1  \n",
       "\t1   11.970535           3  \n",
       "\t2    9.879716           4  \n",
       "\t3    9.581198           5  \n",
       "\t4    8.067062           6  \n",
       "\t5    7.259931           7  \n",
       "\t6    6.117401           8  \n",
       "\t7    5.205898           9  \n",
       "\t8    5.068411          10  \n",
       "\t9    4.658415          11  \n",
       "\t10   4.254249          12  \n",
       "\t11   4.241492          13  \n",
       "\t12   4.201232          14  \n",
       "\t13   4.196773          15  \n",
       "\t14   3.987985          16  \n",
       "\t15   3.666329          18  \n",
       "\t16   3.658624          19  \n",
       "\t17   3.597194          20  \n",
       "\t18   3.592866          21  \n",
       "\t19   3.587099          22  \n",
       "\t20   3.580979          23  \n",
       "\t21   3.553422          24  \n",
       "\t22   3.553202          25  \n",
       "\t23   3.542651          26  \n",
       "\t24   3.538077          27  \n",
       "\t25   3.494821          29  \n",
       "\t26   3.478233          30  \n",
       "\t27   3.449550          31  \n",
       "\t28   3.389057          32  \n",
       "\t29   3.380170          33  \n",
       "\t30   3.376288          34  \n",
       "\t31   3.344409          35  \n",
       "\t32   3.338789          36  \n",
       "\t33   3.331768          37  \n",
       "\t34   3.324129          38  \n",
       "\t35   3.312712          39  \n",
       "\t36   3.311903          40  \n",
       "\t37   3.275269          42  \n",
       "\t38   3.271590          43  \n",
       "\t39   3.226473          44  \n",
       "\t40   3.224487          45  \n",
       "\t41   3.203522          46  \n",
       "\t42   3.201252          47  \n",
       "\t43   3.194344          48  \n",
       "\t44   3.192107          49  \n",
       "\t45   3.191446          50  \n",
       "]</pre><b>In a Jupyter environment, please rerun this cell to show the HTML representation or trust the notebook. <br />On GitHub, the HTML representation is unable to render, please try loading this page with nbviewer.org.</b></div><div class=\"sk-container\" hidden><div class=\"sk-item\"><div class=\"sk-estimator fitted sk-toggleable\"><input class=\"sk-toggleable__control sk-hidden--visually\" id=\"sk-estimator-id-1\" type=\"checkbox\" checked><label for=\"sk-estimator-id-1\" class=\"sk-toggleable__label fitted sk-toggleable__label-arrow\"><div><div>PySRRegressor</div></div><div><span class=\"sk-estimator-doc-link fitted\">i<span>Fitted</span></span></div></label><div class=\"sk-toggleable__content fitted\"><pre>PySRRegressor.equations_ = [\n",
       "\t    pick     score                                           equation  \\\n",
       "\t0         0.000000                                           13.31878   \n",
       "\t1         0.249935                                     x2 + 7.9156113   \n",
       "\t2         0.191964                                       log(x5) + x2   \n",
       "\t3         0.030681                       sqrt(sqrt(x5 / 0.033057094))   \n",
       "\t4         0.172013                        x2 + sqrt(x5 * 0.048730463)   \n",
       "\t5         0.105419                    x2 + sqrt(sqrt(x5 * 3.9036016))   \n",
       "\t6         0.171233                     sqrt(x3) + sqrt(sqrt(x4 * x5))   \n",
       "\t7         0.161345                    sqrt(sqrt(x3 * x5) + (x2 * x4))   \n",
       "\t8         0.026765              sqrt((x1 + sqrt(x5)) * sqrt(x2 + x3))   \n",
       "\t9         0.084352      sqrt((x4 * x2) + sqrt((x5 * 1.4505166) * x3))   \n",
       "\t10  &gt;&gt;&gt;&gt;  0.090757        sqrt(abs(x1) + ((x4 * x2) + sqrt(x5 * x3)))   \n",
       "\t11        0.003003      sqrt(x1 + (sqrt((x5 * x3) + x0) + (x4 * x2)))   \n",
       "\t12        0.009537  sqrt(sqrt(x3 + x2) * (((sqrt(x5) + x1) * 0.712...   \n",
       "\t13        0.001062  sqrt((x4 + ((sqrt(x5) + abs(x1)) * 0.71208346)...   \n",
       "\t14        0.051030  sqrt(x1 + (sqrt(x2 + x3) * (sqrt(x5 + 1293.487...   \n",
       "\t15        0.042048  sqrt(sqrt(x3 + x2) * (x4 + ((x1 + sqrt(x5)) * ...   \n",
       "\t16        0.002104  sqrt(sqrt(x3 + x2) * (x4 + ((abs(x1) + sqrt(x5...   \n",
       "\t17        0.016933  sqrt(sqrt(x3 + x2) * ((((sqrt(x5) + x1) + x2) ...   \n",
       "\t18        0.001204  abs(sqrt(sqrt(x3 + x2) * (((sqrt(x5) + (x1 + x...   \n",
       "\t19        0.001607  sqrt(sqrt(x3 + x2) * (x4 + (((x1 + sqrt(x5)) +...   \n",
       "\t20        0.001708  abs((cos(sqrt(x0)) + 0.3644617) - sqrt(sqrt(x2...   \n",
       "\t21        0.007725  (sqrt(((x4 + ((sqrt(x5) + x1) * 0.62552816)) +...   \n",
       "\t22        0.000062  sqrt(sqrt((x3 - -1.3616824) + x2) * ((((sqrt(x...   \n",
       "\t23        0.002974  sqrt((((sqrt(x5) + x1) * 0.6188763) + (x4 + x2...   \n",
       "\t24        0.001292  sqrt(sqrt((x3 - -1.3616824) + x2) * (((sqrt(x5...   \n",
       "\t25        0.006151  20.956789 - abs(((x0 * -0.1211184) + -21.38567...   \n",
       "\t26        0.004758  abs(20.965075 - abs(((x0 * -0.1228632) + (sqrt...   \n",
       "\t27        0.008281  20.959562 - abs(((x0 * -0.12415693) + -21.5366...   \n",
       "\t28        0.017692  abs(abs((sqrt(sqrt(x4 + (x2 + x2))) * sqrt(sqr...   \n",
       "\t29        0.002626  abs(abs(abs((x0 * -0.12896174) + (sqrt(sqrt(x4...   \n",
       "\t30        0.001149  abs(16.625553 - abs((sqrt(sqrt(x4 + (x2 + (x2 ...   \n",
       "\t31        0.009487  abs(abs(17.22589 - abs((x0 * -0.13193788) + ((...   \n",
       "\t32        0.001682  abs(abs(17.241255 - abs(abs((x0 * -0.13211302)...   \n",
       "\t33        0.002105  abs((abs(16.716959 - abs((sqrt(sqrt(x2 + (x4 +...   \n",
       "\t34        0.002295  abs((abs(16.609303 - abs(abs((x0 * -0.11867552...   \n",
       "\t35        0.003441  abs((abs(16.369081 - abs(((x0 * -0.116303764) ...   \n",
       "\t36        0.000244  abs((abs(abs(((sqrt(sqrt(x4 + ((x2 + x2) - -1....   \n",
       "\t37        0.005561  abs(abs((sqrt(sqrt(((x1 - -9.208993) * sqrt(x3...   \n",
       "\t38        0.001124  abs(abs(((x0 * -0.111477144) + -18.279776) + (...   \n",
       "\t39        0.013887  abs(abs(((sqrt(sqrt(x5 + ((x1 - -10.625892) * ...   \n",
       "\t40        0.000616  abs(abs(((sqrt(sqrt(((abs(x1) - -10.6204) * sq...   \n",
       "\t41        0.006523  abs(abs((x0 * -0.114840105) + ((sqrt(sqrt(x5 +...   \n",
       "\t42        0.000709  abs(sqrt(sqrt(sqrt(x3 * (x5 * (x2 + x4))))) + ...   \n",
       "\t43        0.002160  abs(abs((sqrt(sqrt(x2 + ((x4 * -0.67827636) + ...   \n",
       "\t44        0.000701  abs((sqrt(sqrt(sqrt((x3 * (x4 + 0.75468683)) *...   \n",
       "\t45        0.000207  abs((sqrt(sqrt(sqrt(((x4 + 0.7111694) * x5) * ...   \n",
       "\t\n",
       "\t         loss  complexity  \n",
       "\t0   19.733515           1  \n",
       "\t1   11.970535           3  \n",
       "\t2    9.879716           4  \n",
       "\t3    9.581198           5  \n",
       "\t4    8.067062           6  \n",
       "\t5    7.259931           7  \n",
       "\t6    6.117401           8  \n",
       "\t7    5.205898           9  \n",
       "\t8    5.068411          10  \n",
       "\t9    4.658415          11  \n",
       "\t10   4.254249          12  \n",
       "\t11   4.241492          13  \n",
       "\t12   4.201232          14  \n",
       "\t13   4.196773          15  \n",
       "\t14   3.987985          16  \n",
       "\t15   3.666329          18  \n",
       "\t16   3.658624          19  \n",
       "\t17   3.597194          20  \n",
       "\t18   3.592866          21  \n",
       "\t19   3.587099          22  \n",
       "\t20   3.580979          23  \n",
       "\t21   3.553422          24  \n",
       "\t22   3.553202          25  \n",
       "\t23   3.542651          26  \n",
       "\t24   3.538077          27  \n",
       "\t25   3.494821          29  \n",
       "\t26   3.478233          30  \n",
       "\t27   3.449550          31  \n",
       "\t28   3.389057          32  \n",
       "\t29   3.380170          33  \n",
       "\t30   3.376288          34  \n",
       "\t31   3.344409          35  \n",
       "\t32   3.338789          36  \n",
       "\t33   3.331768          37  \n",
       "\t34   3.324129          38  \n",
       "\t35   3.312712          39  \n",
       "\t36   3.311903          40  \n",
       "\t37   3.275269          42  \n",
       "\t38   3.271590          43  \n",
       "\t39   3.226473          44  \n",
       "\t40   3.224487          45  \n",
       "\t41   3.203522          46  \n",
       "\t42   3.201252          47  \n",
       "\t43   3.194344          48  \n",
       "\t44   3.192107          49  \n",
       "\t45   3.191446          50  \n",
       "]</pre></div> </div></div></div></div>"
      ],
      "text/plain": [
       "PySRRegressor.equations_ = [\n",
       "\t    pick     score                                           equation  \\\n",
       "\t0         0.000000                                           13.31878   \n",
       "\t1         0.249935                                     x2 + 7.9156113   \n",
       "\t2         0.191964                                       log(x5) + x2   \n",
       "\t3         0.030681                       sqrt(sqrt(x5 / 0.033057094))   \n",
       "\t4         0.172013                        x2 + sqrt(x5 * 0.048730463)   \n",
       "\t5         0.105419                    x2 + sqrt(sqrt(x5 * 3.9036016))   \n",
       "\t6         0.171233                     sqrt(x3) + sqrt(sqrt(x4 * x5))   \n",
       "\t7         0.161345                    sqrt(sqrt(x3 * x5) + (x2 * x4))   \n",
       "\t8         0.026765              sqrt((x1 + sqrt(x5)) * sqrt(x2 + x3))   \n",
       "\t9         0.084352      sqrt((x4 * x2) + sqrt((x5 * 1.4505166) * x3))   \n",
       "\t10  >>>>  0.090757        sqrt(abs(x1) + ((x4 * x2) + sqrt(x5 * x3)))   \n",
       "\t11        0.003003      sqrt(x1 + (sqrt((x5 * x3) + x0) + (x4 * x2)))   \n",
       "\t12        0.009537  sqrt(sqrt(x3 + x2) * (((sqrt(x5) + x1) * 0.712...   \n",
       "\t13        0.001062  sqrt((x4 + ((sqrt(x5) + abs(x1)) * 0.71208346)...   \n",
       "\t14        0.051030  sqrt(x1 + (sqrt(x2 + x3) * (sqrt(x5 + 1293.487...   \n",
       "\t15        0.042048  sqrt(sqrt(x3 + x2) * (x4 + ((x1 + sqrt(x5)) * ...   \n",
       "\t16        0.002104  sqrt(sqrt(x3 + x2) * (x4 + ((abs(x1) + sqrt(x5...   \n",
       "\t17        0.016933  sqrt(sqrt(x3 + x2) * ((((sqrt(x5) + x1) + x2) ...   \n",
       "\t18        0.001204  abs(sqrt(sqrt(x3 + x2) * (((sqrt(x5) + (x1 + x...   \n",
       "\t19        0.001607  sqrt(sqrt(x3 + x2) * (x4 + (((x1 + sqrt(x5)) +...   \n",
       "\t20        0.001708  abs((cos(sqrt(x0)) + 0.3644617) - sqrt(sqrt(x2...   \n",
       "\t21        0.007725  (sqrt(((x4 + ((sqrt(x5) + x1) * 0.62552816)) +...   \n",
       "\t22        0.000062  sqrt(sqrt((x3 - -1.3616824) + x2) * ((((sqrt(x...   \n",
       "\t23        0.002974  sqrt((((sqrt(x5) + x1) * 0.6188763) + (x4 + x2...   \n",
       "\t24        0.001292  sqrt(sqrt((x3 - -1.3616824) + x2) * (((sqrt(x5...   \n",
       "\t25        0.006151  20.956789 - abs(((x0 * -0.1211184) + -21.38567...   \n",
       "\t26        0.004758  abs(20.965075 - abs(((x0 * -0.1228632) + (sqrt...   \n",
       "\t27        0.008281  20.959562 - abs(((x0 * -0.12415693) + -21.5366...   \n",
       "\t28        0.017692  abs(abs((sqrt(sqrt(x4 + (x2 + x2))) * sqrt(sqr...   \n",
       "\t29        0.002626  abs(abs(abs((x0 * -0.12896174) + (sqrt(sqrt(x4...   \n",
       "\t30        0.001149  abs(16.625553 - abs((sqrt(sqrt(x4 + (x2 + (x2 ...   \n",
       "\t31        0.009487  abs(abs(17.22589 - abs((x0 * -0.13193788) + ((...   \n",
       "\t32        0.001682  abs(abs(17.241255 - abs(abs((x0 * -0.13211302)...   \n",
       "\t33        0.002105  abs((abs(16.716959 - abs((sqrt(sqrt(x2 + (x4 +...   \n",
       "\t34        0.002295  abs((abs(16.609303 - abs(abs((x0 * -0.11867552...   \n",
       "\t35        0.003441  abs((abs(16.369081 - abs(((x0 * -0.116303764) ...   \n",
       "\t36        0.000244  abs((abs(abs(((sqrt(sqrt(x4 + ((x2 + x2) - -1....   \n",
       "\t37        0.005561  abs(abs((sqrt(sqrt(((x1 - -9.208993) * sqrt(x3...   \n",
       "\t38        0.001124  abs(abs(((x0 * -0.111477144) + -18.279776) + (...   \n",
       "\t39        0.013887  abs(abs(((sqrt(sqrt(x5 + ((x1 - -10.625892) * ...   \n",
       "\t40        0.000616  abs(abs(((sqrt(sqrt(((abs(x1) - -10.6204) * sq...   \n",
       "\t41        0.006523  abs(abs((x0 * -0.114840105) + ((sqrt(sqrt(x5 +...   \n",
       "\t42        0.000709  abs(sqrt(sqrt(sqrt(x3 * (x5 * (x2 + x4))))) + ...   \n",
       "\t43        0.002160  abs(abs((sqrt(sqrt(x2 + ((x4 * -0.67827636) + ...   \n",
       "\t44        0.000701  abs((sqrt(sqrt(sqrt((x3 * (x4 + 0.75468683)) *...   \n",
       "\t45        0.000207  abs((sqrt(sqrt(sqrt(((x4 + 0.7111694) * x5) * ...   \n",
       "\t\n",
       "\t         loss  complexity  \n",
       "\t0   19.733515           1  \n",
       "\t1   11.970535           3  \n",
       "\t2    9.879716           4  \n",
       "\t3    9.581198           5  \n",
       "\t4    8.067062           6  \n",
       "\t5    7.259931           7  \n",
       "\t6    6.117401           8  \n",
       "\t7    5.205898           9  \n",
       "\t8    5.068411          10  \n",
       "\t9    4.658415          11  \n",
       "\t10   4.254249          12  \n",
       "\t11   4.241492          13  \n",
       "\t12   4.201232          14  \n",
       "\t13   4.196773          15  \n",
       "\t14   3.987985          16  \n",
       "\t15   3.666329          18  \n",
       "\t16   3.658624          19  \n",
       "\t17   3.597194          20  \n",
       "\t18   3.592866          21  \n",
       "\t19   3.587099          22  \n",
       "\t20   3.580979          23  \n",
       "\t21   3.553422          24  \n",
       "\t22   3.553202          25  \n",
       "\t23   3.542651          26  \n",
       "\t24   3.538077          27  \n",
       "\t25   3.494821          29  \n",
       "\t26   3.478233          30  \n",
       "\t27   3.449550          31  \n",
       "\t28   3.389057          32  \n",
       "\t29   3.380170          33  \n",
       "\t30   3.376288          34  \n",
       "\t31   3.344409          35  \n",
       "\t32   3.338789          36  \n",
       "\t33   3.331768          37  \n",
       "\t34   3.324129          38  \n",
       "\t35   3.312712          39  \n",
       "\t36   3.311903          40  \n",
       "\t37   3.275269          42  \n",
       "\t38   3.271590          43  \n",
       "\t39   3.226473          44  \n",
       "\t40   3.224487          45  \n",
       "\t41   3.203522          46  \n",
       "\t42   3.201252          47  \n",
       "\t43   3.194344          48  \n",
       "\t44   3.192107          49  \n",
       "\t45   3.191446          50  \n",
       "]"
      ]
     },
     "execution_count": 11,
     "metadata": {},
     "output_type": "execute_result"
    }
   ],
   "source": [
    "sr_model = PySRRegressor(\n",
    "        niterations=1024,  # Number of iterations to search for equations\n",
    "        binary_operators=[\"+\", \"-\", \"*\", \"/\"],\n",
    "        unary_operators=[\"sin\", \"cos\", \"exp\", \"log\", \"abs\", \"sqrt\"],\n",
    "        elementwise_loss=\"loss(x, y) = (x - y)^2\",  # Define loss function (mean squared error)\n",
    "        verbosity=0,\n",
    "        maxsize=50\n",
    "    )\n",
    "sr_model.fit(X, y_denoised)"
   ]
  },
  {
   "cell_type": "code",
   "execution_count": 12,
   "id": "cfe54105",
   "metadata": {},
   "outputs": [],
   "source": [
    "# 20250423_202336_qTuNtG\n",
    "# Complexity 18\n",
    "candidate_function = generate_candidate_function(\"sqrt(sqrt(x3 + x2) * (x4 + ((x1 + sqrt(x5)) * 0.6689411))) - cos(sqrt(x0))\")"
   ]
  },
  {
   "cell_type": "code",
   "execution_count": 14,
   "id": "92f20c4a",
   "metadata": {},
   "outputs": [
    {
     "data": {
      "image/png": "[encoded data removed]",
      "text/plain": [
       "<Figure size 1000x500 with 1 Axes>"
      ]
     },
     "metadata": {},
     "output_type": "display_data"
    }
   ],
   "source": [
    "%matplotlib inline\n",
    "y_pred = candidate_function(X)\n",
    "plot_histograms([(y, 'Original Interest Rate', None), (y_pred, 'Predicted Interest Rate', None)], 'Interest Rate', stack=True, figsize_per_plot=(10, 5))"
   ]
  },
  {
   "cell_type": "code",
   "execution_count": 15,
   "id": "b50b824a",
   "metadata": {},
   "outputs": [
    {
     "data": {
      "text/plain": [
       "<Figure size 640x480 with 0 Axes>"
      ]
     },
     "metadata": {},
     "output_type": "display_data"
    },
    {
     "data": {
      "image/png": "[encoded data removed]",
      "text/plain": [
       "<Figure size 1000x500 with 1 Axes>"
      ]
     },
     "metadata": {},
     "output_type": "display_data"
    }
   ],
   "source": [
    "plot_densities([(y, 'riginal Interest Rate', 'blue'), (y_pred, 'Predicted Interest Rate', 'green')], 'Interest Rate', stack=True, figsize_per_plot=(10, 5))"
   ]
  },
  {
   "cell_type": "code",
   "execution_count": 16,
   "id": "52cccdb2",
   "metadata": {},
   "outputs": [],
   "source": [
    "X_total = data_syn[['Credit_History_Age', 'Delay_from_due_date', 'Num_Bank_Accounts', 'Num_Credit_Inquiries', 'Num_of_Delayed_Payment', 'Outstanding_Debt']].to_numpy()\n",
    "y_total = data_syn['Interest_Rate'].to_numpy()"
   ]
  },
  {
   "cell_type": "code",
   "execution_count": 17,
   "id": "2443688a",
   "metadata": {},
   "outputs": [],
   "source": [
    "y_pred_total = candidate_function(X_total)"
   ]
  },
  {
   "cell_type": "code",
   "execution_count": 18,
   "id": "d908aa09",
   "metadata": {},
   "outputs": [],
   "source": [
    "orig_residuals = y_total - y_pred_total"
   ]
  },
  {
   "cell_type": "code",
   "execution_count": 19,
   "id": "430ef579",
   "metadata": {},
   "outputs": [],
   "source": [
    "y_pred_total_corrected, best_amp, errors, _ = renoise_predictions(y_total, y_pred_total, method='stratified', seed=42, clip_lower=0, clip_upper=32, original_residuals=None, tail_replace=True, lower_percentile=50, upper_percentile=25)\n",
    "# ignore error in orig_residuals after first run"
   ]
  },
  {
   "cell_type": "code",
   "execution_count": 21,
   "id": "b680a62b",
   "metadata": {},
   "outputs": [
    {
     "data": {
      "image/png": "[encoded data removed]",
      "text/plain": [
       "<Figure size 1000x500 with 1 Axes>"
      ]
     },
     "metadata": {},
     "output_type": "display_data"
    }
   ],
   "source": [
    "plot_histograms([(y_total, 'Original Interest Rate', None), (y_pred_total_corrected, 'Corrected Predicted Interest Rate', None)], 'Interest Rate', stack=True, figsize_per_plot=(10, 5))"
   ]
  },
  {
   "cell_type": "code",
   "execution_count": 22,
   "id": "608f7669",
   "metadata": {},
   "outputs": [
    {
     "data": {
      "text/plain": [
       "<Figure size 640x480 with 0 Axes>"
      ]
     },
     "metadata": {},
     "output_type": "display_data"
    },
    {
     "data": {
      "image/png": "[encoded data removed]",
      "text/plain": [
       "<Figure size 1000x500 with 1 Axes>"
      ]
     },
     "metadata": {},
     "output_type": "display_data"
    }
   ],
   "source": [
    "plot_densities([(y_total, 'Original Interest Rate', 'blue'), (y_pred_total_corrected, 'Corrected Predicted Interest Rate', 'green')], 'interest rate', stack=True, figsize_per_plot=(10, 5))"
   ]
  },
  {
   "cell_type": "code",
   "execution_count": 29,
   "id": "aeef901b",
   "metadata": {},
   "outputs": [
    {
     "data": {
      "image/png": "[encoded data removed]",
      "text/plain": [
       "<Figure size 1000x500 with 1 Axes>"
      ]
     },
     "metadata": {},
     "output_type": "display_data"
    }
   ],
   "source": [
    "mod_candidate_function = generate_candidate_function(\"sqrt(sqrt(x3 + 1.7*x2) * (x4 + ((x1 + sqrt(x5)) * 0.6689411))) - cos(sqrt(x0))\")\n",
    "mod_y_pred_total = mod_candidate_function(X_total)\n",
    "mod_y_pred_total_corrected, best_amp, errors, _ = renoise_predictions(y_total, mod_y_pred_total, method='stratified', amplification_factor=1.0, seed=42, clip_lower=0, clip_upper=None, original_residuals=orig_residuals, tail_replace=True, lower_percentile=50)\n",
    "# ignore error in orig_residuals after first run\n",
    "plot_histograms([(y_total, 'Original Interest Rate', None), (y_pred_total_corrected, 'Predicted Renoised Interest Rate', None), (mod_y_pred_total_corrected, 'Modified Renoised Interest Rate', None)], 'Interest Rate', stack=True, figsize_per_plot=(10, 5))"
   ]
  }
 ],
 "metadata": {
  "kernelspec": {
   "display_name": "hyperRealDataDescriber",
   "language": "python",
   "name": "python3"
  },
  "language_info": {
   "codemirror_mode": {
    "name": "ipython",
    "version": 3
   },
   "file_extension": ".py",
   "mimetype": "text/x-python",
   "name": "python",
   "nbconvert_exporter": "python",
   "pygments_lexer": "ipython3",
   "version": "3.11.11"
  }
 },
 "nbformat": 4,
 "nbformat_minor": 5
}
