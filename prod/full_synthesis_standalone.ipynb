{
 "cells": [
  {
   "cell_type": "code",
   "execution_count": null,
   "id": "84836730",
   "metadata": {},
   "outputs": [],
   "source": [
    "import pandas as pd\n",
    "import numpy as np\n",
    "import matplotlib.pyplot as plt\n",
    "from distfit import distfit\n",
    "import re\n",
    "from sympy import symbols, simplify, sin, cos, log, Abs, exp, expand_power_base, Mul, Rational, sqrt\n",
    "from sympy.parsing.sympy_parser import parse_expr\n",
    "import seaborn as sns\n",
    "import copy\n",
    "import json\n",
    "from ydata_profiling import ProfileReport\n",
    "import sys\n",
    "import os\n",
    "import bnlearn as bn\n",
    "os.environ[\"JULIA_NUM_THREADS\"] = \"8\"\n",
    "\n",
    "# Add the directory containing 'thesis_utils.py' to the system path\n",
    "sys.path.append(os.path.abspath('..'))  # If 'thesis_utils.py' is one level up\n",
    "# Or use this if it's in the same directory as the notebook:\n",
    "# sys.path.append(os.getcwd())\n",
    "\n",
    "from thesis_utils import * "
   ]
  },
  {
   "cell_type": "code",
   "execution_count": null,
   "id": "da717714",
   "metadata": {},
   "outputs": [],
   "source": [
    "import importlib\n",
    "import thesis_utils  # or whatever your module is called\n",
    "\n",
    "importlib.reload(thesis_utils)\n",
    "\n",
    "from thesis_utils import *"
   ]
  },
  {
   "cell_type": "code",
   "execution_count": null,
   "id": "30842b2d",
   "metadata": {},
   "outputs": [],
   "source": [
    "data = pd.read_csv('C:/Users/svenl/vs_code_projects/hyperRealDataDescriber/data/credit_score/cleaned_credit_score_v2.csv')\n",
    "data = data.drop(['ID', 'Customer_ID', 'Name', 'SSN', 'Type_of_Loan', 'Payment_Behaviour'], axis=1)"
   ]
  },
  {
   "cell_type": "code",
   "execution_count": null,
   "id": "14afe512",
   "metadata": {},
   "outputs": [],
   "source": [
    "# Generate the profiling report\n",
    "profile = ProfileReport(data, title=\"Credit Score Cleaned\", explorative=True)\n",
    "\n",
    "# Get the description object\n",
    "desc = profile.get_description()\n",
    "\n",
    "# Access the correlation matrix\n",
    "correlation_matrix = desc.correlations[\"auto\"]"
   ]
  },
  {
   "cell_type": "code",
   "execution_count": null,
   "id": "61fae09c",
   "metadata": {},
   "outputs": [],
   "source": [
    "categorical_cols = get_categorical_columns(data)\n",
    "distributions = fit_distributions(data)\n",
    "marginals = convert_distfit_to_marginals(distributions, data)"
   ]
  },
  {
   "cell_type": "code",
   "execution_count": null,
   "id": "db943950",
   "metadata": {},
   "outputs": [],
   "source": [
    "data_syn = generate_synthetic_dataset(original_data=data, correlation_matrix=correlation_matrix, categorical_columns=categorical_cols, marginals=marginals, n_rows=37000, correlation_threshold=0.1)"
   ]
  },
  {
   "cell_type": "code",
   "execution_count": null,
   "id": "0246c5db",
   "metadata": {},
   "outputs": [],
   "source": [
    "# Generate the profiling report\n",
    "profile_syn = ProfileReport(data, title=\"Credit Score Cleaned SYN\", explorative=True)\n",
    "\n",
    "# Get the description object\n",
    "desc_syn = profile_syn.get_description()\n",
    "\n",
    "# Access the correlation matrix\n",
    "correlation_matrix_syn = desc_syn.correlations[\"auto\"]"
   ]
  }
 ],
 "metadata": {
  "kernelspec": {
   "display_name": "hyperRealDataDescriber",
   "language": "python",
   "name": "python3"
  },
  "language_info": {
   "name": "python",
   "version": "3.11.11"
  }
 },
 "nbformat": 4,
 "nbformat_minor": 5
}
