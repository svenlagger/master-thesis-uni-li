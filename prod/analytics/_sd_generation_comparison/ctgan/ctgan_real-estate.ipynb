{
 "cells": [
  {
   "cell_type": "code",
   "execution_count": 1,
   "id": "46ed325c",
   "metadata": {},
   "outputs": [
    {
     "name": "stderr",
     "output_type": "stream",
     "text": [
      "Gen. (0.00) | Discrim. (0.00):   0%|          | 0/128 [00:00<?, ?it/s]/home/svenlag/ctgan_test/ctgan_env/lib/python3.12/site-packages/torch/autograd/graph.py:824: UserWarning: Attempting to run cuBLAS, but there was no current CUDA context! Attempting to set the primary context... (Triggered internally at /pytorch/aten/src/ATen/cuda/CublasHandlePool.cpp:181.)\n",
      "  return Variable._execution_engine.run_backward(  # Calls into the C++ engine to run the backward pass\n",
      "Gen. (-0.93) | Discrim. (-0.21): 100%|██████████| 128/128 [00:04<00:00, 31.99it/s]\n"
     ]
    }
   ],
   "source": [
    "from ctgan import CTGAN\n",
    "import pandas as pd\n",
    "\n",
    "data = pd.read_csv('data/real_estate_valuation_cleaned.csv')\n",
    "\n",
    "# Names of the columns that are discrete\n",
    "discrete_columns = []\n",
    "\n",
    "ctgan = CTGAN(epochs=128, verbose=True)\n",
    "ctgan.fit(data, discrete_columns)\n",
    "\n",
    "for i in range(1, 31):\n",
    "    # Create synthetic data\n",
    "    synthetic_data = ctgan.sample(414)\n",
    "    synthetic_data.to_csv(f\"data/real_estate/ctgan_real_estate_{i}.csv\", index=False)\n"
   ]
  },
  {
   "cell_type": "code",
   "execution_count": 2,
   "id": "7123eae9",
   "metadata": {},
   "outputs": [
    {
     "name": "stdout",
     "output_type": "stream",
     "text": [
      "Generating report ...\n",
      "\n",
      "(1/2) Evaluating Column Shapes: |██████████| 6/6 [00:00<00:00, 943.21it/s]|\n",
      "Column Shapes Score: 71.5%\n",
      "\n",
      "(2/2) Evaluating Column Pair Trends: |██████████| 15/15 [00:00<00:00, 329.88it/s]|\n",
      "Column Pair Trends Score: 78.79%\n",
      "\n",
      "Overall Score (Average): 75.15%\n",
      "\n"
     ]
    }
   ],
   "source": [
    "from sdmetrics.reports.single_table import QualityReport\n",
    "\n",
    "synthetic_data = synthetic_data[data.columns.to_list()]\n",
    "\n",
    "metadata = {\n",
    "    \"columns\": {\n",
    "        \"X1 house age\": {\"sdtype\": \"numerical\"},\n",
    "        \"X2 distance MRT station\": {\"sdtype\": \"numerical\"},\n",
    "        \"X3 number convenience stores\": {\"sdtype\": \"numerical\"},\n",
    "        \"X4 lat\": {\"sdtype\": \"numerical\"},\n",
    "        \"X5 long\": {\"sdtype\": \"numerical\"},\n",
    "        \"X6 price\": {\"sdtype\": \"numerical\"}\n",
    "    }\n",
    "}\n",
    "\n",
    "report = QualityReport()\n",
    "report.generate(data, synthetic_data, metadata)"
   ]
  }
 ],
 "metadata": {
  "kernelspec": {
   "display_name": "ctgan_env",
   "language": "python",
   "name": "python3"
  },
  "language_info": {
   "codemirror_mode": {
    "name": "ipython",
    "version": 3
   },
   "file_extension": ".py",
   "mimetype": "text/x-python",
   "name": "python",
   "nbconvert_exporter": "python",
   "pygments_lexer": "ipython3",
   "version": "3.12.3"
  }
 },
 "nbformat": 4,
 "nbformat_minor": 5
}
