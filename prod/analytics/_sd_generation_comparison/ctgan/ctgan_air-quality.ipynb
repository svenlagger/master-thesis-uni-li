{
 "cells": [
  {
   "cell_type": "code",
   "execution_count": 1,
   "id": "46ed325c",
   "metadata": {},
   "outputs": [
    {
     "name": "stderr",
     "output_type": "stream",
     "text": [
      "Gen. (0.00) | Discrim. (0.00):   0%|          | 0/128 [00:00<?, ?it/s]/home/svenlag/ctgan_test/ctgan_env/lib/python3.12/site-packages/torch/autograd/graph.py:824: UserWarning: Attempting to run cuBLAS, but there was no current CUDA context! Attempting to set the primary context... (Triggered internally at /pytorch/aten/src/ATen/cuda/CublasHandlePool.cpp:181.)\n",
      "  return Variable._execution_engine.run_backward(  # Calls into the C++ engine to run the backward pass\n",
      "Gen. (-1.74) | Discrim. (-0.23): 100%|██████████| 128/128 [01:02<00:00,  2.04it/s]\n"
     ]
    }
   ],
   "source": [
    "from ctgan import CTGAN\n",
    "import pandas as pd\n",
    "\n",
    "data = pd.read_csv('data/air_quality_cleaned.csv')\n",
    "data = data.drop(['Date', 'Time'], axis=1)\n",
    "\n",
    "# Names of the columns that are discrete\n",
    "discrete_columns = []\n",
    "\n",
    "ctgan = CTGAN(epochs=128, verbose=True)\n",
    "ctgan.fit(data, discrete_columns)\n",
    "\n",
    "for i in range(1, 31):\n",
    "    # Create synthetic data\n",
    "    synthetic_data = ctgan.sample(6941)\n",
    "    synthetic_data.to_csv(f\"data/air_quality/ctgan_air_quality_{i}.csv\", index=False)"
   ]
  },
  {
   "cell_type": "code",
   "execution_count": null,
   "id": "7123eae9",
   "metadata": {},
   "outputs": [
    {
     "name": "stdout",
     "output_type": "stream",
     "text": [
      "Generating report ...\n",
      "\n",
      "(1/2) Evaluating Column Shapes: |██████████| 12/12 [00:00<00:00, 355.80it/s]|\n",
      "Column Shapes Score: 87.2%\n",
      "\n",
      "(2/2) Evaluating Column Pair Trends: |██████████| 66/66 [00:00<00:00, 282.27it/s]|\n",
      "Column Pair Trends Score: 84.23%\n",
      "\n",
      "Overall Score (Average): 85.71%\n",
      "\n"
     ]
    }
   ],
   "source": [
    "from sdmetrics.reports.single_table import QualityReport\n",
    "\n",
    "synthetic_data = synthetic_data[data.columns.to_list()]\n",
    "\n",
    "metadata = {\n",
    "    \"columns\": {\n",
    "        \"CO(GT)\": {\"sdtype\": \"numerical\"},\n",
    "        \"PT08.S1(CO)\": {\"sdtype\": \"numerical\"},\n",
    "        \"C6H6(GT)\": {\"sdtype\": \"numerical\"},\n",
    "        \"PT08.S2(NMHC)\": {\"sdtype\": \"numerical\"},\n",
    "        \"NOx(GT)\": {\"sdtype\": \"numerical\"},\n",
    "        \"PT08.S3(NOx)\": {\"sdtype\": \"numerical\"},\n",
    "        \"NO2(GT)\": {\"sdtype\": \"numerical\"},\n",
    "        \"PT08.S4(NO2)\": {\"sdtype\": \"numerical\"},\n",
    "        \"PT08.S5(O3)\": {\"sdtype\": \"numerical\"},\n",
    "        \"T\": {\"sdtype\": \"numerical\"},\n",
    "        \"RH\": {\"sdtype\": \"numerical\"},\n",
    "        \"AH\": {\"sdtype\": \"numerical\"}\n",
    "    }\n",
    "}\n",
    "\n",
    "report = QualityReport()\n",
    "report.generate(data, synthetic_data, metadata)"
   ]
  }
 ],
 "metadata": {
  "kernelspec": {
   "display_name": "ctgan_env",
   "language": "python",
   "name": "python3"
  },
  "language_info": {
   "codemirror_mode": {
    "name": "ipython",
    "version": 3
   },
   "file_extension": ".py",
   "mimetype": "text/x-python",
   "name": "python",
   "nbconvert_exporter": "python",
   "pygments_lexer": "ipython3",
   "version": "3.12.3"
  }
 },
 "nbformat": 4,
 "nbformat_minor": 5
}
