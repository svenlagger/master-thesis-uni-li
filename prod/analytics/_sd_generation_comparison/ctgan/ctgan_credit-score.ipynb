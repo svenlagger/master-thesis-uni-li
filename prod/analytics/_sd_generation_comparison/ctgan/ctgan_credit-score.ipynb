{
 "cells": [
  {
   "cell_type": "code",
   "execution_count": 1,
   "id": "46ed325c",
   "metadata": {},
   "outputs": [
    {
     "name": "stderr",
     "output_type": "stream",
     "text": [
      "Gen. (0.00) | Discrim. (0.00):   0%|          | 0/128 [00:00<?, ?it/s]/home/svenlag/ctgan_test/ctgan_env/lib/python3.12/site-packages/torch/autograd/graph.py:824: UserWarning: Attempting to run cuBLAS, but there was no current CUDA context! Attempting to set the primary context... (Triggered internally at /pytorch/aten/src/ATen/cuda/CublasHandlePool.cpp:181.)\n",
      "  return Variable._execution_engine.run_backward(  # Calls into the C++ engine to run the backward pass\n",
      "Gen. (-3.76) | Discrim. (0.01): 100%|██████████| 128/128 [07:51<00:00,  3.69s/it] \n"
     ]
    }
   ],
   "source": [
    "from ctgan import CTGAN\n",
    "import pandas as pd\n",
    "\n",
    "data = pd.read_csv('data/cleaned_credit_score_v2.csv')\n",
    "data = data.drop(['ID', 'Customer_ID', 'Name', 'SSN', 'Type_of_Loan', 'Payment_Behaviour'], axis=1)\n",
    "\n",
    "# Names of the columns that are discrete\n",
    "discrete_columns = [\"Month\", \"Occupation\", \"Credit_Mix\", \"Payment_of_Min_Amount\"]\n",
    "\n",
    "ctgan = CTGAN(epochs=128, verbose=True)\n",
    "ctgan.fit(data, discrete_columns)\n",
    "\n",
    "for i in range(1, 31):\n",
    "    # Create synthetic data\n",
    "    synthetic_data = ctgan.sample(33769)\n",
    "    synthetic_data.to_csv(f\"data/credit_score/ctgan_credit_score_{i}.csv\", index=False)"
   ]
  },
  {
   "cell_type": "code",
   "execution_count": 3,
   "id": "7123eae9",
   "metadata": {},
   "outputs": [
    {
     "name": "stdout",
     "output_type": "stream",
     "text": [
      "Generating report ...\n",
      "\n",
      "(1/2) Evaluating Column Shapes: |██████████| 21/21 [00:00<00:00, 82.99it/s]|\n",
      "Column Shapes Score: 89.3%\n",
      "\n",
      "(2/2) Evaluating Column Pair Trends: |██████████| 210/210 [00:01<00:00, 143.62it/s]|\n",
      "Column Pair Trends Score: 90.05%\n",
      "\n",
      "Overall Score (Average): 89.67%\n",
      "\n"
     ]
    }
   ],
   "source": [
    "from sdmetrics.reports.single_table import QualityReport\n",
    "\n",
    "synthetic_data = synthetic_data[data.columns.to_list()]\n",
    "\n",
    "metadata = {\n",
    "    \"columns\": {\n",
    "        \"Month\": {\"sdtype\": \"categorical\"},\n",
    "        \"Age\": {\"sdtype\": \"numerical\"},\n",
    "        \"Occupation\": {\"sdtype\": \"categorical\"},\n",
    "        \"Annual_Income\": {\"sdtype\": \"numerical\"},\n",
    "        \"Monthly_Inhand_Salary\": {\"sdtype\": \"numerical\"},\n",
    "        \"Num_Bank_Accounts\": {\"sdtype\": \"numerical\"},\n",
    "        \"Num_Credit_Card\": {\"sdtype\": \"numerical\"},\n",
    "        \"Interest_Rate\": {\"sdtype\": \"numerical\"},\n",
    "        \"Num_of_Loan\": {\"sdtype\": \"numerical\"},\n",
    "        \"Delay_from_due_date\": {\"sdtype\": \"numerical\"},\n",
    "        \"Num_of_Delayed_Payment\": {\"sdtype\": \"numerical\"},\n",
    "        \"Changed_Credit_Limit\": {\"sdtype\": \"numerical\"},\n",
    "        \"Num_Credit_Inquiries\": {\"sdtype\": \"numerical\"},\n",
    "        \"Credit_Mix\": {\"sdtype\": \"categorical\"},\n",
    "        \"Outstanding_Debt\": {\"sdtype\": \"numerical\"},\n",
    "        \"Credit_Utilization_Ratio\": {\"sdtype\": \"numerical\"},\n",
    "        \"Credit_History_Age\": {\"sdtype\": \"numerical\"},\n",
    "        \"Payment_of_Min_Amount\": {\"sdtype\": \"categorical\"},\n",
    "        \"Total_EMI_per_month\": {\"sdtype\": \"numerical\"},\n",
    "        \"Amount_invested_monthly\": {\"sdtype\": \"numerical\"},\n",
    "        \"Monthly_Balance\": {\"sdtype\": \"numerical\"},\n",
    "    }\n",
    "}\n",
    "\n",
    "report = QualityReport()\n",
    "report.generate(data, synthetic_data, metadata)"
   ]
  }
 ],
 "metadata": {
  "kernelspec": {
   "display_name": "ctgan_env",
   "language": "python",
   "name": "python3"
  },
  "language_info": {
   "codemirror_mode": {
    "name": "ipython",
    "version": 3
   },
   "file_extension": ".py",
   "mimetype": "text/x-python",
   "name": "python",
   "nbconvert_exporter": "python",
   "pygments_lexer": "ipython3",
   "version": "3.12.3"
  }
 },
 "nbformat": 4,
 "nbformat_minor": 5
}
