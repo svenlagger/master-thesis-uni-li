{
 "cells": [
  {
   "cell_type": "code",
   "execution_count": 1,
   "id": "46ed325c",
   "metadata": {},
   "outputs": [
    {
     "name": "stderr",
     "output_type": "stream",
     "text": [
      "Gen. (0.00) | Discrim. (0.00):   0%|          | 0/128 [00:00<?, ?it/s]/home/svenlag/ctgan_test/ctgan_env/lib/python3.12/site-packages/torch/autograd/graph.py:824: UserWarning: Attempting to run cuBLAS, but there was no current CUDA context! Attempting to set the primary context... (Triggered internally at /pytorch/aten/src/ATen/cuda/CublasHandlePool.cpp:181.)\n",
      "  return Variable._execution_engine.run_backward(  # Calls into the C++ engine to run the backward pass\n",
      "Gen. (-1.35) | Discrim. (-0.15): 100%|██████████| 128/128 [00:32<00:00,  3.92it/s]\n"
     ]
    }
   ],
   "source": [
    "from ctgan import CTGAN\n",
    "import pandas as pd\n",
    "\n",
    "data = pd.read_csv('data/customer_churn.csv')\n",
    "\n",
    "# Names of the columns that are discrete\n",
    "discrete_columns = []\n",
    "\n",
    "ctgan = CTGAN(epochs=128, verbose=True)\n",
    "ctgan.fit(data, discrete_columns)\n",
    "\n",
    "for i in range(1, 31):\n",
    "    # Create synthetic data\n",
    "    synthetic_data = ctgan.sample(3150)\n",
    "    synthetic_data.to_csv(f\"data/customer_churn/ctgan_customer_churn_{i}.csv\", index=False)\n",
    "\n"
   ]
  },
  {
   "cell_type": "code",
   "execution_count": 2,
   "id": "7123eae9",
   "metadata": {},
   "outputs": [
    {
     "name": "stdout",
     "output_type": "stream",
     "text": [
      "Generating report ...\n",
      "\n",
      "(1/2) Evaluating Column Shapes: |██████████| 14/14 [00:00<00:00, 652.74it/s]|\n",
      "Column Shapes Score: 84.72%\n",
      "\n",
      "(2/2) Evaluating Column Pair Trends: |██████████| 91/91 [00:00<00:00, 328.75it/s]|\n",
      "Column Pair Trends Score: 88.68%\n",
      "\n",
      "Overall Score (Average): 86.7%\n",
      "\n"
     ]
    }
   ],
   "source": [
    "from sdmetrics.reports.single_table import QualityReport\n",
    "\n",
    "synthetic_data = synthetic_data[data.columns.to_list()]\n",
    "\n",
    "metadata = {\n",
    "    \"columns\": {\n",
    "        \"Call Failure\": {\"sdtype\": \"numerical\"},\n",
    "        \"Complains\": {\"sdtype\": \"numerical\"},\n",
    "        \"Subscription Length\": {\"sdtype\": \"numerical\"},\n",
    "        \"Charge Amount\": {\"sdtype\": \"numerical\"},\n",
    "        \"Seconds of Use\": {\"sdtype\": \"numerical\"},\n",
    "        \"Frequency of use\": {\"sdtype\": \"numerical\"},\n",
    "        \"Frequency of SMS\": {\"sdtype\": \"numerical\"},\n",
    "        \"Distinct Called Numbers\": {\"sdtype\": \"numerical\"},\n",
    "        \"Age Group\": {\"sdtype\": \"numerical\"},\n",
    "        \"Tariff Plan\": {\"sdtype\": \"numerical\"},\n",
    "        \"Status\": {\"sdtype\": \"numerical\"},\n",
    "        \"Age\": {\"sdtype\": \"numerical\"},\n",
    "        \"Customer Value\": {\"sdtype\": \"numerical\"},\n",
    "        \"Churn\": {\"sdtype\": \"numerical\"}\n",
    "    }\n",
    "}\n",
    "\n",
    "report = QualityReport()\n",
    "report.generate(data, synthetic_data, metadata)"
   ]
  }
 ],
 "metadata": {
  "kernelspec": {
   "display_name": "ctgan_env",
   "language": "python",
   "name": "python3"
  },
  "language_info": {
   "codemirror_mode": {
    "name": "ipython",
    "version": 3
   },
   "file_extension": ".py",
   "mimetype": "text/x-python",
   "name": "python",
   "nbconvert_exporter": "python",
   "pygments_lexer": "ipython3",
   "version": "3.12.3"
  }
 },
 "nbformat": 4,
 "nbformat_minor": 5
}
