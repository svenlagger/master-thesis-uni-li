{
 "cells": [
  {
   "cell_type": "code",
   "execution_count": 1,
   "id": "46ed325c",
   "metadata": {},
   "outputs": [
    {
     "name": "stderr",
     "output_type": "stream",
     "text": [
      "Gen. (0.00) | Discrim. (0.00):   0%|          | 0/128 [00:00<?, ?it/s]/home/svenlag/ctgan_test/ctgan_env/lib/python3.12/site-packages/torch/autograd/graph.py:824: UserWarning: Attempting to run cuBLAS, but there was no current CUDA context! Attempting to set the primary context... (Triggered internally at /pytorch/aten/src/ATen/cuda/CublasHandlePool.cpp:181.)\n",
      "  return Variable._execution_engine.run_backward(  # Calls into the C++ engine to run the backward pass\n",
      "Gen. (-0.40) | Discrim. (0.02): 100%|██████████| 128/128 [00:08<00:00, 15.58it/s] \n"
     ]
    }
   ],
   "source": [
    "from ctgan import CTGAN\n",
    "import pandas as pd\n",
    "\n",
    "data = pd.read_csv('data/insurance_original.csv')\n",
    "\n",
    "# Names of the columns that are discrete\n",
    "discrete_columns = [\"sex\", \"children\", \"smoker\", \"region\"]\n",
    "\n",
    "ctgan = CTGAN(epochs=128, verbose=True)\n",
    "ctgan.fit(data, discrete_columns)\n",
    "\n",
    "for i in range(1, 31):\n",
    "    # Create synthetic data\n",
    "    synthetic_data = ctgan.sample(1338)\n",
    "    synthetic_data.to_csv(f\"data/insurance/ctgan_insurance_{i}.csv\", index=False)"
   ]
  },
  {
   "cell_type": "code",
   "execution_count": 5,
   "id": "7123eae9",
   "metadata": {},
   "outputs": [
    {
     "name": "stdout",
     "output_type": "stream",
     "text": [
      "Generating report ...\n",
      "\n",
      "(1/2) Evaluating Column Shapes: |██████████| 7/7 [00:00<00:00, 651.82it/s]|\n",
      "Column Shapes Score: 88.23%\n",
      "\n",
      "(2/2) Evaluating Column Pair Trends: |██████████| 21/21 [00:00<00:00, 358.65it/s]|\n",
      "Column Pair Trends Score: 88.91%\n",
      "\n",
      "Overall Score (Average): 88.57%\n",
      "\n"
     ]
    }
   ],
   "source": [
    "from sdmetrics.reports.single_table import QualityReport\n",
    "\n",
    "synthetic_data = synthetic_data[data.columns.to_list()]\n",
    "\n",
    "metadata = {\n",
    "    \"columns\": {\n",
    "        \"age\": {\"sdtype\": \"numerical\"},\n",
    "        \"sex\": {\"sdtype\": \"categorical\"},\n",
    "        \"bmi\": {\"sdtype\": \"numerical\"},\n",
    "        \"children\": {\"sdtype\": \"numerical\"},\n",
    "        \"smoker\": {\"sdtype\": \"numerical\"},\n",
    "        \"region\": {\"sdtype\": \"categorical\"},\n",
    "        \"charges\": {\"sdtype\": \"numerical\"},\n",
    "    }\n",
    "}\n",
    "\n",
    "report = QualityReport()\n",
    "report.generate(data, synthetic_data, metadata)"
   ]
  }
 ],
 "metadata": {
  "kernelspec": {
   "display_name": "ctgan_env",
   "language": "python",
   "name": "python3"
  },
  "language_info": {
   "codemirror_mode": {
    "name": "ipython",
    "version": 3
   },
   "file_extension": ".py",
   "mimetype": "text/x-python",
   "name": "python",
   "nbconvert_exporter": "python",
   "pygments_lexer": "ipython3",
   "version": "3.12.3"
  }
 },
 "nbformat": 4,
 "nbformat_minor": 5
}
