{
 "cells": [
  {
   "cell_type": "code",
   "execution_count": 1,
   "id": "a7c8bfec",
   "metadata": {},
   "outputs": [
    {
     "name": "stderr",
     "output_type": "stream",
     "text": [
      "/home/svenlag/copula_test/copula_env/lib/python3.12/site-packages/sdv/metadata/metadata.py:205: UserWarning: No table name was provided to metadata containing only one table. Assigning name: table\n",
      "  warnings.warn(\n"
     ]
    }
   ],
   "source": [
    "from sdv.single_table import GaussianCopulaSynthesizer\n",
    "from sdv.metadata import Metadata\n",
    "import pandas as pd\n",
    "\n",
    "data = pd.read_csv('data/real_estate_valuation_cleaned.csv')\n",
    "\n",
    "metadata = {\n",
    "    \"columns\": {\n",
    "        \"X1 house age\": {\"sdtype\": \"numerical\"},\n",
    "        \"X2 distance MRT station\": {\"sdtype\": \"numerical\"},\n",
    "        \"X3 number convenience stores\": {\"sdtype\": \"numerical\"},\n",
    "        \"X4 lat\": {\"sdtype\": \"numerical\"},\n",
    "        \"X5 long\": {\"sdtype\": \"numerical\"},\n",
    "        \"X6 price\": {\"sdtype\": \"numerical\"}\n",
    "    }\n",
    "}\n",
    "\n",
    "# Assuming 'metadata_dict' is your dictionary\n",
    "metadata = Metadata.load_from_dict(metadata)\n",
    "\n",
    "synthesizer = GaussianCopulaSynthesizer(metadata)\n",
    "synthesizer.fit(data=data)\n",
    "\n",
    "for i in range(1, 31):\n",
    "    # Create synthetic data\n",
    "    synthetic_data = synthesizer.sample(414)\n",
    "    synthetic_data.to_csv(f\"data/real_estate/sdv-copula_real_estate_{i}.csv\", index=False)"
   ]
  },
  {
   "cell_type": "code",
   "execution_count": 2,
   "id": "61379098",
   "metadata": {},
   "outputs": [
    {
     "name": "stdout",
     "output_type": "stream",
     "text": [
      "Generating report ...\n",
      "\n",
      "(1/2) Evaluating Column Shapes: |██████████| 6/6 [00:00<00:00, 808.00it/s]|\n",
      "Column Shapes Score: 77.54%\n",
      "\n",
      "(2/2) Evaluating Column Pair Trends: |██████████| 15/15 [00:00<00:00, 297.82it/s]|\n",
      "Column Pair Trends Score: 95.02%\n",
      "\n",
      "Overall Score (Average): 86.28%\n",
      "\n"
     ]
    }
   ],
   "source": [
    "from sdv.evaluation.single_table import evaluate_quality\n",
    "\n",
    "quality_report = evaluate_quality(\n",
    "    data,\n",
    "    synthetic_data,\n",
    "    metadata)"
   ]
  }
 ],
 "metadata": {
  "kernelspec": {
   "display_name": "copula_env",
   "language": "python",
   "name": "python3"
  },
  "language_info": {
   "codemirror_mode": {
    "name": "ipython",
    "version": 3
   },
   "file_extension": ".py",
   "mimetype": "text/x-python",
   "name": "python",
   "nbconvert_exporter": "python",
   "pygments_lexer": "ipython3",
   "version": "3.12.3"
  }
 },
 "nbformat": 4,
 "nbformat_minor": 5
}
