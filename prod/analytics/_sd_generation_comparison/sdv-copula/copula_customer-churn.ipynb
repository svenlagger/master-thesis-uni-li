{
 "cells": [
  {
   "cell_type": "code",
   "execution_count": 1,
   "id": "a7c8bfec",
   "metadata": {},
   "outputs": [
    {
     "name": "stderr",
     "output_type": "stream",
     "text": [
      "/home/svenlag/copula_test/copula_env/lib/python3.12/site-packages/sdv/metadata/metadata.py:205: UserWarning: No table name was provided to metadata containing only one table. Assigning name: table\n",
      "  warnings.warn(\n"
     ]
    }
   ],
   "source": [
    "from sdv.single_table import GaussianCopulaSynthesizer\n",
    "from sdv.metadata import Metadata\n",
    "import pandas as pd\n",
    "\n",
    "data = pd.read_csv('data/customer_churn.csv')\n",
    "\n",
    "metadata = {\n",
    "    \"columns\": {\n",
    "        \"Call Failure\": {\"sdtype\": \"numerical\"},\n",
    "        \"Complains\": {\"sdtype\": \"numerical\"},\n",
    "        \"Subscription Length\": {\"sdtype\": \"numerical\"},\n",
    "        \"Charge Amount\": {\"sdtype\": \"numerical\"},\n",
    "        \"Seconds of Use\": {\"sdtype\": \"numerical\"},\n",
    "        \"Frequency of use\": {\"sdtype\": \"numerical\"},\n",
    "        \"Frequency of SMS\": {\"sdtype\": \"numerical\"},\n",
    "        \"Distinct Called Numbers\": {\"sdtype\": \"numerical\"},\n",
    "        \"Age Group\": {\"sdtype\": \"numerical\"},\n",
    "        \"Tariff Plan\": {\"sdtype\": \"numerical\"},\n",
    "        \"Status\": {\"sdtype\": \"numerical\"},\n",
    "        \"Age\": {\"sdtype\": \"numerical\"},\n",
    "        \"Customer Value\": {\"sdtype\": \"numerical\"},\n",
    "        \"Churn\": {\"sdtype\": \"numerical\"}\n",
    "    }\n",
    "}\n",
    "\n",
    "# Assuming 'metadata_dict' is your dictionary\n",
    "metadata = Metadata.load_from_dict(metadata)\n",
    "\n",
    "synthesizer = GaussianCopulaSynthesizer(metadata)\n",
    "synthesizer.fit(data=data)\n",
    "\n",
    "for i in range(1, 31):\n",
    "    # Create synthetic data\n",
    "    synthetic_data = synthesizer.sample(3150)\n",
    "    synthetic_data.to_csv(f\"data/customer_churn/sdv-copula_customer_churn_{i}.csv\", index=False)"
   ]
  },
  {
   "cell_type": "code",
   "execution_count": 4,
   "id": "61379098",
   "metadata": {},
   "outputs": [
    {
     "name": "stdout",
     "output_type": "stream",
     "text": [
      "Generating report ...\n",
      "\n",
      "(1/2) Evaluating Column Shapes: |██████████| 14/14 [00:00<00:00, 312.72it/s]|\n",
      "Column Shapes Score: 65.08%\n",
      "\n",
      "(2/2) Evaluating Column Pair Trends: |██████████| 91/91 [00:00<00:00, 394.05it/s]|\n",
      "Column Pair Trends Score: 93.37%\n",
      "\n",
      "Overall Score (Average): 79.23%\n",
      "\n"
     ]
    }
   ],
   "source": [
    "from sdv.evaluation.single_table import evaluate_quality\n",
    "\n",
    "quality_report = evaluate_quality(\n",
    "    data,\n",
    "    synthetic_data,\n",
    "    metadata)"
   ]
  }
 ],
 "metadata": {
  "kernelspec": {
   "display_name": "copula_env",
   "language": "python",
   "name": "python3"
  },
  "language_info": {
   "codemirror_mode": {
    "name": "ipython",
    "version": 3
   },
   "file_extension": ".py",
   "mimetype": "text/x-python",
   "name": "python",
   "nbconvert_exporter": "python",
   "pygments_lexer": "ipython3",
   "version": "3.12.3"
  }
 },
 "nbformat": 4,
 "nbformat_minor": 5
}
