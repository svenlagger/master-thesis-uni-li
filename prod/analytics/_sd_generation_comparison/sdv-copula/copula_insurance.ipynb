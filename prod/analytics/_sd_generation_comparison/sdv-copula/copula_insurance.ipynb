{
 "cells": [
  {
   "cell_type": "code",
   "execution_count": 1,
   "id": "a7c8bfec",
   "metadata": {},
   "outputs": [
    {
     "name": "stderr",
     "output_type": "stream",
     "text": [
      "/home/svenlag/copula_test/copula_env/lib/python3.12/site-packages/sdv/metadata/metadata.py:205: UserWarning: No table name was provided to metadata containing only one table. Assigning name: table\n",
      "  warnings.warn(\n"
     ]
    }
   ],
   "source": [
    "from sdv.single_table import GaussianCopulaSynthesizer\n",
    "from sdv.metadata import Metadata\n",
    "import pandas as pd\n",
    "\n",
    "data = pd.read_csv('data/insurance_original.csv')\n",
    "\n",
    "metadata = {\n",
    "    \"columns\": {\n",
    "        \"age\": {\"sdtype\": \"numerical\"},\n",
    "        \"sex\": {\"sdtype\": \"categorical\"},\n",
    "        \"bmi\": {\"sdtype\": \"numerical\"},\n",
    "        \"children\": {\"sdtype\": \"numerical\"},\n",
    "        \"smoker\": {\"sdtype\": \"categorical\"},\n",
    "        \"region\": {\"sdtype\": \"categorical\"},\n",
    "        \"charges\": {\"sdtype\": \"numerical\"},\n",
    "    }\n",
    "}\n",
    "\n",
    "# Assuming 'metadata_dict' is your dictionary\n",
    "metadata = Metadata.load_from_dict(metadata)\n",
    "\n",
    "synthesizer = GaussianCopulaSynthesizer(metadata)\n",
    "synthesizer.fit(data=data)\n",
    "\n",
    "for i in range(1, 31):\n",
    "    # Create synthetic data\n",
    "    synthetic_data = synthesizer.sample(1338)\n",
    "    synthetic_data.to_csv(f\"data/insurance/sdv-copula_insurance_{i}.csv\", index=False)"
   ]
  },
  {
   "cell_type": "code",
   "execution_count": 3,
   "id": "61379098",
   "metadata": {},
   "outputs": [
    {
     "name": "stdout",
     "output_type": "stream",
     "text": [
      "Generating report ...\n",
      "\n",
      "(1/2) Evaluating Column Shapes: |██████████| 7/7 [00:00<00:00, 505.38it/s]|\n",
      "Column Shapes Score: 90.58%\n",
      "\n",
      "(2/2) Evaluating Column Pair Trends: |██████████| 21/21 [00:00<00:00, 248.89it/s]|\n",
      "Column Pair Trends Score: 86.9%\n",
      "\n",
      "Overall Score (Average): 88.74%\n",
      "\n"
     ]
    }
   ],
   "source": [
    "from sdv.evaluation.single_table import evaluate_quality\n",
    "\n",
    "quality_report = evaluate_quality(\n",
    "    data,\n",
    "    synthetic_data,\n",
    "    metadata)"
   ]
  }
 ],
 "metadata": {
  "kernelspec": {
   "display_name": "copula_env",
   "language": "python",
   "name": "python3"
  },
  "language_info": {
   "codemirror_mode": {
    "name": "ipython",
    "version": 3
   },
   "file_extension": ".py",
   "mimetype": "text/x-python",
   "name": "python",
   "nbconvert_exporter": "python",
   "pygments_lexer": "ipython3",
   "version": "3.12.3"
  }
 },
 "nbformat": 4,
 "nbformat_minor": 5
}
