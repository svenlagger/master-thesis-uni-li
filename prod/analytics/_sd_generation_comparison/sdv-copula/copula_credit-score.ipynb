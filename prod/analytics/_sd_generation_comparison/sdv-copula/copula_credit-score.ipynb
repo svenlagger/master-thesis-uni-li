{
 "cells": [
  {
   "cell_type": "code",
   "execution_count": 1,
   "id": "a7c8bfec",
   "metadata": {},
   "outputs": [
    {
     "name": "stderr",
     "output_type": "stream",
     "text": [
      "/home/svenlag/copula_test/copula_env/lib/python3.12/site-packages/sdv/metadata/metadata.py:205: UserWarning: No table name was provided to metadata containing only one table. Assigning name: table\n",
      "  warnings.warn(\n"
     ]
    }
   ],
   "source": [
    "from sdv.single_table import GaussianCopulaSynthesizer\n",
    "from sdv.metadata import Metadata\n",
    "import pandas as pd\n",
    "\n",
    "data = pd.read_csv('data/cleaned_credit_score_v2.csv')\n",
    "data = data.drop(['ID', 'Customer_ID', 'Name', 'SSN', 'Type_of_Loan', 'Payment_Behaviour'], axis=1)\n",
    "\n",
    "metadata = {\n",
    "    \"columns\": {\n",
    "        \"Month\": {\"sdtype\": \"categorical\"},\n",
    "        \"Age\": {\"sdtype\": \"numerical\"},\n",
    "        \"Occupation\": {\"sdtype\": \"categorical\"},\n",
    "        \"Annual_Income\": {\"sdtype\": \"numerical\"},\n",
    "        \"Monthly_Inhand_Salary\": {\"sdtype\": \"numerical\"},\n",
    "        \"Num_Bank_Accounts\": {\"sdtype\": \"numerical\"},\n",
    "        \"Num_Credit_Card\": {\"sdtype\": \"numerical\"},\n",
    "        \"Interest_Rate\": {\"sdtype\": \"numerical\"},\n",
    "        \"Num_of_Loan\": {\"sdtype\": \"numerical\"},\n",
    "        \"Delay_from_due_date\": {\"sdtype\": \"numerical\"},\n",
    "        \"Num_of_Delayed_Payment\": {\"sdtype\": \"numerical\"},\n",
    "        \"Changed_Credit_Limit\": {\"sdtype\": \"numerical\"},\n",
    "        \"Num_Credit_Inquiries\": {\"sdtype\": \"numerical\"},\n",
    "        \"Credit_Mix\": {\"sdtype\": \"categorical\"},\n",
    "        \"Outstanding_Debt\": {\"sdtype\": \"numerical\"},\n",
    "        \"Credit_Utilization_Ratio\": {\"sdtype\": \"numerical\"},\n",
    "        \"Credit_History_Age\": {\"sdtype\": \"numerical\"},\n",
    "        \"Payment_of_Min_Amount\": {\"sdtype\": \"categorical\"},\n",
    "        \"Total_EMI_per_month\": {\"sdtype\": \"numerical\"},\n",
    "        \"Amount_invested_monthly\": {\"sdtype\": \"numerical\"},\n",
    "        \"Monthly_Balance\": {\"sdtype\": \"numerical\"},\n",
    "    }\n",
    "}\n",
    "\n",
    "# Assuming 'metadata_dict' is your dictionary\n",
    "metadata = Metadata.load_from_dict(metadata)\n",
    "\n",
    "synthesizer = GaussianCopulaSynthesizer(metadata)\n",
    "synthesizer.fit(data=data)\n",
    "\n",
    "for i in range(1, 31):\n",
    "    # Create synthetic data\n",
    "    synthetic_data = synthesizer.sample(33769)\n",
    "    synthetic_data.to_csv(f\"data/credit_score/sdv-copula_credit_score_{i}.csv\", index=False)"
   ]
  },
  {
   "cell_type": "code",
   "execution_count": 2,
   "id": "61379098",
   "metadata": {},
   "outputs": [
    {
     "name": "stdout",
     "output_type": "stream",
     "text": [
      "Generating report ...\n",
      "\n",
      "(1/2) Evaluating Column Shapes: |██████████| 21/21 [00:00<00:00, 66.73it/s]|\n",
      "Column Shapes Score: 92.97%\n",
      "\n",
      "(2/2) Evaluating Column Pair Trends: |██████████| 210/210 [00:01<00:00, 142.34it/s]|\n",
      "Column Pair Trends Score: 92.33%\n",
      "\n",
      "Overall Score (Average): 92.65%\n",
      "\n"
     ]
    }
   ],
   "source": [
    "from sdv.evaluation.single_table import evaluate_quality\n",
    "\n",
    "quality_report = evaluate_quality(\n",
    "    data,\n",
    "    synthetic_data,\n",
    "    metadata)"
   ]
  }
 ],
 "metadata": {
  "kernelspec": {
   "display_name": "copula_env",
   "language": "python",
   "name": "python3"
  },
  "language_info": {
   "codemirror_mode": {
    "name": "ipython",
    "version": 3
   },
   "file_extension": ".py",
   "mimetype": "text/x-python",
   "name": "python",
   "nbconvert_exporter": "python",
   "pygments_lexer": "ipython3",
   "version": "3.12.3"
  }
 },
 "nbformat": 4,
 "nbformat_minor": 5
}
