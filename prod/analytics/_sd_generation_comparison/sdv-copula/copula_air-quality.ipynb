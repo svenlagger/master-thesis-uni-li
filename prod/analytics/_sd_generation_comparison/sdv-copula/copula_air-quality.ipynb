{
 "cells": [
  {
   "cell_type": "code",
   "execution_count": 1,
   "id": "a7c8bfec",
   "metadata": {},
   "outputs": [
    {
     "name": "stderr",
     "output_type": "stream",
     "text": [
      "/home/svenlag/copula_test/copula_env/lib/python3.12/site-packages/sdv/metadata/metadata.py:205: UserWarning: No table name was provided to metadata containing only one table. Assigning name: table\n",
      "  warnings.warn(\n"
     ]
    }
   ],
   "source": [
    "from sdv.single_table import GaussianCopulaSynthesizer\n",
    "from sdv.metadata import Metadata\n",
    "import pandas as pd\n",
    "\n",
    "data = pd.read_csv('data/air_quality_cleaned.csv')\n",
    "data = data.drop(['Date', 'Time'], axis=1)\n",
    "\n",
    "metadata = {\n",
    "    \"columns\": {\n",
    "        \"CO(GT)\": {\"sdtype\": \"numerical\"},\n",
    "        \"PT08.S1(CO)\": {\"sdtype\": \"numerical\"},\n",
    "        \"C6H6(GT)\": {\"sdtype\": \"numerical\"},\n",
    "        \"PT08.S2(NMHC)\": {\"sdtype\": \"numerical\"},\n",
    "        \"NOx(GT)\": {\"sdtype\": \"numerical\"},\n",
    "        \"PT08.S3(NOx)\": {\"sdtype\": \"numerical\"},\n",
    "        \"NO2(GT)\": {\"sdtype\": \"numerical\"},\n",
    "        \"PT08.S4(NO2)\": {\"sdtype\": \"numerical\"},\n",
    "        \"PT08.S5(O3)\": {\"sdtype\": \"numerical\"},\n",
    "        \"T\": {\"sdtype\": \"numerical\"},\n",
    "        \"RH\": {\"sdtype\": \"numerical\"},\n",
    "        \"AH\": {\"sdtype\": \"numerical\"}\n",
    "    }\n",
    "}\n",
    "\n",
    "# Assuming 'metadata_dict' is your dictionary\n",
    "metadata = Metadata.load_from_dict(metadata)\n",
    "\n",
    "synthesizer = GaussianCopulaSynthesizer(metadata)\n",
    "synthesizer.fit(data=data)\n",
    "\n",
    "for i in range(1, 31):\n",
    "    # Create synthetic data\n",
    "    synthetic_data = synthesizer.sample(6941)\n",
    "    synthetic_data.to_csv(f\"data/air_quality/sdv-copula_air_quality_{i}.csv\", index=False)"
   ]
  },
  {
   "cell_type": "code",
   "execution_count": 4,
   "id": "61379098",
   "metadata": {},
   "outputs": [
    {
     "name": "stdout",
     "output_type": "stream",
     "text": [
      "Generating report ...\n",
      "\n",
      "(1/2) Evaluating Column Shapes: |██████████| 12/12 [00:00<00:00, 207.57it/s]|\n",
      "Column Shapes Score: 97.88%\n",
      "\n",
      "(2/2) Evaluating Column Pair Trends: |██████████| 66/66 [00:00<00:00, 293.39it/s]|\n",
      "Column Pair Trends Score: 99.07%\n",
      "\n",
      "Overall Score (Average): 98.47%\n",
      "\n"
     ]
    }
   ],
   "source": [
    "from sdv.evaluation.single_table import evaluate_quality\n",
    "\n",
    "quality_report = evaluate_quality(\n",
    "    data,\n",
    "    synthetic_data,\n",
    "    metadata)"
   ]
  }
 ],
 "metadata": {
  "kernelspec": {
   "display_name": "copula_env",
   "language": "python",
   "name": "python3"
  },
  "language_info": {
   "codemirror_mode": {
    "name": "ipython",
    "version": 3
   },
   "file_extension": ".py",
   "mimetype": "text/x-python",
   "name": "python",
   "nbconvert_exporter": "python",
   "pygments_lexer": "ipython3",
   "version": "3.12.3"
  }
 },
 "nbformat": 4,
 "nbformat_minor": 5
}
