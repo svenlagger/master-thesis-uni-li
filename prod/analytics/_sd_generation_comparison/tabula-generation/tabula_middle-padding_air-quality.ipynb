{
 "cells": [
  {
   "cell_type": "code",
   "execution_count": 1,
   "id": "49c5848f",
   "metadata": {
    "scrolled": true
   },
   "outputs": [],
   "source": [
    "# change tabula to tabula_middle_padding to test middle padding method\n",
    "from tabula_middle_padding import Tabula \n",
    "import pandas as pd\n",
    "import torch"
   ]
  },
  {
   "cell_type": "code",
   "execution_count": 2,
   "id": "e438a14b",
   "metadata": {
    "scrolled": true
   },
   "outputs": [],
   "source": [
    "data = pd.read_csv(\"Real_Datasets/air_quality_cleaned.csv\")\n",
    "data = data.drop(['Date', 'Time'], axis=1)"
   ]
  },
  {
   "cell_type": "code",
   "execution_count": 3,
   "id": "f5f700ed",
   "metadata": {},
   "outputs": [],
   "source": [
    "#categorical_columns = ['workclass', 'education', 'marital-status', 'occupation', 'relationship', 'race', 'gender', 'native-country', 'income']\n",
    "model = Tabula(llm='distilgpt2', experiment_dir = \"air-quality_training\", batch_size=32, epochs=128)"
   ]
  },
  {
   "cell_type": "markdown",
   "id": "a817f703-581d-42a8-aed9-681639a02ea9",
   "metadata": {},
   "source": [
    "## In following block, it is important to indicate \"conditional_col = data.columns[0]\". Otherwise, the generation will use target column as conditional column, which will result in error!"
   ]
  },
  {
   "cell_type": "code",
   "execution_count": 4,
   "id": "837b11c0",
   "metadata": {
    "scrolled": true
   },
   "outputs": [
    {
     "name": "stderr",
     "output_type": "stream",
     "text": [
      "/home/svenlag/tabula_test/Tabula/tabula_middle_padding/tabula.py:130: FutureWarning: `tokenizer` is deprecated and will be removed in version 5.0.0 for `TabulaTrainer.__init__`. Use `processing_class` instead.\n",
      "  tabula_trainer = TabulaTrainer(self.model, training_args, train_dataset=tabula_ds, tokenizer=self.tokenizer,\n",
      "`loss_type=None` was set in the config but it is unrecognised.Using the default loss: `ForCausalLMLoss`.\n"
     ]
    },
    {
     "data": {
      "text/html": [
       "\n",
       "    <div>\n",
       "      \n",
       "      <progress value='27776' max='27776' style='width:300px; height:20px; vertical-align: middle;'></progress>\n",
       "      [27776/27776 1:35:20, Epoch 128/128]\n",
       "    </div>\n",
       "    <table border=\"1\" class=\"dataframe\">\n",
       "  <thead>\n",
       " <tr style=\"text-align: left;\">\n",
       "      <th>Step</th>\n",
       "      <th>Training Loss</th>\n",
       "    </tr>\n",
       "  </thead>\n",
       "  <tbody>\n",
       "    <tr>\n",
       "      <td>500</td>\n",
       "      <td>1.899400</td>\n",
       "    </tr>\n",
       "    <tr>\n",
       "      <td>1000</td>\n",
       "      <td>1.440100</td>\n",
       "    </tr>\n",
       "    <tr>\n",
       "      <td>1500</td>\n",
       "      <td>1.358200</td>\n",
       "    </tr>\n",
       "    <tr>\n",
       "      <td>2000</td>\n",
       "      <td>1.301900</td>\n",
       "    </tr>\n",
       "    <tr>\n",
       "      <td>2500</td>\n",
       "      <td>1.249200</td>\n",
       "    </tr>\n",
       "    <tr>\n",
       "      <td>3000</td>\n",
       "      <td>1.189900</td>\n",
       "    </tr>\n",
       "    <tr>\n",
       "      <td>3500</td>\n",
       "      <td>1.112400</td>\n",
       "    </tr>\n",
       "    <tr>\n",
       "      <td>4000</td>\n",
       "      <td>1.022900</td>\n",
       "    </tr>\n",
       "    <tr>\n",
       "      <td>4500</td>\n",
       "      <td>0.931400</td>\n",
       "    </tr>\n",
       "    <tr>\n",
       "      <td>5000</td>\n",
       "      <td>0.835600</td>\n",
       "    </tr>\n",
       "    <tr>\n",
       "      <td>5500</td>\n",
       "      <td>0.738000</td>\n",
       "    </tr>\n",
       "    <tr>\n",
       "      <td>6000</td>\n",
       "      <td>0.661100</td>\n",
       "    </tr>\n",
       "    <tr>\n",
       "      <td>6500</td>\n",
       "      <td>0.595000</td>\n",
       "    </tr>\n",
       "    <tr>\n",
       "      <td>7000</td>\n",
       "      <td>0.529700</td>\n",
       "    </tr>\n",
       "    <tr>\n",
       "      <td>7500</td>\n",
       "      <td>0.479400</td>\n",
       "    </tr>\n",
       "    <tr>\n",
       "      <td>8000</td>\n",
       "      <td>0.436800</td>\n",
       "    </tr>\n",
       "    <tr>\n",
       "      <td>8500</td>\n",
       "      <td>0.399300</td>\n",
       "    </tr>\n",
       "    <tr>\n",
       "      <td>9000</td>\n",
       "      <td>0.371000</td>\n",
       "    </tr>\n",
       "    <tr>\n",
       "      <td>9500</td>\n",
       "      <td>0.350200</td>\n",
       "    </tr>\n",
       "    <tr>\n",
       "      <td>10000</td>\n",
       "      <td>0.331100</td>\n",
       "    </tr>\n",
       "    <tr>\n",
       "      <td>10500</td>\n",
       "      <td>0.314200</td>\n",
       "    </tr>\n",
       "    <tr>\n",
       "      <td>11000</td>\n",
       "      <td>0.301300</td>\n",
       "    </tr>\n",
       "    <tr>\n",
       "      <td>11500</td>\n",
       "      <td>0.290700</td>\n",
       "    </tr>\n",
       "    <tr>\n",
       "      <td>12000</td>\n",
       "      <td>0.277900</td>\n",
       "    </tr>\n",
       "    <tr>\n",
       "      <td>12500</td>\n",
       "      <td>0.269800</td>\n",
       "    </tr>\n",
       "    <tr>\n",
       "      <td>13000</td>\n",
       "      <td>0.262200</td>\n",
       "    </tr>\n",
       "    <tr>\n",
       "      <td>13500</td>\n",
       "      <td>0.253700</td>\n",
       "    </tr>\n",
       "    <tr>\n",
       "      <td>14000</td>\n",
       "      <td>0.247700</td>\n",
       "    </tr>\n",
       "    <tr>\n",
       "      <td>14500</td>\n",
       "      <td>0.243800</td>\n",
       "    </tr>\n",
       "    <tr>\n",
       "      <td>15000</td>\n",
       "      <td>0.238000</td>\n",
       "    </tr>\n",
       "    <tr>\n",
       "      <td>15500</td>\n",
       "      <td>0.233800</td>\n",
       "    </tr>\n",
       "    <tr>\n",
       "      <td>16000</td>\n",
       "      <td>0.231000</td>\n",
       "    </tr>\n",
       "    <tr>\n",
       "      <td>16500</td>\n",
       "      <td>0.227700</td>\n",
       "    </tr>\n",
       "    <tr>\n",
       "      <td>17000</td>\n",
       "      <td>0.224100</td>\n",
       "    </tr>\n",
       "    <tr>\n",
       "      <td>17500</td>\n",
       "      <td>0.222000</td>\n",
       "    </tr>\n",
       "    <tr>\n",
       "      <td>18000</td>\n",
       "      <td>0.219900</td>\n",
       "    </tr>\n",
       "    <tr>\n",
       "      <td>18500</td>\n",
       "      <td>0.216400</td>\n",
       "    </tr>\n",
       "    <tr>\n",
       "      <td>19000</td>\n",
       "      <td>0.214900</td>\n",
       "    </tr>\n",
       "    <tr>\n",
       "      <td>19500</td>\n",
       "      <td>0.213700</td>\n",
       "    </tr>\n",
       "    <tr>\n",
       "      <td>20000</td>\n",
       "      <td>0.211400</td>\n",
       "    </tr>\n",
       "    <tr>\n",
       "      <td>20500</td>\n",
       "      <td>0.209700</td>\n",
       "    </tr>\n",
       "    <tr>\n",
       "      <td>21000</td>\n",
       "      <td>0.208500</td>\n",
       "    </tr>\n",
       "    <tr>\n",
       "      <td>21500</td>\n",
       "      <td>0.207100</td>\n",
       "    </tr>\n",
       "    <tr>\n",
       "      <td>22000</td>\n",
       "      <td>0.205100</td>\n",
       "    </tr>\n",
       "    <tr>\n",
       "      <td>22500</td>\n",
       "      <td>0.204400</td>\n",
       "    </tr>\n",
       "    <tr>\n",
       "      <td>23000</td>\n",
       "      <td>0.203300</td>\n",
       "    </tr>\n",
       "    <tr>\n",
       "      <td>23500</td>\n",
       "      <td>0.201400</td>\n",
       "    </tr>\n",
       "    <tr>\n",
       "      <td>24000</td>\n",
       "      <td>0.200200</td>\n",
       "    </tr>\n",
       "    <tr>\n",
       "      <td>24500</td>\n",
       "      <td>0.199800</td>\n",
       "    </tr>\n",
       "    <tr>\n",
       "      <td>25000</td>\n",
       "      <td>0.198500</td>\n",
       "    </tr>\n",
       "    <tr>\n",
       "      <td>25500</td>\n",
       "      <td>0.197100</td>\n",
       "    </tr>\n",
       "    <tr>\n",
       "      <td>26000</td>\n",
       "      <td>0.196800</td>\n",
       "    </tr>\n",
       "    <tr>\n",
       "      <td>26500</td>\n",
       "      <td>0.195600</td>\n",
       "    </tr>\n",
       "    <tr>\n",
       "      <td>27000</td>\n",
       "      <td>0.194800</td>\n",
       "    </tr>\n",
       "    <tr>\n",
       "      <td>27500</td>\n",
       "      <td>0.194100</td>\n",
       "    </tr>\n",
       "  </tbody>\n",
       "</table><p>"
      ],
      "text/plain": [
       "<IPython.core.display.HTML object>"
      ]
     },
     "metadata": {},
     "output_type": "display_data"
    },
    {
     "data": {
      "text/plain": [
       "<tabula_middle_padding.tabula_trainer.TabulaTrainer at 0x7f4023bc5a60>"
      ]
     },
     "execution_count": 4,
     "metadata": {},
     "output_type": "execute_result"
    }
   ],
   "source": [
    "model.fit(data, conditional_col = data.columns[0])"
   ]
  },
  {
   "cell_type": "code",
   "execution_count": 5,
   "id": "cb7d3e08",
   "metadata": {},
   "outputs": [],
   "source": [
    "import torch\n",
    "torch.save(model.model.state_dict(), \"air-quality_training/model_128epoch_middle_padding.pt\")"
   ]
  },
  {
   "cell_type": "code",
   "execution_count": 5,
   "id": "1b909cdf",
   "metadata": {},
   "outputs": [],
   "source": [
    "torch.save(model, \"air-quality_training/model_128epoch_middle_padding_FULL.pt\")"
   ]
  },
  {
   "cell_type": "code",
   "execution_count": 3,
   "id": "06979de4",
   "metadata": {},
   "outputs": [
    {
     "data": {
      "text/plain": [
       "GPT2LMHeadModel(\n",
       "  (transformer): GPT2Model(\n",
       "    (wte): Embedding(50257, 768)\n",
       "    (wpe): Embedding(1024, 768)\n",
       "    (drop): Dropout(p=0.1, inplace=False)\n",
       "    (h): ModuleList(\n",
       "      (0-5): 6 x GPT2Block(\n",
       "        (ln_1): LayerNorm((768,), eps=1e-05, elementwise_affine=True)\n",
       "        (attn): GPT2Attention(\n",
       "          (c_attn): Conv1D(nf=2304, nx=768)\n",
       "          (c_proj): Conv1D(nf=768, nx=768)\n",
       "          (attn_dropout): Dropout(p=0.1, inplace=False)\n",
       "          (resid_dropout): Dropout(p=0.1, inplace=False)\n",
       "        )\n",
       "        (ln_2): LayerNorm((768,), eps=1e-05, elementwise_affine=True)\n",
       "        (mlp): GPT2MLP(\n",
       "          (c_fc): Conv1D(nf=3072, nx=768)\n",
       "          (c_proj): Conv1D(nf=768, nx=3072)\n",
       "          (act): NewGELUActivation()\n",
       "          (dropout): Dropout(p=0.1, inplace=False)\n",
       "        )\n",
       "      )\n",
       "    )\n",
       "    (ln_f): LayerNorm((768,), eps=1e-05, elementwise_affine=True)\n",
       "  )\n",
       "  (lm_head): Linear(in_features=768, out_features=50257, bias=False)\n",
       ")"
      ]
     },
     "execution_count": 3,
     "metadata": {},
     "output_type": "execute_result"
    }
   ],
   "source": [
    "# Specify weights_only=False to allow full unpickling\n",
    "model = torch.load(\n",
    "    \"air-quality_training/model_128epoch_middle_padding_FULL.pt\",\n",
    "    map_location=torch.device(\"cuda\"),      # or \"cpu\" as needed\n",
    "    weights_only=False\n",
    ")\n",
    "model.model.eval()"
   ]
  },
  {
   "cell_type": "code",
   "execution_count": 4,
   "id": "302c1a17",
   "metadata": {},
   "outputs": [
    {
     "name": "stderr",
     "output_type": "stream",
     "text": [
      "  0%|          | 0/6941 [00:00<?, ?it/s]The attention mask is not set and cannot be inferred from input because pad token is same as eos token. As a consequence, you may observe unexpected behavior. Please pass your input's `attention_mask` to obtain reliable results.\n",
      "6994it [00:34, 203.23it/s]                          \n",
      "6994it [00:44, 156.00it/s]                          \n",
      "6998it [01:17, 90.65it/s]                           \n",
      "6996it [01:22, 84.41it/s]                           \n",
      "6996it [01:25, 81.92it/s]                           \n",
      "6994it [01:25, 81.76it/s]                           \n",
      "6996it [01:22, 85.07it/s]                           \n",
      "6996it [01:33, 74.78it/s]                          \n",
      "6998it [01:27, 79.67it/s]                          \n",
      "6997it [01:23, 83.42it/s]                          \n",
      "6997it [01:25, 81.36it/s]                          \n",
      "6999it [01:27, 79.85it/s]                          \n",
      "6995it [01:25, 82.19it/s]                          \n",
      "6997it [01:29, 77.91it/s]                          \n",
      "6999it [01:29, 77.81it/s]                          \n",
      "6996it [01:29, 78.16it/s]                          \n",
      "6999it [01:25, 81.43it/s]                          \n",
      "6996it [01:28, 79.27it/s]                          \n",
      "6998it [01:29, 78.27it/s]                          \n",
      "6993it [01:32, 75.33it/s]                          \n",
      "6999it [01:33, 74.46it/s]                          \n",
      "6999it [01:37, 71.43it/s]                          \n"
     ]
    }
   ],
   "source": [
    "for i in range(9, 31):\n",
    "    synthetic_data = model.sample(n_samples=6941)\n",
    "    synthetic_data.to_csv(f\"air-quality_sd-sets/air-quality_128epoch_middle_padding_{i}.csv\", index=False)"
   ]
  },
  {
   "cell_type": "code",
   "execution_count": 6,
   "id": "3b743035",
   "metadata": {},
   "outputs": [
    {
     "name": "stderr",
     "output_type": "stream",
     "text": [
      "  0%|          | 0/6941 [00:00<?, ?it/s]The attention mask is not set and cannot be inferred from input because pad token is same as eos token. As a consequence, you may observe unexpected behavior. Please pass your input's `attention_mask` to obtain reliable results.\n",
      "6971it [00:43, 158.58it/s]                          \n"
     ]
    }
   ],
   "source": [
    "synthetic_data = model.sample(n_samples=6941)\n",
    "synthetic_data.to_csv(\"air-quality_128epoch_middle_padding.csv\", index=False)"
   ]
  },
  {
   "cell_type": "code",
   "execution_count": 7,
   "id": "f11f2b37",
   "metadata": {},
   "outputs": [
    {
     "name": "stdout",
     "output_type": "stream",
     "text": [
      "Generating report ...\n",
      "\n",
      "(1/2) Evaluating Column Shapes: |██████████| 12/12 [00:00<00:00, 346.87it/s]|\n",
      "Column Shapes Score: 77.1%\n",
      "\n",
      "(2/2) Evaluating Column Pair Trends: |██████████| 66/66 [00:00<00:00, 289.22it/s]|\n",
      "Column Pair Trends Score: 77.48%\n",
      "\n",
      "Overall Score (Average): 77.29%\n",
      "\n"
     ]
    }
   ],
   "source": [
    "from sdmetrics.reports.single_table import QualityReport\n",
    "\n",
    "synthetic_data = synthetic_data[data.columns.to_list()]\n",
    "\n",
    "metadata = {\n",
    "    \"columns\": {\n",
    "        \"CO(GT)\": {\"sdtype\": \"numerical\"},\n",
    "        \"PT08.S1(CO)\": {\"sdtype\": \"numerical\"},\n",
    "        \"C6H6(GT)\": {\"sdtype\": \"numerical\"},\n",
    "        \"PT08.S2(NMHC)\": {\"sdtype\": \"numerical\"},\n",
    "        \"NOx(GT)\": {\"sdtype\": \"numerical\"},\n",
    "        \"PT08.S3(NOx)\": {\"sdtype\": \"numerical\"},\n",
    "        \"NO2(GT)\": {\"sdtype\": \"numerical\"},\n",
    "        \"PT08.S4(NO2)\": {\"sdtype\": \"numerical\"},\n",
    "        \"PT08.S5(O3)\": {\"sdtype\": \"numerical\"},\n",
    "        \"T\": {\"sdtype\": \"numerical\"},\n",
    "        \"RH\": {\"sdtype\": \"numerical\"},\n",
    "        \"AH\": {\"sdtype\": \"numerical\"}\n",
    "    }\n",
    "}\n",
    "\n",
    "report = QualityReport()\n",
    "report.generate(data, synthetic_data, metadata)"
   ]
  }
 ],
 "metadata": {
  "kernelspec": {
   "display_name": "tabula_env",
   "language": "python",
   "name": "python3"
  },
  "language_info": {
   "codemirror_mode": {
    "name": "ipython",
    "version": 3
   },
   "file_extension": ".py",
   "mimetype": "text/x-python",
   "name": "python",
   "nbconvert_exporter": "python",
   "pygments_lexer": "ipython3",
   "version": "3.12.3"
  }
 },
 "nbformat": 4,
 "nbformat_minor": 5
}
