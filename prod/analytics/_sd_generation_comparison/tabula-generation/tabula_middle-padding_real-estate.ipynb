{
 "cells": [
  {
   "cell_type": "code",
   "execution_count": 1,
   "id": "49c5848f",
   "metadata": {
    "scrolled": true
   },
   "outputs": [],
   "source": [
    "# change tabula to tabula_middle_padding to test middle padding method\n",
    "from tabula_middle_padding import Tabula \n",
    "import pandas as pd\n",
    "import torch"
   ]
  },
  {
   "cell_type": "code",
   "execution_count": 2,
   "id": "e438a14b",
   "metadata": {
    "scrolled": true
   },
   "outputs": [],
   "source": [
    "data = pd.read_csv(\"Real_Datasets/real_estate_valuation_cleaned.csv\")\n",
    "data.columns = [\"X1_house_age\", \"X2_distance_MRT_station\", \"X3_number_convenience_stores\", \"X4_lat\", \"X5_long\", \"X6_price\"]\n"
   ]
  },
  {
   "cell_type": "code",
   "execution_count": 3,
   "id": "f5f700ed",
   "metadata": {},
   "outputs": [],
   "source": [
    "#categorical_columns = ['workclass', 'education', 'marital-status', 'occupation', 'relationship', 'race', 'gender', 'native-country', 'income']\n",
    "model = Tabula(llm='distilgpt2', experiment_dir = \"real-estate_training\", batch_size=32, epochs=128)"
   ]
  },
  {
   "cell_type": "markdown",
   "id": "a817f703-581d-42a8-aed9-681639a02ea9",
   "metadata": {},
   "source": [
    "## In following block, it is important to indicate \"conditional_col = data.columns[0]\". Otherwise, the generation will use target column as conditional column, which will result in error!"
   ]
  },
  {
   "cell_type": "code",
   "execution_count": 4,
   "id": "837b11c0",
   "metadata": {
    "scrolled": true
   },
   "outputs": [
    {
     "name": "stderr",
     "output_type": "stream",
     "text": [
      "/home/svenlag/tabula_test/Tabula/tabula_middle_padding/tabula.py:130: FutureWarning: `tokenizer` is deprecated and will be removed in version 5.0.0 for `TabulaTrainer.__init__`. Use `processing_class` instead.\n",
      "  tabula_trainer = TabulaTrainer(self.model, training_args, train_dataset=tabula_ds, tokenizer=self.tokenizer,\n",
      "`loss_type=None` was set in the config but it is unrecognised.Using the default loss: `ForCausalLMLoss`.\n"
     ]
    },
    {
     "data": {
      "text/html": [
       "\n",
       "    <div>\n",
       "      \n",
       "      <progress value='1664' max='1664' style='width:300px; height:20px; vertical-align: middle;'></progress>\n",
       "      [1664/1664 02:56, Epoch 128/128]\n",
       "    </div>\n",
       "    <table border=\"1\" class=\"dataframe\">\n",
       "  <thead>\n",
       " <tr style=\"text-align: left;\">\n",
       "      <th>Step</th>\n",
       "      <th>Training Loss</th>\n",
       "    </tr>\n",
       "  </thead>\n",
       "  <tbody>\n",
       "    <tr>\n",
       "      <td>500</td>\n",
       "      <td>1.207200</td>\n",
       "    </tr>\n",
       "    <tr>\n",
       "      <td>1000</td>\n",
       "      <td>0.276900</td>\n",
       "    </tr>\n",
       "    <tr>\n",
       "      <td>1500</td>\n",
       "      <td>0.238800</td>\n",
       "    </tr>\n",
       "  </tbody>\n",
       "</table><p>"
      ],
      "text/plain": [
       "<IPython.core.display.HTML object>"
      ]
     },
     "metadata": {},
     "output_type": "display_data"
    },
    {
     "data": {
      "text/plain": [
       "<tabula_middle_padding.tabula_trainer.TabulaTrainer at 0x771eaf3158e0>"
      ]
     },
     "execution_count": 4,
     "metadata": {},
     "output_type": "execute_result"
    }
   ],
   "source": [
    "model.fit(data, conditional_col = data.columns[0])"
   ]
  },
  {
   "cell_type": "code",
   "execution_count": 5,
   "id": "cb7d3e08",
   "metadata": {},
   "outputs": [],
   "source": [
    "import torch\n",
    "torch.save(model.model.state_dict(), \"real-estate_training/model_128epoch_middle_padding.pt\")"
   ]
  },
  {
   "cell_type": "code",
   "execution_count": 5,
   "id": "cb803606",
   "metadata": {},
   "outputs": [],
   "source": [
    "torch.save(model, \"real-estate_training/model_128epoch_middle_padding_FULL.pt\")"
   ]
  },
  {
   "cell_type": "code",
   "execution_count": 3,
   "id": "b27ff109",
   "metadata": {},
   "outputs": [
    {
     "data": {
      "text/plain": [
       "GPT2LMHeadModel(\n",
       "  (transformer): GPT2Model(\n",
       "    (wte): Embedding(50257, 768)\n",
       "    (wpe): Embedding(1024, 768)\n",
       "    (drop): Dropout(p=0.1, inplace=False)\n",
       "    (h): ModuleList(\n",
       "      (0-5): 6 x GPT2Block(\n",
       "        (ln_1): LayerNorm((768,), eps=1e-05, elementwise_affine=True)\n",
       "        (attn): GPT2Attention(\n",
       "          (c_attn): Conv1D(nf=2304, nx=768)\n",
       "          (c_proj): Conv1D(nf=768, nx=768)\n",
       "          (attn_dropout): Dropout(p=0.1, inplace=False)\n",
       "          (resid_dropout): Dropout(p=0.1, inplace=False)\n",
       "        )\n",
       "        (ln_2): LayerNorm((768,), eps=1e-05, elementwise_affine=True)\n",
       "        (mlp): GPT2MLP(\n",
       "          (c_fc): Conv1D(nf=3072, nx=768)\n",
       "          (c_proj): Conv1D(nf=768, nx=3072)\n",
       "          (act): NewGELUActivation()\n",
       "          (dropout): Dropout(p=0.1, inplace=False)\n",
       "        )\n",
       "      )\n",
       "    )\n",
       "    (ln_f): LayerNorm((768,), eps=1e-05, elementwise_affine=True)\n",
       "  )\n",
       "  (lm_head): Linear(in_features=768, out_features=50257, bias=False)\n",
       ")"
      ]
     },
     "execution_count": 3,
     "metadata": {},
     "output_type": "execute_result"
    }
   ],
   "source": [
    "# Specify weights_only=False to allow full unpickling\n",
    "model = torch.load(\n",
    "    \"real-estate_training/model_128epoch_middle_padding_FULL.pt\",\n",
    "    map_location=torch.device(\"cuda\"),      # or \"cpu\" as needed\n",
    "    weights_only=False\n",
    ")\n",
    "model.model.eval()"
   ]
  },
  {
   "cell_type": "code",
   "execution_count": 4,
   "id": "ea6e7f46",
   "metadata": {},
   "outputs": [
    {
     "name": "stderr",
     "output_type": "stream",
     "text": [
      "  0%|          | 0/414 [00:00<?, ?it/s]The attention mask is not set and cannot be inferred from input because pad token is same as eos token. As a consequence, you may observe unexpected behavior. Please pass your input's `attention_mask` to obtain reliable results.\n",
      "499it [00:19, 25.89it/s]                         \n",
      "499it [00:18, 26.38it/s]                         \n",
      "500it [00:18, 26.42it/s]                         \n",
      "499it [00:19, 26.24it/s]                         \n",
      "498it [00:18, 26.59it/s]                         \n",
      "500it [00:18, 26.71it/s]                         \n",
      "500it [00:18, 26.54it/s]                         \n",
      "498it [00:18, 26.59it/s]                         \n",
      "500it [00:18, 26.46it/s]                         \n",
      "500it [00:18, 26.82it/s]                         \n",
      "499it [00:18, 26.69it/s]                         \n",
      "500it [00:18, 26.87it/s]                         \n",
      "499it [00:18, 26.47it/s]                         \n",
      "500it [00:18, 26.79it/s]                         \n",
      "500it [00:18, 26.94it/s]                         \n",
      "499it [00:18, 26.78it/s]                         \n",
      "499it [00:18, 26.86it/s]                         \n",
      "500it [00:18, 26.74it/s]                         \n",
      "498it [00:18, 26.64it/s]                         \n",
      "500it [00:18, 26.85it/s]                         \n",
      "498it [00:18, 26.74it/s]                         \n",
      "500it [00:18, 26.99it/s]                         \n"
     ]
    }
   ],
   "source": [
    "for i in range(9,31):\n",
    "    synthetic_data = model.sample(n_samples=414)\n",
    "    synthetic_data.to_csv(f\"real-estate_sd-sets/real-estate_128epoch_middle_padding_{i}.csv\", index=False)"
   ]
  },
  {
   "cell_type": "code",
   "execution_count": 6,
   "id": "0b6d606a",
   "metadata": {},
   "outputs": [
    {
     "name": "stderr",
     "output_type": "stream",
     "text": [
      "  0%|          | 0/414 [00:00<?, ?it/s]The attention mask is not set and cannot be inferred from input because pad token is same as eos token. As a consequence, you may observe unexpected behavior. Please pass your input's `attention_mask` to obtain reliable results.\n",
      "489it [00:05, 92.97it/s]                          \n"
     ]
    }
   ],
   "source": [
    "synthetic_data = model.sample(n_samples=414)\n",
    "synthetic_data.to_csv(\"real-estate_128epoch_middle_padding.csv\", index=False)"
   ]
  },
  {
   "cell_type": "code",
   "execution_count": 7,
   "id": "f11f2b37",
   "metadata": {},
   "outputs": [
    {
     "name": "stdout",
     "output_type": "stream",
     "text": [
      "Generating report ...\n",
      "\n",
      "(1/2) Evaluating Column Shapes: |██████████| 6/6 [00:00<00:00, 896.60it/s]|\n",
      "Column Shapes Score: 69.12%\n",
      "\n",
      "(2/2) Evaluating Column Pair Trends: |██████████| 15/15 [00:00<00:00, 318.79it/s]|\n",
      "Column Pair Trends Score: 79.1%\n",
      "\n",
      "Overall Score (Average): 74.11%\n",
      "\n"
     ]
    }
   ],
   "source": [
    "from sdmetrics.reports.single_table import QualityReport\n",
    "\n",
    "synthetic_data = synthetic_data[data.columns.to_list()]\n",
    "\n",
    "metadata = {\n",
    "    \"columns\": {\n",
    "        \"X1_house_age\": {\"sdtype\": \"numerical\"},\n",
    "        \"X2_distance_MRT_station\": {\"sdtype\": \"numerical\"},\n",
    "        \"X3_number_convenience_stores\": {\"sdtype\": \"numerical\"},\n",
    "        \"X4_lat\": {\"sdtype\": \"numerical\"},\n",
    "        \"X5_long\": {\"sdtype\": \"numerical\"},\n",
    "        \"X6_price\": {\"sdtype\": \"numerical\"}\n",
    "    }\n",
    "}\n",
    "\n",
    "report = QualityReport()\n",
    "report.generate(data, synthetic_data, metadata)"
   ]
  }
 ],
 "metadata": {
  "kernelspec": {
   "display_name": "tabula_env",
   "language": "python",
   "name": "python3"
  },
  "language_info": {
   "codemirror_mode": {
    "name": "ipython",
    "version": 3
   },
   "file_extension": ".py",
   "mimetype": "text/x-python",
   "name": "python",
   "nbconvert_exporter": "python",
   "pygments_lexer": "ipython3",
   "version": "3.12.3"
  }
 },
 "nbformat": 4,
 "nbformat_minor": 5
}
