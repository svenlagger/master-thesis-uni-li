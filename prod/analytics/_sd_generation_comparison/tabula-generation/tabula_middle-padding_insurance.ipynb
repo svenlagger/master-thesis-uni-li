{
 "cells": [
  {
   "cell_type": "code",
   "execution_count": 1,
   "id": "49c5848f",
   "metadata": {
    "scrolled": true
   },
   "outputs": [],
   "source": [
    "# change tabula to tabula_middle_padding to test middle padding method\n",
    "from tabula_middle_padding import Tabula \n",
    "import pandas as pd\n",
    "import torch"
   ]
  },
  {
   "cell_type": "code",
   "execution_count": 2,
   "id": "e438a14b",
   "metadata": {
    "scrolled": true
   },
   "outputs": [],
   "source": [
    "data = pd.read_csv(\"Real_Datasets/insurance_original.csv\")"
   ]
  },
  {
   "cell_type": "code",
   "execution_count": 3,
   "id": "f5f700ed",
   "metadata": {},
   "outputs": [],
   "source": [
    "#categorical_columns = ['workclass', 'education', 'marital-status', 'occupation', 'relationship', 'race', 'gender', 'native-country', 'income']\n",
    "model = Tabula(llm='distilgpt2', experiment_dir = \"insurance_training\", batch_size=32, epochs=128)"
   ]
  },
  {
   "cell_type": "markdown",
   "id": "a817f703-581d-42a8-aed9-681639a02ea9",
   "metadata": {},
   "source": [
    "## In following block, it is important to indicate \"conditional_col = data.columns[0]\". Otherwise, the generation will use target column as conditional column, which will result in error!"
   ]
  },
  {
   "cell_type": "code",
   "execution_count": 4,
   "id": "837b11c0",
   "metadata": {
    "scrolled": true
   },
   "outputs": [
    {
     "name": "stderr",
     "output_type": "stream",
     "text": [
      "/home/svenlag/tabula_test/Tabula/tabula_middle_padding/tabula.py:130: FutureWarning: `tokenizer` is deprecated and will be removed in version 5.0.0 for `TabulaTrainer.__init__`. Use `processing_class` instead.\n",
      "  tabula_trainer = TabulaTrainer(self.model, training_args, train_dataset=tabula_ds, tokenizer=self.tokenizer,\n",
      "`loss_type=None` was set in the config but it is unrecognised.Using the default loss: `ForCausalLMLoss`.\n"
     ]
    },
    {
     "data": {
      "text/html": [
       "\n",
       "    <div>\n",
       "      \n",
       "      <progress value='5376' max='5376' style='width:300px; height:20px; vertical-align: middle;'></progress>\n",
       "      [5376/5376 07:03, Epoch 128/128]\n",
       "    </div>\n",
       "    <table border=\"1\" class=\"dataframe\">\n",
       "  <thead>\n",
       " <tr style=\"text-align: left;\">\n",
       "      <th>Step</th>\n",
       "      <th>Training Loss</th>\n",
       "    </tr>\n",
       "  </thead>\n",
       "  <tbody>\n",
       "    <tr>\n",
       "      <td>500</td>\n",
       "      <td>2.258800</td>\n",
       "    </tr>\n",
       "    <tr>\n",
       "      <td>1000</td>\n",
       "      <td>1.164200</td>\n",
       "    </tr>\n",
       "    <tr>\n",
       "      <td>1500</td>\n",
       "      <td>0.684000</td>\n",
       "    </tr>\n",
       "    <tr>\n",
       "      <td>2000</td>\n",
       "      <td>0.528000</td>\n",
       "    </tr>\n",
       "    <tr>\n",
       "      <td>2500</td>\n",
       "      <td>0.479400</td>\n",
       "    </tr>\n",
       "    <tr>\n",
       "      <td>3000</td>\n",
       "      <td>0.459000</td>\n",
       "    </tr>\n",
       "    <tr>\n",
       "      <td>3500</td>\n",
       "      <td>0.445600</td>\n",
       "    </tr>\n",
       "    <tr>\n",
       "      <td>4000</td>\n",
       "      <td>0.435800</td>\n",
       "    </tr>\n",
       "    <tr>\n",
       "      <td>4500</td>\n",
       "      <td>0.427000</td>\n",
       "    </tr>\n",
       "    <tr>\n",
       "      <td>5000</td>\n",
       "      <td>0.420600</td>\n",
       "    </tr>\n",
       "  </tbody>\n",
       "</table><p>"
      ],
      "text/plain": [
       "<IPython.core.display.HTML object>"
      ]
     },
     "metadata": {},
     "output_type": "display_data"
    },
    {
     "data": {
      "text/plain": [
       "<tabula_middle_padding.tabula_trainer.TabulaTrainer at 0x7587771ea2a0>"
      ]
     },
     "execution_count": 4,
     "metadata": {},
     "output_type": "execute_result"
    }
   ],
   "source": [
    "model.fit(data, conditional_col = data.columns[0])"
   ]
  },
  {
   "cell_type": "code",
   "execution_count": 5,
   "id": "cb7d3e08",
   "metadata": {},
   "outputs": [],
   "source": [
    "import torch\n",
    "torch.save(model.model.state_dict(), \"insurance_training/model_128epoch_middle_padding.pt\")"
   ]
  },
  {
   "cell_type": "code",
   "execution_count": 5,
   "id": "55bf176f",
   "metadata": {},
   "outputs": [],
   "source": [
    "torch.save(model, \"insurance_training/model_128epoch_middle_padding_FULL.pt\")"
   ]
  },
  {
   "cell_type": "code",
   "execution_count": 3,
   "id": "17a38b2b",
   "metadata": {},
   "outputs": [
    {
     "data": {
      "text/plain": [
       "GPT2LMHeadModel(\n",
       "  (transformer): GPT2Model(\n",
       "    (wte): Embedding(50257, 768)\n",
       "    (wpe): Embedding(1024, 768)\n",
       "    (drop): Dropout(p=0.1, inplace=False)\n",
       "    (h): ModuleList(\n",
       "      (0-5): 6 x GPT2Block(\n",
       "        (ln_1): LayerNorm((768,), eps=1e-05, elementwise_affine=True)\n",
       "        (attn): GPT2Attention(\n",
       "          (c_attn): Conv1D(nf=2304, nx=768)\n",
       "          (c_proj): Conv1D(nf=768, nx=768)\n",
       "          (attn_dropout): Dropout(p=0.1, inplace=False)\n",
       "          (resid_dropout): Dropout(p=0.1, inplace=False)\n",
       "        )\n",
       "        (ln_2): LayerNorm((768,), eps=1e-05, elementwise_affine=True)\n",
       "        (mlp): GPT2MLP(\n",
       "          (c_fc): Conv1D(nf=3072, nx=768)\n",
       "          (c_proj): Conv1D(nf=768, nx=3072)\n",
       "          (act): NewGELUActivation()\n",
       "          (dropout): Dropout(p=0.1, inplace=False)\n",
       "        )\n",
       "      )\n",
       "    )\n",
       "    (ln_f): LayerNorm((768,), eps=1e-05, elementwise_affine=True)\n",
       "  )\n",
       "  (lm_head): Linear(in_features=768, out_features=50257, bias=False)\n",
       ")"
      ]
     },
     "execution_count": 3,
     "metadata": {},
     "output_type": "execute_result"
    }
   ],
   "source": [
    "# Specify weights_only=False to allow full unpickling\n",
    "model = torch.load(\n",
    "    \"insurance_training/model_128epoch_middle_padding_FULL.pt\",\n",
    "    map_location=torch.device(\"cuda\"),      # or \"cpu\" as needed\n",
    "    weights_only=False\n",
    ")\n",
    "model.model.eval()"
   ]
  },
  {
   "cell_type": "code",
   "execution_count": 4,
   "id": "f475cd2e",
   "metadata": {},
   "outputs": [
    {
     "name": "stderr",
     "output_type": "stream",
     "text": [
      "  0%|          | 0/1338 [00:00<?, ?it/s]The attention mask is not set and cannot be inferred from input because pad token is same as eos token. As a consequence, you may observe unexpected behavior. Please pass your input's `attention_mask` to obtain reliable results.\n",
      "1400it [00:26, 51.94it/s]                          \n",
      "1400it [00:35, 39.69it/s]                          \n",
      "1400it [00:43, 32.06it/s]                          \n",
      "1400it [00:38, 36.76it/s]                          \n",
      "1400it [00:42, 32.60it/s]                          \n",
      "1400it [00:39, 35.03it/s]                          \n",
      "1400it [00:45, 30.98it/s]                          \n",
      "1400it [00:38, 36.01it/s]                          \n",
      "1400it [00:45, 30.78it/s]                          \n",
      "1400it [00:41, 33.39it/s]                          \n",
      "1400it [00:38, 36.66it/s]                          \n",
      "1400it [00:31, 44.77it/s]                          \n",
      "1400it [00:27, 51.27it/s]                          \n",
      "1400it [00:29, 47.56it/s]                          \n",
      "1400it [00:11, 118.60it/s]                          \n",
      "1400it [00:11, 118.64it/s]                          \n",
      "1400it [00:13, 106.66it/s]                          \n",
      "1400it [00:09, 149.00it/s]                          \n",
      "1400it [00:10, 131.78it/s]                          \n",
      "1400it [00:10, 127.32it/s]                          \n",
      "1400it [00:11, 126.35it/s]                          \n",
      "1400it [00:12, 112.10it/s]                          \n",
      "1400it [00:11, 123.44it/s]                          \n",
      "1400it [00:11, 121.89it/s]                          \n",
      "1400it [00:12, 115.44it/s]                          \n",
      "1400it [00:12, 115.55it/s]                          \n",
      "1400it [00:11, 119.61it/s]                          \n",
      "1400it [00:12, 112.91it/s]                          \n",
      "1400it [00:11, 120.24it/s]                          \n",
      "1400it [00:11, 118.52it/s]                          \n"
     ]
    }
   ],
   "source": [
    "for i in range(1,31):\n",
    "    synthetic_data = model.sample(n_samples=1338)\n",
    "    synthetic_data.to_csv(f\"insurance_sd-sets/insurance_128epoch_middle_padding_{i}.csv\", index=False)"
   ]
  },
  {
   "cell_type": "code",
   "execution_count": 6,
   "id": "3b743035",
   "metadata": {},
   "outputs": [
    {
     "name": "stderr",
     "output_type": "stream",
     "text": [
      "  0%|          | 0/1338 [00:00<?, ?it/s]The attention mask is not set and cannot be inferred from input because pad token is same as eos token. As a consequence, you may observe unexpected behavior. Please pass your input's `attention_mask` to obtain reliable results.\n",
      "1400it [00:14, 98.18it/s]                           \n"
     ]
    }
   ],
   "source": [
    "synthetic_data = model.sample(n_samples=1338)\n",
    "synthetic_data.to_csv(\"insurance_128epoch_middle_padding.csv\", index=False)"
   ]
  },
  {
   "cell_type": "code",
   "execution_count": 7,
   "id": "f11f2b37",
   "metadata": {},
   "outputs": [
    {
     "name": "stdout",
     "output_type": "stream",
     "text": [
      "Generating report ...\n",
      "\n",
      "(1/2) Evaluating Column Shapes: |██████████| 7/7 [00:00<00:00, 624.51it/s]|\n",
      "Column Shapes Score: 87.56%\n",
      "\n",
      "(2/2) Evaluating Column Pair Trends: |██████████| 21/21 [00:00<00:00, 338.74it/s]|\n",
      "Column Pair Trends Score: 72.3%\n",
      "\n",
      "Overall Score (Average): 79.93%\n",
      "\n"
     ]
    }
   ],
   "source": [
    "from sdmetrics.reports.single_table import QualityReport\n",
    "\n",
    "synthetic_data = synthetic_data[data.columns.to_list()]\n",
    "\n",
    "metadata = {\n",
    "    \"columns\": {\n",
    "        \"age\": {\"sdtype\": \"numerical\"},\n",
    "        \"sex\": {\"sdtype\": \"categorical\"},\n",
    "        \"bmi\": {\"sdtype\": \"numerical\"},\n",
    "        \"children\": {\"sdtype\": \"numerical\"},\n",
    "        \"smoker\": {\"sdtype\": \"numerical\"},\n",
    "        \"region\": {\"sdtype\": \"categorical\"},\n",
    "        \"charges\": {\"sdtype\": \"numerical\"},\n",
    "    }\n",
    "}\n",
    "\n",
    "report = QualityReport()\n",
    "report.generate(data, synthetic_data, metadata)"
   ]
  }
 ],
 "metadata": {
  "kernelspec": {
   "display_name": "tabula_env",
   "language": "python",
   "name": "python3"
  },
  "language_info": {
   "codemirror_mode": {
    "name": "ipython",
    "version": 3
   },
   "file_extension": ".py",
   "mimetype": "text/x-python",
   "name": "python",
   "nbconvert_exporter": "python",
   "pygments_lexer": "ipython3",
   "version": "3.12.3"
  }
 },
 "nbformat": 4,
 "nbformat_minor": 5
}
