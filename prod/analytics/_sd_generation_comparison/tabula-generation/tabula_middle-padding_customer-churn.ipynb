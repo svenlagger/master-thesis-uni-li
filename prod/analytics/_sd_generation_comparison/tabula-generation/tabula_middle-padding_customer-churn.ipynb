{
 "cells": [
  {
   "cell_type": "code",
   "execution_count": 1,
   "id": "49c5848f",
   "metadata": {
    "scrolled": true
   },
   "outputs": [],
   "source": [
    "# change tabula to tabula_middle_padding to test middle padding method\n",
    "from tabula_middle_padding import Tabula \n",
    "import pandas as pd\n",
    "import torch"
   ]
  },
  {
   "cell_type": "code",
   "execution_count": 2,
   "id": "e438a14b",
   "metadata": {
    "scrolled": true
   },
   "outputs": [],
   "source": [
    "data = pd.read_csv(\"Real_Datasets/customer_churn.csv\")"
   ]
  },
  {
   "cell_type": "code",
   "execution_count": 3,
   "id": "f5f700ed",
   "metadata": {},
   "outputs": [],
   "source": [
    "#categorical_columns = ['workclass', 'education', 'marital-status', 'occupation', 'relationship', 'race', 'gender', 'native-country', 'income']\n",
    "model = Tabula(llm='distilgpt2', experiment_dir = \"customer-churn_training\", batch_size=32, epochs=128)"
   ]
  },
  {
   "cell_type": "markdown",
   "id": "a817f703-581d-42a8-aed9-681639a02ea9",
   "metadata": {},
   "source": [
    "## In following block, it is important to indicate \"conditional_col = data.columns[0]\". Otherwise, the generation will use target column as conditional column, which will result in error!"
   ]
  },
  {
   "cell_type": "code",
   "execution_count": 4,
   "id": "837b11c0",
   "metadata": {
    "scrolled": true
   },
   "outputs": [
    {
     "name": "stderr",
     "output_type": "stream",
     "text": [
      "/home/svenlag/tabula_test/Tabula/tabula_middle_padding/tabula.py:130: FutureWarning: `tokenizer` is deprecated and will be removed in version 5.0.0 for `TabulaTrainer.__init__`. Use `processing_class` instead.\n",
      "  tabula_trainer = TabulaTrainer(self.model, training_args, train_dataset=tabula_ds, tokenizer=self.tokenizer,\n",
      "`loss_type=None` was set in the config but it is unrecognised.Using the default loss: `ForCausalLMLoss`.\n"
     ]
    },
    {
     "data": {
      "text/html": [
       "\n",
       "    <div>\n",
       "      \n",
       "      <progress value='12672' max='12672' style='width:300px; height:20px; vertical-align: middle;'></progress>\n",
       "      [12672/12672 23:31, Epoch 128/128]\n",
       "    </div>\n",
       "    <table border=\"1\" class=\"dataframe\">\n",
       "  <thead>\n",
       " <tr style=\"text-align: left;\">\n",
       "      <th>Step</th>\n",
       "      <th>Training Loss</th>\n",
       "    </tr>\n",
       "  </thead>\n",
       "  <tbody>\n",
       "    <tr>\n",
       "      <td>500</td>\n",
       "      <td>2.198000</td>\n",
       "    </tr>\n",
       "    <tr>\n",
       "      <td>1000</td>\n",
       "      <td>1.520700</td>\n",
       "    </tr>\n",
       "    <tr>\n",
       "      <td>1500</td>\n",
       "      <td>1.172500</td>\n",
       "    </tr>\n",
       "    <tr>\n",
       "      <td>2000</td>\n",
       "      <td>0.864000</td>\n",
       "    </tr>\n",
       "    <tr>\n",
       "      <td>2500</td>\n",
       "      <td>0.642600</td>\n",
       "    </tr>\n",
       "    <tr>\n",
       "      <td>3000</td>\n",
       "      <td>0.521800</td>\n",
       "    </tr>\n",
       "    <tr>\n",
       "      <td>3500</td>\n",
       "      <td>0.464600</td>\n",
       "    </tr>\n",
       "    <tr>\n",
       "      <td>4000</td>\n",
       "      <td>0.436800</td>\n",
       "    </tr>\n",
       "    <tr>\n",
       "      <td>4500</td>\n",
       "      <td>0.420500</td>\n",
       "    </tr>\n",
       "    <tr>\n",
       "      <td>5000</td>\n",
       "      <td>0.409100</td>\n",
       "    </tr>\n",
       "    <tr>\n",
       "      <td>5500</td>\n",
       "      <td>0.400700</td>\n",
       "    </tr>\n",
       "    <tr>\n",
       "      <td>6000</td>\n",
       "      <td>0.393900</td>\n",
       "    </tr>\n",
       "    <tr>\n",
       "      <td>6500</td>\n",
       "      <td>0.388600</td>\n",
       "    </tr>\n",
       "    <tr>\n",
       "      <td>7000</td>\n",
       "      <td>0.383800</td>\n",
       "    </tr>\n",
       "    <tr>\n",
       "      <td>7500</td>\n",
       "      <td>0.379800</td>\n",
       "    </tr>\n",
       "    <tr>\n",
       "      <td>8000</td>\n",
       "      <td>0.376700</td>\n",
       "    </tr>\n",
       "    <tr>\n",
       "      <td>8500</td>\n",
       "      <td>0.373200</td>\n",
       "    </tr>\n",
       "    <tr>\n",
       "      <td>9000</td>\n",
       "      <td>0.369800</td>\n",
       "    </tr>\n",
       "    <tr>\n",
       "      <td>9500</td>\n",
       "      <td>0.367600</td>\n",
       "    </tr>\n",
       "    <tr>\n",
       "      <td>10000</td>\n",
       "      <td>0.364900</td>\n",
       "    </tr>\n",
       "    <tr>\n",
       "      <td>10500</td>\n",
       "      <td>0.362000</td>\n",
       "    </tr>\n",
       "    <tr>\n",
       "      <td>11000</td>\n",
       "      <td>0.360000</td>\n",
       "    </tr>\n",
       "    <tr>\n",
       "      <td>11500</td>\n",
       "      <td>0.358000</td>\n",
       "    </tr>\n",
       "    <tr>\n",
       "      <td>12000</td>\n",
       "      <td>0.355400</td>\n",
       "    </tr>\n",
       "    <tr>\n",
       "      <td>12500</td>\n",
       "      <td>0.353300</td>\n",
       "    </tr>\n",
       "  </tbody>\n",
       "</table><p>"
      ],
      "text/plain": [
       "<IPython.core.display.HTML object>"
      ]
     },
     "metadata": {},
     "output_type": "display_data"
    },
    {
     "data": {
      "text/plain": [
       "<tabula_middle_padding.tabula_trainer.TabulaTrainer at 0x7c347e5ff3b0>"
      ]
     },
     "execution_count": 4,
     "metadata": {},
     "output_type": "execute_result"
    }
   ],
   "source": [
    "model.fit(data, conditional_col = data.columns[0])"
   ]
  },
  {
   "cell_type": "code",
   "execution_count": 5,
   "id": "cb7d3e08",
   "metadata": {},
   "outputs": [],
   "source": [
    "import torch\n",
    "torch.save(model.model.state_dict(), \"customer-churn_training/model_128epoch_middle_padding.pt\")"
   ]
  },
  {
   "cell_type": "code",
   "execution_count": 5,
   "id": "3f5b054f",
   "metadata": {},
   "outputs": [],
   "source": [
    "torch.save(model, \"customer-churn_training/model_128epoch_middle_padding_FULL.pt\")"
   ]
  },
  {
   "cell_type": "code",
   "execution_count": 3,
   "id": "c538d394",
   "metadata": {},
   "outputs": [
    {
     "data": {
      "text/plain": [
       "GPT2LMHeadModel(\n",
       "  (transformer): GPT2Model(\n",
       "    (wte): Embedding(50257, 768)\n",
       "    (wpe): Embedding(1024, 768)\n",
       "    (drop): Dropout(p=0.1, inplace=False)\n",
       "    (h): ModuleList(\n",
       "      (0-5): 6 x GPT2Block(\n",
       "        (ln_1): LayerNorm((768,), eps=1e-05, elementwise_affine=True)\n",
       "        (attn): GPT2Attention(\n",
       "          (c_attn): Conv1D(nf=2304, nx=768)\n",
       "          (c_proj): Conv1D(nf=768, nx=768)\n",
       "          (attn_dropout): Dropout(p=0.1, inplace=False)\n",
       "          (resid_dropout): Dropout(p=0.1, inplace=False)\n",
       "        )\n",
       "        (ln_2): LayerNorm((768,), eps=1e-05, elementwise_affine=True)\n",
       "        (mlp): GPT2MLP(\n",
       "          (c_fc): Conv1D(nf=3072, nx=768)\n",
       "          (c_proj): Conv1D(nf=768, nx=3072)\n",
       "          (act): NewGELUActivation()\n",
       "          (dropout): Dropout(p=0.1, inplace=False)\n",
       "        )\n",
       "      )\n",
       "    )\n",
       "    (ln_f): LayerNorm((768,), eps=1e-05, elementwise_affine=True)\n",
       "  )\n",
       "  (lm_head): Linear(in_features=768, out_features=50257, bias=False)\n",
       ")"
      ]
     },
     "execution_count": 3,
     "metadata": {},
     "output_type": "execute_result"
    }
   ],
   "source": [
    "# Specify weights_only=False to allow full unpickling\n",
    "model = torch.load(\n",
    "    \"customer-churn_training/model_128epoch_middle_padding_FULL.pt\",\n",
    "    map_location=torch.device(\"cuda\"),      # or \"cpu\" as needed\n",
    "    weights_only=False\n",
    ")\n",
    "model.model.eval()"
   ]
  },
  {
   "cell_type": "code",
   "execution_count": 4,
   "id": "f62b1fdf",
   "metadata": {},
   "outputs": [
    {
     "name": "stderr",
     "output_type": "stream",
     "text": [
      "  0%|          | 0/3150 [00:00<?, ?it/s]The attention mask is not set and cannot be inferred from input because pad token is same as eos token. As a consequence, you may observe unexpected behavior. Please pass your input's `attention_mask` to obtain reliable results.\n",
      "3200it [01:05, 48.90it/s]                          \n",
      "3200it [01:06, 48.11it/s]                          \n",
      "3200it [01:09, 46.22it/s]                          \n",
      "3200it [01:09, 46.06it/s]                          \n",
      "3200it [01:09, 45.92it/s]                          \n",
      "3200it [01:09, 45.71it/s]                          \n",
      "3200it [01:11, 44.58it/s]                          \n",
      "3199it [01:12, 43.87it/s]                          \n",
      "3200it [01:13, 43.65it/s]                          \n",
      "3200it [01:14, 42.98it/s]                          \n",
      "3200it [01:15, 42.40it/s]                          \n",
      "3200it [01:16, 42.02it/s]                          \n",
      "3200it [01:16, 42.09it/s]                          \n",
      "3200it [01:16, 41.85it/s]                          \n",
      "3200it [01:16, 41.80it/s]                          \n",
      "3200it [01:16, 41.63it/s]                          \n",
      "3200it [01:16, 41.79it/s]                          \n",
      "3200it [01:17, 41.49it/s]                          \n",
      "3200it [01:17, 41.36it/s]                          \n",
      "3200it [01:17, 41.06it/s]                          \n",
      "3200it [01:17, 41.08it/s]                          \n",
      "3200it [01:19, 40.34it/s]                          \n",
      "3200it [01:19, 40.22it/s]                          \n",
      "3200it [01:10, 45.15it/s]                          \n",
      "3200it [00:35, 89.17it/s]                          \n",
      "3200it [01:10, 45.20it/s]                          \n",
      "3200it [02:07, 25.01it/s]                          \n",
      "3200it [02:07, 25.07it/s]                          \n",
      "3200it [02:06, 25.24it/s]                          \n",
      "3200it [01:27, 36.72it/s]                          \n"
     ]
    }
   ],
   "source": [
    "for i in range(1,31):\n",
    "    synthetic_data = model.sample(n_samples=3150)\n",
    "    synthetic_data.to_csv(f\"customer-churn_sd-sets/customer-churn_128epoch_middle_padding_{i}.csv\", index=False)"
   ]
  },
  {
   "cell_type": "code",
   "execution_count": 6,
   "id": "3b743035",
   "metadata": {},
   "outputs": [
    {
     "name": "stderr",
     "output_type": "stream",
     "text": [
      "  0%|          | 0/3150 [00:00<?, ?it/s]The attention mask is not set and cannot be inferred from input because pad token is same as eos token. As a consequence, you may observe unexpected behavior. Please pass your input's `attention_mask` to obtain reliable results.\n",
      "3200it [01:52, 28.40it/s]                          \n"
     ]
    }
   ],
   "source": [
    "synthetic_data = model.sample(n_samples=3150)\n",
    "synthetic_data.to_csv(\"customer-churn_128epoch_middle_padding.csv\", index=False)"
   ]
  },
  {
   "cell_type": "code",
   "execution_count": 8,
   "id": "f11f2b37",
   "metadata": {},
   "outputs": [
    {
     "name": "stdout",
     "output_type": "stream",
     "text": [
      "Generating report ...\n",
      "\n",
      "(1/2) Evaluating Column Shapes: |██████████| 14/14 [00:00<00:00, 425.04it/s]|\n",
      "Column Shapes Score: 96.88%\n",
      "\n"
     ]
    },
    {
     "name": "stderr",
     "output_type": "stream",
     "text": [
      "/home/svenlag/tabula_test/tabula_env/lib/python3.12/site-packages/scipy/stats/_axis_nan_policy.py:586: RuntimeWarning:\n",
      "\n",
      "ks_2samp: Exact calculation unsuccessful. Switching to method=asymp.\n",
      "\n"
     ]
    },
    {
     "name": "stdout",
     "output_type": "stream",
     "text": [
      "(2/2) Evaluating Column Pair Trends: |██████████| 91/91 [00:00<00:00, 309.40it/s]|\n",
      "Column Pair Trends Score: 98.5%\n",
      "\n",
      "Overall Score (Average): 97.69%\n",
      "\n"
     ]
    }
   ],
   "source": [
    "from sdmetrics.reports.single_table import QualityReport\n",
    "\n",
    "synthetic_data = synthetic_data[data.columns.to_list()]\n",
    "\n",
    "metadata = {\n",
    "    \"columns\": {\n",
    "        \"Call_Failure\": {\"sdtype\": \"numerical\"},\n",
    "        \"Complains\": {\"sdtype\": \"numerical\"},\n",
    "        \"Subscription_Length\": {\"sdtype\": \"numerical\"},\n",
    "        \"Charge_Amount\": {\"sdtype\": \"numerical\"},\n",
    "        \"Seconds_of_Use\": {\"sdtype\": \"numerical\"},\n",
    "        \"Frequency_of_use\": {\"sdtype\": \"numerical\"},\n",
    "        \"Frequency_of_SMS\": {\"sdtype\": \"numerical\"},\n",
    "        \"Distinct_Called_Numbers\": {\"sdtype\": \"numerical\"},\n",
    "        \"Age_Group\": {\"sdtype\": \"numerical\"},\n",
    "        \"Tariff_Plan\": {\"sdtype\": \"numerical\"},\n",
    "        \"Status\": {\"sdtype\": \"numerical\"},\n",
    "        \"Age\": {\"sdtype\": \"numerical\"},\n",
    "        \"Customer_Value\": {\"sdtype\": \"numerical\"},\n",
    "        \"Churn\": {\"sdtype\": \"numerical\"}\n",
    "    }\n",
    "}\n",
    "\n",
    "report = QualityReport()\n",
    "report.generate(data, synthetic_data, metadata)"
   ]
  }
 ],
 "metadata": {
  "kernelspec": {
   "display_name": "tabula_env",
   "language": "python",
   "name": "python3"
  },
  "language_info": {
   "codemirror_mode": {
    "name": "ipython",
    "version": 3
   },
   "file_extension": ".py",
   "mimetype": "text/x-python",
   "name": "python",
   "nbconvert_exporter": "python",
   "pygments_lexer": "ipython3",
   "version": "3.12.3"
  }
 },
 "nbformat": 4,
 "nbformat_minor": 5
}
