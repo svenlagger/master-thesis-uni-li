{
 "cells": [
  {
   "cell_type": "code",
   "execution_count": 1,
   "id": "1fba84fd",
   "metadata": {},
   "outputs": [
    {
     "data": {
      "text/html": [
       "\n",
       "            <div>\n",
       "                <ins><a href=\"https://ydata.ai/register\">Upgrade to ydata-sdk</a></ins>\n",
       "                <p>\n",
       "                    Improve your data and profiling with ydata-sdk, featuring data quality scoring, redundancy detection, outlier identification, text validation, and synthetic data generation.\n",
       "                </p>\n",
       "            </div>\n",
       "            "
      ],
      "text/plain": [
       "<IPython.core.display.HTML object>"
      ]
     },
     "metadata": {},
     "output_type": "display_data"
    }
   ],
   "source": [
    "import sys\n",
    "import os\n",
    "# Add the directory containing 'thesis_utils.py' to the system path\n",
    "sys.path.append(os.path.abspath('..'))  # If 'thesis_utils.py' is one level up\n",
    "\n",
    "import pandas as pd\n",
    "import numpy as np\n",
    "from ydata_profiling import ProfileReport\n",
    "\n",
    "from thesis_utils import *"
   ]
  },
  {
   "cell_type": "code",
   "execution_count": 2,
   "id": "ef0bde16",
   "metadata": {},
   "outputs": [
    {
     "data": {
      "application/vnd.jupyter.widget-view+json": {
       "model_id": "92f654ca1fa346868ea6c3f76a3a2937",
       "version_major": 2,
       "version_minor": 0
      },
      "text/plain": [
       "Summarize dataset:   0%|          | 0/5 [00:00<?, ?it/s]"
      ]
     },
     "metadata": {},
     "output_type": "display_data"
    },
    {
     "name": "stderr",
     "output_type": "stream",
     "text": [
      "100%|██████████| 21/21 [00:00<00:00, 335.77it/s]\n"
     ]
    }
   ],
   "source": [
    "data = pd.read_csv(\"data/credit_score_cleaned.csv\")\n",
    "# remove columns that are not categorical or numerical\n",
    "data = data.drop(['ID', 'Customer_ID', 'Name', 'SSN', 'Type_of_Loan', 'Payment_Behaviour'], axis=1)\n",
    "\n",
    "# Generate the profiling report\n",
    "profile_full = ProfileReport(data, title=\"Credit Score\", explorative=True)\n",
    "\n",
    "# Get the description object\n",
    "desc_full = profile_full.get_description()\n",
    "\n",
    "# Access the correlation matrix\n",
    "correlation_matrix = desc_full.correlations[\"auto\"]\n",
    "\n",
    "categorical_cols = get_categorical_columns(data)\n",
    "distributions = fit_distributions(data)\n",
    "marginals = convert_distfit_to_marginals(distributions, data)\n",
    "\n",
    "i = 1\n",
    "while i <= 30:\n",
    "    data_syn = generate_synthetic_dataset(\n",
    "        original_data=data,\n",
    "        correlation_matrix=correlation_matrix,\n",
    "        categorical_columns=categorical_cols,\n",
    "        marginals=marginals,\n",
    "        n_rows=414,\n",
    "        correlation_threshold=0.1,\n",
    "        edge_strategy=\"random\",\n",
    "        sampling_strategy=\"local-chunks\"\n",
    "    )\n",
    "\n",
    "     # Check for NaN or Inf only in numeric columns\n",
    "    numeric_data = data_syn.select_dtypes(include=[np.number])\n",
    "    if not data_syn.isnull().values.any() and np.isfinite(numeric_data.values).all():\n",
    "        data_syn.to_csv(f\"data/_copula-cloning/credit_score/cc_credit_score_{i}.csv\", index=False)\n",
    "        i += 1\n",
    "    else: print(\"resample\")"
   ]
  },
  {
   "cell_type": "code",
   "execution_count": 3,
   "id": "df221edb",
   "metadata": {},
   "outputs": [
    {
     "data": {
      "application/vnd.jupyter.widget-view+json": {
       "model_id": "3377be2dddc2444aac2d40fa36936a33",
       "version_major": 2,
       "version_minor": 0
      },
      "text/plain": [
       "Summarize dataset:   0%|          | 0/5 [00:00<?, ?it/s]"
      ]
     },
     "metadata": {},
     "output_type": "display_data"
    },
    {
     "name": "stderr",
     "output_type": "stream",
     "text": [
      "100%|██████████| 12/12 [00:00<00:00, 595.13it/s]\n"
     ]
    }
   ],
   "source": [
    "data = pd.read_csv(\"data/air_quality_cleaned.csv\")\n",
    "# remove columns that are not categorical or numerical\n",
    "data = data.drop(['Date', 'Time'], axis=1)\n",
    "\n",
    "# Generate the profiling report\n",
    "profile_full = ProfileReport(data, title=\"Air\", explorative=True)\n",
    "\n",
    "# Get the description object\n",
    "desc_full = profile_full.get_description()\n",
    "\n",
    "# Access the correlation matrix\n",
    "correlation_matrix = desc_full.correlations[\"auto\"]\n",
    "\n",
    "categorical_cols = get_categorical_columns(data)\n",
    "distributions = fit_distributions(data)\n",
    "marginals = convert_distfit_to_marginals(distributions, data)\n",
    "\n",
    "i = 1\n",
    "while i <= 30:\n",
    "    data_syn = generate_synthetic_dataset(\n",
    "        original_data=data,\n",
    "        correlation_matrix=correlation_matrix,\n",
    "        categorical_columns=categorical_cols,\n",
    "        marginals=marginals,\n",
    "        n_rows=414,\n",
    "        correlation_threshold=0.1,\n",
    "        edge_strategy=\"random\",\n",
    "        sampling_strategy=\"local-chunks\"\n",
    "    )\n",
    "\n",
    "     # Check for NaN or Inf only in numeric columns\n",
    "    numeric_data = data_syn.select_dtypes(include=[np.number])\n",
    "    if not data_syn.isnull().values.any() and np.isfinite(numeric_data.values).all():\n",
    "        data_syn.to_csv(f\"data/_copula-cloning/air_quality/cc_air_quality_{i}.csv\", index=False)\n",
    "        i += 1\n",
    "    else: print(\"resample\")"
   ]
  },
  {
   "cell_type": "code",
   "execution_count": 4,
   "id": "1a131549",
   "metadata": {},
   "outputs": [
    {
     "data": {
      "application/vnd.jupyter.widget-view+json": {
       "model_id": "72382682a1d14d229f84516a06441417",
       "version_major": 2,
       "version_minor": 0
      },
      "text/plain": [
       "Summarize dataset:   0%|          | 0/5 [00:00<?, ?it/s]"
      ]
     },
     "metadata": {},
     "output_type": "display_data"
    },
    {
     "name": "stderr",
     "output_type": "stream",
     "text": [
      "100%|██████████| 14/14 [00:00<00:00, 5159.50it/s]\n"
     ]
    }
   ],
   "source": [
    "data = pd.read_csv(\"data/customer_churn.csv\")\n",
    "\n",
    "# Generate the profiling report\n",
    "profile_full = ProfileReport(data, title=\"Customer\", explorative=True)\n",
    "\n",
    "# Get the description object\n",
    "desc_full = profile_full.get_description()\n",
    "\n",
    "# Access the correlation matrix\n",
    "correlation_matrix = desc_full.correlations[\"auto\"]\n",
    "\n",
    "categorical_cols = get_categorical_columns(data)\n",
    "distributions = fit_distributions(data)\n",
    "marginals = convert_distfit_to_marginals(distributions, data)\n",
    "\n",
    "i = 1\n",
    "while i <= 30:\n",
    "    data_syn = generate_synthetic_dataset(\n",
    "        original_data=data,\n",
    "        correlation_matrix=correlation_matrix,\n",
    "        categorical_columns=categorical_cols,\n",
    "        marginals=marginals,\n",
    "        n_rows=414,\n",
    "        correlation_threshold=0.1,\n",
    "        edge_strategy=\"random\",\n",
    "        sampling_strategy=\"local-chunks\"\n",
    "    )\n",
    "\n",
    "     # Check for NaN or Inf only in numeric columns\n",
    "    numeric_data = data_syn.select_dtypes(include=[np.number])\n",
    "    if not data_syn.isnull().values.any() and np.isfinite(numeric_data.values).all():\n",
    "        data_syn.to_csv(f\"data/_copula-cloning/customer_churn/cc_customer_churn_{i}.csv\", index=False)\n",
    "        i += 1\n",
    "    else: print(\"resample\")\n"
   ]
  },
  {
   "cell_type": "code",
   "execution_count": 5,
   "id": "c1044464",
   "metadata": {},
   "outputs": [
    {
     "data": {
      "application/vnd.jupyter.widget-view+json": {
       "model_id": "3e45722111714c1bb449dd6ddb0ee7c8",
       "version_major": 2,
       "version_minor": 0
      },
      "text/plain": [
       "Summarize dataset:   0%|          | 0/5 [00:00<?, ?it/s]"
      ]
     },
     "metadata": {},
     "output_type": "display_data"
    },
    {
     "name": "stderr",
     "output_type": "stream",
     "text": [
      "100%|██████████| 7/7 [00:00<00:00, 266.78it/s]\n"
     ]
    }
   ],
   "source": [
    "data = pd.read_csv(\"data/insurance_original.csv\")\n",
    "\n",
    "# Generate the profiling report\n",
    "profile_full = ProfileReport(data, title=\"Insurance\", explorative=True)\n",
    "\n",
    "# Get the description object\n",
    "desc_full = profile_full.get_description()\n",
    "\n",
    "# Access the correlation matrix\n",
    "correlation_matrix = desc_full.correlations[\"auto\"]\n",
    "\n",
    "categorical_cols = get_categorical_columns(data)\n",
    "distributions = fit_distributions(data)\n",
    "marginals = convert_distfit_to_marginals(distributions, data)\n",
    "\n",
    "i = 1\n",
    "while i <= 30:\n",
    "    data_syn = generate_synthetic_dataset(\n",
    "        original_data=data,\n",
    "        correlation_matrix=correlation_matrix,\n",
    "        categorical_columns=categorical_cols,\n",
    "        marginals=marginals,\n",
    "        n_rows=414,\n",
    "        correlation_threshold=0.1,\n",
    "        edge_strategy=\"random\",\n",
    "        sampling_strategy=\"local-chunks\"\n",
    "    )\n",
    "\n",
    "     # Check for NaN or Inf only in numeric columns\n",
    "    numeric_data = data_syn.select_dtypes(include=[np.number])\n",
    "    if not data_syn.isnull().values.any() and np.isfinite(numeric_data.values).all():\n",
    "        data_syn.to_csv(f\"data/_copula-cloning/insurance/cc_insurance_{i}.csv\", index=False)\n",
    "        i += 1\n",
    "    else: print(\"resample\")"
   ]
  },
  {
   "cell_type": "code",
   "execution_count": 6,
   "id": "b5db87ee",
   "metadata": {},
   "outputs": [
    {
     "data": {
      "application/vnd.jupyter.widget-view+json": {
       "model_id": "0ec89f1e720f491c88434b5ba2c662df",
       "version_major": 2,
       "version_minor": 0
      },
      "text/plain": [
       "Summarize dataset:   0%|          | 0/5 [00:00<?, ?it/s]"
      ]
     },
     "metadata": {},
     "output_type": "display_data"
    },
    {
     "name": "stderr",
     "output_type": "stream",
     "text": [
      "100%|██████████| 6/6 [00:00<00:00, 65707.11it/s]\n"
     ]
    }
   ],
   "source": [
    "data = pd.read_csv(\"data/real_estate_valuation_cleaned.csv\")\n",
    "\n",
    "# Generate the profiling report\n",
    "profile_full = ProfileReport(data, title=\"Real Estate\", explorative=True)\n",
    "\n",
    "# Get the description object\n",
    "desc_full = profile_full.get_description()\n",
    "\n",
    "# Access the correlation matrix\n",
    "correlation_matrix = desc_full.correlations[\"auto\"]\n",
    "\n",
    "categorical_cols = get_categorical_columns(data)\n",
    "distributions = fit_distributions(data)\n",
    "marginals = convert_distfit_to_marginals(distributions, data)\n",
    "\n",
    "i = 1\n",
    "while i <= 30:\n",
    "    data_syn = generate_synthetic_dataset(\n",
    "        original_data=data,\n",
    "        correlation_matrix=correlation_matrix,\n",
    "        categorical_columns=categorical_cols,\n",
    "        marginals=marginals,\n",
    "        n_rows=414,\n",
    "        correlation_threshold=0.1,\n",
    "        edge_strategy=\"random\",\n",
    "        sampling_strategy=\"local-chunks\"\n",
    "    )\n",
    "\n",
    "     # Check for NaN or Inf only in numeric columns\n",
    "    numeric_data = data_syn.select_dtypes(include=[np.number])\n",
    "    if not data_syn.isnull().values.any() and np.isfinite(numeric_data.values).all():\n",
    "        data_syn.to_csv(f\"data/_copula-cloning/real_estate/cc_real_estate_{i}.csv\", index=False)\n",
    "        i += 1\n",
    "    else: print(\"resample\")"
   ]
  }
 ],
 "metadata": {
  "kernelspec": {
   "display_name": "denoising_env",
   "language": "python",
   "name": "python3"
  },
  "language_info": {
   "codemirror_mode": {
    "name": "ipython",
    "version": 3
   },
   "file_extension": ".py",
   "mimetype": "text/x-python",
   "name": "python",
   "nbconvert_exporter": "python",
   "pygments_lexer": "ipython3",
   "version": "3.12.3"
  }
 },
 "nbformat": 4,
 "nbformat_minor": 5
}
