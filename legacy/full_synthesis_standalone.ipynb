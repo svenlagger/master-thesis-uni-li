{
 "cells": [
  {
   "cell_type": "code",
   "execution_count": 1,
   "id": "84836730",
   "metadata": {},
   "outputs": [
    {
     "name": "stdout",
     "output_type": "stream",
     "text": [
      "Detected IPython. Loading juliacall extension. See https://juliapy.github.io/PythonCall.jl/stable/compat/#IPython\n"
     ]
    }
   ],
   "source": [
    "import pandas as pd\n",
    "import numpy as np\n",
    "import matplotlib.pyplot as plt\n",
    "from distfit import distfit\n",
    "import re\n",
    "from sympy import symbols, simplify, sin, cos, log, Abs, exp, expand_power_base, Mul, Rational, sqrt\n",
    "from sympy.parsing.sympy_parser import parse_expr\n",
    "import seaborn as sns\n",
    "import copy\n",
    "import json\n",
    "from ydata_profiling import ProfileReport\n",
    "import sys\n",
    "import os\n",
    "import bnlearn as bn\n",
    "os.environ[\"JULIA_NUM_THREADS\"] = \"8\"\n",
    "\n",
    "# Add the directory containing 'thesis_utils.py' to the system path\n",
    "sys.path.append(os.path.abspath('..'))  # If 'thesis_utils.py' is one level up\n",
    "# Or use this if it's in the same directory as the notebook:\n",
    "# sys.path.append(os.getcwd())\n",
    "\n",
    "from thesis_utils import * "
   ]
  },
  {
   "cell_type": "code",
   "execution_count": 38,
   "id": "da717714",
   "metadata": {},
   "outputs": [],
   "source": [
    "import importlib\n",
    "import thesis_utils  # or whatever your module is called\n",
    "\n",
    "importlib.reload(thesis_utils)\n",
    "\n",
    "from thesis_utils import *"
   ]
  },
  {
   "cell_type": "code",
   "execution_count": 2,
   "id": "30842b2d",
   "metadata": {},
   "outputs": [],
   "source": [
    "data = pd.read_csv('C:/Users/svenl/vs_code_projects/hyperRealDataDescriber/data/credit_score/cleaned_credit_score_v2.csv')\n",
    "data = data.drop(['ID', 'Customer_ID', 'Name', 'SSN', 'Type_of_Loan', 'Payment_Behaviour'], axis=1)"
   ]
  },
  {
   "cell_type": "code",
   "execution_count": 3,
   "id": "14afe512",
   "metadata": {},
   "outputs": [
    {
     "data": {
      "application/vnd.jupyter.widget-view+json": {
       "model_id": "ff76010c18dc452da7e6d6c9edb6ab2f",
       "version_major": 2,
       "version_minor": 0
      },
      "text/plain": [
       "Summarize dataset:   0%|          | 0/5 [00:00<?, ?it/s]"
      ]
     },
     "metadata": {},
     "output_type": "display_data"
    }
   ],
   "source": [
    "# Generate the profiling report\n",
    "profile = ProfileReport(data, title=\"Credit Score Cleaned\", explorative=True)\n",
    "\n",
    "# Get the description object\n",
    "desc = profile.get_description()\n",
    "\n",
    "# Access the correlation matrix\n",
    "correlation_matrix = desc.correlations[\"auto\"]"
   ]
  },
  {
   "cell_type": "code",
   "execution_count": 4,
   "id": "61fae09c",
   "metadata": {},
   "outputs": [],
   "source": [
    "categorical_cols = get_categorical_columns(data)\n",
    "distributions = fit_distributions(data)\n",
    "marginals = convert_distfit_to_marginals(distributions, data)"
   ]
  },
  {
   "cell_type": "code",
   "execution_count": 17,
   "id": "be46b5c1",
   "metadata": {},
   "outputs": [],
   "source": [
    "data = deanonymize_column_names(data, rename)\n",
    "data_syn = deanonymize_column_names(data_syn, rename)"
   ]
  },
  {
   "cell_type": "code",
   "execution_count": 18,
   "id": "db943950",
   "metadata": {},
   "outputs": [],
   "source": [
    "data_syn = generate_synthetic_dataset(original_data=data, correlation_matrix=correlation_matrix, categorical_columns=categorical_cols, marginals=marginals, n_rows=37000, correlation_threshold=0.1, edge_strategy=\"random\", sampling_strategy=\"local-chunks\")"
   ]
  },
  {
   "cell_type": "code",
   "execution_count": 19,
   "id": "cdd6553f",
   "metadata": {},
   "outputs": [],
   "source": [
    "data_syn = data_syn[data.columns.to_list()]"
   ]
  },
  {
   "cell_type": "code",
   "execution_count": 6,
   "id": "e45c4991",
   "metadata": {},
   "outputs": [],
   "source": [
    "data_syn, rename = anonymize_column_names(data_syn)"
   ]
  },
  {
   "cell_type": "code",
   "execution_count": 20,
   "id": "0246c5db",
   "metadata": {},
   "outputs": [
    {
     "data": {
      "application/vnd.jupyter.widget-view+json": {
       "model_id": "5a60d8931010444eb0dca4fcad3e9ba7",
       "version_major": 2,
       "version_minor": 0
      },
      "text/plain": [
       "Summarize dataset:   0%|          | 0/5 [00:00<?, ?it/s]"
      ]
     },
     "metadata": {},
     "output_type": "display_data"
    }
   ],
   "source": [
    "# Generate the profiling report\n",
    "profile_syn = ProfileReport(data_syn, title=\"Credit Score Cleaned SYN\", explorative=True)\n",
    "\n",
    "# Get the description object\n",
    "desc_syn = profile_syn.get_description()\n",
    "\n",
    "# Access the correlation matrix\n",
    "correlation_matrix_syn = desc_syn.correlations[\"auto\"]"
   ]
  },
  {
   "cell_type": "code",
   "execution_count": 21,
   "id": "bc0987aa",
   "metadata": {},
   "outputs": [
    {
     "data": {
      "application/vnd.plotly.v1+json": {
       "config": {
        "plotlyServerURL": "https://plot.ly"
       },
       "data": [
        {
         "colorbar": {
          "len": 0.9,
          "title": {
           "text": "Correlation"
          }
         },
         "colorscale": [
          [
           0,
           "rgb(103,0,31)"
          ],
          [
           0.1,
           "rgb(178,24,43)"
          ],
          [
           0.2,
           "rgb(214,96,77)"
          ],
          [
           0.3,
           "rgb(244,165,130)"
          ],
          [
           0.4,
           "rgb(253,219,199)"
          ],
          [
           0.5,
           "rgb(247,247,247)"
          ],
          [
           0.6,
           "rgb(209,229,240)"
          ],
          [
           0.7,
           "rgb(146,197,222)"
          ],
          [
           0.8,
           "rgb(67,147,195)"
          ],
          [
           0.9,
           "rgb(33,102,172)"
          ],
          [
           1,
           "rgb(5,48,97)"
          ]
         ],
         "hoverongaps": false,
         "hovertemplate": "X: %{x}<br>Y: %{y}<br>Corr: %{z:.2f}<extra></extra>",
         "type": "heatmap",
         "x": [
          "Age",
          "Amount_invested_monthly",
          "Annual_Income",
          "Changed_Credit_Limit",
          "Credit_History_Age",
          "Credit_Mix",
          "Credit_Utilization_Ratio",
          "Delay_from_due_date",
          "Interest_Rate",
          "Month",
          "Monthly_Balance",
          "Monthly_Inhand_Salary",
          "Num_Bank_Accounts",
          "Num_Credit_Card",
          "Num_Credit_Inquiries",
          "Num_of_Delayed_Payment",
          "Num_of_Loan",
          "Occupation",
          "Outstanding_Debt",
          "Payment_of_Min_Amount",
          "Total_EMI_per_month"
         ],
         "xaxis": "x",
         "y": [
          "Age",
          "Amount_invested_monthly",
          "Annual_Income",
          "Changed_Credit_Limit",
          "Credit_History_Age",
          "Credit_Mix",
          "Credit_Utilization_Ratio",
          "Delay_from_due_date",
          "Interest_Rate",
          "Month",
          "Monthly_Balance",
          "Monthly_Inhand_Salary",
          "Num_Bank_Accounts",
          "Num_Credit_Card",
          "Num_Credit_Inquiries",
          "Num_of_Delayed_Payment",
          "Num_of_Loan",
          "Occupation",
          "Outstanding_Debt",
          "Payment_of_Min_Amount",
          "Total_EMI_per_month"
         ],
         "yaxis": "y",
         "z": {
          "bdata": "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",
          "dtype": "f8",
          "shape": "21, 21"
         },
         "zmax": 1,
         "zmin": -1
        },
        {
         "colorscale": [
          [
           0,
           "rgb(103,0,31)"
          ],
          [
           0.1,
           "rgb(178,24,43)"
          ],
          [
           0.2,
           "rgb(214,96,77)"
          ],
          [
           0.3,
           "rgb(244,165,130)"
          ],
          [
           0.4,
           "rgb(253,219,199)"
          ],
          [
           0.5,
           "rgb(247,247,247)"
          ],
          [
           0.6,
           "rgb(209,229,240)"
          ],
          [
           0.7,
           "rgb(146,197,222)"
          ],
          [
           0.8,
           "rgb(67,147,195)"
          ],
          [
           0.9,
           "rgb(33,102,172)"
          ],
          [
           1,
           "rgb(5,48,97)"
          ]
         ],
         "hoverongaps": false,
         "hovertemplate": "X: %{x}<br>Y: %{y}<br>Corr: %{z:.2f}<extra></extra>",
         "showscale": false,
         "type": "heatmap",
         "x": [
          "Age",
          "Amount_invested_monthly",
          "Annual_Income",
          "Changed_Credit_Limit",
          "Credit_History_Age",
          "Credit_Mix",
          "Credit_Utilization_Ratio",
          "Delay_from_due_date",
          "Interest_Rate",
          "Month",
          "Monthly_Balance",
          "Monthly_Inhand_Salary",
          "Num_Bank_Accounts",
          "Num_Credit_Card",
          "Num_Credit_Inquiries",
          "Num_of_Delayed_Payment",
          "Num_of_Loan",
          "Occupation",
          "Outstanding_Debt",
          "Payment_of_Min_Amount",
          "Total_EMI_per_month"
         ],
         "xaxis": "x2",
         "y": [
          "Age",
          "Amount_invested_monthly",
          "Annual_Income",
          "Changed_Credit_Limit",
          "Credit_History_Age",
          "Credit_Mix",
          "Credit_Utilization_Ratio",
          "Delay_from_due_date",
          "Interest_Rate",
          "Month",
          "Monthly_Balance",
          "Monthly_Inhand_Salary",
          "Num_Bank_Accounts",
          "Num_Credit_Card",
          "Num_Credit_Inquiries",
          "Num_of_Delayed_Payment",
          "Num_of_Loan",
          "Occupation",
          "Outstanding_Debt",
          "Payment_of_Min_Amount",
          "Total_EMI_per_month"
         ],
         "yaxis": "y2",
         "z": {
          "bdata": "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",
          "dtype": "f8",
          "shape": "21, 21"
         },
         "zmax": 1,
         "zmin": -1
        }
       ],
       "layout": {
        "annotations": [
         {
          "font": {
           "size": 16
          },
          "showarrow": false,
          "text": "Real",
          "x": 0.225,
          "xanchor": "center",
          "xref": "paper",
          "y": 1,
          "yanchor": "bottom",
          "yref": "paper"
         },
         {
          "font": {
           "size": 16
          },
          "showarrow": false,
          "text": "Synthetic",
          "x": 0.775,
          "xanchor": "center",
          "xref": "paper",
          "y": 1,
          "yanchor": "bottom",
          "yref": "paper"
         }
        ],
        "height": 700,
        "showlegend": false,
        "template": {
         "data": {
          "bar": [
           {
            "error_x": {
             "color": "#2a3f5f"
            },
            "error_y": {
             "color": "#2a3f5f"
            },
            "marker": {
             "line": {
              "color": "#E5ECF6",
              "width": 0.5
             },
             "pattern": {
              "fillmode": "overlay",
              "size": 10,
              "solidity": 0.2
             }
            },
            "type": "bar"
           }
          ],
          "barpolar": [
           {
            "marker": {
             "line": {
              "color": "#E5ECF6",
              "width": 0.5
             },
             "pattern": {
              "fillmode": "overlay",
              "size": 10,
              "solidity": 0.2
             }
            },
            "type": "barpolar"
           }
          ],
          "carpet": [
           {
            "aaxis": {
             "endlinecolor": "#2a3f5f",
             "gridcolor": "white",
             "linecolor": "white",
             "minorgridcolor": "white",
             "startlinecolor": "#2a3f5f"
            },
            "baxis": {
             "endlinecolor": "#2a3f5f",
             "gridcolor": "white",
             "linecolor": "white",
             "minorgridcolor": "white",
             "startlinecolor": "#2a3f5f"
            },
            "type": "carpet"
           }
          ],
          "choropleth": [
           {
            "colorbar": {
             "outlinewidth": 0,
             "ticks": ""
            },
            "type": "choropleth"
           }
          ],
          "contour": [
           {
            "colorbar": {
             "outlinewidth": 0,
             "ticks": ""
            },
            "colorscale": [
             [
              0,
              "#0d0887"
             ],
             [
              0.1111111111111111,
              "#46039f"
             ],
             [
              0.2222222222222222,
              "#7201a8"
             ],
             [
              0.3333333333333333,
              "#9c179e"
             ],
             [
              0.4444444444444444,
              "#bd3786"
             ],
             [
              0.5555555555555556,
              "#d8576b"
             ],
             [
              0.6666666666666666,
              "#ed7953"
             ],
             [
              0.7777777777777778,
              "#fb9f3a"
             ],
             [
              0.8888888888888888,
              "#fdca26"
             ],
             [
              1,
              "#f0f921"
             ]
            ],
            "type": "contour"
           }
          ],
          "contourcarpet": [
           {
            "colorbar": {
             "outlinewidth": 0,
             "ticks": ""
            },
            "type": "contourcarpet"
           }
          ],
          "heatmap": [
           {
            "colorbar": {
             "outlinewidth": 0,
             "ticks": ""
            },
            "colorscale": [
             [
              0,
              "#0d0887"
             ],
             [
              0.1111111111111111,
              "#46039f"
             ],
             [
              0.2222222222222222,
              "#7201a8"
             ],
             [
              0.3333333333333333,
              "#9c179e"
             ],
             [
              0.4444444444444444,
              "#bd3786"
             ],
             [
              0.5555555555555556,
              "#d8576b"
             ],
             [
              0.6666666666666666,
              "#ed7953"
             ],
             [
              0.7777777777777778,
              "#fb9f3a"
             ],
             [
              0.8888888888888888,
              "#fdca26"
             ],
             [
              1,
              "#f0f921"
             ]
            ],
            "type": "heatmap"
           }
          ],
          "histogram": [
           {
            "marker": {
             "pattern": {
              "fillmode": "overlay",
              "size": 10,
              "solidity": 0.2
             }
            },
            "type": "histogram"
           }
          ],
          "histogram2d": [
           {
            "colorbar": {
             "outlinewidth": 0,
             "ticks": ""
            },
            "colorscale": [
             [
              0,
              "#0d0887"
             ],
             [
              0.1111111111111111,
              "#46039f"
             ],
             [
              0.2222222222222222,
              "#7201a8"
             ],
             [
              0.3333333333333333,
              "#9c179e"
             ],
             [
              0.4444444444444444,
              "#bd3786"
             ],
             [
              0.5555555555555556,
              "#d8576b"
             ],
             [
              0.6666666666666666,
              "#ed7953"
             ],
             [
              0.7777777777777778,
              "#fb9f3a"
             ],
             [
              0.8888888888888888,
              "#fdca26"
             ],
             [
              1,
              "#f0f921"
             ]
            ],
            "type": "histogram2d"
           }
          ],
          "histogram2dcontour": [
           {
            "colorbar": {
             "outlinewidth": 0,
             "ticks": ""
            },
            "colorscale": [
             [
              0,
              "#0d0887"
             ],
             [
              0.1111111111111111,
              "#46039f"
             ],
             [
              0.2222222222222222,
              "#7201a8"
             ],
             [
              0.3333333333333333,
              "#9c179e"
             ],
             [
              0.4444444444444444,
              "#bd3786"
             ],
             [
              0.5555555555555556,
              "#d8576b"
             ],
             [
              0.6666666666666666,
              "#ed7953"
             ],
             [
              0.7777777777777778,
              "#fb9f3a"
             ],
             [
              0.8888888888888888,
              "#fdca26"
             ],
             [
              1,
              "#f0f921"
             ]
            ],
            "type": "histogram2dcontour"
           }
          ],
          "mesh3d": [
           {
            "colorbar": {
             "outlinewidth": 0,
             "ticks": ""
            },
            "type": "mesh3d"
           }
          ],
          "parcoords": [
           {
            "line": {
             "colorbar": {
              "outlinewidth": 0,
              "ticks": ""
             }
            },
            "type": "parcoords"
           }
          ],
          "pie": [
           {
            "automargin": true,
            "type": "pie"
           }
          ],
          "scatter": [
           {
            "fillpattern": {
             "fillmode": "overlay",
             "size": 10,
             "solidity": 0.2
            },
            "type": "scatter"
           }
          ],
          "scatter3d": [
           {
            "line": {
             "colorbar": {
              "outlinewidth": 0,
              "ticks": ""
             }
            },
            "marker": {
             "colorbar": {
              "outlinewidth": 0,
              "ticks": ""
             }
            },
            "type": "scatter3d"
           }
          ],
          "scattercarpet": [
           {
            "marker": {
             "colorbar": {
              "outlinewidth": 0,
              "ticks": ""
             }
            },
            "type": "scattercarpet"
           }
          ],
          "scattergeo": [
           {
            "marker": {
             "colorbar": {
              "outlinewidth": 0,
              "ticks": ""
             }
            },
            "type": "scattergeo"
           }
          ],
          "scattergl": [
           {
            "marker": {
             "colorbar": {
              "outlinewidth": 0,
              "ticks": ""
             }
            },
            "type": "scattergl"
           }
          ],
          "scattermap": [
           {
            "marker": {
             "colorbar": {
              "outlinewidth": 0,
              "ticks": ""
             }
            },
            "type": "scattermap"
           }
          ],
          "scattermapbox": [
           {
            "marker": {
             "colorbar": {
              "outlinewidth": 0,
              "ticks": ""
             }
            },
            "type": "scattermapbox"
           }
          ],
          "scatterpolar": [
           {
            "marker": {
             "colorbar": {
              "outlinewidth": 0,
              "ticks": ""
             }
            },
            "type": "scatterpolar"
           }
          ],
          "scatterpolargl": [
           {
            "marker": {
             "colorbar": {
              "outlinewidth": 0,
              "ticks": ""
             }
            },
            "type": "scatterpolargl"
           }
          ],
          "scatterternary": [
           {
            "marker": {
             "colorbar": {
              "outlinewidth": 0,
              "ticks": ""
             }
            },
            "type": "scatterternary"
           }
          ],
          "surface": [
           {
            "colorbar": {
             "outlinewidth": 0,
             "ticks": ""
            },
            "colorscale": [
             [
              0,
              "#0d0887"
             ],
             [
              0.1111111111111111,
              "#46039f"
             ],
             [
              0.2222222222222222,
              "#7201a8"
             ],
             [
              0.3333333333333333,
              "#9c179e"
             ],
             [
              0.4444444444444444,
              "#bd3786"
             ],
             [
              0.5555555555555556,
              "#d8576b"
             ],
             [
              0.6666666666666666,
              "#ed7953"
             ],
             [
              0.7777777777777778,
              "#fb9f3a"
             ],
             [
              0.8888888888888888,
              "#fdca26"
             ],
             [
              1,
              "#f0f921"
             ]
            ],
            "type": "surface"
           }
          ],
          "table": [
           {
            "cells": {
             "fill": {
              "color": "#EBF0F8"
             },
             "line": {
              "color": "white"
             }
            },
            "header": {
             "fill": {
              "color": "#C8D4E3"
             },
             "line": {
              "color": "white"
             }
            },
            "type": "table"
           }
          ]
         },
         "layout": {
          "annotationdefaults": {
           "arrowcolor": "#2a3f5f",
           "arrowhead": 0,
           "arrowwidth": 1
          },
          "autotypenumbers": "strict",
          "coloraxis": {
           "colorbar": {
            "outlinewidth": 0,
            "ticks": ""
           }
          },
          "colorscale": {
           "diverging": [
            [
             0,
             "#8e0152"
            ],
            [
             0.1,
             "#c51b7d"
            ],
            [
             0.2,
             "#de77ae"
            ],
            [
             0.3,
             "#f1b6da"
            ],
            [
             0.4,
             "#fde0ef"
            ],
            [
             0.5,
             "#f7f7f7"
            ],
            [
             0.6,
             "#e6f5d0"
            ],
            [
             0.7,
             "#b8e186"
            ],
            [
             0.8,
             "#7fbc41"
            ],
            [
             0.9,
             "#4d9221"
            ],
            [
             1,
             "#276419"
            ]
           ],
           "sequential": [
            [
             0,
             "#0d0887"
            ],
            [
             0.1111111111111111,
             "#46039f"
            ],
            [
             0.2222222222222222,
             "#7201a8"
            ],
            [
             0.3333333333333333,
             "#9c179e"
            ],
            [
             0.4444444444444444,
             "#bd3786"
            ],
            [
             0.5555555555555556,
             "#d8576b"
            ],
            [
             0.6666666666666666,
             "#ed7953"
            ],
            [
             0.7777777777777778,
             "#fb9f3a"
            ],
            [
             0.8888888888888888,
             "#fdca26"
            ],
            [
             1,
             "#f0f921"
            ]
           ],
           "sequentialminus": [
            [
             0,
             "#0d0887"
            ],
            [
             0.1111111111111111,
             "#46039f"
            ],
            [
             0.2222222222222222,
             "#7201a8"
            ],
            [
             0.3333333333333333,
             "#9c179e"
            ],
            [
             0.4444444444444444,
             "#bd3786"
            ],
            [
             0.5555555555555556,
             "#d8576b"
            ],
            [
             0.6666666666666666,
             "#ed7953"
            ],
            [
             0.7777777777777778,
             "#fb9f3a"
            ],
            [
             0.8888888888888888,
             "#fdca26"
            ],
            [
             1,
             "#f0f921"
            ]
           ]
          },
          "colorway": [
           "#636efa",
           "#EF553B",
           "#00cc96",
           "#ab63fa",
           "#FFA15A",
           "#19d3f3",
           "#FF6692",
           "#B6E880",
           "#FF97FF",
           "#FECB52"
          ],
          "font": {
           "color": "#2a3f5f"
          },
          "geo": {
           "bgcolor": "white",
           "lakecolor": "white",
           "landcolor": "#E5ECF6",
           "showlakes": true,
           "showland": true,
           "subunitcolor": "white"
          },
          "hoverlabel": {
           "align": "left"
          },
          "hovermode": "closest",
          "mapbox": {
           "style": "light"
          },
          "paper_bgcolor": "white",
          "plot_bgcolor": "#E5ECF6",
          "polar": {
           "angularaxis": {
            "gridcolor": "white",
            "linecolor": "white",
            "ticks": ""
           },
           "bgcolor": "#E5ECF6",
           "radialaxis": {
            "gridcolor": "white",
            "linecolor": "white",
            "ticks": ""
           }
          },
          "scene": {
           "xaxis": {
            "backgroundcolor": "#E5ECF6",
            "gridcolor": "white",
            "gridwidth": 2,
            "linecolor": "white",
            "showbackground": true,
            "ticks": "",
            "zerolinecolor": "white"
           },
           "yaxis": {
            "backgroundcolor": "#E5ECF6",
            "gridcolor": "white",
            "gridwidth": 2,
            "linecolor": "white",
            "showbackground": true,
            "ticks": "",
            "zerolinecolor": "white"
           },
           "zaxis": {
            "backgroundcolor": "#E5ECF6",
            "gridcolor": "white",
            "gridwidth": 2,
            "linecolor": "white",
            "showbackground": true,
            "ticks": "",
            "zerolinecolor": "white"
           }
          },
          "shapedefaults": {
           "line": {
            "color": "#2a3f5f"
           }
          },
          "ternary": {
           "aaxis": {
            "gridcolor": "white",
            "linecolor": "white",
            "ticks": ""
           },
           "baxis": {
            "gridcolor": "white",
            "linecolor": "white",
            "ticks": ""
           },
           "bgcolor": "#E5ECF6",
           "caxis": {
            "gridcolor": "white",
            "linecolor": "white",
            "ticks": ""
           }
          },
          "title": {
           "x": 0.05
          },
          "xaxis": {
           "automargin": true,
           "gridcolor": "white",
           "linecolor": "white",
           "ticks": "",
           "title": {
            "standoff": 15
           },
           "zerolinecolor": "white",
           "zerolinewidth": 2
          },
          "yaxis": {
           "automargin": true,
           "gridcolor": "white",
           "linecolor": "white",
           "ticks": "",
           "title": {
            "standoff": 15
           },
           "zerolinecolor": "white",
           "zerolinewidth": 2
          }
         }
        },
        "title": {
         "text": "Comparison of Correlation Matrices"
        },
        "width": 1200,
        "xaxis": {
         "anchor": "y",
         "domain": [
          0,
          0.45
         ]
        },
        "xaxis2": {
         "anchor": "y2",
         "domain": [
          0.55,
          1
         ]
        },
        "yaxis": {
         "anchor": "x",
         "domain": [
          0,
          1
         ]
        },
        "yaxis2": {
         "anchor": "x2",
         "domain": [
          0,
          1
         ]
        }
       }
      }
     },
     "metadata": {},
     "output_type": "display_data"
    }
   ],
   "source": [
    "plot_correlation_matrices(correlation_matrix, correlation_matrix_syn, \"Real\", \"Synthetic\")"
   ]
  },
  {
   "cell_type": "code",
   "execution_count": 22,
   "id": "9deee0bf",
   "metadata": {},
   "outputs": [
    {
     "name": "stdout",
     "output_type": "stream",
     "text": [
      "Generating report ...\n",
      "\n",
      "(1/2) Evaluating Column Shapes: |██████████| 21/21 [00:00<00:00, 47.55it/s]|\n",
      "Column Shapes Score: 93.65%\n",
      "\n",
      "(2/2) Evaluating Column Pair Trends: |██████████| 210/210 [00:01<00:00, 128.59it/s]|\n",
      "Column Pair Trends Score: 91.84%\n",
      "\n",
      "Overall Score (Average): 92.75%\n",
      "\n"
     ]
    }
   ],
   "source": [
    "data, rename = anonymize_column_names(data)\n",
    "data_syn, rename = anonymize_column_names(data_syn)\n",
    "\n",
    "from sdmetrics.reports.single_table import QualityReport\n",
    "from sdmetrics.single_table import NewRowSynthesis\n",
    "\n",
    "metadata = {\n",
    "    \"columns\": {\n",
    "        \"X1\": {\"sdtype\": \"categorical\"},\n",
    "        \"X2\": {\"sdtype\": \"numerical\"},\n",
    "        \"X3\": {\"sdtype\": \"categorical\"},\n",
    "        \"X4\": {\"sdtype\": \"numerical\"},\n",
    "        \"X5\": {\"sdtype\": \"numerical\"},\n",
    "        \"X6\": {\"sdtype\": \"numerical\"},\n",
    "        \"X7\": {\"sdtype\": \"numerical\"},\n",
    "        \"X8\": {\"sdtype\": \"numerical\"},\n",
    "        \"X9\": {\"sdtype\": \"numerical\"},\n",
    "        \"X10\": {\"sdtype\": \"numerical\"},\n",
    "        \"X11\": {\"sdtype\": \"numerical\"},\n",
    "        \"X12\": {\"sdtype\": \"numerical\"},\n",
    "        \"X13\": {\"sdtype\": \"numerical\"},\n",
    "        \"X14\": {\"sdtype\": \"categorical\"},\n",
    "        \"X15\": {\"sdtype\": \"numerical\"},\n",
    "        \"X16\": {\"sdtype\": \"numerical\"},\n",
    "        \"X17\": {\"sdtype\": \"numerical\"},\n",
    "        \"X18\": {\"sdtype\": \"categorical\"},\n",
    "        \"X19\": {\"sdtype\": \"numerical\"},\n",
    "        \"X20\": {\"sdtype\": \"numerical\"},\n",
    "        \"X21\": {\"sdtype\": \"numerical\"},\n",
    "    }\n",
    "}\n",
    "\n",
    "report = QualityReport()\n",
    "report.generate(data, data_syn, metadata)"
   ]
  },
  {
   "cell_type": "code",
   "execution_count": 20,
   "id": "8cc4f1a3",
   "metadata": {},
   "outputs": [
    {
     "data": {
      "application/vnd.microsoft.datawrangler.viewer.v0+json": {
       "columns": [
        {
         "name": "index",
         "rawType": "int64",
         "type": "integer"
        },
        {
         "name": "Column",
         "rawType": "object",
         "type": "string"
        },
        {
         "name": "Metric",
         "rawType": "object",
         "type": "string"
        },
        {
         "name": "Score",
         "rawType": "float64",
         "type": "float"
        },
        {
         "name": "Error",
         "rawType": "object",
         "type": "unknown"
        }
       ],
       "conversionMethod": "pd.DataFrame",
       "ref": "be091dfa-4149-43aa-b08e-195aca915a49",
       "rows": [
        [
         "0",
         "X1",
         "TVComplement",
         "1.2733573084844352e-09",
         null
        ],
        [
         "1",
         "X2",
         "KSComplement",
         "0.1734594594594594",
         null
        ],
        [
         "2",
         "X3",
         "TVComplement",
         "1.0956788153437813e-06",
         null
        ],
        [
         "3",
         "X4",
         "KSComplement",
         "0.0",
         null
        ],
        [
         "4",
         "X5",
         "KSComplement",
         "0.0",
         null
        ],
        [
         "5",
         "X6",
         "KSComplement",
         "0.0",
         null
        ],
        [
         "6",
         "X7",
         "KSComplement",
         "0.2612719390005067",
         null
        ],
        [
         "7",
         "X8",
         "KSComplement",
         "0.9556065590302316",
         null
        ],
        [
         "8",
         "X9",
         "KSComplement",
         "2.7027027027060058e-05",
         null
        ],
        [
         "9",
         "X10",
         "KSComplement",
         "0.0",
         null
        ],
        [
         "10",
         "X11",
         "KSComplement",
         "0.2921258126556181",
         null
        ],
        [
         "11",
         "X12",
         "KSComplement",
         "0.4785700710630971",
         null
        ],
        [
         "12",
         "X13",
         "KSComplement",
         "0.9765996960269814",
         null
        ],
        [
         "13",
         "X14",
         "TVComplement",
         "8.587761612943723e-10",
         null
        ],
        [
         "14",
         "X15",
         "KSComplement",
         "0.003257425449376683",
         null
        ],
        [
         "15",
         "X16",
         "KSComplement",
         "0.012880380454486917",
         null
        ],
        [
         "16",
         "X17",
         "KSComplement",
         "0.05905405405405406",
         null
        ],
        [
         "17",
         "X18",
         "TVComplement",
         "1.184519149433072e-10",
         null
        ],
        [
         "18",
         "X19",
         "KSComplement",
         null,
         "TypeError: '<' not supported between instances of 'float' and 'str'"
        ],
        [
         "19",
         "X20",
         "KSComplement",
         null,
         "TypeError: '<' not supported between instances of 'float' and 'str'"
        ],
        [
         "20",
         "X21",
         "KSComplement",
         null,
         "TypeError: '<' not supported between instances of 'float' and 'str'"
        ]
       ],
       "shape": {
        "columns": 4,
        "rows": 21
       }
      },
      "text/html": [
       "<div>\n",
       "<style scoped>\n",
       "    .dataframe tbody tr th:only-of-type {\n",
       "        vertical-align: middle;\n",
       "    }\n",
       "\n",
       "    .dataframe tbody tr th {\n",
       "        vertical-align: top;\n",
       "    }\n",
       "\n",
       "    .dataframe thead th {\n",
       "        text-align: right;\n",
       "    }\n",
       "</style>\n",
       "<table border=\"1\" class=\"dataframe\">\n",
       "  <thead>\n",
       "    <tr style=\"text-align: right;\">\n",
       "      <th></th>\n",
       "      <th>Column</th>\n",
       "      <th>Metric</th>\n",
       "      <th>Score</th>\n",
       "      <th>Error</th>\n",
       "    </tr>\n",
       "  </thead>\n",
       "  <tbody>\n",
       "    <tr>\n",
       "      <th>0</th>\n",
       "      <td>X1</td>\n",
       "      <td>TVComplement</td>\n",
       "      <td>1.273357e-09</td>\n",
       "      <td>None</td>\n",
       "    </tr>\n",
       "    <tr>\n",
       "      <th>1</th>\n",
       "      <td>X2</td>\n",
       "      <td>KSComplement</td>\n",
       "      <td>1.734595e-01</td>\n",
       "      <td>None</td>\n",
       "    </tr>\n",
       "    <tr>\n",
       "      <th>2</th>\n",
       "      <td>X3</td>\n",
       "      <td>TVComplement</td>\n",
       "      <td>1.095679e-06</td>\n",
       "      <td>None</td>\n",
       "    </tr>\n",
       "    <tr>\n",
       "      <th>3</th>\n",
       "      <td>X4</td>\n",
       "      <td>KSComplement</td>\n",
       "      <td>0.000000e+00</td>\n",
       "      <td>None</td>\n",
       "    </tr>\n",
       "    <tr>\n",
       "      <th>4</th>\n",
       "      <td>X5</td>\n",
       "      <td>KSComplement</td>\n",
       "      <td>0.000000e+00</td>\n",
       "      <td>None</td>\n",
       "    </tr>\n",
       "    <tr>\n",
       "      <th>5</th>\n",
       "      <td>X6</td>\n",
       "      <td>KSComplement</td>\n",
       "      <td>0.000000e+00</td>\n",
       "      <td>None</td>\n",
       "    </tr>\n",
       "    <tr>\n",
       "      <th>6</th>\n",
       "      <td>X7</td>\n",
       "      <td>KSComplement</td>\n",
       "      <td>2.612719e-01</td>\n",
       "      <td>None</td>\n",
       "    </tr>\n",
       "    <tr>\n",
       "      <th>7</th>\n",
       "      <td>X8</td>\n",
       "      <td>KSComplement</td>\n",
       "      <td>9.556066e-01</td>\n",
       "      <td>None</td>\n",
       "    </tr>\n",
       "    <tr>\n",
       "      <th>8</th>\n",
       "      <td>X9</td>\n",
       "      <td>KSComplement</td>\n",
       "      <td>2.702703e-05</td>\n",
       "      <td>None</td>\n",
       "    </tr>\n",
       "    <tr>\n",
       "      <th>9</th>\n",
       "      <td>X10</td>\n",
       "      <td>KSComplement</td>\n",
       "      <td>0.000000e+00</td>\n",
       "      <td>None</td>\n",
       "    </tr>\n",
       "    <tr>\n",
       "      <th>10</th>\n",
       "      <td>X11</td>\n",
       "      <td>KSComplement</td>\n",
       "      <td>2.921258e-01</td>\n",
       "      <td>None</td>\n",
       "    </tr>\n",
       "    <tr>\n",
       "      <th>11</th>\n",
       "      <td>X12</td>\n",
       "      <td>KSComplement</td>\n",
       "      <td>4.785701e-01</td>\n",
       "      <td>None</td>\n",
       "    </tr>\n",
       "    <tr>\n",
       "      <th>12</th>\n",
       "      <td>X13</td>\n",
       "      <td>KSComplement</td>\n",
       "      <td>9.765997e-01</td>\n",
       "      <td>None</td>\n",
       "    </tr>\n",
       "    <tr>\n",
       "      <th>13</th>\n",
       "      <td>X14</td>\n",
       "      <td>TVComplement</td>\n",
       "      <td>8.587762e-10</td>\n",
       "      <td>None</td>\n",
       "    </tr>\n",
       "    <tr>\n",
       "      <th>14</th>\n",
       "      <td>X15</td>\n",
       "      <td>KSComplement</td>\n",
       "      <td>3.257425e-03</td>\n",
       "      <td>None</td>\n",
       "    </tr>\n",
       "    <tr>\n",
       "      <th>15</th>\n",
       "      <td>X16</td>\n",
       "      <td>KSComplement</td>\n",
       "      <td>1.288038e-02</td>\n",
       "      <td>None</td>\n",
       "    </tr>\n",
       "    <tr>\n",
       "      <th>16</th>\n",
       "      <td>X17</td>\n",
       "      <td>KSComplement</td>\n",
       "      <td>5.905405e-02</td>\n",
       "      <td>None</td>\n",
       "    </tr>\n",
       "    <tr>\n",
       "      <th>17</th>\n",
       "      <td>X18</td>\n",
       "      <td>TVComplement</td>\n",
       "      <td>1.184519e-10</td>\n",
       "      <td>None</td>\n",
       "    </tr>\n",
       "    <tr>\n",
       "      <th>18</th>\n",
       "      <td>X19</td>\n",
       "      <td>KSComplement</td>\n",
       "      <td>NaN</td>\n",
       "      <td>TypeError: '&lt;' not supported between instances...</td>\n",
       "    </tr>\n",
       "    <tr>\n",
       "      <th>19</th>\n",
       "      <td>X20</td>\n",
       "      <td>KSComplement</td>\n",
       "      <td>NaN</td>\n",
       "      <td>TypeError: '&lt;' not supported between instances...</td>\n",
       "    </tr>\n",
       "    <tr>\n",
       "      <th>20</th>\n",
       "      <td>X21</td>\n",
       "      <td>KSComplement</td>\n",
       "      <td>NaN</td>\n",
       "      <td>TypeError: '&lt;' not supported between instances...</td>\n",
       "    </tr>\n",
       "  </tbody>\n",
       "</table>\n",
       "</div>"
      ],
      "text/plain": [
       "   Column        Metric         Score  \\\n",
       "0      X1  TVComplement  1.273357e-09   \n",
       "1      X2  KSComplement  1.734595e-01   \n",
       "2      X3  TVComplement  1.095679e-06   \n",
       "3      X4  KSComplement  0.000000e+00   \n",
       "4      X5  KSComplement  0.000000e+00   \n",
       "5      X6  KSComplement  0.000000e+00   \n",
       "6      X7  KSComplement  2.612719e-01   \n",
       "7      X8  KSComplement  9.556066e-01   \n",
       "8      X9  KSComplement  2.702703e-05   \n",
       "9     X10  KSComplement  0.000000e+00   \n",
       "10    X11  KSComplement  2.921258e-01   \n",
       "11    X12  KSComplement  4.785701e-01   \n",
       "12    X13  KSComplement  9.765997e-01   \n",
       "13    X14  TVComplement  8.587762e-10   \n",
       "14    X15  KSComplement  3.257425e-03   \n",
       "15    X16  KSComplement  1.288038e-02   \n",
       "16    X17  KSComplement  5.905405e-02   \n",
       "17    X18  TVComplement  1.184519e-10   \n",
       "18    X19  KSComplement           NaN   \n",
       "19    X20  KSComplement           NaN   \n",
       "20    X21  KSComplement           NaN   \n",
       "\n",
       "                                                Error  \n",
       "0                                                None  \n",
       "1                                                None  \n",
       "2                                                None  \n",
       "3                                                None  \n",
       "4                                                None  \n",
       "5                                                None  \n",
       "6                                                None  \n",
       "7                                                None  \n",
       "8                                                None  \n",
       "9                                                None  \n",
       "10                                               None  \n",
       "11                                               None  \n",
       "12                                               None  \n",
       "13                                               None  \n",
       "14                                               None  \n",
       "15                                               None  \n",
       "16                                               None  \n",
       "17                                               None  \n",
       "18  TypeError: '<' not supported between instances...  \n",
       "19  TypeError: '<' not supported between instances...  \n",
       "20  TypeError: '<' not supported between instances...  "
      ]
     },
     "execution_count": 20,
     "metadata": {},
     "output_type": "execute_result"
    }
   ],
   "source": [
    "report.get_details(property_name='Column Shapes')"
   ]
  },
  {
   "cell_type": "code",
   "execution_count": 21,
   "id": "6192cc30",
   "metadata": {},
   "outputs": [
    {
     "data": {
      "application/vnd.microsoft.datawrangler.viewer.v0+json": {
       "columns": [
        {
         "name": "index",
         "rawType": "int64",
         "type": "integer"
        },
        {
         "name": "Column 1",
         "rawType": "object",
         "type": "string"
        },
        {
         "name": "Column 2",
         "rawType": "object",
         "type": "string"
        },
        {
         "name": "Metric",
         "rawType": "object",
         "type": "string"
        },
        {
         "name": "Score",
         "rawType": "float64",
         "type": "float"
        },
        {
         "name": "Real Correlation",
         "rawType": "float64",
         "type": "float"
        },
        {
         "name": "Synthetic Correlation",
         "rawType": "float64",
         "type": "float"
        },
        {
         "name": "Error",
         "rawType": "object",
         "type": "unknown"
        }
       ],
       "conversionMethod": "pd.DataFrame",
       "ref": "5ee2437c-4721-4cd3-9ca6-5770e671be80",
       "rows": [
        [
         "0",
         "X1",
         "X2",
         "ContingencySimilarity",
         "0.0",
         null,
         null,
         null
        ],
        [
         "1",
         "X1",
         "X3",
         "ContingencySimilarity",
         "-4.440892098500626e-16",
         null,
         null,
         null
        ],
        [
         "2",
         "X1",
         "X4",
         "ContingencySimilarity",
         "0.0",
         null,
         null,
         null
        ],
        [
         "3",
         "X1",
         "X5",
         "ContingencySimilarity",
         "0.0",
         null,
         null,
         null
        ],
        [
         "4",
         "X1",
         "X6",
         "ContingencySimilarity",
         "0.0",
         null,
         null,
         null
        ],
        [
         "5",
         "X1",
         "X7",
         "ContingencySimilarity",
         "0.0",
         null,
         null,
         null
        ],
        [
         "6",
         "X1",
         "X8",
         "ContingencySimilarity",
         "0.0",
         null,
         null,
         null
        ],
        [
         "7",
         "X1",
         "X9",
         "ContingencySimilarity",
         "0.0",
         null,
         null,
         null
        ],
        [
         "8",
         "X1",
         "X10",
         "ContingencySimilarity",
         "0.0",
         null,
         null,
         null
        ],
        [
         "9",
         "X1",
         "X11",
         "ContingencySimilarity",
         "0.0",
         null,
         null,
         null
        ],
        [
         "10",
         "X1",
         "X12",
         "ContingencySimilarity",
         "0.0",
         null,
         null,
         null
        ],
        [
         "11",
         "X1",
         "X13",
         "ContingencySimilarity",
         "0.0",
         null,
         null,
         null
        ],
        [
         "12",
         "X1",
         "X14",
         "ContingencySimilarity",
         "0.0",
         null,
         null,
         null
        ],
        [
         "13",
         "X1",
         "X15",
         "ContingencySimilarity",
         "0.0",
         null,
         null,
         null
        ],
        [
         "14",
         "X1",
         "X16",
         "ContingencySimilarity",
         "0.0",
         null,
         null,
         null
        ],
        [
         "15",
         "X1",
         "X17",
         "ContingencySimilarity",
         "0.0",
         null,
         null,
         null
        ],
        [
         "16",
         "X1",
         "X18",
         "ContingencySimilarity",
         "0.0",
         null,
         null,
         null
        ],
        [
         "17",
         "X1",
         "X19",
         "ContingencySimilarity",
         null,
         null,
         null,
         "TypeError: ufunc 'isfinite' not supported for the input types, and the inputs could not be safely coerced to any supported types according to the casting rule ''safe''"
        ],
        [
         "18",
         "X1",
         "X20",
         "ContingencySimilarity",
         null,
         null,
         null,
         "TypeError: ufunc 'isfinite' not supported for the input types, and the inputs could not be safely coerced to any supported types according to the casting rule ''safe''"
        ],
        [
         "19",
         "X1",
         "X21",
         "ContingencySimilarity",
         null,
         null,
         null,
         "TypeError: ufunc 'isfinite' not supported for the input types, and the inputs could not be safely coerced to any supported types according to the casting rule ''safe''"
        ],
        [
         "20",
         "X2",
         "X3",
         "ContingencySimilarity",
         "-2.220446049250313e-16",
         null,
         null,
         null
        ],
        [
         "21",
         "X2",
         "X4",
         "CorrelationSimilarity",
         "0.9518380601835345",
         "-4.261643975065916e-05",
         "-0.0963664960726818",
         null
        ],
        [
         "22",
         "X2",
         "X5",
         "CorrelationSimilarity",
         "0.9822642334916248",
         "0.08015940969753006",
         "0.11563094271428039",
         null
        ],
        [
         "23",
         "X2",
         "X6",
         "CorrelationSimilarity",
         "0.907172759233727",
         "-0.18239831166821086",
         "0.0032561698643352524",
         null
        ],
        [
         "24",
         "X2",
         "X7",
         "CorrelationSimilarity",
         "0.9891374707048367",
         "-0.14257188132844217",
         "-0.1208468227381155",
         null
        ],
        [
         "25",
         "X2",
         "X8",
         "CorrelationSimilarity",
         "0.9632062430718771",
         "-0.20095519665959244",
         "-0.12736768280334654",
         null
        ],
        [
         "26",
         "X2",
         "X9",
         "CorrelationSimilarity",
         "0.8976462709815178",
         "-0.20029027254035434",
         "0.00441718549661",
         null
        ],
        [
         "27",
         "X2",
         "X10",
         "CorrelationSimilarity",
         "0.6766275669296297",
         "-0.17049338464397318",
         "0.47625148149676755",
         null
        ],
        [
         "28",
         "X2",
         "X11",
         "CorrelationSimilarity",
         "0.9794825735073891",
         "-0.16770139420538716",
         "-0.12666654122016544",
         null
        ],
        [
         "29",
         "X2",
         "X12",
         "CorrelationSimilarity",
         "0.9784711024481828",
         "-0.1518322870400083",
         "-0.10877449193637395",
         null
        ],
        [
         "30",
         "X2",
         "X13",
         "CorrelationSimilarity",
         "0.9372157676560753",
         "-0.2328658408622211",
         "-0.10729737617437168",
         null
        ],
        [
         "31",
         "X2",
         "X14",
         "ContingencySimilarity",
         "1.1102230246251565e-16",
         null,
         null,
         null
        ],
        [
         "32",
         "X2",
         "X15",
         "CorrelationSimilarity",
         "0.9533334108443143",
         "-0.2018328292845728",
         "-0.1084996509732015",
         null
        ],
        [
         "33",
         "X2",
         "X16",
         "CorrelationSimilarity",
         "0.9179337795653058",
         "0.028584584368353455",
         "-0.13554785650103515",
         null
        ],
        [
         "34",
         "X2",
         "X17",
         "CorrelationSimilarity",
         "0.8283477507926909",
         "0.22080792828438783",
         "-0.1224965701302305",
         null
        ],
        [
         "35",
         "X2",
         "X18",
         "ContingencySimilarity",
         "0.0",
         null,
         null,
         null
        ],
        [
         "36",
         "X2",
         "X19",
         "CorrelationSimilarity",
         null,
         null,
         null,
         "UFuncTypeError: ufunc 'add' did not contain a loop with signature matching types (dtype('float64'), dtype('<U10')) -> None"
        ],
        [
         "37",
         "X2",
         "X20",
         "CorrelationSimilarity",
         null,
         null,
         null,
         "UFuncTypeError: ufunc 'add' did not contain a loop with signature matching types (dtype('float64'), dtype('<U4')) -> None"
        ],
        [
         "38",
         "X2",
         "X21",
         "CorrelationSimilarity",
         null,
         null,
         null,
         "UFuncTypeError: ufunc 'add' did not contain a loop with signature matching types (dtype('float64'), dtype('<U2')) -> None"
        ],
        [
         "39",
         "X3",
         "X4",
         "ContingencySimilarity",
         "0.0",
         null,
         null,
         null
        ],
        [
         "40",
         "X3",
         "X5",
         "ContingencySimilarity",
         "-2.220446049250313e-16",
         null,
         null,
         null
        ],
        [
         "41",
         "X3",
         "X6",
         "ContingencySimilarity",
         "-2.220446049250313e-16",
         null,
         null,
         null
        ],
        [
         "42",
         "X3",
         "X7",
         "ContingencySimilarity",
         "0.0",
         null,
         null,
         null
        ],
        [
         "43",
         "X3",
         "X8",
         "ContingencySimilarity",
         "-2.220446049250313e-16",
         null,
         null,
         null
        ],
        [
         "44",
         "X3",
         "X9",
         "ContingencySimilarity",
         "-2.220446049250313e-16",
         null,
         null,
         null
        ],
        [
         "45",
         "X3",
         "X10",
         "ContingencySimilarity",
         "-2.220446049250313e-16",
         null,
         null,
         null
        ],
        [
         "46",
         "X3",
         "X11",
         "ContingencySimilarity",
         "-2.220446049250313e-16",
         null,
         null,
         null
        ],
        [
         "47",
         "X3",
         "X12",
         "ContingencySimilarity",
         "-2.220446049250313e-16",
         null,
         null,
         null
        ],
        [
         "48",
         "X3",
         "X13",
         "ContingencySimilarity",
         "-2.220446049250313e-16",
         null,
         null,
         null
        ],
        [
         "49",
         "X3",
         "X14",
         "ContingencySimilarity",
         "-4.440892098500626e-16",
         null,
         null,
         null
        ]
       ],
       "shape": {
        "columns": 7,
        "rows": 210
       }
      },
      "text/html": [
       "<div>\n",
       "<style scoped>\n",
       "    .dataframe tbody tr th:only-of-type {\n",
       "        vertical-align: middle;\n",
       "    }\n",
       "\n",
       "    .dataframe tbody tr th {\n",
       "        vertical-align: top;\n",
       "    }\n",
       "\n",
       "    .dataframe thead th {\n",
       "        text-align: right;\n",
       "    }\n",
       "</style>\n",
       "<table border=\"1\" class=\"dataframe\">\n",
       "  <thead>\n",
       "    <tr style=\"text-align: right;\">\n",
       "      <th></th>\n",
       "      <th>Column 1</th>\n",
       "      <th>Column 2</th>\n",
       "      <th>Metric</th>\n",
       "      <th>Score</th>\n",
       "      <th>Real Correlation</th>\n",
       "      <th>Synthetic Correlation</th>\n",
       "      <th>Error</th>\n",
       "    </tr>\n",
       "  </thead>\n",
       "  <tbody>\n",
       "    <tr>\n",
       "      <th>0</th>\n",
       "      <td>X1</td>\n",
       "      <td>X2</td>\n",
       "      <td>ContingencySimilarity</td>\n",
       "      <td>0.000000e+00</td>\n",
       "      <td>NaN</td>\n",
       "      <td>NaN</td>\n",
       "      <td>None</td>\n",
       "    </tr>\n",
       "    <tr>\n",
       "      <th>1</th>\n",
       "      <td>X1</td>\n",
       "      <td>X3</td>\n",
       "      <td>ContingencySimilarity</td>\n",
       "      <td>-4.440892e-16</td>\n",
       "      <td>NaN</td>\n",
       "      <td>NaN</td>\n",
       "      <td>None</td>\n",
       "    </tr>\n",
       "    <tr>\n",
       "      <th>2</th>\n",
       "      <td>X1</td>\n",
       "      <td>X4</td>\n",
       "      <td>ContingencySimilarity</td>\n",
       "      <td>0.000000e+00</td>\n",
       "      <td>NaN</td>\n",
       "      <td>NaN</td>\n",
       "      <td>None</td>\n",
       "    </tr>\n",
       "    <tr>\n",
       "      <th>3</th>\n",
       "      <td>X1</td>\n",
       "      <td>X5</td>\n",
       "      <td>ContingencySimilarity</td>\n",
       "      <td>0.000000e+00</td>\n",
       "      <td>NaN</td>\n",
       "      <td>NaN</td>\n",
       "      <td>None</td>\n",
       "    </tr>\n",
       "    <tr>\n",
       "      <th>4</th>\n",
       "      <td>X1</td>\n",
       "      <td>X6</td>\n",
       "      <td>ContingencySimilarity</td>\n",
       "      <td>0.000000e+00</td>\n",
       "      <td>NaN</td>\n",
       "      <td>NaN</td>\n",
       "      <td>None</td>\n",
       "    </tr>\n",
       "    <tr>\n",
       "      <th>...</th>\n",
       "      <td>...</td>\n",
       "      <td>...</td>\n",
       "      <td>...</td>\n",
       "      <td>...</td>\n",
       "      <td>...</td>\n",
       "      <td>...</td>\n",
       "      <td>...</td>\n",
       "    </tr>\n",
       "    <tr>\n",
       "      <th>205</th>\n",
       "      <td>X18</td>\n",
       "      <td>X20</td>\n",
       "      <td>ContingencySimilarity</td>\n",
       "      <td>NaN</td>\n",
       "      <td>NaN</td>\n",
       "      <td>NaN</td>\n",
       "      <td>TypeError: ufunc 'isfinite' not supported for ...</td>\n",
       "    </tr>\n",
       "    <tr>\n",
       "      <th>206</th>\n",
       "      <td>X18</td>\n",
       "      <td>X21</td>\n",
       "      <td>ContingencySimilarity</td>\n",
       "      <td>NaN</td>\n",
       "      <td>NaN</td>\n",
       "      <td>NaN</td>\n",
       "      <td>TypeError: ufunc 'isfinite' not supported for ...</td>\n",
       "    </tr>\n",
       "    <tr>\n",
       "      <th>207</th>\n",
       "      <td>X19</td>\n",
       "      <td>X20</td>\n",
       "      <td>CorrelationSimilarity</td>\n",
       "      <td>NaN</td>\n",
       "      <td>NaN</td>\n",
       "      <td>NaN</td>\n",
       "      <td>TypeError: unsupported operand type(s) for +: ...</td>\n",
       "    </tr>\n",
       "    <tr>\n",
       "      <th>208</th>\n",
       "      <td>X19</td>\n",
       "      <td>X21</td>\n",
       "      <td>CorrelationSimilarity</td>\n",
       "      <td>NaN</td>\n",
       "      <td>NaN</td>\n",
       "      <td>NaN</td>\n",
       "      <td>TypeError: unsupported operand type(s) for +: ...</td>\n",
       "    </tr>\n",
       "    <tr>\n",
       "      <th>209</th>\n",
       "      <td>X20</td>\n",
       "      <td>X21</td>\n",
       "      <td>CorrelationSimilarity</td>\n",
       "      <td>NaN</td>\n",
       "      <td>NaN</td>\n",
       "      <td>NaN</td>\n",
       "      <td>TypeError: unsupported operand type(s) for +: ...</td>\n",
       "    </tr>\n",
       "  </tbody>\n",
       "</table>\n",
       "<p>210 rows × 7 columns</p>\n",
       "</div>"
      ],
      "text/plain": [
       "    Column 1 Column 2                 Metric         Score  Real Correlation  \\\n",
       "0         X1       X2  ContingencySimilarity  0.000000e+00               NaN   \n",
       "1         X1       X3  ContingencySimilarity -4.440892e-16               NaN   \n",
       "2         X1       X4  ContingencySimilarity  0.000000e+00               NaN   \n",
       "3         X1       X5  ContingencySimilarity  0.000000e+00               NaN   \n",
       "4         X1       X6  ContingencySimilarity  0.000000e+00               NaN   \n",
       "..       ...      ...                    ...           ...               ...   \n",
       "205      X18      X20  ContingencySimilarity           NaN               NaN   \n",
       "206      X18      X21  ContingencySimilarity           NaN               NaN   \n",
       "207      X19      X20  CorrelationSimilarity           NaN               NaN   \n",
       "208      X19      X21  CorrelationSimilarity           NaN               NaN   \n",
       "209      X20      X21  CorrelationSimilarity           NaN               NaN   \n",
       "\n",
       "     Synthetic Correlation                                              Error  \n",
       "0                      NaN                                               None  \n",
       "1                      NaN                                               None  \n",
       "2                      NaN                                               None  \n",
       "3                      NaN                                               None  \n",
       "4                      NaN                                               None  \n",
       "..                     ...                                                ...  \n",
       "205                    NaN  TypeError: ufunc 'isfinite' not supported for ...  \n",
       "206                    NaN  TypeError: ufunc 'isfinite' not supported for ...  \n",
       "207                    NaN  TypeError: unsupported operand type(s) for +: ...  \n",
       "208                    NaN  TypeError: unsupported operand type(s) for +: ...  \n",
       "209                    NaN  TypeError: unsupported operand type(s) for +: ...  \n",
       "\n",
       "[210 rows x 7 columns]"
      ]
     },
     "execution_count": 21,
     "metadata": {},
     "output_type": "execute_result"
    }
   ],
   "source": [
    "report.get_details(property_name='Column Pair Trends')"
   ]
  }
 ],
 "metadata": {
  "kernelspec": {
   "display_name": "hyperRealDataDescriber",
   "language": "python",
   "name": "python3"
  },
  "language_info": {
   "codemirror_mode": {
    "name": "ipython",
    "version": 3
   },
   "file_extension": ".py",
   "mimetype": "text/x-python",
   "name": "python",
   "nbconvert_exporter": "python",
   "pygments_lexer": "ipython3",
   "version": "3.11.11"
  }
 },
 "nbformat": 4,
 "nbformat_minor": 5
}
