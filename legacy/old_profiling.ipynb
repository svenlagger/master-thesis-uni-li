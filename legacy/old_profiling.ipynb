{
 "cells": [
  {
   "cell_type": "code",
   "execution_count": null,
   "id": "1a85c9dc999a453a",
   "metadata": {
    "ExecuteTime": {
     "end_time": "2025-02-07T14:28:22.870350Z",
     "start_time": "2025-02-07T14:28:17.232180Z"
    }
   },
   "outputs": [],
   "source": [
    "import pandas as pd\n",
    "import numpy as np\n",
    "import copy\n",
    "import json\n",
    "from ydata_profiling import ProfileReport"
   ]
  },
  {
   "cell_type": "code",
   "execution_count": null,
   "id": "ae1f5aab791f0328",
   "metadata": {
    "ExecuteTime": {
     "end_time": "2025-02-07T14:34:32.906586Z",
     "start_time": "2025-02-07T14:34:32.644304Z"
    }
   },
   "outputs": [],
   "source": [
    "df = pd.read_csv('data/credit_score/credit_score_test.csv')"
   ]
  },
  {
   "cell_type": "code",
   "execution_count": null,
   "id": "d3dfbccd67e260e6",
   "metadata": {
    "ExecuteTime": {
     "end_time": "2025-02-07T14:45:27.782095Z",
     "start_time": "2025-02-07T14:45:16.202034Z"
    }
   },
   "outputs": [],
   "source": [
    "from distfit import distfit\n",
    "import matplotlib.pyplot as plt\n",
    "\n",
    "cleaned = df['Monthly_Inhand_Salary'].dropna().values\n",
    "\n",
    "dfit = distfit()\n",
    "dfit.fit_transform(cleaned)\n",
    "\n",
    "# --- Output the Results ---\n",
    "# Print a summary of the fitting results.\n",
    "print(\"distfit Summary:\")\n",
    "print(dfit.summary)\n",
    "\n",
    "# Plot the results to visually inspect the fit.\n",
    "# dfit.plot()\n",
    "# plt.show()"
   ]
  },
  {
   "cell_type": "code",
   "execution_count": null,
   "id": "6798451c7ea1138b",
   "metadata": {
    "ExecuteTime": {
     "end_time": "2025-02-07T15:04:08.898254Z",
     "start_time": "2025-02-07T15:02:20.772222Z"
    }
   },
   "outputs": [],
   "source": [
    "# # Assuming df is your pandas DataFrame.\n",
    "# # Get a list of all numeric columns.\n",
    "# numeric_cols = df.select_dtypes(include='number').columns\n",
    "\n",
    "# # Dictionary to store the summary results for each column.\n",
    "# results = {}\n",
    "\n",
    "# for col in numeric_cols:\n",
    "#     print(f\"Processing column: {col}\")\n",
    "    \n",
    "#     # Clean the data (drop missing values)\n",
    "#     data = df[col].dropna().values\n",
    "    \n",
    "#     # Fit the distributions using distfit\n",
    "#     dfit = distfit()\n",
    "#     dfit.fit_transform(data)\n",
    "    \n",
    "#     # Store the summary DataFrame in the results dictionary.\n",
    "#     results[col] = dfit.summary\n",
    "    \n",
    "#     # Print the summary for the current column.\n",
    "#     print(f\"Distribution fitting summary for {col}:\")\n",
    "#     print(dfit.summary)\n",
    "    \n",
    "#     # Optionally, plot the fit for visual inspection and save the plot.\n",
    "#     dfit.plot(title=f\"Distribution Fit for {col}\")\n",
    "#     plt.savefig(f\"distfit_{col}.png\")\n",
    "#     plt.close()"
   ]
  },
  {
   "cell_type": "code",
   "execution_count": 3,
   "id": "305f66e72d76e941",
   "metadata": {
    "ExecuteTime": {
     "end_time": "2025-02-08T16:54:36.515484Z",
     "start_time": "2025-02-08T16:54:24.638893Z"
    }
   },
   "outputs": [
    {
     "name": "stdout",
     "output_type": "stream",
     "text": [
      "Processing column: Monthly_Inhand_Salary\n",
      "Processing column: Num_Bank_Accounts\n",
      "Processing column: Num_Credit_Card\n",
      "Processing column: Interest_Rate\n",
      "Processing column: Delay_from_due_date\n",
      "Processing column: Num_Credit_Inquiries\n",
      "Processing column: Credit_Utilization_Ratio\n",
      "Processing column: Total_EMI_per_month\n",
      "\n",
      "Fitted distributions per numeric column:\n",
      "\n",
      "Column: Monthly_Inhand_Salary\n",
      "  Parameters:\n",
      "    name: lognorm\n",
      "    score: 4.176412402213779e-08\n",
      "    loc: 69.85579942405462\n",
      "    scale: 3010.6611221614294\n",
      "    arg: (0.8257058565157561,)\n",
      "    params: (0.8257058565157561, 69.85579942405462, 3010.6611221614294)\n",
      "    model: <scipy.stats._distn_infrastructure.rv_continuous_frozen object at 0x000001E3F5666E90>\n",
      "    bootstrap_score: 0\n",
      "    bootstrap_pass: None\n",
      "    color: #e41a1c\n",
      "\n",
      "Column: Num_Bank_Accounts\n",
      "  Parameters:\n",
      "    name: lognorm\n",
      "    score: 1.867281038186202\n",
      "    loc: -1.0582923629690986\n",
      "    scale: 6.072928136794912\n",
      "    arg: (0.7725631163708173,)\n",
      "    params: (0.7725631163708173, -1.0582923629690986, 6.072928136794912)\n",
      "    model: <scipy.stats._distn_infrastructure.rv_continuous_frozen object at 0x000001E3F5636490>\n",
      "    bootstrap_score: 0\n",
      "    bootstrap_pass: None\n",
      "    color: #e41a1c\n",
      "\n",
      "Column: Num_Credit_Card\n",
      "  Parameters:\n",
      "    name: lognorm\n",
      "    score: 4.457102479381495\n",
      "    loc: -0.020216742354481308\n",
      "    scale: 5.702437474868599\n",
      "    arg: (0.8525373133786731,)\n",
      "    params: (0.8525373133786731, -0.020216742354481308, 5.702437474868599)\n",
      "    model: <scipy.stats._distn_infrastructure.rv_continuous_frozen object at 0x000001E3F621E490>\n",
      "    bootstrap_score: 0\n",
      "    bootstrap_pass: None\n",
      "    color: #e41a1c\n",
      "\n",
      "Column: Interest_Rate\n",
      "  Parameters:\n",
      "    name: lognorm\n",
      "    score: 0.03549135287097254\n",
      "    loc: 0.319435459643884\n",
      "    scale: 12.083821434339358\n",
      "    arg: (1.1108933955684241,)\n",
      "    params: (1.1108933955684241, 0.319435459643884, 12.083821434339358)\n",
      "    model: <scipy.stats._distn_infrastructure.rv_continuous_frozen object at 0x000001E3F6303CD0>\n",
      "    bootstrap_score: 0\n",
      "    bootstrap_pass: None\n",
      "    color: #e41a1c\n",
      "\n",
      "Column: Delay_from_due_date\n",
      "  Parameters:\n",
      "    name: lognorm\n",
      "    score: 0.0011201902962343843\n",
      "    loc: -9.891411207474725\n",
      "    scale: 27.69339890452934\n",
      "    arg: (0.4749051356554464,)\n",
      "    params: (0.4749051356554464, -9.891411207474725, 27.69339890452934)\n",
      "    model: <scipy.stats._distn_infrastructure.rv_continuous_frozen object at 0x000001E3F49A1AD0>\n",
      "    bootstrap_score: 0\n",
      "    bootstrap_pass: None\n",
      "    color: #e41a1c\n",
      "\n",
      "Column: Num_Credit_Inquiries\n",
      "  Parameters:\n",
      "    name: gamma\n",
      "    score: 0.6157269631443408\n",
      "    loc: -1.3534600161218336e-28\n",
      "    scale: 993.4844109579296\n",
      "    arg: (0.08214505197090313,)\n",
      "    params: (0.08214505197090313, -1.3534600161218336e-28, 993.4844109579296)\n",
      "    model: <scipy.stats._distn_infrastructure.rv_continuous_frozen object at 0x000001E3F6317350>\n",
      "    bootstrap_score: 0\n",
      "    bootstrap_pass: None\n",
      "    color: #e41a1c\n",
      "\n",
      "Column: Credit_Utilization_Ratio\n",
      "  Parameters:\n",
      "    name: norm\n",
      "    score: 0.00756320390741771\n",
      "    loc: 32.279581124559016\n",
      "    scale: 5.10618667008687\n",
      "    arg: ()\n",
      "    params: (32.279581124559016, 5.10618667008687)\n",
      "    model: <scipy.stats._distn_infrastructure.rv_continuous_frozen object at 0x000001E3F6317850>\n",
      "    bootstrap_score: 0\n",
      "    bootstrap_pass: None\n",
      "    color: #e41a1c\n",
      "\n",
      "Column: Total_EMI_per_month\n",
      "  Parameters:\n",
      "    name: gamma\n",
      "    score: 0.00023850614376380878\n",
      "    loc: -9.229916771120795e-27\n",
      "    scale: 36637.88419490745\n",
      "    arg: (0.1295153284763748,)\n",
      "    params: (0.1295153284763748, -9.229916771120795e-27, 36637.88419490745)\n",
      "    model: <scipy.stats._distn_infrastructure.rv_continuous_frozen object at 0x000001E3F630E890>\n",
      "    bootstrap_score: 0\n",
      "    bootstrap_pass: None\n",
      "    color: #e41a1c\n"
     ]
    }
   ],
   "source": [
    "import pandas as pd\n",
    "import numpy as np\n",
    "import matplotlib.pyplot as plt\n",
    "from distfit import distfit\n",
    "\n",
    "# Dictionary to store results for each numeric column\n",
    "fitted_results = {}\n",
    "\n",
    "# Get a list of numeric columns in your DataFrame\n",
    "numeric_cols = df.select_dtypes(include='number').columns\n",
    "\n",
    "# Define the subset of distributions to test.\n",
    "# (You can change this list as needed.)\n",
    "desired_dists = ['norm', 'lognorm', 'gamma']\n",
    "\n",
    "for col in numeric_cols:\n",
    "    print(f\"Processing column: {col}\")\n",
    "    \n",
    "    # Extract and clean the data for the current column\n",
    "    data = df[col].dropna().values\n",
    "    \n",
    "    # Initialize a distfit object, restricting to only the desired distributions.\n",
    "    # Setting verbose=0 will suppress the printed log.\n",
    "    dfit = distfit(distr=desired_dists, verbose=0)\n",
    "    \n",
    "    # Fit the distributions on the data.\n",
    "    dfit.fit_transform(data)\n",
    "    \n",
    "    # Retrieve the summary DataFrame that contains the fit results.\n",
    "    summary_df = dfit.summary\n",
    "    \n",
    "    if not summary_df.empty:\n",
    "        # Choose the best fit as the one with the lowest RSS (score)\n",
    "        best_dist = summary_df['score'].idxmin()\n",
    "        best_params = summary_df.loc[best_dist].to_dict()\n",
    "        \n",
    "        # Store the result for this column\n",
    "        fitted_results[col] = {\n",
    "            'best_distribution': best_dist,\n",
    "            'parameters': best_params\n",
    "        }\n",
    "    else:\n",
    "        fitted_results[col] = None\n",
    "\n",
    "# Print the summarized fitted distributions per numeric column\n",
    "print(\"\\nFitted distributions per numeric column:\")\n",
    "for col, result in fitted_results.items():\n",
    "    print(f\"\\nColumn: {col}\")\n",
    "    if result is not None:\n",
    "        # print(\"  Best Distribution:\", result['best_distribution'])\n",
    "        print(\"  Parameters:\")\n",
    "        for param, value in result['parameters'].items():\n",
    "            print(f\"    {param}: {value}\")\n",
    "    else:\n",
    "        print(\"  No fit available.\")\n"
   ]
  },
  {
   "cell_type": "code",
   "execution_count": 4,
   "id": "c3f7a293",
   "metadata": {},
   "outputs": [],
   "source": [
    "def distributions_to_profile(distr_report):\n",
    "\n",
    "    distr_profiles = []\n",
    "\n",
    "    for col, result in distr_report.items():\n",
    "\n",
    "        distr_elem = {\n",
    "            'name': str(col),\n",
    "            'type': 'num'\n",
    "        }\n",
    "\n",
    "        if result is not None:\n",
    "\n",
    "            col_details = copy.deepcopy(result['parameters'])\n",
    "\n",
    "            if col_details['name'] == 'norm':\n",
    "                distr_details = {\n",
    "                    'type': 'GAUSSIAN',\n",
    "                    'mean': col_details['params'][0],\n",
    "                    'deviation': col_details['params'][1]\n",
    "                }\n",
    "                distr_elem['wf.hr'] = distr_details\n",
    "            elif col_details['name'] == 'lognorm':\n",
    "                distr_details = {\n",
    "                    'type': 'LOGNORM',\n",
    "                    'mean': np.log(col_details['params'][2]),\n",
    "                    'deviation': col_details['params'][0] \n",
    "                }\n",
    "                distr_elem['wf.hr'] = distr_details\n",
    "            elif col_details['name'] == 'gamma':\n",
    "                distr_details = {\n",
    "                    'type': 'GAMMA',\n",
    "                    'alpha': col_details['params'][0],\n",
    "                    'theta': col_details['params'][2] \n",
    "                }\n",
    "                distr_elem['wf.hr'] = distr_details\n",
    "            else:\n",
    "                distr_elem['wf.hr'] = 'ERROR'\n",
    "        else:\n",
    "            distr_elem['message'] = 'ERROR'\n",
    "\n",
    "        distr_profiles.append(distr_elem)\n",
    "    \n",
    "    return distr_profiles"
   ]
  },
  {
   "cell_type": "code",
   "execution_count": 5,
   "id": "fdd77e67",
   "metadata": {},
   "outputs": [
    {
     "name": "stdout",
     "output_type": "stream",
     "text": [
      "[\n",
      "    {\n",
      "        \"name\": \"Monthly_Inhand_Salary\",\n",
      "        \"type\": \"num\",\n",
      "        \"wf.hr\": {\n",
      "            \"type\": \"LOGNORM\",\n",
      "            \"mean\": 8.009914975539264,\n",
      "            \"deviation\": 0.8257058565157561\n",
      "        }\n",
      "    },\n",
      "    {\n",
      "        \"name\": \"Num_Bank_Accounts\",\n",
      "        \"type\": \"num\",\n",
      "        \"wf.hr\": {\n",
      "            \"type\": \"LOGNORM\",\n",
      "            \"mean\": 1.8038408836155406,\n",
      "            \"deviation\": 0.7725631163708173\n",
      "        }\n",
      "    },\n",
      "    {\n",
      "        \"name\": \"Num_Credit_Card\",\n",
      "        \"type\": \"num\",\n",
      "        \"wf.hr\": {\n",
      "            \"type\": \"LOGNORM\",\n",
      "            \"mean\": 1.7408937106039937,\n",
      "            \"deviation\": 0.8525373133786731\n",
      "        }\n",
      "    },\n",
      "    {\n",
      "        \"name\": \"Interest_Rate\",\n",
      "        \"type\": \"num\",\n",
      "        \"wf.hr\": {\n",
      "            \"type\": \"LOGNORM\",\n",
      "            \"mean\": 2.4918674863827515,\n",
      "            \"deviation\": 1.1108933955684241\n",
      "        }\n",
      "    },\n",
      "    {\n",
      "        \"name\": \"Delay_from_due_date\",\n",
      "        \"type\": \"num\",\n",
      "        \"wf.hr\": {\n",
      "            \"type\": \"LOGNORM\",\n",
      "            \"mean\": 3.3211940780980487,\n",
      "            \"deviation\": 0.4749051356554464\n",
      "        }\n",
      "    },\n",
      "    {\n",
      "        \"name\": \"Num_Credit_Inquiries\",\n",
      "        \"type\": \"num\",\n",
      "        \"wf.hr\": {\n",
      "            \"type\": \"GAMMA\",\n",
      "            \"alpha\": 0.08214505197090313,\n",
      "            \"theta\": 993.4844109579296\n",
      "        }\n",
      "    },\n",
      "    {\n",
      "        \"name\": \"Credit_Utilization_Ratio\",\n",
      "        \"type\": \"num\",\n",
      "        \"wf.hr\": {\n",
      "            \"type\": \"GAUSSIAN\",\n",
      "            \"mean\": 32.279581124559016,\n",
      "            \"deviation\": 5.10618667008687\n",
      "        }\n",
      "    },\n",
      "    {\n",
      "        \"name\": \"Total_EMI_per_month\",\n",
      "        \"type\": \"num\",\n",
      "        \"wf.hr\": {\n",
      "            \"type\": \"GAMMA\",\n",
      "            \"alpha\": 0.1295153284763748,\n",
      "            \"theta\": 36637.88419490745\n",
      "        }\n",
      "    }\n",
      "]\n"
     ]
    }
   ],
   "source": [
    "import json\n",
    "\n",
    "gen_profile = distributions_to_profile(fitted_results)\n",
    "\n",
    "print(json.dumps(gen_profile, indent=4))"
   ]
  },
  {
   "cell_type": "code",
   "execution_count": null,
   "id": "initial_id",
   "metadata": {
    "ExecuteTime": {
     "end_time": "2025-02-01T17:24:55.874982Z",
     "start_time": "2025-02-01T17:24:35.049105Z"
    },
    "collapsed": true
   },
   "outputs": [],
   "source": [
    "# Generate the profiling report\n",
    "profile = ProfileReport(df, title=\"YData Profiling Report\", explorative=True)\n",
    "\n",
    "# Display the report in the notebook\n",
    "profile.to_notebook_iframe()\n",
    "\n",
    "# Alternatively, save the report to an HTML file\n",
    "profile.to_file('profiling/profiling_report_credit_score_test.html')\n"
   ]
  },
  {
   "cell_type": "code",
   "execution_count": null,
   "id": "db000f7b10e2d353",
   "metadata": {
    "ExecuteTime": {
     "end_time": "2025-02-01T19:59:11.114473Z",
     "start_time": "2025-02-01T19:59:04.114629Z"
    }
   },
   "outputs": [],
   "source": [
    "from pysr import PySRRegressor"
   ]
  },
  {
   "cell_type": "code",
   "execution_count": null,
   "id": "d93496474fea3251",
   "metadata": {
    "ExecuteTime": {
     "end_time": "2025-02-02T10:35:08.023921Z",
     "start_time": "2025-02-02T10:35:07.973575Z"
    }
   },
   "outputs": [],
   "source": [
    "df_clean = df.dropna(subset=['Delay_from_due_date', 'Num_Bank_Accounts', 'Num_Credit_Inquiries', 'Interest_Rate'])\n",
    "df_clean = df_clean[df_clean['Interest_Rate'] <= 32]\n",
    "\n",
    "df_sample = df_clean.sample(n=9600, random_state=42)"
   ]
  },
  {
   "cell_type": "code",
   "execution_count": null,
   "id": "2b507df050e2ba9f",
   "metadata": {
    "ExecuteTime": {
     "end_time": "2025-02-01T20:29:10.818487800Z",
     "start_time": "2025-02-01T19:59:24.759433Z"
    }
   },
   "outputs": [],
   "source": [
    "X = df_sample[['Delay_from_due_date', 'Num_Bank_Accounts', 'Num_Credit_Inquiries']].to_numpy()  # Features: B and C\n",
    "y = df_sample['Interest_Rate'].to_numpy()  # Target: A\n",
    "\n",
    "# Use PySR to find the symbolic relationship\n",
    "model = PySRRegressor(\n",
    "    niterations=128,  # Number of iterations to search for equations\n",
    "    binary_operators=[\"+\", \"-\", \"*\", \"/\"],\n",
    "    unary_operators=[\"sin\", \"cos\", \"exp\", \"log\", \"abs\", \"sqrt\"],\n",
    "    elementwise_loss=\"loss(x, y) = (x - y)^2\",  # Define loss function (mean squared error)\n",
    "    verbosity=1,\n",
    ")\n",
    "\n",
    "# Fit the model\n",
    "model.fit(X, y)"
   ]
  },
  {
   "cell_type": "code",
   "execution_count": null,
   "id": "eeb34c4c06c57541",
   "metadata": {
    "ExecuteTime": {
     "end_time": "2025-02-01T21:23:59.682457Z",
     "start_time": "2025-02-01T21:23:59.677997Z"
    }
   },
   "outputs": [],
   "source": [
    "print(list(df_sample['Interest_Rate']))"
   ]
  },
  {
   "cell_type": "code",
   "execution_count": null,
   "id": "875085c8417da764",
   "metadata": {
    "ExecuteTime": {
     "end_time": "2025-02-01T21:44:23.523369Z",
     "start_time": "2025-02-01T21:44:23.517424Z"
    }
   },
   "outputs": [],
   "source": [
    "# test evaluation\n",
    "# MSE Loss\n",
    "interest = np.sqrt(df_sample['Delay_from_due_date'] + 18.605) * (\n",
    "    1.9839 - np.sin(np.sqrt(df_sample['Num_Bank_Accounts'] + df_sample['Num_Credit_Inquiries']))\n",
    ")\n",
    "    \n",
    "print(interest)"
   ]
  },
  {
   "cell_type": "code",
   "execution_count": null,
   "id": "2cb883693d4cf396",
   "metadata": {
    "ExecuteTime": {
     "end_time": "2025-02-02T10:24:16.243294Z",
     "start_time": "2025-02-02T10:24:16.112263Z"
    }
   },
   "outputs": [],
   "source": [
    "print(df_sample['Interest_Rate'] - interest)\n",
    "\n",
    "import matplotlib.pyplot as plt\n",
    "\n",
    "# Compute the residuals\n",
    "residuals = df_sample['Interest_Rate'] - interest\n",
    "residuals = residuals.reset_index(drop=True)\n",
    "\n",
    "# Define your interval\n",
    "lower_bound = -1\n",
    "upper_bound = 1\n",
    "\n",
    "# Create a mask for points within the interval\n",
    "mask = (residuals >= lower_bound) & (residuals <= upper_bound)\n",
    "print(len(mask[mask == True]))\n",
    "\n",
    "# Plot the line plot for residuals\n",
    "# plt.figure(figsize=(10, 5))\n",
    "# plt.plot(residuals.index, residuals, label=\"Residuals\", color=\"blue\")\n",
    "\n",
    "# Plot a horizontal reference line at 0\n",
    "plt.axhline(0, color=\"red\", linestyle=\"--\", label=\"Zero Reference\")\n",
    "\n",
    "# Overlay scatter for the highlighted points\n",
    "plt.scatter(residuals.index[mask], residuals[mask],\n",
    "            color=\"green\", s=50, label=f\"Residuals in [{lower_bound}, {upper_bound}]\")\n",
    "\n",
    "plt.xlabel(\"Data Point Index\")\n",
    "plt.ylabel(\"Residual (Interest_Rate - Prediction)\")\n",
    "plt.title(\"Residuals with Highlighted Interval\")\n",
    "plt.legend()\n",
    "plt.show()"
   ]
  },
  {
   "cell_type": "code",
   "execution_count": null,
   "id": "c00aca43206eea66",
   "metadata": {
    "ExecuteTime": {
     "end_time": "2025-02-01T21:22:01.292171Z",
     "start_time": "2025-02-01T21:22:01.286217Z"
    }
   },
   "outputs": [],
   "source": [
    "# HuberLoss, delta = 4.5\n",
    "\n",
    "x0 = df_sample['Delay_from_due_date']\n",
    "x1 = df_sample['Num_Bank_Accounts']\n",
    "x2 = df_sample['Num_Credit_Inquiries']\n",
    "\n",
    "interest = (np.cos(np.cos((x0 * -0.011121384) + (x2 * (x1 * -0.0106610935)))) * 37.434177) + -13.152287\n",
    "\n",
    "print(interest)"
   ]
  },
  {
   "cell_type": "code",
   "execution_count": null,
   "id": "79ce4f054d67f190",
   "metadata": {
    "ExecuteTime": {
     "end_time": "2025-02-01T21:40:06.999799Z",
     "start_time": "2025-02-01T21:40:06.983481Z"
    }
   },
   "outputs": [],
   "source": [
    "# HuberLoss, delta = 1.5\n",
    "\n",
    "x0 = df_sample['Delay_from_due_date']\n",
    "x1 = df_sample['Num_Bank_Accounts']\n",
    "x2 = df_sample['Num_Credit_Inquiries']\n",
    "\n",
    "interest = (((x0 * 0.013395232) + np.sin(x1 * (x2 * 0.011614522))) * 12.717946) + 4.773303\n",
    "\n",
    "print(interest)"
   ]
  },
  {
   "cell_type": "code",
   "execution_count": null,
   "id": "89efc1e67269f78b",
   "metadata": {
    "ExecuteTime": {
     "end_time": "2025-02-01T21:44:30.438769Z",
     "start_time": "2025-02-01T21:44:30.221853Z"
    }
   },
   "outputs": [],
   "source": [
    "\n",
    "import matplotlib.pyplot as plt\n",
    "\n",
    "# Create a figure with two subplots\n",
    "plt.figure(figsize=(12, 5))\n",
    "\n",
    "# Plot the Actual Interest Rate distribution\n",
    "plt.subplot(1, 2, 1)\n",
    "plt.hist(df_sample['Interest_Rate'], bins=30, alpha=0.7, color='blue', label='Actual Interest Rate')\n",
    "plt.xlabel('Interest Rate')\n",
    "plt.ylabel('Frequency')\n",
    "plt.title('Actual Interest Rate Distribution')\n",
    "plt.legend()\n",
    "\n",
    "# Plot the Predicted Interest Rate distribution\n",
    "plt.subplot(1, 2, 2)\n",
    "plt.hist(interest, bins=30, alpha=0.7, color='green', label='Predicted Interest Rate')\n",
    "plt.xlabel('Interest Rate')\n",
    "plt.ylabel('Frequency')\n",
    "plt.title('Predicted Interest Rate Distribution')\n",
    "plt.legend()\n",
    "\n",
    "plt.tight_layout()\n",
    "plt.show()\n"
   ]
  },
  {
   "cell_type": "code",
   "execution_count": null,
   "id": "7468e4127ef0b55",
   "metadata": {
    "ExecuteTime": {
     "end_time": "2025-02-01T21:49:29.625612Z",
     "start_time": "2025-02-01T21:49:29.494724Z"
    }
   },
   "outputs": [],
   "source": [
    "import matplotlib.pyplot as plt\n",
    "\n",
    "plt.figure(figsize=(8, 6))\n",
    "plt.hist(df_sample['Interest_Rate'], bins=30, alpha=0.5, color='blue', label='Actual Interest Rate')\n",
    "plt.hist(interest, bins=30, alpha=0.5, color='green', label='Predicted Interest Rate')\n",
    "plt.xlabel('Interest Rate')\n",
    "plt.ylabel('Frequency')\n",
    "plt.title('Overlay: Actual vs. Predicted Interest Rate Distributions')\n",
    "plt.legend()\n",
    "plt.show()\n"
   ]
  },
  {
   "cell_type": "code",
   "execution_count": null,
   "id": "24aa424dd2760b41",
   "metadata": {
    "ExecuteTime": {
     "end_time": "2025-02-01T21:49:52.666753Z",
     "start_time": "2025-02-01T21:49:52.444718Z"
    }
   },
   "outputs": [],
   "source": [
    "import seaborn as sns\n",
    "import matplotlib.pyplot as plt\n",
    "\n",
    "plt.figure(figsize=(8, 6))\n",
    "sns.kdeplot(df_sample['Interest_Rate'], fill=True, color='blue', label='Actual Interest Rate')\n",
    "sns.kdeplot(interest, fill=True, color='green', label='Predicted Interest Rate')\n",
    "plt.xlabel('Interest Rate')\n",
    "plt.ylabel('Density')\n",
    "plt.title('Density Plot: Actual vs. Predicted Interest Rate')\n",
    "plt.legend()\n",
    "plt.show()\n"
   ]
  },
  {
   "cell_type": "code",
   "execution_count": null,
   "id": "6e766e31f56883b6",
   "metadata": {
    "ExecuteTime": {
     "end_time": "2025-02-02T10:38:33.019224Z",
     "start_time": "2025-02-02T10:38:33.005671Z"
    }
   },
   "outputs": [],
   "source": [
    "df_sample = df_sample.reset_index(drop=True)\n",
    "interest = interest.reset_index(drop=True)\n",
    "print(df_sample['Interest_Rate'])\n",
    "df_sample_syn = df_sample.copy()\n",
    "df_sample_syn['Interest_Rate'] = interest\n",
    "print(df_sample['Interest_Rate'])\n",
    "print(df_sample_syn['Interest_Rate'])"
   ]
  },
  {
   "cell_type": "code",
   "execution_count": null,
   "id": "7521ab2846aa0f44",
   "metadata": {
    "ExecuteTime": {
     "end_time": "2025-02-02T10:44:30.130733Z",
     "start_time": "2025-02-02T10:40:34.976692Z"
    }
   },
   "outputs": [],
   "source": [
    "# Generate the profiling report\n",
    "profile_sample = ProfileReport(df_sample, title=\"YData Profiling Report SAMPLE\", explorative=True)\n",
    "\n",
    "# Display the report in the notebook\n",
    "profile_sample.to_notebook_iframe()\n",
    "\n",
    "# Alternatively, save the report to an HTML file\n",
    "profile_sample.to_file('profiling/profiling_report_credit_score_test_SAMPLE.html')"
   ]
  },
  {
   "cell_type": "code",
   "execution_count": null,
   "id": "f54decf48af75b37",
   "metadata": {
    "ExecuteTime": {
     "end_time": "2025-02-02T10:48:59.931324Z",
     "start_time": "2025-02-02T10:44:50.107991Z"
    }
   },
   "outputs": [],
   "source": [
    "# Generate the profiling report\n",
    "profile_sample_syn = ProfileReport(df_sample_syn, title=\"YData Profiling Report SAMPLE SYN\", explorative=True)\n",
    "\n",
    "# Display the report in the notebook\n",
    "profile_sample_syn.to_notebook_iframe()\n",
    "\n",
    "# Alternatively, save the report to an HTML file\n",
    "profile_sample_syn.to_file('profiling/profiling_report_credit_score_test_SAMPLE_SYN.html')"
   ]
  }
 ],
 "metadata": {
  "kernelspec": {
   "display_name": "hyperRealDataDescriber",
   "language": "python",
   "name": "python3"
  },
  "language_info": {
   "codemirror_mode": {
    "name": "ipython",
    "version": 3
   },
   "file_extension": ".py",
   "mimetype": "text/x-python",
   "name": "python",
   "nbconvert_exporter": "python",
   "pygments_lexer": "ipython3",
   "version": "3.11.11"
  }
 },
 "nbformat": 4,
 "nbformat_minor": 5
}
