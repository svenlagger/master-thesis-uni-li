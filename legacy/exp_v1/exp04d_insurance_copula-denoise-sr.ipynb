{
 "cells": [
  {
   "cell_type": "code",
   "execution_count": 1,
   "id": "b4f8fa5c",
   "metadata": {},
   "outputs": [
    {
     "name": "stdout",
     "output_type": "stream",
     "text": [
      "Detected IPython. Loading juliacall extension. See https://juliapy.github.io/PythonCall.jl/stable/compat/#IPython\n"
     ]
    }
   ],
   "source": [
    "import sys\n",
    "import os\n",
    "# Add the directory containing 'thesis_utils.py' to the system path\n",
    "sys.path.append(os.path.abspath('..'))  # If 'thesis_utils.py' is one level up\n",
    "# Or use this if it's in the same directory as the notebook:\n",
    "# sys.path.append(os.getcwd())\n",
    "# os.environ[\"JULIA_NUM_THREADS\"] = \"8\" \n",
    "os.environ[\"PYTHON_JULIACALL_HANDLE_SIGNALS\"] = \"yes\"\n",
    "os.environ[\"PYTHON_JULIACALL_THREADS\"] = \"auto\"\n",
    "os.environ[\"PYTHON_JULIACALL_OPTLEVEL\"] = \"3\"\n",
    "from pysr import PySRRegressor\n",
    "import pandas as pd\n",
    "import numpy as np\n",
    "from ydata_profiling import ProfileReport\n",
    "\n",
    "from thesis_utils import *"
   ]
  },
  {
   "cell_type": "code",
   "execution_count": 22,
   "id": "1636c374",
   "metadata": {},
   "outputs": [],
   "source": [
    "import importlib\n",
    "import thesis_utils  # or whatever your module is called\n",
    "\n",
    "importlib.reload(thesis_utils)\n",
    "\n",
    "from thesis_utils import *"
   ]
  },
  {
   "cell_type": "code",
   "execution_count": 2,
   "id": "2e7d3e38",
   "metadata": {},
   "outputs": [],
   "source": [
    "data = pd.read_csv(\"C:/Users/svenl/vs_code_projects/hyperRealDataDescriber/data/insurance/insurance_original.csv\")\n",
    "# encode categorical column 'smoker' with only two categories to numerical representation as this one is highly correlated with 'charges' column\n",
    "data['smoker'] = data['smoker'].map({'yes': 1, 'no': 0})"
   ]
  },
  {
   "cell_type": "code",
   "execution_count": 3,
   "id": "3b360bca",
   "metadata": {},
   "outputs": [
    {
     "data": {
      "application/vnd.jupyter.widget-view+json": {
       "model_id": "57bf22ac0e1f48d6805d5ad55550d294",
       "version_major": 2,
       "version_minor": 0
      },
      "text/plain": [
       "Summarize dataset:   0%|          | 0/5 [00:00<?, ?it/s]"
      ]
     },
     "metadata": {},
     "output_type": "display_data"
    }
   ],
   "source": [
    "# Generate the profiling report\n",
    "profile_full = ProfileReport(data, title=\"Insurance Original\", explorative=True)\n",
    "\n",
    "# Get the description object\n",
    "desc_full = profile_full.get_description()\n",
    "\n",
    "# Access the correlation matrix\n",
    "correlation_matrix = desc_full.correlations[\"auto\"]"
   ]
  },
  {
   "cell_type": "code",
   "execution_count": 4,
   "id": "1995a1d1",
   "metadata": {},
   "outputs": [],
   "source": [
    "categorical_cols = get_categorical_columns(data)\n",
    "distributions = fit_distributions(data)\n",
    "marginals = convert_distfit_to_marginals(distributions, data)"
   ]
  },
  {
   "cell_type": "code",
   "execution_count": 5,
   "id": "4221b2ce",
   "metadata": {},
   "outputs": [],
   "source": [
    "data_syn = generate_synthetic_dataset(original_data=data, correlation_matrix=correlation_matrix, categorical_columns=categorical_cols, marginals=marginals, n_rows=2000, correlation_threshold=0.1, edge_strategy=\"random\", sampling_strategy=\"local-chunks\")"
   ]
  },
  {
   "cell_type": "code",
   "execution_count": 6,
   "id": "2c68e398",
   "metadata": {},
   "outputs": [
    {
     "data": {
      "application/vnd.jupyter.widget-view+json": {
       "model_id": "270dde358a7b499b8cb4d8e8f320d07d",
       "version_major": 2,
       "version_minor": 0
      },
      "text/plain": [
       "Summarize dataset:   0%|          | 0/5 [00:00<?, ?it/s]"
      ]
     },
     "metadata": {},
     "output_type": "display_data"
    }
   ],
   "source": [
    "# Generate the profiling report\n",
    "profile_syn = ProfileReport(data_syn, title=\"Insurance SYN\", explorative=True)\n",
    "\n",
    "# Get the description object\n",
    "desc_syn = profile_syn.get_description()\n",
    "\n",
    "# Access the correlation matrix\n",
    "correlation_matrix_syn = desc_syn.correlations[\"auto\"]"
   ]
  },
  {
   "cell_type": "code",
   "execution_count": 7,
   "id": "12c4fd67",
   "metadata": {},
   "outputs": [
    {
     "data": {
      "application/vnd.plotly.v1+json": {
       "config": {
        "plotlyServerURL": "https://plot.ly"
       },
       "data": [
        {
         "colorbar": {
          "len": 0.9,
          "title": {
           "text": "Correlation"
          }
         },
         "colorscale": [
          [
           0,
           "rgb(103,0,31)"
          ],
          [
           0.1,
           "rgb(178,24,43)"
          ],
          [
           0.2,
           "rgb(214,96,77)"
          ],
          [
           0.3,
           "rgb(244,165,130)"
          ],
          [
           0.4,
           "rgb(253,219,199)"
          ],
          [
           0.5,
           "rgb(247,247,247)"
          ],
          [
           0.6,
           "rgb(209,229,240)"
          ],
          [
           0.7,
           "rgb(146,197,222)"
          ],
          [
           0.8,
           "rgb(67,147,195)"
          ],
          [
           0.9,
           "rgb(33,102,172)"
          ],
          [
           1,
           "rgb(5,48,97)"
          ]
         ],
         "hoverongaps": false,
         "hovertemplate": "X: %{x}<br>Y: %{y}<br>Corr: %{z:.2f}<extra></extra>",
         "type": "heatmap",
         "x": [
          "age",
          "bmi",
          "charges",
          "children",
          "region",
          "sex",
          "smoker"
         ],
         "xaxis": "x",
         "y": [
          "age",
          "bmi",
          "charges",
          "children",
          "region",
          "sex",
          "smoker"
         ],
         "yaxis": "y",
         "z": {
          "bdata": "AAAAAAAA8D+UFk28lpS7P4NFOYi9GeE/XJ+msBUurT8AAAAAAAAAAAAAAAAAAAAAii38Ut3JpT+UFk28lpS7PwAAAAAAAPA/Uqwq3bqQvj+7IlSsbPaPP3HD2cBH+MQ/AAAAAAAAAAAAAAAAAAAAAINFOYi9GeE/Uqwq3bqQvj8AAAAAAADwPx1PJSBAEcE/dtigPJGOsD/fXMfaRQWwP29yK2KboOo/XJ+msBUurT+7IlSsbPaPPx1PJSBAEcE/AAAAAAAA8D8AAAAAAAAAAAAAAAAAAAAAiQoNfDI4oz8AAAAAAAAAAHHD2cBH+MQ/dtigPJGOsD8AAAAAAAAAAAAAAAAAAPA/AAAAAAAAAACI8SJHzSytPwAAAAAAAAAAAAAAAAAAAADfXMfaRQWwPwAAAAAAAAAAAAAAAAAAAAAAAAAAAADwP82kZBB2s7E/ii38Ut3JpT8AAAAAAAAAAG9yK2KboOo/iQoNfDI4oz+I8SJHzSytP82kZBB2s7E/AAAAAAAA8D8=",
          "dtype": "f8",
          "shape": "7, 7"
         },
         "zmax": 1,
         "zmin": -1
        },
        {
         "colorscale": [
          [
           0,
           "rgb(103,0,31)"
          ],
          [
           0.1,
           "rgb(178,24,43)"
          ],
          [
           0.2,
           "rgb(214,96,77)"
          ],
          [
           0.3,
           "rgb(244,165,130)"
          ],
          [
           0.4,
           "rgb(253,219,199)"
          ],
          [
           0.5,
           "rgb(247,247,247)"
          ],
          [
           0.6,
           "rgb(209,229,240)"
          ],
          [
           0.7,
           "rgb(146,197,222)"
          ],
          [
           0.8,
           "rgb(67,147,195)"
          ],
          [
           0.9,
           "rgb(33,102,172)"
          ],
          [
           1,
           "rgb(5,48,97)"
          ]
         ],
         "hoverongaps": false,
         "hovertemplate": "X: %{x}<br>Y: %{y}<br>Corr: %{z:.2f}<extra></extra>",
         "showscale": false,
         "type": "heatmap",
         "x": [
          "age",
          "bmi",
          "charges",
          "children",
          "region",
          "sex",
          "smoker"
         ],
         "xaxis": "x2",
         "y": [
          "age",
          "bmi",
          "charges",
          "children",
          "region",
          "sex",
          "smoker"
         ],
         "yaxis": "y2",
         "z": {
          "bdata": "AAAAAAAA8D9k7tB5RDa/P8bHLUYIldc/geVFKOrBjT8IRMrPzJewP00fUtuYX7I/8dpb/fE0mz9k7tB5RDa/PwAAAAAAAPA/9vo1dfGTuD94uE4ZNpWPvyzVUPR5o+s/AAAAAAAAAAAAAAAAAAAAAMbHLUYIldc/9vo1dfGTuD8AAAAAAADwP/KS3vq7J7o/PzFUW1cqsD/LBedhRyKjP5dIzQryG80/geVFKOrBjT94uE4ZNpWPv/KS3vq7J7o/AAAAAAAA8D8AAAAAAAAAAIpyFx7ZGoA/AAAAAAAAAAAIRMrPzJewPyzVUPR5o+s/PzFUW1cqsD8AAAAAAAAAAAAAAAAAAPA/AAAAAAAAAAAAAAAAAAAAAE0fUtuYX7I/AAAAAAAAAADLBedhRyKjP4pyFx7ZGoA/AAAAAAAAAAAAAAAAAADwPwAAAAAAAAAA8dpb/fE0mz8AAAAAAAAAAJdIzQryG80/AAAAAAAAAAAAAAAAAAAAAAAAAAAAAAAAAAAAAAAA8D8=",
          "dtype": "f8",
          "shape": "7, 7"
         },
         "zmax": 1,
         "zmin": -1
        }
       ],
       "layout": {
        "annotations": [
         {
          "font": {
           "size": 16
          },
          "showarrow": false,
          "text": "Real",
          "x": 0.2,
          "xanchor": "center",
          "xref": "paper",
          "y": 1,
          "yanchor": "bottom",
          "yref": "paper"
         },
         {
          "font": {
           "size": 16
          },
          "showarrow": false,
          "text": "Synthetic",
          "x": 0.8,
          "xanchor": "center",
          "xref": "paper",
          "y": 1,
          "yanchor": "bottom",
          "yref": "paper"
         }
        ],
        "height": 800,
        "showlegend": false,
        "template": {
         "data": {
          "bar": [
           {
            "error_x": {
             "color": "#2a3f5f"
            },
            "error_y": {
             "color": "#2a3f5f"
            },
            "marker": {
             "line": {
              "color": "#E5ECF6",
              "width": 0.5
             },
             "pattern": {
              "fillmode": "overlay",
              "size": 10,
              "solidity": 0.2
             }
            },
            "type": "bar"
           }
          ],
          "barpolar": [
           {
            "marker": {
             "line": {
              "color": "#E5ECF6",
              "width": 0.5
             },
             "pattern": {
              "fillmode": "overlay",
              "size": 10,
              "solidity": 0.2
             }
            },
            "type": "barpolar"
           }
          ],
          "carpet": [
           {
            "aaxis": {
             "endlinecolor": "#2a3f5f",
             "gridcolor": "white",
             "linecolor": "white",
             "minorgridcolor": "white",
             "startlinecolor": "#2a3f5f"
            },
            "baxis": {
             "endlinecolor": "#2a3f5f",
             "gridcolor": "white",
             "linecolor": "white",
             "minorgridcolor": "white",
             "startlinecolor": "#2a3f5f"
            },
            "type": "carpet"
           }
          ],
          "choropleth": [
           {
            "colorbar": {
             "outlinewidth": 0,
             "ticks": ""
            },
            "type": "choropleth"
           }
          ],
          "contour": [
           {
            "colorbar": {
             "outlinewidth": 0,
             "ticks": ""
            },
            "colorscale": [
             [
              0,
              "#0d0887"
             ],
             [
              0.1111111111111111,
              "#46039f"
             ],
             [
              0.2222222222222222,
              "#7201a8"
             ],
             [
              0.3333333333333333,
              "#9c179e"
             ],
             [
              0.4444444444444444,
              "#bd3786"
             ],
             [
              0.5555555555555556,
              "#d8576b"
             ],
             [
              0.6666666666666666,
              "#ed7953"
             ],
             [
              0.7777777777777778,
              "#fb9f3a"
             ],
             [
              0.8888888888888888,
              "#fdca26"
             ],
             [
              1,
              "#f0f921"
             ]
            ],
            "type": "contour"
           }
          ],
          "contourcarpet": [
           {
            "colorbar": {
             "outlinewidth": 0,
             "ticks": ""
            },
            "type": "contourcarpet"
           }
          ],
          "heatmap": [
           {
            "colorbar": {
             "outlinewidth": 0,
             "ticks": ""
            },
            "colorscale": [
             [
              0,
              "#0d0887"
             ],
             [
              0.1111111111111111,
              "#46039f"
             ],
             [
              0.2222222222222222,
              "#7201a8"
             ],
             [
              0.3333333333333333,
              "#9c179e"
             ],
             [
              0.4444444444444444,
              "#bd3786"
             ],
             [
              0.5555555555555556,
              "#d8576b"
             ],
             [
              0.6666666666666666,
              "#ed7953"
             ],
             [
              0.7777777777777778,
              "#fb9f3a"
             ],
             [
              0.8888888888888888,
              "#fdca26"
             ],
             [
              1,
              "#f0f921"
             ]
            ],
            "type": "heatmap"
           }
          ],
          "histogram": [
           {
            "marker": {
             "pattern": {
              "fillmode": "overlay",
              "size": 10,
              "solidity": 0.2
             }
            },
            "type": "histogram"
           }
          ],
          "histogram2d": [
           {
            "colorbar": {
             "outlinewidth": 0,
             "ticks": ""
            },
            "colorscale": [
             [
              0,
              "#0d0887"
             ],
             [
              0.1111111111111111,
              "#46039f"
             ],
             [
              0.2222222222222222,
              "#7201a8"
             ],
             [
              0.3333333333333333,
              "#9c179e"
             ],
             [
              0.4444444444444444,
              "#bd3786"
             ],
             [
              0.5555555555555556,
              "#d8576b"
             ],
             [
              0.6666666666666666,
              "#ed7953"
             ],
             [
              0.7777777777777778,
              "#fb9f3a"
             ],
             [
              0.8888888888888888,
              "#fdca26"
             ],
             [
              1,
              "#f0f921"
             ]
            ],
            "type": "histogram2d"
           }
          ],
          "histogram2dcontour": [
           {
            "colorbar": {
             "outlinewidth": 0,
             "ticks": ""
            },
            "colorscale": [
             [
              0,
              "#0d0887"
             ],
             [
              0.1111111111111111,
              "#46039f"
             ],
             [
              0.2222222222222222,
              "#7201a8"
             ],
             [
              0.3333333333333333,
              "#9c179e"
             ],
             [
              0.4444444444444444,
              "#bd3786"
             ],
             [
              0.5555555555555556,
              "#d8576b"
             ],
             [
              0.6666666666666666,
              "#ed7953"
             ],
             [
              0.7777777777777778,
              "#fb9f3a"
             ],
             [
              0.8888888888888888,
              "#fdca26"
             ],
             [
              1,
              "#f0f921"
             ]
            ],
            "type": "histogram2dcontour"
           }
          ],
          "mesh3d": [
           {
            "colorbar": {
             "outlinewidth": 0,
             "ticks": ""
            },
            "type": "mesh3d"
           }
          ],
          "parcoords": [
           {
            "line": {
             "colorbar": {
              "outlinewidth": 0,
              "ticks": ""
             }
            },
            "type": "parcoords"
           }
          ],
          "pie": [
           {
            "automargin": true,
            "type": "pie"
           }
          ],
          "scatter": [
           {
            "fillpattern": {
             "fillmode": "overlay",
             "size": 10,
             "solidity": 0.2
            },
            "type": "scatter"
           }
          ],
          "scatter3d": [
           {
            "line": {
             "colorbar": {
              "outlinewidth": 0,
              "ticks": ""
             }
            },
            "marker": {
             "colorbar": {
              "outlinewidth": 0,
              "ticks": ""
             }
            },
            "type": "scatter3d"
           }
          ],
          "scattercarpet": [
           {
            "marker": {
             "colorbar": {
              "outlinewidth": 0,
              "ticks": ""
             }
            },
            "type": "scattercarpet"
           }
          ],
          "scattergeo": [
           {
            "marker": {
             "colorbar": {
              "outlinewidth": 0,
              "ticks": ""
             }
            },
            "type": "scattergeo"
           }
          ],
          "scattergl": [
           {
            "marker": {
             "colorbar": {
              "outlinewidth": 0,
              "ticks": ""
             }
            },
            "type": "scattergl"
           }
          ],
          "scattermap": [
           {
            "marker": {
             "colorbar": {
              "outlinewidth": 0,
              "ticks": ""
             }
            },
            "type": "scattermap"
           }
          ],
          "scattermapbox": [
           {
            "marker": {
             "colorbar": {
              "outlinewidth": 0,
              "ticks": ""
             }
            },
            "type": "scattermapbox"
           }
          ],
          "scatterpolar": [
           {
            "marker": {
             "colorbar": {
              "outlinewidth": 0,
              "ticks": ""
             }
            },
            "type": "scatterpolar"
           }
          ],
          "scatterpolargl": [
           {
            "marker": {
             "colorbar": {
              "outlinewidth": 0,
              "ticks": ""
             }
            },
            "type": "scatterpolargl"
           }
          ],
          "scatterternary": [
           {
            "marker": {
             "colorbar": {
              "outlinewidth": 0,
              "ticks": ""
             }
            },
            "type": "scatterternary"
           }
          ],
          "surface": [
           {
            "colorbar": {
             "outlinewidth": 0,
             "ticks": ""
            },
            "colorscale": [
             [
              0,
              "#0d0887"
             ],
             [
              0.1111111111111111,
              "#46039f"
             ],
             [
              0.2222222222222222,
              "#7201a8"
             ],
             [
              0.3333333333333333,
              "#9c179e"
             ],
             [
              0.4444444444444444,
              "#bd3786"
             ],
             [
              0.5555555555555556,
              "#d8576b"
             ],
             [
              0.6666666666666666,
              "#ed7953"
             ],
             [
              0.7777777777777778,
              "#fb9f3a"
             ],
             [
              0.8888888888888888,
              "#fdca26"
             ],
             [
              1,
              "#f0f921"
             ]
            ],
            "type": "surface"
           }
          ],
          "table": [
           {
            "cells": {
             "fill": {
              "color": "#EBF0F8"
             },
             "line": {
              "color": "white"
             }
            },
            "header": {
             "fill": {
              "color": "#C8D4E3"
             },
             "line": {
              "color": "white"
             }
            },
            "type": "table"
           }
          ]
         },
         "layout": {
          "annotationdefaults": {
           "arrowcolor": "#2a3f5f",
           "arrowhead": 0,
           "arrowwidth": 1
          },
          "autotypenumbers": "strict",
          "coloraxis": {
           "colorbar": {
            "outlinewidth": 0,
            "ticks": ""
           }
          },
          "colorscale": {
           "diverging": [
            [
             0,
             "#8e0152"
            ],
            [
             0.1,
             "#c51b7d"
            ],
            [
             0.2,
             "#de77ae"
            ],
            [
             0.3,
             "#f1b6da"
            ],
            [
             0.4,
             "#fde0ef"
            ],
            [
             0.5,
             "#f7f7f7"
            ],
            [
             0.6,
             "#e6f5d0"
            ],
            [
             0.7,
             "#b8e186"
            ],
            [
             0.8,
             "#7fbc41"
            ],
            [
             0.9,
             "#4d9221"
            ],
            [
             1,
             "#276419"
            ]
           ],
           "sequential": [
            [
             0,
             "#0d0887"
            ],
            [
             0.1111111111111111,
             "#46039f"
            ],
            [
             0.2222222222222222,
             "#7201a8"
            ],
            [
             0.3333333333333333,
             "#9c179e"
            ],
            [
             0.4444444444444444,
             "#bd3786"
            ],
            [
             0.5555555555555556,
             "#d8576b"
            ],
            [
             0.6666666666666666,
             "#ed7953"
            ],
            [
             0.7777777777777778,
             "#fb9f3a"
            ],
            [
             0.8888888888888888,
             "#fdca26"
            ],
            [
             1,
             "#f0f921"
            ]
           ],
           "sequentialminus": [
            [
             0,
             "#0d0887"
            ],
            [
             0.1111111111111111,
             "#46039f"
            ],
            [
             0.2222222222222222,
             "#7201a8"
            ],
            [
             0.3333333333333333,
             "#9c179e"
            ],
            [
             0.4444444444444444,
             "#bd3786"
            ],
            [
             0.5555555555555556,
             "#d8576b"
            ],
            [
             0.6666666666666666,
             "#ed7953"
            ],
            [
             0.7777777777777778,
             "#fb9f3a"
            ],
            [
             0.8888888888888888,
             "#fdca26"
            ],
            [
             1,
             "#f0f921"
            ]
           ]
          },
          "colorway": [
           "#636efa",
           "#EF553B",
           "#00cc96",
           "#ab63fa",
           "#FFA15A",
           "#19d3f3",
           "#FF6692",
           "#B6E880",
           "#FF97FF",
           "#FECB52"
          ],
          "font": {
           "color": "#2a3f5f"
          },
          "geo": {
           "bgcolor": "white",
           "lakecolor": "white",
           "landcolor": "#E5ECF6",
           "showlakes": true,
           "showland": true,
           "subunitcolor": "white"
          },
          "hoverlabel": {
           "align": "left"
          },
          "hovermode": "closest",
          "mapbox": {
           "style": "light"
          },
          "paper_bgcolor": "white",
          "plot_bgcolor": "#E5ECF6",
          "polar": {
           "angularaxis": {
            "gridcolor": "white",
            "linecolor": "white",
            "ticks": ""
           },
           "bgcolor": "#E5ECF6",
           "radialaxis": {
            "gridcolor": "white",
            "linecolor": "white",
            "ticks": ""
           }
          },
          "scene": {
           "xaxis": {
            "backgroundcolor": "#E5ECF6",
            "gridcolor": "white",
            "gridwidth": 2,
            "linecolor": "white",
            "showbackground": true,
            "ticks": "",
            "zerolinecolor": "white"
           },
           "yaxis": {
            "backgroundcolor": "#E5ECF6",
            "gridcolor": "white",
            "gridwidth": 2,
            "linecolor": "white",
            "showbackground": true,
            "ticks": "",
            "zerolinecolor": "white"
           },
           "zaxis": {
            "backgroundcolor": "#E5ECF6",
            "gridcolor": "white",
            "gridwidth": 2,
            "linecolor": "white",
            "showbackground": true,
            "ticks": "",
            "zerolinecolor": "white"
           }
          },
          "shapedefaults": {
           "line": {
            "color": "#2a3f5f"
           }
          },
          "ternary": {
           "aaxis": {
            "gridcolor": "white",
            "linecolor": "white",
            "ticks": ""
           },
           "baxis": {
            "gridcolor": "white",
            "linecolor": "white",
            "ticks": ""
           },
           "bgcolor": "#E5ECF6",
           "caxis": {
            "gridcolor": "white",
            "linecolor": "white",
            "ticks": ""
           }
          },
          "title": {
           "x": 0.05
          },
          "xaxis": {
           "automargin": true,
           "gridcolor": "white",
           "linecolor": "white",
           "ticks": "",
           "title": {
            "standoff": 15
           },
           "zerolinecolor": "white",
           "zerolinewidth": 2
          },
          "yaxis": {
           "automargin": true,
           "gridcolor": "white",
           "linecolor": "white",
           "ticks": "",
           "title": {
            "standoff": 15
           },
           "zerolinecolor": "white",
           "zerolinewidth": 2
          }
         }
        },
        "title": {
         "text": "Comparison of Correlation Matrices"
        },
        "width": 1400,
        "xaxis": {
         "anchor": "y",
         "domain": [
          0,
          0.4
         ]
        },
        "xaxis2": {
         "anchor": "y2",
         "domain": [
          0.6000000000000001,
          1
         ]
        },
        "yaxis": {
         "anchor": "x",
         "domain": [
          0,
          1
         ]
        },
        "yaxis2": {
         "anchor": "x2",
         "domain": [
          0,
          1
         ]
        }
       }
      }
     },
     "metadata": {},
     "output_type": "display_data"
    }
   ],
   "source": [
    "plot_correlation_matrices(correlation_matrix, correlation_matrix_syn, \"Real\", \"Synthetic\")"
   ]
  },
  {
   "cell_type": "code",
   "execution_count": 8,
   "id": "0914899d",
   "metadata": {},
   "outputs": [
    {
     "name": "stdout",
     "output_type": "stream",
     "text": [
      "Generating report ...\n",
      "\n",
      "(1/2) Evaluating Column Shapes: |██████████| 7/7 [00:00<00:00, 348.05it/s]|\n",
      "Column Shapes Score: 90.91%\n",
      "\n",
      "(2/2) Evaluating Column Pair Trends: |██████████| 21/21 [00:00<00:00, 226.31it/s]|\n",
      "Column Pair Trends Score: 87.53%\n",
      "\n",
      "Overall Score (Average): 89.22%\n",
      "\n"
     ]
    }
   ],
   "source": [
    "from sdmetrics.reports.single_table import QualityReport\n",
    "\n",
    "data_syn = data_syn[data.columns.to_list()]\n",
    "\n",
    "metadata = {\n",
    "    \"columns\": {\n",
    "        \"age\": {\"sdtype\": \"numerical\"},\n",
    "        \"sex\": {\"sdtype\": \"categorical\"},\n",
    "        \"bmi\": {\"sdtype\": \"numerical\"},\n",
    "        \"children\": {\"sdtype\": \"numerical\"},\n",
    "        \"smoker\": {\"sdtype\": \"numerical\"},\n",
    "        \"region\": {\"sdtype\": \"categorical\"},\n",
    "        \"charges\": {\"sdtype\": \"numerical\"},\n",
    "    }\n",
    "}\n",
    "\n",
    "report = QualityReport()\n",
    "report.generate(data, data_syn, metadata)"
   ]
  },
  {
   "cell_type": "code",
   "execution_count": 9,
   "id": "7f69c6a4",
   "metadata": {},
   "outputs": [],
   "source": [
    "# variable assignment according to correlation structure\n",
    "independents_lst = ['age', 'smoker']\n",
    "dependent_var = 'charges'\n",
    "X = data_syn[independents_lst].to_numpy()\n",
    "y = data_syn[dependent_var].to_numpy()"
   ]
  },
  {
   "cell_type": "code",
   "execution_count": 14,
   "id": "ad1e1fc6",
   "metadata": {},
   "outputs": [
    {
     "name": "stdout",
     "output_type": "stream",
     "text": [
      "316**2 * RBF(length_scale=0.1) + WhiteKernel(noise_level=1e+03)\n"
     ]
    },
    {
     "data": {
      "image/png": "[encoded data removed]",
      "text/plain": [
       "<Figure size 800x400 with 1 Axes>"
      ]
     },
     "metadata": {},
     "output_type": "display_data"
    }
   ],
   "source": [
    "%matplotlib inline\n",
    "y_denoised = bound_denoise(X, y, length_scale_bounds=(1e-3, 30), noise_level_bounds=(1e-5, 1e3), show_denoising_effect=True)"
   ]
  },
  {
   "cell_type": "code",
   "execution_count": 15,
   "id": "b69b4a26",
   "metadata": {},
   "outputs": [
    {
     "data": {
      "text/html": [
       "<style>#sk-container-id-1 {\n",
       "  /* Definition of color scheme common for light and dark mode */\n",
       "  --sklearn-color-text: #000;\n",
       "  --sklearn-color-text-muted: #666;\n",
       "  --sklearn-color-line: gray;\n",
       "  /* Definition of color scheme for unfitted estimators */\n",
       "  --sklearn-color-unfitted-level-0: #fff5e6;\n",
       "  --sklearn-color-unfitted-level-1: #f6e4d2;\n",
       "  --sklearn-color-unfitted-level-2: #ffe0b3;\n",
       "  --sklearn-color-unfitted-level-3: chocolate;\n",
       "  /* Definition of color scheme for fitted estimators */\n",
       "  --sklearn-color-fitted-level-0: #f0f8ff;\n",
       "  --sklearn-color-fitted-level-1: #d4ebff;\n",
       "  --sklearn-color-fitted-level-2: #b3dbfd;\n",
       "  --sklearn-color-fitted-level-3: cornflowerblue;\n",
       "\n",
       "  /* Specific color for light theme */\n",
       "  --sklearn-color-text-on-default-background: var(--sg-text-color, var(--theme-code-foreground, var(--jp-content-font-color1, black)));\n",
       "  --sklearn-color-background: var(--sg-background-color, var(--theme-background, var(--jp-layout-color0, white)));\n",
       "  --sklearn-color-border-box: var(--sg-text-color, var(--theme-code-foreground, var(--jp-content-font-color1, black)));\n",
       "  --sklearn-color-icon: #696969;\n",
       "\n",
       "  @media (prefers-color-scheme: dark) {\n",
       "    /* Redefinition of color scheme for dark theme */\n",
       "    --sklearn-color-text-on-default-background: var(--sg-text-color, var(--theme-code-foreground, var(--jp-content-font-color1, white)));\n",
       "    --sklearn-color-background: var(--sg-background-color, var(--theme-background, var(--jp-layout-color0, #111)));\n",
       "    --sklearn-color-border-box: var(--sg-text-color, var(--theme-code-foreground, var(--jp-content-font-color1, white)));\n",
       "    --sklearn-color-icon: #878787;\n",
       "  }\n",
       "}\n",
       "\n",
       "#sk-container-id-1 {\n",
       "  color: var(--sklearn-color-text);\n",
       "}\n",
       "\n",
       "#sk-container-id-1 pre {\n",
       "  padding: 0;\n",
       "}\n",
       "\n",
       "#sk-container-id-1 input.sk-hidden--visually {\n",
       "  border: 0;\n",
       "  clip: rect(1px 1px 1px 1px);\n",
       "  clip: rect(1px, 1px, 1px, 1px);\n",
       "  height: 1px;\n",
       "  margin: -1px;\n",
       "  overflow: hidden;\n",
       "  padding: 0;\n",
       "  position: absolute;\n",
       "  width: 1px;\n",
       "}\n",
       "\n",
       "#sk-container-id-1 div.sk-dashed-wrapped {\n",
       "  border: 1px dashed var(--sklearn-color-line);\n",
       "  margin: 0 0.4em 0.5em 0.4em;\n",
       "  box-sizing: border-box;\n",
       "  padding-bottom: 0.4em;\n",
       "  background-color: var(--sklearn-color-background);\n",
       "}\n",
       "\n",
       "#sk-container-id-1 div.sk-container {\n",
       "  /* jupyter's `normalize.less` sets `[hidden] { display: none; }`\n",
       "     but bootstrap.min.css set `[hidden] { display: none !important; }`\n",
       "     so we also need the `!important` here to be able to override the\n",
       "     default hidden behavior on the sphinx rendered scikit-learn.org.\n",
       "     See: https://github.com/scikit-learn/scikit-learn/issues/21755 */\n",
       "  display: inline-block !important;\n",
       "  position: relative;\n",
       "}\n",
       "\n",
       "#sk-container-id-1 div.sk-text-repr-fallback {\n",
       "  display: none;\n",
       "}\n",
       "\n",
       "div.sk-parallel-item,\n",
       "div.sk-serial,\n",
       "div.sk-item {\n",
       "  /* draw centered vertical line to link estimators */\n",
       "  background-image: linear-gradient(var(--sklearn-color-text-on-default-background), var(--sklearn-color-text-on-default-background));\n",
       "  background-size: 2px 100%;\n",
       "  background-repeat: no-repeat;\n",
       "  background-position: center center;\n",
       "}\n",
       "\n",
       "/* Parallel-specific style estimator block */\n",
       "\n",
       "#sk-container-id-1 div.sk-parallel-item::after {\n",
       "  content: \"\";\n",
       "  width: 100%;\n",
       "  border-bottom: 2px solid var(--sklearn-color-text-on-default-background);\n",
       "  flex-grow: 1;\n",
       "}\n",
       "\n",
       "#sk-container-id-1 div.sk-parallel {\n",
       "  display: flex;\n",
       "  align-items: stretch;\n",
       "  justify-content: center;\n",
       "  background-color: var(--sklearn-color-background);\n",
       "  position: relative;\n",
       "}\n",
       "\n",
       "#sk-container-id-1 div.sk-parallel-item {\n",
       "  display: flex;\n",
       "  flex-direction: column;\n",
       "}\n",
       "\n",
       "#sk-container-id-1 div.sk-parallel-item:first-child::after {\n",
       "  align-self: flex-end;\n",
       "  width: 50%;\n",
       "}\n",
       "\n",
       "#sk-container-id-1 div.sk-parallel-item:last-child::after {\n",
       "  align-self: flex-start;\n",
       "  width: 50%;\n",
       "}\n",
       "\n",
       "#sk-container-id-1 div.sk-parallel-item:only-child::after {\n",
       "  width: 0;\n",
       "}\n",
       "\n",
       "/* Serial-specific style estimator block */\n",
       "\n",
       "#sk-container-id-1 div.sk-serial {\n",
       "  display: flex;\n",
       "  flex-direction: column;\n",
       "  align-items: center;\n",
       "  background-color: var(--sklearn-color-background);\n",
       "  padding-right: 1em;\n",
       "  padding-left: 1em;\n",
       "}\n",
       "\n",
       "\n",
       "/* Toggleable style: style used for estimator/Pipeline/ColumnTransformer box that is\n",
       "clickable and can be expanded/collapsed.\n",
       "- Pipeline and ColumnTransformer use this feature and define the default style\n",
       "- Estimators will overwrite some part of the style using the `sk-estimator` class\n",
       "*/\n",
       "\n",
       "/* Pipeline and ColumnTransformer style (default) */\n",
       "\n",
       "#sk-container-id-1 div.sk-toggleable {\n",
       "  /* Default theme specific background. It is overwritten whether we have a\n",
       "  specific estimator or a Pipeline/ColumnTransformer */\n",
       "  background-color: var(--sklearn-color-background);\n",
       "}\n",
       "\n",
       "/* Toggleable label */\n",
       "#sk-container-id-1 label.sk-toggleable__label {\n",
       "  cursor: pointer;\n",
       "  display: flex;\n",
       "  width: 100%;\n",
       "  margin-bottom: 0;\n",
       "  padding: 0.5em;\n",
       "  box-sizing: border-box;\n",
       "  text-align: center;\n",
       "  align-items: start;\n",
       "  justify-content: space-between;\n",
       "  gap: 0.5em;\n",
       "}\n",
       "\n",
       "#sk-container-id-1 label.sk-toggleable__label .caption {\n",
       "  font-size: 0.6rem;\n",
       "  font-weight: lighter;\n",
       "  color: var(--sklearn-color-text-muted);\n",
       "}\n",
       "\n",
       "#sk-container-id-1 label.sk-toggleable__label-arrow:before {\n",
       "  /* Arrow on the left of the label */\n",
       "  content: \"▸\";\n",
       "  float: left;\n",
       "  margin-right: 0.25em;\n",
       "  color: var(--sklearn-color-icon);\n",
       "}\n",
       "\n",
       "#sk-container-id-1 label.sk-toggleable__label-arrow:hover:before {\n",
       "  color: var(--sklearn-color-text);\n",
       "}\n",
       "\n",
       "/* Toggleable content - dropdown */\n",
       "\n",
       "#sk-container-id-1 div.sk-toggleable__content {\n",
       "  max-height: 0;\n",
       "  max-width: 0;\n",
       "  overflow: hidden;\n",
       "  text-align: left;\n",
       "  /* unfitted */\n",
       "  background-color: var(--sklearn-color-unfitted-level-0);\n",
       "}\n",
       "\n",
       "#sk-container-id-1 div.sk-toggleable__content.fitted {\n",
       "  /* fitted */\n",
       "  background-color: var(--sklearn-color-fitted-level-0);\n",
       "}\n",
       "\n",
       "#sk-container-id-1 div.sk-toggleable__content pre {\n",
       "  margin: 0.2em;\n",
       "  border-radius: 0.25em;\n",
       "  color: var(--sklearn-color-text);\n",
       "  /* unfitted */\n",
       "  background-color: var(--sklearn-color-unfitted-level-0);\n",
       "}\n",
       "\n",
       "#sk-container-id-1 div.sk-toggleable__content.fitted pre {\n",
       "  /* unfitted */\n",
       "  background-color: var(--sklearn-color-fitted-level-0);\n",
       "}\n",
       "\n",
       "#sk-container-id-1 input.sk-toggleable__control:checked~div.sk-toggleable__content {\n",
       "  /* Expand drop-down */\n",
       "  max-height: 200px;\n",
       "  max-width: 100%;\n",
       "  overflow: auto;\n",
       "}\n",
       "\n",
       "#sk-container-id-1 input.sk-toggleable__control:checked~label.sk-toggleable__label-arrow:before {\n",
       "  content: \"▾\";\n",
       "}\n",
       "\n",
       "/* Pipeline/ColumnTransformer-specific style */\n",
       "\n",
       "#sk-container-id-1 div.sk-label input.sk-toggleable__control:checked~label.sk-toggleable__label {\n",
       "  color: var(--sklearn-color-text);\n",
       "  background-color: var(--sklearn-color-unfitted-level-2);\n",
       "}\n",
       "\n",
       "#sk-container-id-1 div.sk-label.fitted input.sk-toggleable__control:checked~label.sk-toggleable__label {\n",
       "  background-color: var(--sklearn-color-fitted-level-2);\n",
       "}\n",
       "\n",
       "/* Estimator-specific style */\n",
       "\n",
       "/* Colorize estimator box */\n",
       "#sk-container-id-1 div.sk-estimator input.sk-toggleable__control:checked~label.sk-toggleable__label {\n",
       "  /* unfitted */\n",
       "  background-color: var(--sklearn-color-unfitted-level-2);\n",
       "}\n",
       "\n",
       "#sk-container-id-1 div.sk-estimator.fitted input.sk-toggleable__control:checked~label.sk-toggleable__label {\n",
       "  /* fitted */\n",
       "  background-color: var(--sklearn-color-fitted-level-2);\n",
       "}\n",
       "\n",
       "#sk-container-id-1 div.sk-label label.sk-toggleable__label,\n",
       "#sk-container-id-1 div.sk-label label {\n",
       "  /* The background is the default theme color */\n",
       "  color: var(--sklearn-color-text-on-default-background);\n",
       "}\n",
       "\n",
       "/* On hover, darken the color of the background */\n",
       "#sk-container-id-1 div.sk-label:hover label.sk-toggleable__label {\n",
       "  color: var(--sklearn-color-text);\n",
       "  background-color: var(--sklearn-color-unfitted-level-2);\n",
       "}\n",
       "\n",
       "/* Label box, darken color on hover, fitted */\n",
       "#sk-container-id-1 div.sk-label.fitted:hover label.sk-toggleable__label.fitted {\n",
       "  color: var(--sklearn-color-text);\n",
       "  background-color: var(--sklearn-color-fitted-level-2);\n",
       "}\n",
       "\n",
       "/* Estimator label */\n",
       "\n",
       "#sk-container-id-1 div.sk-label label {\n",
       "  font-family: monospace;\n",
       "  font-weight: bold;\n",
       "  display: inline-block;\n",
       "  line-height: 1.2em;\n",
       "}\n",
       "\n",
       "#sk-container-id-1 div.sk-label-container {\n",
       "  text-align: center;\n",
       "}\n",
       "\n",
       "/* Estimator-specific */\n",
       "#sk-container-id-1 div.sk-estimator {\n",
       "  font-family: monospace;\n",
       "  border: 1px dotted var(--sklearn-color-border-box);\n",
       "  border-radius: 0.25em;\n",
       "  box-sizing: border-box;\n",
       "  margin-bottom: 0.5em;\n",
       "  /* unfitted */\n",
       "  background-color: var(--sklearn-color-unfitted-level-0);\n",
       "}\n",
       "\n",
       "#sk-container-id-1 div.sk-estimator.fitted {\n",
       "  /* fitted */\n",
       "  background-color: var(--sklearn-color-fitted-level-0);\n",
       "}\n",
       "\n",
       "/* on hover */\n",
       "#sk-container-id-1 div.sk-estimator:hover {\n",
       "  /* unfitted */\n",
       "  background-color: var(--sklearn-color-unfitted-level-2);\n",
       "}\n",
       "\n",
       "#sk-container-id-1 div.sk-estimator.fitted:hover {\n",
       "  /* fitted */\n",
       "  background-color: var(--sklearn-color-fitted-level-2);\n",
       "}\n",
       "\n",
       "/* Specification for estimator info (e.g. \"i\" and \"?\") */\n",
       "\n",
       "/* Common style for \"i\" and \"?\" */\n",
       "\n",
       ".sk-estimator-doc-link,\n",
       "a:link.sk-estimator-doc-link,\n",
       "a:visited.sk-estimator-doc-link {\n",
       "  float: right;\n",
       "  font-size: smaller;\n",
       "  line-height: 1em;\n",
       "  font-family: monospace;\n",
       "  background-color: var(--sklearn-color-background);\n",
       "  border-radius: 1em;\n",
       "  height: 1em;\n",
       "  width: 1em;\n",
       "  text-decoration: none !important;\n",
       "  margin-left: 0.5em;\n",
       "  text-align: center;\n",
       "  /* unfitted */\n",
       "  border: var(--sklearn-color-unfitted-level-1) 1pt solid;\n",
       "  color: var(--sklearn-color-unfitted-level-1);\n",
       "}\n",
       "\n",
       ".sk-estimator-doc-link.fitted,\n",
       "a:link.sk-estimator-doc-link.fitted,\n",
       "a:visited.sk-estimator-doc-link.fitted {\n",
       "  /* fitted */\n",
       "  border: var(--sklearn-color-fitted-level-1) 1pt solid;\n",
       "  color: var(--sklearn-color-fitted-level-1);\n",
       "}\n",
       "\n",
       "/* On hover */\n",
       "div.sk-estimator:hover .sk-estimator-doc-link:hover,\n",
       ".sk-estimator-doc-link:hover,\n",
       "div.sk-label-container:hover .sk-estimator-doc-link:hover,\n",
       ".sk-estimator-doc-link:hover {\n",
       "  /* unfitted */\n",
       "  background-color: var(--sklearn-color-unfitted-level-3);\n",
       "  color: var(--sklearn-color-background);\n",
       "  text-decoration: none;\n",
       "}\n",
       "\n",
       "div.sk-estimator.fitted:hover .sk-estimator-doc-link.fitted:hover,\n",
       ".sk-estimator-doc-link.fitted:hover,\n",
       "div.sk-label-container:hover .sk-estimator-doc-link.fitted:hover,\n",
       ".sk-estimator-doc-link.fitted:hover {\n",
       "  /* fitted */\n",
       "  background-color: var(--sklearn-color-fitted-level-3);\n",
       "  color: var(--sklearn-color-background);\n",
       "  text-decoration: none;\n",
       "}\n",
       "\n",
       "/* Span, style for the box shown on hovering the info icon */\n",
       ".sk-estimator-doc-link span {\n",
       "  display: none;\n",
       "  z-index: 9999;\n",
       "  position: relative;\n",
       "  font-weight: normal;\n",
       "  right: .2ex;\n",
       "  padding: .5ex;\n",
       "  margin: .5ex;\n",
       "  width: min-content;\n",
       "  min-width: 20ex;\n",
       "  max-width: 50ex;\n",
       "  color: var(--sklearn-color-text);\n",
       "  box-shadow: 2pt 2pt 4pt #999;\n",
       "  /* unfitted */\n",
       "  background: var(--sklearn-color-unfitted-level-0);\n",
       "  border: .5pt solid var(--sklearn-color-unfitted-level-3);\n",
       "}\n",
       "\n",
       ".sk-estimator-doc-link.fitted span {\n",
       "  /* fitted */\n",
       "  background: var(--sklearn-color-fitted-level-0);\n",
       "  border: var(--sklearn-color-fitted-level-3);\n",
       "}\n",
       "\n",
       ".sk-estimator-doc-link:hover span {\n",
       "  display: block;\n",
       "}\n",
       "\n",
       "/* \"?\"-specific style due to the `<a>` HTML tag */\n",
       "\n",
       "#sk-container-id-1 a.estimator_doc_link {\n",
       "  float: right;\n",
       "  font-size: 1rem;\n",
       "  line-height: 1em;\n",
       "  font-family: monospace;\n",
       "  background-color: var(--sklearn-color-background);\n",
       "  border-radius: 1rem;\n",
       "  height: 1rem;\n",
       "  width: 1rem;\n",
       "  text-decoration: none;\n",
       "  /* unfitted */\n",
       "  color: var(--sklearn-color-unfitted-level-1);\n",
       "  border: var(--sklearn-color-unfitted-level-1) 1pt solid;\n",
       "}\n",
       "\n",
       "#sk-container-id-1 a.estimator_doc_link.fitted {\n",
       "  /* fitted */\n",
       "  border: var(--sklearn-color-fitted-level-1) 1pt solid;\n",
       "  color: var(--sklearn-color-fitted-level-1);\n",
       "}\n",
       "\n",
       "/* On hover */\n",
       "#sk-container-id-1 a.estimator_doc_link:hover {\n",
       "  /* unfitted */\n",
       "  background-color: var(--sklearn-color-unfitted-level-3);\n",
       "  color: var(--sklearn-color-background);\n",
       "  text-decoration: none;\n",
       "}\n",
       "\n",
       "#sk-container-id-1 a.estimator_doc_link.fitted:hover {\n",
       "  /* fitted */\n",
       "  background-color: var(--sklearn-color-fitted-level-3);\n",
       "}\n",
       "</style><div id=\"sk-container-id-1\" class=\"sk-top-container\"><div class=\"sk-text-repr-fallback\"><pre>PySRRegressor.equations_ = [\n",
       "\t    pick     score                                           equation  \\\n",
       "\t0         0.000000                                          13272.203   \n",
       "\t1         0.467379                                      x0 * 337.4581   \n",
       "\t2         0.007559                               (x1 + x0) * 337.5073   \n",
       "\t3         0.488835                         (x0 * exp(x1)) * 330.31763   \n",
       "\t4         0.170878                (x0 * 332.33185) + (x1 * 21903.314)   \n",
       "\t5         0.008134           (x0 + (x1 * (105.137 - x0))) * 332.54633   \n",
       "\t6         0.015005  (((x0 * x0) + (x1 * 5153.543)) * 4.2359533) + ...   \n",
       "\t7         0.194761  ((cos(x1 * x0) * (x0 * 0.009609733)) + x1) * 3...   \n",
       "\t8         0.011083  ((x0 - -286.92993) * (x0 * cos(x1 * x0))) + (x...   \n",
       "\t9         0.044058  ((x0 * 332.97223) * cos(x1 * (x0 + cos(x0)))) ...   \n",
       "\t10        0.006506  ((x0 * 332.92197) * cos((sin(cos(x0)) + x0) * ...   \n",
       "\t11        0.022807  (((cos((cos(x0) + x0) * x1) * 457.42035) + -12...   \n",
       "\t12        0.015927  ((x0 * cos(x1 * (cos(sqrt(x0) - x0) + x0))) * ...   \n",
       "\t13        0.202058  (x0 / cos(0.026959624 * x0)) + (((x0 * 327.779...   \n",
       "\t14        0.003107  (((cos(x0 * x1) * x0) * 327.51596) + ((x0 * 1....   \n",
       "\t15        0.084530  (((cos((cos(x0) + x0) * x1) * x0) * 327.7793) ...   \n",
       "\t16        0.002297  ((x1 * 34277.08) + (((x0 * (4.1990547 * x0)) +...   \n",
       "\t17        0.037049  (x0 / cos(x0 * 0.026959624)) + ((34562.48 * x1...   \n",
       "\t18        0.022377  (x0 / cos(x0 * 0.026959624)) + ((34562.48 * x1...   \n",
       "\t19        0.061421  (cos(x1 * (cos(x0) + x0)) * ((x0 * (x0 * 4.199...   \n",
       "\t20        0.006728  ((x0 / cos(x0 * 0.026922368)) + (cos((x0 + sin...   \n",
       "\t21  &gt;&gt;&gt;&gt;  0.092170  (x1 * 34277.08) + ((cos((cos(x0 * 3.5078382) +...   \n",
       "\t22        0.000116  ((cos((cos(x0 * 3.5078382) + x0) * x1) * (((x0...   \n",
       "\t23        0.068934  (((((x0 * 4.242705) * x0) + 5778.279) * cos(x1...   \n",
       "\t24        0.023935  ((cos(x1 * (x0 + cos((x0 * x0) * 0.8353789))) ...   \n",
       "\t25        0.008677  ((x0 / (cos(x0 * 0.026867488) * 0.66590434)) +...   \n",
       "\t26        0.004241  (((x0 / cos((x0 * 0.026867488) + x1)) * 1.5262...   \n",
       "\t27        0.054338  ((x0 / cos(x0 * -0.026935296)) + (((x0 * ((x0 ...   \n",
       "\t28        0.043122  ((x0 / cos(x0 * 0.026950724)) + (cos(x1 * (x0 ...   \n",
       "\t29        0.039308  (x1 * 34278.793) + (((x0 * 1.5327704) / cos(x0...   \n",
       "\t30        0.007184  ((x1 * 34276.434) + ((x0 * 1.532858) / cos(x0 ...   \n",
       "\t31        0.006399  (x1 * 34278.793) + (((x0 * 1.5327704) / cos(x0...   \n",
       "\t32        0.017058  (cos(x1 * (cos(x0 * (x0 * 0.83535826)) + x0)) ...   \n",
       "\t33        0.004907  (cos(x1 * (cos((x0 * 0.83535826) * x0) + x0)) ...   \n",
       "\t34        0.021062  ((x0 * 1.5327713) / cos(x0 * 0.026890855)) + (...   \n",
       "\t35        0.005593  ((x0 * 1.5189008) / cos(x0 * 0.026890855)) + (...   \n",
       "\t36        0.010375  (((((x0 - (x1 / sin(x0))) * ((x0 - (sin((x0 - ...   \n",
       "\t37        0.009316  (x1 * 34279.348) + (((((x0 - (x1 / sin(x0))) *...   \n",
       "\t38        0.004658  ((x1 * 34279.348) + ((x0 / cos(x0 * 0.02686748...   \n",
       "\t39        0.003985  ((x0 / cos(x0 * 0.026867488)) * 1.6209866) + (...   \n",
       "\t40        0.007174  (cos(x1 * (cos(x0 * (x0 * 0.83535826)) + x0)) ...   \n",
       "\t\n",
       "\t          loss  complexity  \n",
       "\t0   24663832.0           1  \n",
       "\t1    9685019.0           3  \n",
       "\t2    9539693.0           5  \n",
       "\t3    5851079.5           6  \n",
       "\t4    4932017.5           7  \n",
       "\t5    4852432.0           9  \n",
       "\t6    4708973.5          11  \n",
       "\t7    3875634.0          12  \n",
       "\t8    3790674.5          14  \n",
       "\t9    3627289.8          15  \n",
       "\t10   3603765.8          16  \n",
       "\t11   3522505.2          17  \n",
       "\t12   3466847.8          18  \n",
       "\t13   2832578.8          19  \n",
       "\t14   2815033.0          21  \n",
       "\t15   2586857.5          22  \n",
       "\t16   2580921.8          23  \n",
       "\t17   2487049.8          24  \n",
       "\t18   2432015.8          25  \n",
       "\t19   2287134.8          26  \n",
       "\t20   2271799.0          27  \n",
       "\t21   2071767.2          28  \n",
       "\t22   2071526.1          29  \n",
       "\t23   1933539.1          30  \n",
       "\t24   1843159.5          32  \n",
       "\t25   1811450.5          34  \n",
       "\t26   1796152.5          36  \n",
       "\t27   1701156.8          37  \n",
       "\t28   1629357.9          38  \n",
       "\t29   1566552.9          39  \n",
       "\t30   1555339.5          40  \n",
       "\t31   1545418.9          41  \n",
       "\t32   1519281.1          42  \n",
       "\t33   1511844.4          43  \n",
       "\t34   1480334.2          44  \n",
       "\t35   1472077.6          45  \n",
       "\t36   1456884.2          46  \n",
       "\t37   1443375.2          47  \n",
       "\t38   1436668.1          48  \n",
       "\t39   1430955.0          49  \n",
       "\t40   1420725.8          50  \n",
       "]</pre><b>In a Jupyter environment, please rerun this cell to show the HTML representation or trust the notebook. <br />On GitHub, the HTML representation is unable to render, please try loading this page with nbviewer.org.</b></div><div class=\"sk-container\" hidden><div class=\"sk-item\"><div class=\"sk-estimator fitted sk-toggleable\"><input class=\"sk-toggleable__control sk-hidden--visually\" id=\"sk-estimator-id-1\" type=\"checkbox\" checked><label for=\"sk-estimator-id-1\" class=\"sk-toggleable__label fitted sk-toggleable__label-arrow\"><div><div>PySRRegressor</div></div><div><span class=\"sk-estimator-doc-link fitted\">i<span>Fitted</span></span></div></label><div class=\"sk-toggleable__content fitted\"><pre>PySRRegressor.equations_ = [\n",
       "\t    pick     score                                           equation  \\\n",
       "\t0         0.000000                                          13272.203   \n",
       "\t1         0.467379                                      x0 * 337.4581   \n",
       "\t2         0.007559                               (x1 + x0) * 337.5073   \n",
       "\t3         0.488835                         (x0 * exp(x1)) * 330.31763   \n",
       "\t4         0.170878                (x0 * 332.33185) + (x1 * 21903.314)   \n",
       "\t5         0.008134           (x0 + (x1 * (105.137 - x0))) * 332.54633   \n",
       "\t6         0.015005  (((x0 * x0) + (x1 * 5153.543)) * 4.2359533) + ...   \n",
       "\t7         0.194761  ((cos(x1 * x0) * (x0 * 0.009609733)) + x1) * 3...   \n",
       "\t8         0.011083  ((x0 - -286.92993) * (x0 * cos(x1 * x0))) + (x...   \n",
       "\t9         0.044058  ((x0 * 332.97223) * cos(x1 * (x0 + cos(x0)))) ...   \n",
       "\t10        0.006506  ((x0 * 332.92197) * cos((sin(cos(x0)) + x0) * ...   \n",
       "\t11        0.022807  (((cos((cos(x0) + x0) * x1) * 457.42035) + -12...   \n",
       "\t12        0.015927  ((x0 * cos(x1 * (cos(sqrt(x0) - x0) + x0))) * ...   \n",
       "\t13        0.202058  (x0 / cos(0.026959624 * x0)) + (((x0 * 327.779...   \n",
       "\t14        0.003107  (((cos(x0 * x1) * x0) * 327.51596) + ((x0 * 1....   \n",
       "\t15        0.084530  (((cos((cos(x0) + x0) * x1) * x0) * 327.7793) ...   \n",
       "\t16        0.002297  ((x1 * 34277.08) + (((x0 * (4.1990547 * x0)) +...   \n",
       "\t17        0.037049  (x0 / cos(x0 * 0.026959624)) + ((34562.48 * x1...   \n",
       "\t18        0.022377  (x0 / cos(x0 * 0.026959624)) + ((34562.48 * x1...   \n",
       "\t19        0.061421  (cos(x1 * (cos(x0) + x0)) * ((x0 * (x0 * 4.199...   \n",
       "\t20        0.006728  ((x0 / cos(x0 * 0.026922368)) + (cos((x0 + sin...   \n",
       "\t21  &gt;&gt;&gt;&gt;  0.092170  (x1 * 34277.08) + ((cos((cos(x0 * 3.5078382) +...   \n",
       "\t22        0.000116  ((cos((cos(x0 * 3.5078382) + x0) * x1) * (((x0...   \n",
       "\t23        0.068934  (((((x0 * 4.242705) * x0) + 5778.279) * cos(x1...   \n",
       "\t24        0.023935  ((cos(x1 * (x0 + cos((x0 * x0) * 0.8353789))) ...   \n",
       "\t25        0.008677  ((x0 / (cos(x0 * 0.026867488) * 0.66590434)) +...   \n",
       "\t26        0.004241  (((x0 / cos((x0 * 0.026867488) + x1)) * 1.5262...   \n",
       "\t27        0.054338  ((x0 / cos(x0 * -0.026935296)) + (((x0 * ((x0 ...   \n",
       "\t28        0.043122  ((x0 / cos(x0 * 0.026950724)) + (cos(x1 * (x0 ...   \n",
       "\t29        0.039308  (x1 * 34278.793) + (((x0 * 1.5327704) / cos(x0...   \n",
       "\t30        0.007184  ((x1 * 34276.434) + ((x0 * 1.532858) / cos(x0 ...   \n",
       "\t31        0.006399  (x1 * 34278.793) + (((x0 * 1.5327704) / cos(x0...   \n",
       "\t32        0.017058  (cos(x1 * (cos(x0 * (x0 * 0.83535826)) + x0)) ...   \n",
       "\t33        0.004907  (cos(x1 * (cos((x0 * 0.83535826) * x0) + x0)) ...   \n",
       "\t34        0.021062  ((x0 * 1.5327713) / cos(x0 * 0.026890855)) + (...   \n",
       "\t35        0.005593  ((x0 * 1.5189008) / cos(x0 * 0.026890855)) + (...   \n",
       "\t36        0.010375  (((((x0 - (x1 / sin(x0))) * ((x0 - (sin((x0 - ...   \n",
       "\t37        0.009316  (x1 * 34279.348) + (((((x0 - (x1 / sin(x0))) *...   \n",
       "\t38        0.004658  ((x1 * 34279.348) + ((x0 / cos(x0 * 0.02686748...   \n",
       "\t39        0.003985  ((x0 / cos(x0 * 0.026867488)) * 1.6209866) + (...   \n",
       "\t40        0.007174  (cos(x1 * (cos(x0 * (x0 * 0.83535826)) + x0)) ...   \n",
       "\t\n",
       "\t          loss  complexity  \n",
       "\t0   24663832.0           1  \n",
       "\t1    9685019.0           3  \n",
       "\t2    9539693.0           5  \n",
       "\t3    5851079.5           6  \n",
       "\t4    4932017.5           7  \n",
       "\t5    4852432.0           9  \n",
       "\t6    4708973.5          11  \n",
       "\t7    3875634.0          12  \n",
       "\t8    3790674.5          14  \n",
       "\t9    3627289.8          15  \n",
       "\t10   3603765.8          16  \n",
       "\t11   3522505.2          17  \n",
       "\t12   3466847.8          18  \n",
       "\t13   2832578.8          19  \n",
       "\t14   2815033.0          21  \n",
       "\t15   2586857.5          22  \n",
       "\t16   2580921.8          23  \n",
       "\t17   2487049.8          24  \n",
       "\t18   2432015.8          25  \n",
       "\t19   2287134.8          26  \n",
       "\t20   2271799.0          27  \n",
       "\t21   2071767.2          28  \n",
       "\t22   2071526.1          29  \n",
       "\t23   1933539.1          30  \n",
       "\t24   1843159.5          32  \n",
       "\t25   1811450.5          34  \n",
       "\t26   1796152.5          36  \n",
       "\t27   1701156.8          37  \n",
       "\t28   1629357.9          38  \n",
       "\t29   1566552.9          39  \n",
       "\t30   1555339.5          40  \n",
       "\t31   1545418.9          41  \n",
       "\t32   1519281.1          42  \n",
       "\t33   1511844.4          43  \n",
       "\t34   1480334.2          44  \n",
       "\t35   1472077.6          45  \n",
       "\t36   1456884.2          46  \n",
       "\t37   1443375.2          47  \n",
       "\t38   1436668.1          48  \n",
       "\t39   1430955.0          49  \n",
       "\t40   1420725.8          50  \n",
       "]</pre></div> </div></div></div></div>"
      ],
      "text/plain": [
       "PySRRegressor.equations_ = [\n",
       "\t    pick     score                                           equation  \\\n",
       "\t0         0.000000                                          13272.203   \n",
       "\t1         0.467379                                      x0 * 337.4581   \n",
       "\t2         0.007559                               (x1 + x0) * 337.5073   \n",
       "\t3         0.488835                         (x0 * exp(x1)) * 330.31763   \n",
       "\t4         0.170878                (x0 * 332.33185) + (x1 * 21903.314)   \n",
       "\t5         0.008134           (x0 + (x1 * (105.137 - x0))) * 332.54633   \n",
       "\t6         0.015005  (((x0 * x0) + (x1 * 5153.543)) * 4.2359533) + ...   \n",
       "\t7         0.194761  ((cos(x1 * x0) * (x0 * 0.009609733)) + x1) * 3...   \n",
       "\t8         0.011083  ((x0 - -286.92993) * (x0 * cos(x1 * x0))) + (x...   \n",
       "\t9         0.044058  ((x0 * 332.97223) * cos(x1 * (x0 + cos(x0)))) ...   \n",
       "\t10        0.006506  ((x0 * 332.92197) * cos((sin(cos(x0)) + x0) * ...   \n",
       "\t11        0.022807  (((cos((cos(x0) + x0) * x1) * 457.42035) + -12...   \n",
       "\t12        0.015927  ((x0 * cos(x1 * (cos(sqrt(x0) - x0) + x0))) * ...   \n",
       "\t13        0.202058  (x0 / cos(0.026959624 * x0)) + (((x0 * 327.779...   \n",
       "\t14        0.003107  (((cos(x0 * x1) * x0) * 327.51596) + ((x0 * 1....   \n",
       "\t15        0.084530  (((cos((cos(x0) + x0) * x1) * x0) * 327.7793) ...   \n",
       "\t16        0.002297  ((x1 * 34277.08) + (((x0 * (4.1990547 * x0)) +...   \n",
       "\t17        0.037049  (x0 / cos(x0 * 0.026959624)) + ((34562.48 * x1...   \n",
       "\t18        0.022377  (x0 / cos(x0 * 0.026959624)) + ((34562.48 * x1...   \n",
       "\t19        0.061421  (cos(x1 * (cos(x0) + x0)) * ((x0 * (x0 * 4.199...   \n",
       "\t20        0.006728  ((x0 / cos(x0 * 0.026922368)) + (cos((x0 + sin...   \n",
       "\t21  >>>>  0.092170  (x1 * 34277.08) + ((cos((cos(x0 * 3.5078382) +...   \n",
       "\t22        0.000116  ((cos((cos(x0 * 3.5078382) + x0) * x1) * (((x0...   \n",
       "\t23        0.068934  (((((x0 * 4.242705) * x0) + 5778.279) * cos(x1...   \n",
       "\t24        0.023935  ((cos(x1 * (x0 + cos((x0 * x0) * 0.8353789))) ...   \n",
       "\t25        0.008677  ((x0 / (cos(x0 * 0.026867488) * 0.66590434)) +...   \n",
       "\t26        0.004241  (((x0 / cos((x0 * 0.026867488) + x1)) * 1.5262...   \n",
       "\t27        0.054338  ((x0 / cos(x0 * -0.026935296)) + (((x0 * ((x0 ...   \n",
       "\t28        0.043122  ((x0 / cos(x0 * 0.026950724)) + (cos(x1 * (x0 ...   \n",
       "\t29        0.039308  (x1 * 34278.793) + (((x0 * 1.5327704) / cos(x0...   \n",
       "\t30        0.007184  ((x1 * 34276.434) + ((x0 * 1.532858) / cos(x0 ...   \n",
       "\t31        0.006399  (x1 * 34278.793) + (((x0 * 1.5327704) / cos(x0...   \n",
       "\t32        0.017058  (cos(x1 * (cos(x0 * (x0 * 0.83535826)) + x0)) ...   \n",
       "\t33        0.004907  (cos(x1 * (cos((x0 * 0.83535826) * x0) + x0)) ...   \n",
       "\t34        0.021062  ((x0 * 1.5327713) / cos(x0 * 0.026890855)) + (...   \n",
       "\t35        0.005593  ((x0 * 1.5189008) / cos(x0 * 0.026890855)) + (...   \n",
       "\t36        0.010375  (((((x0 - (x1 / sin(x0))) * ((x0 - (sin((x0 - ...   \n",
       "\t37        0.009316  (x1 * 34279.348) + (((((x0 - (x1 / sin(x0))) *...   \n",
       "\t38        0.004658  ((x1 * 34279.348) + ((x0 / cos(x0 * 0.02686748...   \n",
       "\t39        0.003985  ((x0 / cos(x0 * 0.026867488)) * 1.6209866) + (...   \n",
       "\t40        0.007174  (cos(x1 * (cos(x0 * (x0 * 0.83535826)) + x0)) ...   \n",
       "\t\n",
       "\t          loss  complexity  \n",
       "\t0   24663832.0           1  \n",
       "\t1    9685019.0           3  \n",
       "\t2    9539693.0           5  \n",
       "\t3    5851079.5           6  \n",
       "\t4    4932017.5           7  \n",
       "\t5    4852432.0           9  \n",
       "\t6    4708973.5          11  \n",
       "\t7    3875634.0          12  \n",
       "\t8    3790674.5          14  \n",
       "\t9    3627289.8          15  \n",
       "\t10   3603765.8          16  \n",
       "\t11   3522505.2          17  \n",
       "\t12   3466847.8          18  \n",
       "\t13   2832578.8          19  \n",
       "\t14   2815033.0          21  \n",
       "\t15   2586857.5          22  \n",
       "\t16   2580921.8          23  \n",
       "\t17   2487049.8          24  \n",
       "\t18   2432015.8          25  \n",
       "\t19   2287134.8          26  \n",
       "\t20   2271799.0          27  \n",
       "\t21   2071767.2          28  \n",
       "\t22   2071526.1          29  \n",
       "\t23   1933539.1          30  \n",
       "\t24   1843159.5          32  \n",
       "\t25   1811450.5          34  \n",
       "\t26   1796152.5          36  \n",
       "\t27   1701156.8          37  \n",
       "\t28   1629357.9          38  \n",
       "\t29   1566552.9          39  \n",
       "\t30   1555339.5          40  \n",
       "\t31   1545418.9          41  \n",
       "\t32   1519281.1          42  \n",
       "\t33   1511844.4          43  \n",
       "\t34   1480334.2          44  \n",
       "\t35   1472077.6          45  \n",
       "\t36   1456884.2          46  \n",
       "\t37   1443375.2          47  \n",
       "\t38   1436668.1          48  \n",
       "\t39   1430955.0          49  \n",
       "\t40   1420725.8          50  \n",
       "]"
      ]
     },
     "execution_count": 15,
     "metadata": {},
     "output_type": "execute_result"
    }
   ],
   "source": [
    "sr_model = PySRRegressor(\n",
    "        niterations=1024,  # Number of iterations to search for equations\n",
    "        binary_operators=[\"+\", \"-\", \"*\", \"/\"],\n",
    "        unary_operators=[\"sin\", \"cos\", \"exp\", \"log\", \"abs\", \"sqrt\"],\n",
    "        elementwise_loss=\"loss(x, y) = (x - y)^2\",  # Define loss function (mean squared error)\n",
    "        verbosity=0,\n",
    "        maxsize=50\n",
    "    )\n",
    "sr_model.fit(X, y_denoised)"
   ]
  },
  {
   "cell_type": "code",
   "execution_count": null,
   "id": "874c341f",
   "metadata": {},
   "outputs": [],
   "source": [
    "# 20250423_213001_XW5234\n",
    "# Complexity 23\n",
    "candidate_function = generate_candidate_function(\"((x1 * 34277.08) + (((x0 * (4.1990547 * x0)) + 5846.4893) * cos(x0 * x1))) + (x0 / cos(x0 * 0.026922368))\")"
   ]
  },
  {
   "cell_type": "code",
   "execution_count": 25,
   "id": "cf9ad5a9",
   "metadata": {},
   "outputs": [
    {
     "data": {
      "image/png": "[encoded data removed]",
      "text/plain": [
       "<Figure size 1000x500 with 1 Axes>"
      ]
     },
     "metadata": {},
     "output_type": "display_data"
    }
   ],
   "source": [
    "%matplotlib inline\n",
    "y_denoised = candidate_function(X)\n",
    "plot_histograms([(y, 'Original Charges', None), (y_denoised, 'Denoised Charges', None)], 'Charges', stack=True, figsize_per_plot=(10, 5))"
   ]
  },
  {
   "cell_type": "code",
   "execution_count": 26,
   "id": "6abc90dc",
   "metadata": {},
   "outputs": [
    {
     "data": {
      "text/plain": [
       "<Figure size 640x480 with 0 Axes>"
      ]
     },
     "metadata": {},
     "output_type": "display_data"
    },
    {
     "data": {
      "image/png": "[encoded data removed]",
      "text/plain": [
       "<Figure size 1000x500 with 1 Axes>"
      ]
     },
     "metadata": {},
     "output_type": "display_data"
    }
   ],
   "source": [
    "plot_densities([(y, 'Original Charges', 'blue'), (y_denoised, 'Denoised Charges', 'green')], 'Charges', stack=True, figsize_per_plot=(10, 5))"
   ]
  },
  {
   "cell_type": "code",
   "execution_count": 27,
   "id": "59b48eb1",
   "metadata": {},
   "outputs": [],
   "source": [
    "orig_residuals = y - y_denoised"
   ]
  },
  {
   "cell_type": "code",
   "execution_count": 29,
   "id": "fafbe9db",
   "metadata": {},
   "outputs": [],
   "source": [
    "y_renoised, best_amp, errors, _ = renoise_predictions(y, y_denoised, method='stratified', seed=42, clip_lower=0, clip_upper=None, original_residuals=None, tail_replace=True, lower_percentile=50)\n",
    "# ignore error in orig_residuals after first run"
   ]
  },
  {
   "cell_type": "code",
   "execution_count": 30,
   "id": "23098489",
   "metadata": {},
   "outputs": [
    {
     "data": {
      "image/png": "[encoded data removed]",
      "text/plain": [
       "<Figure size 1000x500 with 1 Axes>"
      ]
     },
     "metadata": {},
     "output_type": "display_data"
    }
   ],
   "source": [
    "plot_histograms([(y, 'Original Charges', None), (y_renoised, 'Renoised Charges', None)], 'Charges', stack=True, figsize_per_plot=(10, 5))"
   ]
  },
  {
   "cell_type": "code",
   "execution_count": 31,
   "id": "1d967cc5",
   "metadata": {},
   "outputs": [
    {
     "data": {
      "text/plain": [
       "<Figure size 640x480 with 0 Axes>"
      ]
     },
     "metadata": {},
     "output_type": "display_data"
    },
    {
     "data": {
      "image/png": "[encoded data removed]",
      "text/plain": [
       "<Figure size 1000x500 with 1 Axes>"
      ]
     },
     "metadata": {},
     "output_type": "display_data"
    }
   ],
   "source": [
    "plot_densities([(y, 'Original Charges', 'blue'), (y_renoised, 'Renoised Charges', 'green')], 'Charges', stack=True, figsize_per_plot=(10, 5))"
   ]
  },
  {
   "cell_type": "code",
   "execution_count": 35,
   "id": "a2c608bc",
   "metadata": {},
   "outputs": [
    {
     "data": {
      "image/png": "[encoded data removed]",
      "text/plain": [
       "<Figure size 1000x500 with 1 Axes>"
      ]
     },
     "metadata": {},
     "output_type": "display_data"
    }
   ],
   "source": [
    "mod_candidate_function = generate_candidate_function(\"((0.2*x1 * 34277.08) + (((x0 * (4.1990547 * x0)) + 5846.4893) * cos(x0 * 0.2*x1))) + (x0 / cos(x0 * 0.026922368))\")\n",
    "mod_y_pred = mod_candidate_function(X)\n",
    "mod_y_pred_corrected, best_amp, errors, _ = renoise_predictions(y, mod_y_pred, method='stratified', amplification_factor=1.0, seed=42, clip_lower=0, clip_upper=None, original_residuals=orig_residuals, tail_replace=True, lower_percentile=50)\n",
    "# ignore error in orig_residuals after first run\n",
    "plot_histograms([(y, 'Original Interest Rate', None), (y_renoised, 'Predicted Renoised Interest Rate', None), (mod_y_pred_corrected, 'Modified Renoised Interest Rate', None)], 'Charges', stack=True, figsize_per_plot=(10, 5))"
   ]
  }
 ],
 "metadata": {
  "kernelspec": {
   "display_name": "hyperRealDataDescriber",
   "language": "python",
   "name": "python3"
  },
  "language_info": {
   "codemirror_mode": {
    "name": "ipython",
    "version": 3
   },
   "file_extension": ".py",
   "mimetype": "text/x-python",
   "name": "python",
   "nbconvert_exporter": "python",
   "pygments_lexer": "ipython3",
   "version": "3.11.11"
  }
 },
 "nbformat": 4,
 "nbformat_minor": 5
}
