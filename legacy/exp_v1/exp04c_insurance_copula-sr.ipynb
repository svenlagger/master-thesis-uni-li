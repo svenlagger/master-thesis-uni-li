{
 "cells": [
  {
   "cell_type": "code",
   "execution_count": 1,
   "id": "b4f8fa5c",
   "metadata": {},
   "outputs": [
    {
     "name": "stdout",
     "output_type": "stream",
     "text": [
      "Detected IPython. Loading juliacall extension. See https://juliapy.github.io/PythonCall.jl/stable/compat/#IPython\n"
     ]
    }
   ],
   "source": [
    "import sys\n",
    "import os\n",
    "# Add the directory containing 'thesis_utils.py' to the system path\n",
    "sys.path.append(os.path.abspath('..'))  # If 'thesis_utils.py' is one level up\n",
    "# Or use this if it's in the same directory as the notebook:\n",
    "# sys.path.append(os.getcwd())\n",
    "# os.environ[\"JULIA_NUM_THREADS\"] = \"8\" \n",
    "os.environ[\"PYTHON_JULIACALL_HANDLE_SIGNALS\"] = \"yes\"\n",
    "os.environ[\"PYTHON_JULIACALL_THREADS\"] = \"auto\"\n",
    "os.environ[\"PYTHON_JULIACALL_OPTLEVEL\"] = \"3\"\n",
    "from pysr import PySRRegressor\n",
    "import pandas as pd\n",
    "import numpy as np\n",
    "from ydata_profiling import ProfileReport\n",
    "\n",
    "from thesis_utils import *"
   ]
  },
  {
   "cell_type": "code",
   "execution_count": 22,
   "id": "1636c374",
   "metadata": {},
   "outputs": [],
   "source": [
    "import importlib\n",
    "import thesis_utils  # or whatever your module is called\n",
    "\n",
    "importlib.reload(thesis_utils)\n",
    "\n",
    "from thesis_utils import *"
   ]
  },
  {
   "cell_type": "code",
   "execution_count": 2,
   "id": "2e7d3e38",
   "metadata": {},
   "outputs": [],
   "source": [
    "data = pd.read_csv(\"C:/Users/svenl/vs_code_projects/hyperRealDataDescriber/data/insurance/insurance_original.csv\")\n",
    "# encode categorical column 'smoker' with only two categories to numerical representation as this one is highly correlated with 'charges' column\n",
    "data['smoker'] = data['smoker'].map({'yes': 1, 'no': 0})"
   ]
  },
  {
   "cell_type": "code",
   "execution_count": 3,
   "id": "3b360bca",
   "metadata": {},
   "outputs": [
    {
     "data": {
      "application/vnd.jupyter.widget-view+json": {
       "model_id": "76f00d25a26f4204a746dccfd597fb3b",
       "version_major": 2,
       "version_minor": 0
      },
      "text/plain": [
       "Summarize dataset:   0%|          | 0/5 [00:00<?, ?it/s]"
      ]
     },
     "metadata": {},
     "output_type": "display_data"
    }
   ],
   "source": [
    "# Generate the profiling report\n",
    "profile_full = ProfileReport(data, title=\"Insurance Original\", explorative=True)\n",
    "\n",
    "# Get the description object\n",
    "desc_full = profile_full.get_description()\n",
    "\n",
    "# Access the correlation matrix\n",
    "correlation_matrix = desc_full.correlations[\"auto\"]"
   ]
  },
  {
   "cell_type": "code",
   "execution_count": 4,
   "id": "1995a1d1",
   "metadata": {},
   "outputs": [],
   "source": [
    "categorical_cols = get_categorical_columns(data)\n",
    "distributions = fit_distributions(data)\n",
    "marginals = convert_distfit_to_marginals(distributions, data)"
   ]
  },
  {
   "cell_type": "code",
   "execution_count": null,
   "id": "4221b2ce",
   "metadata": {},
   "outputs": [],
   "source": [
    "data_syn = generate_synthetic_dataset(original_data=data, correlation_matrix=correlation_matrix, categorical_columns=categorical_cols, marginals=marginals, n_rows=2000, correlation_threshold=0.1, edge_strategy=\"random\", sampling_strategy=\"local-chunks\")"
   ]
  },
  {
   "cell_type": "code",
   "execution_count": 6,
   "id": "2c68e398",
   "metadata": {},
   "outputs": [
    {
     "data": {
      "application/vnd.jupyter.widget-view+json": {
       "model_id": "be5edfd1543e4d5983352cebef39116e",
       "version_major": 2,
       "version_minor": 0
      },
      "text/plain": [
       "Summarize dataset:   0%|          | 0/5 [00:00<?, ?it/s]"
      ]
     },
     "metadata": {},
     "output_type": "display_data"
    }
   ],
   "source": [
    "# Generate the profiling report\n",
    "profile_syn = ProfileReport(data_syn, title=\"Insurance SYN\", explorative=True)\n",
    "\n",
    "# Get the description object\n",
    "desc_syn = profile_syn.get_description()\n",
    "\n",
    "# Access the correlation matrix\n",
    "correlation_matrix_syn = desc_syn.correlations[\"auto\"]"
   ]
  },
  {
   "cell_type": "code",
   "execution_count": 23,
   "id": "12c4fd67",
   "metadata": {},
   "outputs": [
    {
     "data": {
      "application/vnd.plotly.v1+json": {
       "config": {
        "plotlyServerURL": "https://plot.ly"
       },
       "data": [
        {
         "colorbar": {
          "len": 0.9,
          "title": {
           "text": "Correlation"
          }
         },
         "colorscale": [
          [
           0,
           "rgb(103,0,31)"
          ],
          [
           0.1,
           "rgb(178,24,43)"
          ],
          [
           0.2,
           "rgb(214,96,77)"
          ],
          [
           0.3,
           "rgb(244,165,130)"
          ],
          [
           0.4,
           "rgb(253,219,199)"
          ],
          [
           0.5,
           "rgb(247,247,247)"
          ],
          [
           0.6,
           "rgb(209,229,240)"
          ],
          [
           0.7,
           "rgb(146,197,222)"
          ],
          [
           0.8,
           "rgb(67,147,195)"
          ],
          [
           0.9,
           "rgb(33,102,172)"
          ],
          [
           1,
           "rgb(5,48,97)"
          ]
         ],
         "hoverongaps": false,
         "hovertemplate": "X: %{x}<br>Y: %{y}<br>Corr: %{z:.2f}<extra></extra>",
         "type": "heatmap",
         "x": [
          "age",
          "bmi",
          "charges",
          "children",
          "region",
          "sex",
          "smoker"
         ],
         "xaxis": "x",
         "y": [
          "age",
          "bmi",
          "charges",
          "children",
          "region",
          "sex",
          "smoker"
         ],
         "yaxis": "y",
         "z": {
          "bdata": "AAAAAAAA8D+UFk28lpS7P4NFOYi9GeE/XJ+msBUurT8AAAAAAAAAAAAAAAAAAAAAii38Ut3JpT+UFk28lpS7PwAAAAAAAPA/Uqwq3bqQvj+7IlSsbPaPP3HD2cBH+MQ/AAAAAAAAAAAAAAAAAAAAAINFOYi9GeE/Uqwq3bqQvj8AAAAAAADwPx1PJSBAEcE/dtigPJGOsD/fXMfaRQWwP29yK2KboOo/XJ+msBUurT+7IlSsbPaPPx1PJSBAEcE/AAAAAAAA8D8AAAAAAAAAAAAAAAAAAAAAiQoNfDI4oz8AAAAAAAAAAHHD2cBH+MQ/dtigPJGOsD8AAAAAAAAAAAAAAAAAAPA/AAAAAAAAAACI8SJHzSytPwAAAAAAAAAAAAAAAAAAAADfXMfaRQWwPwAAAAAAAAAAAAAAAAAAAAAAAAAAAADwP82kZBB2s7E/ii38Ut3JpT8AAAAAAAAAAG9yK2KboOo/iQoNfDI4oz+I8SJHzSytP82kZBB2s7E/AAAAAAAA8D8=",
          "dtype": "f8",
          "shape": "7, 7"
         },
         "zmax": 1,
         "zmin": -1
        },
        {
         "colorscale": [
          [
           0,
           "rgb(103,0,31)"
          ],
          [
           0.1,
           "rgb(178,24,43)"
          ],
          [
           0.2,
           "rgb(214,96,77)"
          ],
          [
           0.3,
           "rgb(244,165,130)"
          ],
          [
           0.4,
           "rgb(253,219,199)"
          ],
          [
           0.5,
           "rgb(247,247,247)"
          ],
          [
           0.6,
           "rgb(209,229,240)"
          ],
          [
           0.7,
           "rgb(146,197,222)"
          ],
          [
           0.8,
           "rgb(67,147,195)"
          ],
          [
           0.9,
           "rgb(33,102,172)"
          ],
          [
           1,
           "rgb(5,48,97)"
          ]
         ],
         "hoverongaps": false,
         "hovertemplate": "X: %{x}<br>Y: %{y}<br>Corr: %{z:.2f}<extra></extra>",
         "showscale": false,
         "type": "heatmap",
         "x": [
          "age",
          "bmi",
          "charges",
          "children",
          "region",
          "sex",
          "smoker"
         ],
         "xaxis": "x2",
         "y": [
          "age",
          "bmi",
          "charges",
          "children",
          "region",
          "sex",
          "smoker"
         ],
         "yaxis": "y2",
         "z": {
          "bdata": "AAAAAAAA8D9wY7gghke+P69WnKXA59U/xn57k/+AkD+B8d+TJN6pPwAAAAAAAAAAAAAAAAAAAABwY7gghke+PwAAAAAAAPA/THfaXLJKwT8La6fiESVrP+R94O4rKew/AAAAAAAAAAAAAAAAAAAAAK9WnKXA59U/THfaXLJKwT8AAAAAAADwP2qq16BdjbI/CGWuJsI/tT+a/6XSGWGjP1Egen4qxNU/xn57k/+AkD8La6fiESVrP2qq16BdjbI/AAAAAAAA8D8kUx8p2F6aP4UZgHxHraY/0ElN8pvjkj+B8d+TJN6pP+R94O4rKew/CGWuJsI/tT8kUx8p2F6aPwAAAAAAAPA/j3FyITbghD8AAAAAAAAAAAAAAAAAAAAAAAAAAAAAAACa/6XSGWGjP4UZgHxHraY/j3FyITbghD8AAAAAAADwPwAAAAAAAAAAAAAAAAAAAAAAAAAAAAAAAFEgen4qxNU/0ElN8pvjkj8AAAAAAAAAAAAAAAAAAAAAAAAAAAAA8D8=",
          "dtype": "f8",
          "shape": "7, 7"
         },
         "zmax": 1,
         "zmin": -1
        }
       ],
       "layout": {
        "annotations": [
         {
          "font": {
           "size": 16
          },
          "showarrow": false,
          "text": "Real",
          "x": 0.2,
          "xanchor": "center",
          "xref": "paper",
          "y": 1,
          "yanchor": "bottom",
          "yref": "paper"
         },
         {
          "font": {
           "size": 16
          },
          "showarrow": false,
          "text": "Synthetic",
          "x": 0.8,
          "xanchor": "center",
          "xref": "paper",
          "y": 1,
          "yanchor": "bottom",
          "yref": "paper"
         }
        ],
        "height": 800,
        "showlegend": false,
        "template": {
         "data": {
          "bar": [
           {
            "error_x": {
             "color": "#2a3f5f"
            },
            "error_y": {
             "color": "#2a3f5f"
            },
            "marker": {
             "line": {
              "color": "#E5ECF6",
              "width": 0.5
             },
             "pattern": {
              "fillmode": "overlay",
              "size": 10,
              "solidity": 0.2
             }
            },
            "type": "bar"
           }
          ],
          "barpolar": [
           {
            "marker": {
             "line": {
              "color": "#E5ECF6",
              "width": 0.5
             },
             "pattern": {
              "fillmode": "overlay",
              "size": 10,
              "solidity": 0.2
             }
            },
            "type": "barpolar"
           }
          ],
          "carpet": [
           {
            "aaxis": {
             "endlinecolor": "#2a3f5f",
             "gridcolor": "white",
             "linecolor": "white",
             "minorgridcolor": "white",
             "startlinecolor": "#2a3f5f"
            },
            "baxis": {
             "endlinecolor": "#2a3f5f",
             "gridcolor": "white",
             "linecolor": "white",
             "minorgridcolor": "white",
             "startlinecolor": "#2a3f5f"
            },
            "type": "carpet"
           }
          ],
          "choropleth": [
           {
            "colorbar": {
             "outlinewidth": 0,
             "ticks": ""
            },
            "type": "choropleth"
           }
          ],
          "contour": [
           {
            "colorbar": {
             "outlinewidth": 0,
             "ticks": ""
            },
            "colorscale": [
             [
              0,
              "#0d0887"
             ],
             [
              0.1111111111111111,
              "#46039f"
             ],
             [
              0.2222222222222222,
              "#7201a8"
             ],
             [
              0.3333333333333333,
              "#9c179e"
             ],
             [
              0.4444444444444444,
              "#bd3786"
             ],
             [
              0.5555555555555556,
              "#d8576b"
             ],
             [
              0.6666666666666666,
              "#ed7953"
             ],
             [
              0.7777777777777778,
              "#fb9f3a"
             ],
             [
              0.8888888888888888,
              "#fdca26"
             ],
             [
              1,
              "#f0f921"
             ]
            ],
            "type": "contour"
           }
          ],
          "contourcarpet": [
           {
            "colorbar": {
             "outlinewidth": 0,
             "ticks": ""
            },
            "type": "contourcarpet"
           }
          ],
          "heatmap": [
           {
            "colorbar": {
             "outlinewidth": 0,
             "ticks": ""
            },
            "colorscale": [
             [
              0,
              "#0d0887"
             ],
             [
              0.1111111111111111,
              "#46039f"
             ],
             [
              0.2222222222222222,
              "#7201a8"
             ],
             [
              0.3333333333333333,
              "#9c179e"
             ],
             [
              0.4444444444444444,
              "#bd3786"
             ],
             [
              0.5555555555555556,
              "#d8576b"
             ],
             [
              0.6666666666666666,
              "#ed7953"
             ],
             [
              0.7777777777777778,
              "#fb9f3a"
             ],
             [
              0.8888888888888888,
              "#fdca26"
             ],
             [
              1,
              "#f0f921"
             ]
            ],
            "type": "heatmap"
           }
          ],
          "histogram": [
           {
            "marker": {
             "pattern": {
              "fillmode": "overlay",
              "size": 10,
              "solidity": 0.2
             }
            },
            "type": "histogram"
           }
          ],
          "histogram2d": [
           {
            "colorbar": {
             "outlinewidth": 0,
             "ticks": ""
            },
            "colorscale": [
             [
              0,
              "#0d0887"
             ],
             [
              0.1111111111111111,
              "#46039f"
             ],
             [
              0.2222222222222222,
              "#7201a8"
             ],
             [
              0.3333333333333333,
              "#9c179e"
             ],
             [
              0.4444444444444444,
              "#bd3786"
             ],
             [
              0.5555555555555556,
              "#d8576b"
             ],
             [
              0.6666666666666666,
              "#ed7953"
             ],
             [
              0.7777777777777778,
              "#fb9f3a"
             ],
             [
              0.8888888888888888,
              "#fdca26"
             ],
             [
              1,
              "#f0f921"
             ]
            ],
            "type": "histogram2d"
           }
          ],
          "histogram2dcontour": [
           {
            "colorbar": {
             "outlinewidth": 0,
             "ticks": ""
            },
            "colorscale": [
             [
              0,
              "#0d0887"
             ],
             [
              0.1111111111111111,
              "#46039f"
             ],
             [
              0.2222222222222222,
              "#7201a8"
             ],
             [
              0.3333333333333333,
              "#9c179e"
             ],
             [
              0.4444444444444444,
              "#bd3786"
             ],
             [
              0.5555555555555556,
              "#d8576b"
             ],
             [
              0.6666666666666666,
              "#ed7953"
             ],
             [
              0.7777777777777778,
              "#fb9f3a"
             ],
             [
              0.8888888888888888,
              "#fdca26"
             ],
             [
              1,
              "#f0f921"
             ]
            ],
            "type": "histogram2dcontour"
           }
          ],
          "mesh3d": [
           {
            "colorbar": {
             "outlinewidth": 0,
             "ticks": ""
            },
            "type": "mesh3d"
           }
          ],
          "parcoords": [
           {
            "line": {
             "colorbar": {
              "outlinewidth": 0,
              "ticks": ""
             }
            },
            "type": "parcoords"
           }
          ],
          "pie": [
           {
            "automargin": true,
            "type": "pie"
           }
          ],
          "scatter": [
           {
            "fillpattern": {
             "fillmode": "overlay",
             "size": 10,
             "solidity": 0.2
            },
            "type": "scatter"
           }
          ],
          "scatter3d": [
           {
            "line": {
             "colorbar": {
              "outlinewidth": 0,
              "ticks": ""
             }
            },
            "marker": {
             "colorbar": {
              "outlinewidth": 0,
              "ticks": ""
             }
            },
            "type": "scatter3d"
           }
          ],
          "scattercarpet": [
           {
            "marker": {
             "colorbar": {
              "outlinewidth": 0,
              "ticks": ""
             }
            },
            "type": "scattercarpet"
           }
          ],
          "scattergeo": [
           {
            "marker": {
             "colorbar": {
              "outlinewidth": 0,
              "ticks": ""
             }
            },
            "type": "scattergeo"
           }
          ],
          "scattergl": [
           {
            "marker": {
             "colorbar": {
              "outlinewidth": 0,
              "ticks": ""
             }
            },
            "type": "scattergl"
           }
          ],
          "scattermap": [
           {
            "marker": {
             "colorbar": {
              "outlinewidth": 0,
              "ticks": ""
             }
            },
            "type": "scattermap"
           }
          ],
          "scattermapbox": [
           {
            "marker": {
             "colorbar": {
              "outlinewidth": 0,
              "ticks": ""
             }
            },
            "type": "scattermapbox"
           }
          ],
          "scatterpolar": [
           {
            "marker": {
             "colorbar": {
              "outlinewidth": 0,
              "ticks": ""
             }
            },
            "type": "scatterpolar"
           }
          ],
          "scatterpolargl": [
           {
            "marker": {
             "colorbar": {
              "outlinewidth": 0,
              "ticks": ""
             }
            },
            "type": "scatterpolargl"
           }
          ],
          "scatterternary": [
           {
            "marker": {
             "colorbar": {
              "outlinewidth": 0,
              "ticks": ""
             }
            },
            "type": "scatterternary"
           }
          ],
          "surface": [
           {
            "colorbar": {
             "outlinewidth": 0,
             "ticks": ""
            },
            "colorscale": [
             [
              0,
              "#0d0887"
             ],
             [
              0.1111111111111111,
              "#46039f"
             ],
             [
              0.2222222222222222,
              "#7201a8"
             ],
             [
              0.3333333333333333,
              "#9c179e"
             ],
             [
              0.4444444444444444,
              "#bd3786"
             ],
             [
              0.5555555555555556,
              "#d8576b"
             ],
             [
              0.6666666666666666,
              "#ed7953"
             ],
             [
              0.7777777777777778,
              "#fb9f3a"
             ],
             [
              0.8888888888888888,
              "#fdca26"
             ],
             [
              1,
              "#f0f921"
             ]
            ],
            "type": "surface"
           }
          ],
          "table": [
           {
            "cells": {
             "fill": {
              "color": "#EBF0F8"
             },
             "line": {
              "color": "white"
             }
            },
            "header": {
             "fill": {
              "color": "#C8D4E3"
             },
             "line": {
              "color": "white"
             }
            },
            "type": "table"
           }
          ]
         },
         "layout": {
          "annotationdefaults": {
           "arrowcolor": "#2a3f5f",
           "arrowhead": 0,
           "arrowwidth": 1
          },
          "autotypenumbers": "strict",
          "coloraxis": {
           "colorbar": {
            "outlinewidth": 0,
            "ticks": ""
           }
          },
          "colorscale": {
           "diverging": [
            [
             0,
             "#8e0152"
            ],
            [
             0.1,
             "#c51b7d"
            ],
            [
             0.2,
             "#de77ae"
            ],
            [
             0.3,
             "#f1b6da"
            ],
            [
             0.4,
             "#fde0ef"
            ],
            [
             0.5,
             "#f7f7f7"
            ],
            [
             0.6,
             "#e6f5d0"
            ],
            [
             0.7,
             "#b8e186"
            ],
            [
             0.8,
             "#7fbc41"
            ],
            [
             0.9,
             "#4d9221"
            ],
            [
             1,
             "#276419"
            ]
           ],
           "sequential": [
            [
             0,
             "#0d0887"
            ],
            [
             0.1111111111111111,
             "#46039f"
            ],
            [
             0.2222222222222222,
             "#7201a8"
            ],
            [
             0.3333333333333333,
             "#9c179e"
            ],
            [
             0.4444444444444444,
             "#bd3786"
            ],
            [
             0.5555555555555556,
             "#d8576b"
            ],
            [
             0.6666666666666666,
             "#ed7953"
            ],
            [
             0.7777777777777778,
             "#fb9f3a"
            ],
            [
             0.8888888888888888,
             "#fdca26"
            ],
            [
             1,
             "#f0f921"
            ]
           ],
           "sequentialminus": [
            [
             0,
             "#0d0887"
            ],
            [
             0.1111111111111111,
             "#46039f"
            ],
            [
             0.2222222222222222,
             "#7201a8"
            ],
            [
             0.3333333333333333,
             "#9c179e"
            ],
            [
             0.4444444444444444,
             "#bd3786"
            ],
            [
             0.5555555555555556,
             "#d8576b"
            ],
            [
             0.6666666666666666,
             "#ed7953"
            ],
            [
             0.7777777777777778,
             "#fb9f3a"
            ],
            [
             0.8888888888888888,
             "#fdca26"
            ],
            [
             1,
             "#f0f921"
            ]
           ]
          },
          "colorway": [
           "#636efa",
           "#EF553B",
           "#00cc96",
           "#ab63fa",
           "#FFA15A",
           "#19d3f3",
           "#FF6692",
           "#B6E880",
           "#FF97FF",
           "#FECB52"
          ],
          "font": {
           "color": "#2a3f5f"
          },
          "geo": {
           "bgcolor": "white",
           "lakecolor": "white",
           "landcolor": "#E5ECF6",
           "showlakes": true,
           "showland": true,
           "subunitcolor": "white"
          },
          "hoverlabel": {
           "align": "left"
          },
          "hovermode": "closest",
          "mapbox": {
           "style": "light"
          },
          "paper_bgcolor": "white",
          "plot_bgcolor": "#E5ECF6",
          "polar": {
           "angularaxis": {
            "gridcolor": "white",
            "linecolor": "white",
            "ticks": ""
           },
           "bgcolor": "#E5ECF6",
           "radialaxis": {
            "gridcolor": "white",
            "linecolor": "white",
            "ticks": ""
           }
          },
          "scene": {
           "xaxis": {
            "backgroundcolor": "#E5ECF6",
            "gridcolor": "white",
            "gridwidth": 2,
            "linecolor": "white",
            "showbackground": true,
            "ticks": "",
            "zerolinecolor": "white"
           },
           "yaxis": {
            "backgroundcolor": "#E5ECF6",
            "gridcolor": "white",
            "gridwidth": 2,
            "linecolor": "white",
            "showbackground": true,
            "ticks": "",
            "zerolinecolor": "white"
           },
           "zaxis": {
            "backgroundcolor": "#E5ECF6",
            "gridcolor": "white",
            "gridwidth": 2,
            "linecolor": "white",
            "showbackground": true,
            "ticks": "",
            "zerolinecolor": "white"
           }
          },
          "shapedefaults": {
           "line": {
            "color": "#2a3f5f"
           }
          },
          "ternary": {
           "aaxis": {
            "gridcolor": "white",
            "linecolor": "white",
            "ticks": ""
           },
           "baxis": {
            "gridcolor": "white",
            "linecolor": "white",
            "ticks": ""
           },
           "bgcolor": "#E5ECF6",
           "caxis": {
            "gridcolor": "white",
            "linecolor": "white",
            "ticks": ""
           }
          },
          "title": {
           "x": 0.05
          },
          "xaxis": {
           "automargin": true,
           "gridcolor": "white",
           "linecolor": "white",
           "ticks": "",
           "title": {
            "standoff": 15
           },
           "zerolinecolor": "white",
           "zerolinewidth": 2
          },
          "yaxis": {
           "automargin": true,
           "gridcolor": "white",
           "linecolor": "white",
           "ticks": "",
           "title": {
            "standoff": 15
           },
           "zerolinecolor": "white",
           "zerolinewidth": 2
          }
         }
        },
        "title": {
         "text": "Comparison of Correlation Matrices"
        },
        "width": 1400,
        "xaxis": {
         "anchor": "y",
         "domain": [
          0,
          0.4
         ]
        },
        "xaxis2": {
         "anchor": "y2",
         "domain": [
          0.6000000000000001,
          1
         ]
        },
        "yaxis": {
         "anchor": "x",
         "domain": [
          0,
          1
         ]
        },
        "yaxis2": {
         "anchor": "x2",
         "domain": [
          0,
          1
         ]
        }
       }
      }
     },
     "metadata": {},
     "output_type": "display_data"
    }
   ],
   "source": [
    "plot_correlation_matrices(correlation_matrix, correlation_matrix_syn, \"Real\", \"Synthetic\")"
   ]
  },
  {
   "cell_type": "code",
   "execution_count": 8,
   "id": "0914899d",
   "metadata": {},
   "outputs": [
    {
     "name": "stdout",
     "output_type": "stream",
     "text": [
      "Generating report ...\n",
      "\n",
      "(1/2) Evaluating Column Shapes: |██████████| 7/7 [00:00<00:00, 224.36it/s]|\n",
      "Column Shapes Score: 90.71%\n",
      "\n",
      "(2/2) Evaluating Column Pair Trends: |██████████| 21/21 [00:00<00:00, 188.76it/s]|\n",
      "Column Pair Trends Score: 87.58%\n",
      "\n",
      "Overall Score (Average): 89.15%\n",
      "\n"
     ]
    }
   ],
   "source": [
    "from sdmetrics.reports.single_table import QualityReport\n",
    "\n",
    "data_syn = data_syn[data.columns.to_list()]\n",
    "\n",
    "metadata = {\n",
    "    \"columns\": {\n",
    "        \"age\": {\"sdtype\": \"numerical\"},\n",
    "        \"sex\": {\"sdtype\": \"categorical\"},\n",
    "        \"bmi\": {\"sdtype\": \"numerical\"},\n",
    "        \"children\": {\"sdtype\": \"numerical\"},\n",
    "        \"smoker\": {\"sdtype\": \"numerical\"},\n",
    "        \"region\": {\"sdtype\": \"categorical\"},\n",
    "        \"charges\": {\"sdtype\": \"numerical\"},\n",
    "    }\n",
    "}\n",
    "\n",
    "report = QualityReport()\n",
    "report.generate(data, data_syn, metadata)"
   ]
  },
  {
   "cell_type": "code",
   "execution_count": 9,
   "id": "7f69c6a4",
   "metadata": {},
   "outputs": [],
   "source": [
    "# variable assignment according to correlation structure\n",
    "independents_lst = ['age', 'smoker']\n",
    "dependent_var = 'charges'\n",
    "X = data_syn[independents_lst].to_numpy()\n",
    "y = data_syn[dependent_var].to_numpy()"
   ]
  },
  {
   "cell_type": "code",
   "execution_count": 10,
   "id": "b69b4a26",
   "metadata": {},
   "outputs": [
    {
     "data": {
      "text/html": [
       "<style>#sk-container-id-1 {\n",
       "  /* Definition of color scheme common for light and dark mode */\n",
       "  --sklearn-color-text: #000;\n",
       "  --sklearn-color-text-muted: #666;\n",
       "  --sklearn-color-line: gray;\n",
       "  /* Definition of color scheme for unfitted estimators */\n",
       "  --sklearn-color-unfitted-level-0: #fff5e6;\n",
       "  --sklearn-color-unfitted-level-1: #f6e4d2;\n",
       "  --sklearn-color-unfitted-level-2: #ffe0b3;\n",
       "  --sklearn-color-unfitted-level-3: chocolate;\n",
       "  /* Definition of color scheme for fitted estimators */\n",
       "  --sklearn-color-fitted-level-0: #f0f8ff;\n",
       "  --sklearn-color-fitted-level-1: #d4ebff;\n",
       "  --sklearn-color-fitted-level-2: #b3dbfd;\n",
       "  --sklearn-color-fitted-level-3: cornflowerblue;\n",
       "\n",
       "  /* Specific color for light theme */\n",
       "  --sklearn-color-text-on-default-background: var(--sg-text-color, var(--theme-code-foreground, var(--jp-content-font-color1, black)));\n",
       "  --sklearn-color-background: var(--sg-background-color, var(--theme-background, var(--jp-layout-color0, white)));\n",
       "  --sklearn-color-border-box: var(--sg-text-color, var(--theme-code-foreground, var(--jp-content-font-color1, black)));\n",
       "  --sklearn-color-icon: #696969;\n",
       "\n",
       "  @media (prefers-color-scheme: dark) {\n",
       "    /* Redefinition of color scheme for dark theme */\n",
       "    --sklearn-color-text-on-default-background: var(--sg-text-color, var(--theme-code-foreground, var(--jp-content-font-color1, white)));\n",
       "    --sklearn-color-background: var(--sg-background-color, var(--theme-background, var(--jp-layout-color0, #111)));\n",
       "    --sklearn-color-border-box: var(--sg-text-color, var(--theme-code-foreground, var(--jp-content-font-color1, white)));\n",
       "    --sklearn-color-icon: #878787;\n",
       "  }\n",
       "}\n",
       "\n",
       "#sk-container-id-1 {\n",
       "  color: var(--sklearn-color-text);\n",
       "}\n",
       "\n",
       "#sk-container-id-1 pre {\n",
       "  padding: 0;\n",
       "}\n",
       "\n",
       "#sk-container-id-1 input.sk-hidden--visually {\n",
       "  border: 0;\n",
       "  clip: rect(1px 1px 1px 1px);\n",
       "  clip: rect(1px, 1px, 1px, 1px);\n",
       "  height: 1px;\n",
       "  margin: -1px;\n",
       "  overflow: hidden;\n",
       "  padding: 0;\n",
       "  position: absolute;\n",
       "  width: 1px;\n",
       "}\n",
       "\n",
       "#sk-container-id-1 div.sk-dashed-wrapped {\n",
       "  border: 1px dashed var(--sklearn-color-line);\n",
       "  margin: 0 0.4em 0.5em 0.4em;\n",
       "  box-sizing: border-box;\n",
       "  padding-bottom: 0.4em;\n",
       "  background-color: var(--sklearn-color-background);\n",
       "}\n",
       "\n",
       "#sk-container-id-1 div.sk-container {\n",
       "  /* jupyter's `normalize.less` sets `[hidden] { display: none; }`\n",
       "     but bootstrap.min.css set `[hidden] { display: none !important; }`\n",
       "     so we also need the `!important` here to be able to override the\n",
       "     default hidden behavior on the sphinx rendered scikit-learn.org.\n",
       "     See: https://github.com/scikit-learn/scikit-learn/issues/21755 */\n",
       "  display: inline-block !important;\n",
       "  position: relative;\n",
       "}\n",
       "\n",
       "#sk-container-id-1 div.sk-text-repr-fallback {\n",
       "  display: none;\n",
       "}\n",
       "\n",
       "div.sk-parallel-item,\n",
       "div.sk-serial,\n",
       "div.sk-item {\n",
       "  /* draw centered vertical line to link estimators */\n",
       "  background-image: linear-gradient(var(--sklearn-color-text-on-default-background), var(--sklearn-color-text-on-default-background));\n",
       "  background-size: 2px 100%;\n",
       "  background-repeat: no-repeat;\n",
       "  background-position: center center;\n",
       "}\n",
       "\n",
       "/* Parallel-specific style estimator block */\n",
       "\n",
       "#sk-container-id-1 div.sk-parallel-item::after {\n",
       "  content: \"\";\n",
       "  width: 100%;\n",
       "  border-bottom: 2px solid var(--sklearn-color-text-on-default-background);\n",
       "  flex-grow: 1;\n",
       "}\n",
       "\n",
       "#sk-container-id-1 div.sk-parallel {\n",
       "  display: flex;\n",
       "  align-items: stretch;\n",
       "  justify-content: center;\n",
       "  background-color: var(--sklearn-color-background);\n",
       "  position: relative;\n",
       "}\n",
       "\n",
       "#sk-container-id-1 div.sk-parallel-item {\n",
       "  display: flex;\n",
       "  flex-direction: column;\n",
       "}\n",
       "\n",
       "#sk-container-id-1 div.sk-parallel-item:first-child::after {\n",
       "  align-self: flex-end;\n",
       "  width: 50%;\n",
       "}\n",
       "\n",
       "#sk-container-id-1 div.sk-parallel-item:last-child::after {\n",
       "  align-self: flex-start;\n",
       "  width: 50%;\n",
       "}\n",
       "\n",
       "#sk-container-id-1 div.sk-parallel-item:only-child::after {\n",
       "  width: 0;\n",
       "}\n",
       "\n",
       "/* Serial-specific style estimator block */\n",
       "\n",
       "#sk-container-id-1 div.sk-serial {\n",
       "  display: flex;\n",
       "  flex-direction: column;\n",
       "  align-items: center;\n",
       "  background-color: var(--sklearn-color-background);\n",
       "  padding-right: 1em;\n",
       "  padding-left: 1em;\n",
       "}\n",
       "\n",
       "\n",
       "/* Toggleable style: style used for estimator/Pipeline/ColumnTransformer box that is\n",
       "clickable and can be expanded/collapsed.\n",
       "- Pipeline and ColumnTransformer use this feature and define the default style\n",
       "- Estimators will overwrite some part of the style using the `sk-estimator` class\n",
       "*/\n",
       "\n",
       "/* Pipeline and ColumnTransformer style (default) */\n",
       "\n",
       "#sk-container-id-1 div.sk-toggleable {\n",
       "  /* Default theme specific background. It is overwritten whether we have a\n",
       "  specific estimator or a Pipeline/ColumnTransformer */\n",
       "  background-color: var(--sklearn-color-background);\n",
       "}\n",
       "\n",
       "/* Toggleable label */\n",
       "#sk-container-id-1 label.sk-toggleable__label {\n",
       "  cursor: pointer;\n",
       "  display: flex;\n",
       "  width: 100%;\n",
       "  margin-bottom: 0;\n",
       "  padding: 0.5em;\n",
       "  box-sizing: border-box;\n",
       "  text-align: center;\n",
       "  align-items: start;\n",
       "  justify-content: space-between;\n",
       "  gap: 0.5em;\n",
       "}\n",
       "\n",
       "#sk-container-id-1 label.sk-toggleable__label .caption {\n",
       "  font-size: 0.6rem;\n",
       "  font-weight: lighter;\n",
       "  color: var(--sklearn-color-text-muted);\n",
       "}\n",
       "\n",
       "#sk-container-id-1 label.sk-toggleable__label-arrow:before {\n",
       "  /* Arrow on the left of the label */\n",
       "  content: \"▸\";\n",
       "  float: left;\n",
       "  margin-right: 0.25em;\n",
       "  color: var(--sklearn-color-icon);\n",
       "}\n",
       "\n",
       "#sk-container-id-1 label.sk-toggleable__label-arrow:hover:before {\n",
       "  color: var(--sklearn-color-text);\n",
       "}\n",
       "\n",
       "/* Toggleable content - dropdown */\n",
       "\n",
       "#sk-container-id-1 div.sk-toggleable__content {\n",
       "  max-height: 0;\n",
       "  max-width: 0;\n",
       "  overflow: hidden;\n",
       "  text-align: left;\n",
       "  /* unfitted */\n",
       "  background-color: var(--sklearn-color-unfitted-level-0);\n",
       "}\n",
       "\n",
       "#sk-container-id-1 div.sk-toggleable__content.fitted {\n",
       "  /* fitted */\n",
       "  background-color: var(--sklearn-color-fitted-level-0);\n",
       "}\n",
       "\n",
       "#sk-container-id-1 div.sk-toggleable__content pre {\n",
       "  margin: 0.2em;\n",
       "  border-radius: 0.25em;\n",
       "  color: var(--sklearn-color-text);\n",
       "  /* unfitted */\n",
       "  background-color: var(--sklearn-color-unfitted-level-0);\n",
       "}\n",
       "\n",
       "#sk-container-id-1 div.sk-toggleable__content.fitted pre {\n",
       "  /* unfitted */\n",
       "  background-color: var(--sklearn-color-fitted-level-0);\n",
       "}\n",
       "\n",
       "#sk-container-id-1 input.sk-toggleable__control:checked~div.sk-toggleable__content {\n",
       "  /* Expand drop-down */\n",
       "  max-height: 200px;\n",
       "  max-width: 100%;\n",
       "  overflow: auto;\n",
       "}\n",
       "\n",
       "#sk-container-id-1 input.sk-toggleable__control:checked~label.sk-toggleable__label-arrow:before {\n",
       "  content: \"▾\";\n",
       "}\n",
       "\n",
       "/* Pipeline/ColumnTransformer-specific style */\n",
       "\n",
       "#sk-container-id-1 div.sk-label input.sk-toggleable__control:checked~label.sk-toggleable__label {\n",
       "  color: var(--sklearn-color-text);\n",
       "  background-color: var(--sklearn-color-unfitted-level-2);\n",
       "}\n",
       "\n",
       "#sk-container-id-1 div.sk-label.fitted input.sk-toggleable__control:checked~label.sk-toggleable__label {\n",
       "  background-color: var(--sklearn-color-fitted-level-2);\n",
       "}\n",
       "\n",
       "/* Estimator-specific style */\n",
       "\n",
       "/* Colorize estimator box */\n",
       "#sk-container-id-1 div.sk-estimator input.sk-toggleable__control:checked~label.sk-toggleable__label {\n",
       "  /* unfitted */\n",
       "  background-color: var(--sklearn-color-unfitted-level-2);\n",
       "}\n",
       "\n",
       "#sk-container-id-1 div.sk-estimator.fitted input.sk-toggleable__control:checked~label.sk-toggleable__label {\n",
       "  /* fitted */\n",
       "  background-color: var(--sklearn-color-fitted-level-2);\n",
       "}\n",
       "\n",
       "#sk-container-id-1 div.sk-label label.sk-toggleable__label,\n",
       "#sk-container-id-1 div.sk-label label {\n",
       "  /* The background is the default theme color */\n",
       "  color: var(--sklearn-color-text-on-default-background);\n",
       "}\n",
       "\n",
       "/* On hover, darken the color of the background */\n",
       "#sk-container-id-1 div.sk-label:hover label.sk-toggleable__label {\n",
       "  color: var(--sklearn-color-text);\n",
       "  background-color: var(--sklearn-color-unfitted-level-2);\n",
       "}\n",
       "\n",
       "/* Label box, darken color on hover, fitted */\n",
       "#sk-container-id-1 div.sk-label.fitted:hover label.sk-toggleable__label.fitted {\n",
       "  color: var(--sklearn-color-text);\n",
       "  background-color: var(--sklearn-color-fitted-level-2);\n",
       "}\n",
       "\n",
       "/* Estimator label */\n",
       "\n",
       "#sk-container-id-1 div.sk-label label {\n",
       "  font-family: monospace;\n",
       "  font-weight: bold;\n",
       "  display: inline-block;\n",
       "  line-height: 1.2em;\n",
       "}\n",
       "\n",
       "#sk-container-id-1 div.sk-label-container {\n",
       "  text-align: center;\n",
       "}\n",
       "\n",
       "/* Estimator-specific */\n",
       "#sk-container-id-1 div.sk-estimator {\n",
       "  font-family: monospace;\n",
       "  border: 1px dotted var(--sklearn-color-border-box);\n",
       "  border-radius: 0.25em;\n",
       "  box-sizing: border-box;\n",
       "  margin-bottom: 0.5em;\n",
       "  /* unfitted */\n",
       "  background-color: var(--sklearn-color-unfitted-level-0);\n",
       "}\n",
       "\n",
       "#sk-container-id-1 div.sk-estimator.fitted {\n",
       "  /* fitted */\n",
       "  background-color: var(--sklearn-color-fitted-level-0);\n",
       "}\n",
       "\n",
       "/* on hover */\n",
       "#sk-container-id-1 div.sk-estimator:hover {\n",
       "  /* unfitted */\n",
       "  background-color: var(--sklearn-color-unfitted-level-2);\n",
       "}\n",
       "\n",
       "#sk-container-id-1 div.sk-estimator.fitted:hover {\n",
       "  /* fitted */\n",
       "  background-color: var(--sklearn-color-fitted-level-2);\n",
       "}\n",
       "\n",
       "/* Specification for estimator info (e.g. \"i\" and \"?\") */\n",
       "\n",
       "/* Common style for \"i\" and \"?\" */\n",
       "\n",
       ".sk-estimator-doc-link,\n",
       "a:link.sk-estimator-doc-link,\n",
       "a:visited.sk-estimator-doc-link {\n",
       "  float: right;\n",
       "  font-size: smaller;\n",
       "  line-height: 1em;\n",
       "  font-family: monospace;\n",
       "  background-color: var(--sklearn-color-background);\n",
       "  border-radius: 1em;\n",
       "  height: 1em;\n",
       "  width: 1em;\n",
       "  text-decoration: none !important;\n",
       "  margin-left: 0.5em;\n",
       "  text-align: center;\n",
       "  /* unfitted */\n",
       "  border: var(--sklearn-color-unfitted-level-1) 1pt solid;\n",
       "  color: var(--sklearn-color-unfitted-level-1);\n",
       "}\n",
       "\n",
       ".sk-estimator-doc-link.fitted,\n",
       "a:link.sk-estimator-doc-link.fitted,\n",
       "a:visited.sk-estimator-doc-link.fitted {\n",
       "  /* fitted */\n",
       "  border: var(--sklearn-color-fitted-level-1) 1pt solid;\n",
       "  color: var(--sklearn-color-fitted-level-1);\n",
       "}\n",
       "\n",
       "/* On hover */\n",
       "div.sk-estimator:hover .sk-estimator-doc-link:hover,\n",
       ".sk-estimator-doc-link:hover,\n",
       "div.sk-label-container:hover .sk-estimator-doc-link:hover,\n",
       ".sk-estimator-doc-link:hover {\n",
       "  /* unfitted */\n",
       "  background-color: var(--sklearn-color-unfitted-level-3);\n",
       "  color: var(--sklearn-color-background);\n",
       "  text-decoration: none;\n",
       "}\n",
       "\n",
       "div.sk-estimator.fitted:hover .sk-estimator-doc-link.fitted:hover,\n",
       ".sk-estimator-doc-link.fitted:hover,\n",
       "div.sk-label-container:hover .sk-estimator-doc-link.fitted:hover,\n",
       ".sk-estimator-doc-link.fitted:hover {\n",
       "  /* fitted */\n",
       "  background-color: var(--sklearn-color-fitted-level-3);\n",
       "  color: var(--sklearn-color-background);\n",
       "  text-decoration: none;\n",
       "}\n",
       "\n",
       "/* Span, style for the box shown on hovering the info icon */\n",
       ".sk-estimator-doc-link span {\n",
       "  display: none;\n",
       "  z-index: 9999;\n",
       "  position: relative;\n",
       "  font-weight: normal;\n",
       "  right: .2ex;\n",
       "  padding: .5ex;\n",
       "  margin: .5ex;\n",
       "  width: min-content;\n",
       "  min-width: 20ex;\n",
       "  max-width: 50ex;\n",
       "  color: var(--sklearn-color-text);\n",
       "  box-shadow: 2pt 2pt 4pt #999;\n",
       "  /* unfitted */\n",
       "  background: var(--sklearn-color-unfitted-level-0);\n",
       "  border: .5pt solid var(--sklearn-color-unfitted-level-3);\n",
       "}\n",
       "\n",
       ".sk-estimator-doc-link.fitted span {\n",
       "  /* fitted */\n",
       "  background: var(--sklearn-color-fitted-level-0);\n",
       "  border: var(--sklearn-color-fitted-level-3);\n",
       "}\n",
       "\n",
       ".sk-estimator-doc-link:hover span {\n",
       "  display: block;\n",
       "}\n",
       "\n",
       "/* \"?\"-specific style due to the `<a>` HTML tag */\n",
       "\n",
       "#sk-container-id-1 a.estimator_doc_link {\n",
       "  float: right;\n",
       "  font-size: 1rem;\n",
       "  line-height: 1em;\n",
       "  font-family: monospace;\n",
       "  background-color: var(--sklearn-color-background);\n",
       "  border-radius: 1rem;\n",
       "  height: 1rem;\n",
       "  width: 1rem;\n",
       "  text-decoration: none;\n",
       "  /* unfitted */\n",
       "  color: var(--sklearn-color-unfitted-level-1);\n",
       "  border: var(--sklearn-color-unfitted-level-1) 1pt solid;\n",
       "}\n",
       "\n",
       "#sk-container-id-1 a.estimator_doc_link.fitted {\n",
       "  /* fitted */\n",
       "  border: var(--sklearn-color-fitted-level-1) 1pt solid;\n",
       "  color: var(--sklearn-color-fitted-level-1);\n",
       "}\n",
       "\n",
       "/* On hover */\n",
       "#sk-container-id-1 a.estimator_doc_link:hover {\n",
       "  /* unfitted */\n",
       "  background-color: var(--sklearn-color-unfitted-level-3);\n",
       "  color: var(--sklearn-color-background);\n",
       "  text-decoration: none;\n",
       "}\n",
       "\n",
       "#sk-container-id-1 a.estimator_doc_link.fitted:hover {\n",
       "  /* fitted */\n",
       "  background-color: var(--sklearn-color-fitted-level-3);\n",
       "}\n",
       "</style><div id=\"sk-container-id-1\" class=\"sk-top-container\"><div class=\"sk-text-repr-fallback\"><pre>PySRRegressor.equations_ = [\n",
       "\t    pick         score                                           equation  \\\n",
       "\t0         0.000000e+00                                          12991.308   \n",
       "\t1   &gt;&gt;&gt;&gt;  5.353253e-02                                     x0 * 329.18478   \n",
       "\t2         5.591984e-04                              (x1 + x0) * 329.27396   \n",
       "\t3         4.034877e-02                         x0 * (exp(x1) * 326.57578)   \n",
       "\t4         5.465722e-03                 (x1 * 26843.375) + (x0 * 324.9717)   \n",
       "\t5         7.513716e-05              (x0 + exp(x1 / 0.22489586)) * 317.554   \n",
       "\t6         5.750509e-08   ((x1 * 26810.387) + (x0 * 317.23636)) + 329.4409   \n",
       "\t7         1.475965e-06       (317.52643 - x1) * (exp(x1 * 4.450952) + x0)   \n",
       "\t8         5.061455e-03   x0 * (((x1 * (62.50118 - x0)) * x0) + 324.89188)   \n",
       "\t9         3.185146e-04  x0 * (((-295.3207 - ((x0 + -68.76322) * x0)) *...   \n",
       "\t10        5.420390e-03  ((x1 * ((34.40177 / cos(x0 + 1.2261947)) + 793...   \n",
       "\t11        7.850060e-06  (x0 * (((x0 / cos(x0 + 1.2010981)) + 794.9914)...   \n",
       "\t12        7.233450e-04  x0 * (((exp(x1 * 3.5001252) / cos(x0 + 1.22766...   \n",
       "\t13        1.900928e-05  ((exp(x1 * 3.500125) / sin(cos(x0 + 1.2276212)...   \n",
       "\t14        8.942324e-04  (338.1055 - ((2.7318275 / sin(sqrt(x0 + ((x1 /...   \n",
       "\t15        8.843817e-05  (338.1055 - ((2.7318275 / sin(sin(sqrt((x0 + (...   \n",
       "\t16        7.059412e-04  (339.09122 - ((x1 * -853.7094) + (2.6382284 / ...   \n",
       "\t17        1.208565e-05  (339.09122 - ((x1 * -853.7094) + (2.6382284 / ...   \n",
       "\t18        8.104412e-04  ((x1 * ((x0 / cos(1.2003562 + x0)) + 792.40765...   \n",
       "\t19        4.861546e-08  (x0 * (x1 * ((x0 / cos(x0 + 1.2004262)) + 792....   \n",
       "\t20        8.172681e-04  (x0 * ((331.9861 + (((x1 * x0) + 1.4752414) / ...   \n",
       "\t21        2.389972e-05  (x0 * (331.9861 + ((((x1 * x0) + 1.4752414) / ...   \n",
       "\t22        1.054876e-05  (((x1 * x0) * 793.7739) - (135.32413 / sin(sqr...   \n",
       "\t23        1.225839e-04  abs((((((x1 * x0) + 1.5233208) / cos(x0 + 1.21...   \n",
       "\t24        7.001856e-05  (((x1 * x0) * 814.9678) + (((((x1 * (0.7715429...   \n",
       "\t25        2.073204e-05  ((x1 * (x0 * 814.9678)) + ((((((x0 * x1) * 0.7...   \n",
       "\t26        1.323758e-05  ((x1 * (x0 * 814.9678)) + (((((x0 * (x1 * 0.77...   \n",
       "\t27        1.275107e-05  ((x0 * ((((x1 * x0) + 1.991998) * (0.80045974 ...   \n",
       "\t28        2.155066e-05  ((x0 * ((((x0 * x1) + 1.991998) * (0.80045974 ...   \n",
       "\t29        8.464886e-04  ((x0 / cos((x0 + x0) + 0.6461762)) + ((x0 * (x...   \n",
       "\t30        6.118263e-05  (x0 * ((x0 * (x1 / cos(x0 + 1.2017658))) + ((2...   \n",
       "\t31        1.189265e-03  ((((((x0 * x1) + 1.8567673) / cos(x0 + 1.20013...   \n",
       "\t32        6.886594e-06  ((((1.8567673 + (x0 * x1)) / cos(1.2001321 + x...   \n",
       "\t33        3.357058e-04  (x0 * ((((x0 * x1) + 1.7940953) / cos(x0 + 1.1...   \n",
       "\t34        1.170930e-05  (x0 * ((((x0 * x1) + 1.7942129) / cos(x0 + 1.1...   \n",
       "\t35        2.436235e-04  (x0 / cos(x0 + (x0 + 0.6507128))) + ((((x0 * 7...   \n",
       "\t36        1.983289e-05  ((((x0 * 792.5185) * x1) - ((x0 + 77.66153) / ...   \n",
       "\t37        1.253240e-05  ((((x1 * x0) * 792.5185) - ((x0 + 77.66153) / ...   \n",
       "\t38        5.007261e-05  (x0 / cos((x0 + x0) + 0.650533)) + ((x0 * ((((...   \n",
       "\t39        1.752251e-04  (x0 / cos(x0 + (0.65063775 + x0))) + (((x1 * (...   \n",
       "\t40        3.835914e-04  ((((((x1 * x0) + 1.7939535) / cos(x0 + 1.19972...   \n",
       "\t41        1.343872e-05  ((((((x1 * x0) + 1.7939535) / cos(x0 + 1.19972...   \n",
       "\t42        5.010378e-05  (((((x1 * x0) * 792.2047) - (x0 / sin(x0 + 5.0...   \n",
       "\t43        2.949697e-05  ((x1 * ((cos(x0) + x0) * 792.2047)) + ((x0 * (...   \n",
       "\t44        2.525869e-05  (((((x1 * x0) * 792.2047) - (x0 / sin(x0 + 5.0...   \n",
       "\t\n",
       "\t           loss  complexity  \n",
       "\t0   121718910.0           1  \n",
       "\t1   109360450.0           3  \n",
       "\t2   109238210.0           5  \n",
       "\t3   104918320.0           6  \n",
       "\t4   104346430.0           7  \n",
       "\t5   104338590.0           8  \n",
       "\t6   104338584.0           9  \n",
       "\t7   104338430.0          10  \n",
       "\t8   103811660.0          11  \n",
       "\t9   103745550.0          13  \n",
       "\t10  103184730.0          14  \n",
       "\t11  103183110.0          16  \n",
       "\t12  103108500.0          17  \n",
       "\t13  103106540.0          18  \n",
       "\t14  103014380.0          19  \n",
       "\t15  103005270.0          20  \n",
       "\t16  102932580.0          21  \n",
       "\t17  102931336.0          22  \n",
       "\t18  102847950.0          23  \n",
       "\t19  102847940.0          25  \n",
       "\t20  102763920.0          26  \n",
       "\t21  102761464.0          27  \n",
       "\t22  102760380.0          28  \n",
       "\t23  102747784.0          29  \n",
       "\t24  102740590.0          30  \n",
       "\t25  102738460.0          31  \n",
       "\t26  102737100.0          32  \n",
       "\t27  102735790.0          33  \n",
       "\t28  102733576.0          34  \n",
       "\t29  102646650.0          35  \n",
       "\t30  102640370.0          36  \n",
       "\t31  102518376.0          37  \n",
       "\t32  102517670.0          38  \n",
       "\t33  102483260.0          39  \n",
       "\t34  102482060.0          40  \n",
       "\t35  102457096.0          41  \n",
       "\t36  102455064.0          42  \n",
       "\t37  102453780.0          43  \n",
       "\t38  102448650.0          44  \n",
       "\t39  102430700.0          45  \n",
       "\t40  102391416.0          46  \n",
       "\t41  102390040.0          47  \n",
       "\t42  102384910.0          48  \n",
       "\t43  102381890.0          49  \n",
       "\t44  102379304.0          50  \n",
       "]</pre><b>In a Jupyter environment, please rerun this cell to show the HTML representation or trust the notebook. <br />On GitHub, the HTML representation is unable to render, please try loading this page with nbviewer.org.</b></div><div class=\"sk-container\" hidden><div class=\"sk-item\"><div class=\"sk-estimator fitted sk-toggleable\"><input class=\"sk-toggleable__control sk-hidden--visually\" id=\"sk-estimator-id-1\" type=\"checkbox\" checked><label for=\"sk-estimator-id-1\" class=\"sk-toggleable__label fitted sk-toggleable__label-arrow\"><div><div>PySRRegressor</div></div><div><span class=\"sk-estimator-doc-link fitted\">i<span>Fitted</span></span></div></label><div class=\"sk-toggleable__content fitted\"><pre>PySRRegressor.equations_ = [\n",
       "\t    pick         score                                           equation  \\\n",
       "\t0         0.000000e+00                                          12991.308   \n",
       "\t1   &gt;&gt;&gt;&gt;  5.353253e-02                                     x0 * 329.18478   \n",
       "\t2         5.591984e-04                              (x1 + x0) * 329.27396   \n",
       "\t3         4.034877e-02                         x0 * (exp(x1) * 326.57578)   \n",
       "\t4         5.465722e-03                 (x1 * 26843.375) + (x0 * 324.9717)   \n",
       "\t5         7.513716e-05              (x0 + exp(x1 / 0.22489586)) * 317.554   \n",
       "\t6         5.750509e-08   ((x1 * 26810.387) + (x0 * 317.23636)) + 329.4409   \n",
       "\t7         1.475965e-06       (317.52643 - x1) * (exp(x1 * 4.450952) + x0)   \n",
       "\t8         5.061455e-03   x0 * (((x1 * (62.50118 - x0)) * x0) + 324.89188)   \n",
       "\t9         3.185146e-04  x0 * (((-295.3207 - ((x0 + -68.76322) * x0)) *...   \n",
       "\t10        5.420390e-03  ((x1 * ((34.40177 / cos(x0 + 1.2261947)) + 793...   \n",
       "\t11        7.850060e-06  (x0 * (((x0 / cos(x0 + 1.2010981)) + 794.9914)...   \n",
       "\t12        7.233450e-04  x0 * (((exp(x1 * 3.5001252) / cos(x0 + 1.22766...   \n",
       "\t13        1.900928e-05  ((exp(x1 * 3.500125) / sin(cos(x0 + 1.2276212)...   \n",
       "\t14        8.942324e-04  (338.1055 - ((2.7318275 / sin(sqrt(x0 + ((x1 /...   \n",
       "\t15        8.843817e-05  (338.1055 - ((2.7318275 / sin(sin(sqrt((x0 + (...   \n",
       "\t16        7.059412e-04  (339.09122 - ((x1 * -853.7094) + (2.6382284 / ...   \n",
       "\t17        1.208565e-05  (339.09122 - ((x1 * -853.7094) + (2.6382284 / ...   \n",
       "\t18        8.104412e-04  ((x1 * ((x0 / cos(1.2003562 + x0)) + 792.40765...   \n",
       "\t19        4.861546e-08  (x0 * (x1 * ((x0 / cos(x0 + 1.2004262)) + 792....   \n",
       "\t20        8.172681e-04  (x0 * ((331.9861 + (((x1 * x0) + 1.4752414) / ...   \n",
       "\t21        2.389972e-05  (x0 * (331.9861 + ((((x1 * x0) + 1.4752414) / ...   \n",
       "\t22        1.054876e-05  (((x1 * x0) * 793.7739) - (135.32413 / sin(sqr...   \n",
       "\t23        1.225839e-04  abs((((((x1 * x0) + 1.5233208) / cos(x0 + 1.21...   \n",
       "\t24        7.001856e-05  (((x1 * x0) * 814.9678) + (((((x1 * (0.7715429...   \n",
       "\t25        2.073204e-05  ((x1 * (x0 * 814.9678)) + ((((((x0 * x1) * 0.7...   \n",
       "\t26        1.323758e-05  ((x1 * (x0 * 814.9678)) + (((((x0 * (x1 * 0.77...   \n",
       "\t27        1.275107e-05  ((x0 * ((((x1 * x0) + 1.991998) * (0.80045974 ...   \n",
       "\t28        2.155066e-05  ((x0 * ((((x0 * x1) + 1.991998) * (0.80045974 ...   \n",
       "\t29        8.464886e-04  ((x0 / cos((x0 + x0) + 0.6461762)) + ((x0 * (x...   \n",
       "\t30        6.118263e-05  (x0 * ((x0 * (x1 / cos(x0 + 1.2017658))) + ((2...   \n",
       "\t31        1.189265e-03  ((((((x0 * x1) + 1.8567673) / cos(x0 + 1.20013...   \n",
       "\t32        6.886594e-06  ((((1.8567673 + (x0 * x1)) / cos(1.2001321 + x...   \n",
       "\t33        3.357058e-04  (x0 * ((((x0 * x1) + 1.7940953) / cos(x0 + 1.1...   \n",
       "\t34        1.170930e-05  (x0 * ((((x0 * x1) + 1.7942129) / cos(x0 + 1.1...   \n",
       "\t35        2.436235e-04  (x0 / cos(x0 + (x0 + 0.6507128))) + ((((x0 * 7...   \n",
       "\t36        1.983289e-05  ((((x0 * 792.5185) * x1) - ((x0 + 77.66153) / ...   \n",
       "\t37        1.253240e-05  ((((x1 * x0) * 792.5185) - ((x0 + 77.66153) / ...   \n",
       "\t38        5.007261e-05  (x0 / cos((x0 + x0) + 0.650533)) + ((x0 * ((((...   \n",
       "\t39        1.752251e-04  (x0 / cos(x0 + (0.65063775 + x0))) + (((x1 * (...   \n",
       "\t40        3.835914e-04  ((((((x1 * x0) + 1.7939535) / cos(x0 + 1.19972...   \n",
       "\t41        1.343872e-05  ((((((x1 * x0) + 1.7939535) / cos(x0 + 1.19972...   \n",
       "\t42        5.010378e-05  (((((x1 * x0) * 792.2047) - (x0 / sin(x0 + 5.0...   \n",
       "\t43        2.949697e-05  ((x1 * ((cos(x0) + x0) * 792.2047)) + ((x0 * (...   \n",
       "\t44        2.525869e-05  (((((x1 * x0) * 792.2047) - (x0 / sin(x0 + 5.0...   \n",
       "\t\n",
       "\t           loss  complexity  \n",
       "\t0   121718910.0           1  \n",
       "\t1   109360450.0           3  \n",
       "\t2   109238210.0           5  \n",
       "\t3   104918320.0           6  \n",
       "\t4   104346430.0           7  \n",
       "\t5   104338590.0           8  \n",
       "\t6   104338584.0           9  \n",
       "\t7   104338430.0          10  \n",
       "\t8   103811660.0          11  \n",
       "\t9   103745550.0          13  \n",
       "\t10  103184730.0          14  \n",
       "\t11  103183110.0          16  \n",
       "\t12  103108500.0          17  \n",
       "\t13  103106540.0          18  \n",
       "\t14  103014380.0          19  \n",
       "\t15  103005270.0          20  \n",
       "\t16  102932580.0          21  \n",
       "\t17  102931336.0          22  \n",
       "\t18  102847950.0          23  \n",
       "\t19  102847940.0          25  \n",
       "\t20  102763920.0          26  \n",
       "\t21  102761464.0          27  \n",
       "\t22  102760380.0          28  \n",
       "\t23  102747784.0          29  \n",
       "\t24  102740590.0          30  \n",
       "\t25  102738460.0          31  \n",
       "\t26  102737100.0          32  \n",
       "\t27  102735790.0          33  \n",
       "\t28  102733576.0          34  \n",
       "\t29  102646650.0          35  \n",
       "\t30  102640370.0          36  \n",
       "\t31  102518376.0          37  \n",
       "\t32  102517670.0          38  \n",
       "\t33  102483260.0          39  \n",
       "\t34  102482060.0          40  \n",
       "\t35  102457096.0          41  \n",
       "\t36  102455064.0          42  \n",
       "\t37  102453780.0          43  \n",
       "\t38  102448650.0          44  \n",
       "\t39  102430700.0          45  \n",
       "\t40  102391416.0          46  \n",
       "\t41  102390040.0          47  \n",
       "\t42  102384910.0          48  \n",
       "\t43  102381890.0          49  \n",
       "\t44  102379304.0          50  \n",
       "]</pre></div> </div></div></div></div>"
      ],
      "text/plain": [
       "PySRRegressor.equations_ = [\n",
       "\t    pick         score                                           equation  \\\n",
       "\t0         0.000000e+00                                          12991.308   \n",
       "\t1   >>>>  5.353253e-02                                     x0 * 329.18478   \n",
       "\t2         5.591984e-04                              (x1 + x0) * 329.27396   \n",
       "\t3         4.034877e-02                         x0 * (exp(x1) * 326.57578)   \n",
       "\t4         5.465722e-03                 (x1 * 26843.375) + (x0 * 324.9717)   \n",
       "\t5         7.513716e-05              (x0 + exp(x1 / 0.22489586)) * 317.554   \n",
       "\t6         5.750509e-08   ((x1 * 26810.387) + (x0 * 317.23636)) + 329.4409   \n",
       "\t7         1.475965e-06       (317.52643 - x1) * (exp(x1 * 4.450952) + x0)   \n",
       "\t8         5.061455e-03   x0 * (((x1 * (62.50118 - x0)) * x0) + 324.89188)   \n",
       "\t9         3.185146e-04  x0 * (((-295.3207 - ((x0 + -68.76322) * x0)) *...   \n",
       "\t10        5.420390e-03  ((x1 * ((34.40177 / cos(x0 + 1.2261947)) + 793...   \n",
       "\t11        7.850060e-06  (x0 * (((x0 / cos(x0 + 1.2010981)) + 794.9914)...   \n",
       "\t12        7.233450e-04  x0 * (((exp(x1 * 3.5001252) / cos(x0 + 1.22766...   \n",
       "\t13        1.900928e-05  ((exp(x1 * 3.500125) / sin(cos(x0 + 1.2276212)...   \n",
       "\t14        8.942324e-04  (338.1055 - ((2.7318275 / sin(sqrt(x0 + ((x1 /...   \n",
       "\t15        8.843817e-05  (338.1055 - ((2.7318275 / sin(sin(sqrt((x0 + (...   \n",
       "\t16        7.059412e-04  (339.09122 - ((x1 * -853.7094) + (2.6382284 / ...   \n",
       "\t17        1.208565e-05  (339.09122 - ((x1 * -853.7094) + (2.6382284 / ...   \n",
       "\t18        8.104412e-04  ((x1 * ((x0 / cos(1.2003562 + x0)) + 792.40765...   \n",
       "\t19        4.861546e-08  (x0 * (x1 * ((x0 / cos(x0 + 1.2004262)) + 792....   \n",
       "\t20        8.172681e-04  (x0 * ((331.9861 + (((x1 * x0) + 1.4752414) / ...   \n",
       "\t21        2.389972e-05  (x0 * (331.9861 + ((((x1 * x0) + 1.4752414) / ...   \n",
       "\t22        1.054876e-05  (((x1 * x0) * 793.7739) - (135.32413 / sin(sqr...   \n",
       "\t23        1.225839e-04  abs((((((x1 * x0) + 1.5233208) / cos(x0 + 1.21...   \n",
       "\t24        7.001856e-05  (((x1 * x0) * 814.9678) + (((((x1 * (0.7715429...   \n",
       "\t25        2.073204e-05  ((x1 * (x0 * 814.9678)) + ((((((x0 * x1) * 0.7...   \n",
       "\t26        1.323758e-05  ((x1 * (x0 * 814.9678)) + (((((x0 * (x1 * 0.77...   \n",
       "\t27        1.275107e-05  ((x0 * ((((x1 * x0) + 1.991998) * (0.80045974 ...   \n",
       "\t28        2.155066e-05  ((x0 * ((((x0 * x1) + 1.991998) * (0.80045974 ...   \n",
       "\t29        8.464886e-04  ((x0 / cos((x0 + x0) + 0.6461762)) + ((x0 * (x...   \n",
       "\t30        6.118263e-05  (x0 * ((x0 * (x1 / cos(x0 + 1.2017658))) + ((2...   \n",
       "\t31        1.189265e-03  ((((((x0 * x1) + 1.8567673) / cos(x0 + 1.20013...   \n",
       "\t32        6.886594e-06  ((((1.8567673 + (x0 * x1)) / cos(1.2001321 + x...   \n",
       "\t33        3.357058e-04  (x0 * ((((x0 * x1) + 1.7940953) / cos(x0 + 1.1...   \n",
       "\t34        1.170930e-05  (x0 * ((((x0 * x1) + 1.7942129) / cos(x0 + 1.1...   \n",
       "\t35        2.436235e-04  (x0 / cos(x0 + (x0 + 0.6507128))) + ((((x0 * 7...   \n",
       "\t36        1.983289e-05  ((((x0 * 792.5185) * x1) - ((x0 + 77.66153) / ...   \n",
       "\t37        1.253240e-05  ((((x1 * x0) * 792.5185) - ((x0 + 77.66153) / ...   \n",
       "\t38        5.007261e-05  (x0 / cos((x0 + x0) + 0.650533)) + ((x0 * ((((...   \n",
       "\t39        1.752251e-04  (x0 / cos(x0 + (0.65063775 + x0))) + (((x1 * (...   \n",
       "\t40        3.835914e-04  ((((((x1 * x0) + 1.7939535) / cos(x0 + 1.19972...   \n",
       "\t41        1.343872e-05  ((((((x1 * x0) + 1.7939535) / cos(x0 + 1.19972...   \n",
       "\t42        5.010378e-05  (((((x1 * x0) * 792.2047) - (x0 / sin(x0 + 5.0...   \n",
       "\t43        2.949697e-05  ((x1 * ((cos(x0) + x0) * 792.2047)) + ((x0 * (...   \n",
       "\t44        2.525869e-05  (((((x1 * x0) * 792.2047) - (x0 / sin(x0 + 5.0...   \n",
       "\t\n",
       "\t           loss  complexity  \n",
       "\t0   121718910.0           1  \n",
       "\t1   109360450.0           3  \n",
       "\t2   109238210.0           5  \n",
       "\t3   104918320.0           6  \n",
       "\t4   104346430.0           7  \n",
       "\t5   104338590.0           8  \n",
       "\t6   104338584.0           9  \n",
       "\t7   104338430.0          10  \n",
       "\t8   103811660.0          11  \n",
       "\t9   103745550.0          13  \n",
       "\t10  103184730.0          14  \n",
       "\t11  103183110.0          16  \n",
       "\t12  103108500.0          17  \n",
       "\t13  103106540.0          18  \n",
       "\t14  103014380.0          19  \n",
       "\t15  103005270.0          20  \n",
       "\t16  102932580.0          21  \n",
       "\t17  102931336.0          22  \n",
       "\t18  102847950.0          23  \n",
       "\t19  102847940.0          25  \n",
       "\t20  102763920.0          26  \n",
       "\t21  102761464.0          27  \n",
       "\t22  102760380.0          28  \n",
       "\t23  102747784.0          29  \n",
       "\t24  102740590.0          30  \n",
       "\t25  102738460.0          31  \n",
       "\t26  102737100.0          32  \n",
       "\t27  102735790.0          33  \n",
       "\t28  102733576.0          34  \n",
       "\t29  102646650.0          35  \n",
       "\t30  102640370.0          36  \n",
       "\t31  102518376.0          37  \n",
       "\t32  102517670.0          38  \n",
       "\t33  102483260.0          39  \n",
       "\t34  102482060.0          40  \n",
       "\t35  102457096.0          41  \n",
       "\t36  102455064.0          42  \n",
       "\t37  102453780.0          43  \n",
       "\t38  102448650.0          44  \n",
       "\t39  102430700.0          45  \n",
       "\t40  102391416.0          46  \n",
       "\t41  102390040.0          47  \n",
       "\t42  102384910.0          48  \n",
       "\t43  102381890.0          49  \n",
       "\t44  102379304.0          50  \n",
       "]"
      ]
     },
     "execution_count": 10,
     "metadata": {},
     "output_type": "execute_result"
    }
   ],
   "source": [
    "sr_model = PySRRegressor(\n",
    "        niterations=1024,  # Number of iterations to search for equations\n",
    "        binary_operators=[\"+\", \"-\", \"*\", \"/\"],\n",
    "        unary_operators=[\"sin\", \"cos\", \"exp\", \"log\", \"abs\", \"sqrt\"],\n",
    "        elementwise_loss=\"loss(x, y) = (x - y)^2\",  # Define loss function (mean squared error)\n",
    "        verbosity=0,\n",
    "        maxsize=50\n",
    "    )\n",
    "sr_model.fit(X, y)"
   ]
  },
  {
   "cell_type": "code",
   "execution_count": 16,
   "id": "874c341f",
   "metadata": {},
   "outputs": [],
   "source": [
    "# 20250423_170609_AWjGBJ\n",
    "candidate_function = generate_candidate_function(\"(338.1055 - ((2.7318275 / sin(sqrt(x0 + ((x1 / 0.28943098) + 25.32232)))) + (-853.7094 * x1))) * x0\")"
   ]
  },
  {
   "cell_type": "code",
   "execution_count": 24,
   "id": "cf9ad5a9",
   "metadata": {},
   "outputs": [
    {
     "data": {
      "image/png": "[encoded data removed]",
      "text/plain": [
       "<Figure size 1000x500 with 1 Axes>"
      ]
     },
     "metadata": {},
     "output_type": "display_data"
    }
   ],
   "source": [
    "%matplotlib inline\n",
    "y_pred = candidate_function(X)\n",
    "plot_histograms([(y, 'Original Charges', None), (y_pred, 'Predicted Charges', None)], 'Charges', stack=True, figsize_per_plot=(10, 5))"
   ]
  },
  {
   "cell_type": "code",
   "execution_count": 29,
   "id": "6abc90dc",
   "metadata": {},
   "outputs": [
    {
     "data": {
      "text/plain": [
       "<Figure size 640x480 with 0 Axes>"
      ]
     },
     "metadata": {},
     "output_type": "display_data"
    },
    {
     "data": {
      "image/png": "[encoded data removed]",
      "text/plain": [
       "<Figure size 1000x500 with 1 Axes>"
      ]
     },
     "metadata": {},
     "output_type": "display_data"
    }
   ],
   "source": [
    "plot_densities([(y, 'Original Charges', 'blue'), (y_pred, 'Predicted Charges', 'green')], 'Charges', stack=True, figsize_per_plot=(10, 5))"
   ]
  },
  {
   "cell_type": "code",
   "execution_count": 31,
   "id": "59b48eb1",
   "metadata": {},
   "outputs": [],
   "source": [
    "orig_residuals = y - y_pred"
   ]
  },
  {
   "cell_type": "code",
   "execution_count": 19,
   "id": "fafbe9db",
   "metadata": {},
   "outputs": [],
   "source": [
    "y_pred_corrected, best_amp, errors, _ = renoise_predictions(y, y_pred, method='stratified', seed=42, clip_lower=0, clip_upper=None, original_residuals=None, tail_replace=True, lower_percentile=50)\n",
    "# ignore error in orig_residuals after first run"
   ]
  },
  {
   "cell_type": "code",
   "execution_count": 27,
   "id": "23098489",
   "metadata": {},
   "outputs": [
    {
     "data": {
      "image/png": "[encoded data removed]",
      "text/plain": [
       "<Figure size 1000x500 with 1 Axes>"
      ]
     },
     "metadata": {},
     "output_type": "display_data"
    }
   ],
   "source": [
    "plot_histograms([(y, 'Original Charges', None), (y_pred_corrected, 'Corrected Predicted Charges', None)], 'Charges', stack=True, figsize_per_plot=(10, 5))"
   ]
  },
  {
   "cell_type": "code",
   "execution_count": 28,
   "id": "1d967cc5",
   "metadata": {},
   "outputs": [
    {
     "data": {
      "text/plain": [
       "<Figure size 640x480 with 0 Axes>"
      ]
     },
     "metadata": {},
     "output_type": "display_data"
    },
    {
     "data": {
      "image/png": "[encoded data removed]",
      "text/plain": [
       "<Figure size 1000x500 with 1 Axes>"
      ]
     },
     "metadata": {},
     "output_type": "display_data"
    }
   ],
   "source": [
    "plot_densities([(y, 'Original Charges', 'blue'), (y_pred_corrected, 'Corrected Predicted Charges', 'green')], 'Charges', stack=True, figsize_per_plot=(10, 5))"
   ]
  },
  {
   "cell_type": "code",
   "execution_count": 36,
   "id": "d9b170f0",
   "metadata": {},
   "outputs": [
    {
     "data": {
      "image/png": "[encoded data removed]",
      "text/plain": [
       "<Figure size 1000x500 with 1 Axes>"
      ]
     },
     "metadata": {},
     "output_type": "display_data"
    }
   ],
   "source": [
    "mod_candidate_function = generate_candidate_function(\"(338.1055 - ((2.7318275 / sin(sqrt(1.3*x0 + ((x1 / 0.28943098) + 25.32232)))) + (-853.7094 * x1))) * 1.3*x0\")\n",
    "mod_y_pred = mod_candidate_function(X)\n",
    "mod_y_pred_corrected, best_amp, errors, _ = renoise_predictions(y, mod_y_pred, method='stratified', amplification_factor=1.0, seed=42, clip_lower=0, clip_upper=None, original_residuals=orig_residuals, tail_replace=True, lower_percentile=50)\n",
    "# ignore error in orig_residuals after first run\n",
    "plot_histograms([(y, 'Original Interest Rate', None), (y_pred_corrected, 'Predicted Renoised Interest Rate', None), (mod_y_pred_corrected, 'Modified Renoised Interest Rate', None)], 'Charges', stack=True, figsize_per_plot=(10, 5))"
   ]
  }
 ],
 "metadata": {
  "kernelspec": {
   "display_name": "hyperRealDataDescriber",
   "language": "python",
   "name": "python3"
  },
  "language_info": {
   "codemirror_mode": {
    "name": "ipython",
    "version": 3
   },
   "file_extension": ".py",
   "mimetype": "text/x-python",
   "name": "python",
   "nbconvert_exporter": "python",
   "pygments_lexer": "ipython3",
   "version": "3.11.11"
  }
 },
 "nbformat": 4,
 "nbformat_minor": 5
}
